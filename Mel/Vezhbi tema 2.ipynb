{
 "cells": [
  {
   "cell_type": "code",
   "execution_count": 1,
   "id": "8a4a52fe-d4a0-40b7-bece-cae10a404e8c",
   "metadata": {},
   "outputs": [],
   "source": [
    "import sympy as sp\n",
    "import script as rt\n",
    "from IPython.display import display\n",
    "from IPython.lib.display import IFrame"
   ]
  },
  {
   "cell_type": "markdown",
   "id": "1f749611-e225-475c-8308-3d47295692bc",
   "metadata": {},
   "source": [
    "## 2.1 во матричен облик векторот p=8i+2j+5k \n",
    "* a) со нормирачки фактор w=2\n",
    "* b) како единечен вектор на правец"
   ]
  },
  {
   "cell_type": "code",
   "execution_count": 6,
   "id": "8ef9e65b-e846-4386-bf47-0b462875063f",
   "metadata": {},
   "outputs": [
    {
     "data": {
      "text/latex": [
       "$\\displaystyle \\left[\\begin{matrix}8\\\\2\\\\5\\\\1\\end{matrix}\\right]$"
      ],
      "text/plain": [
       "Matrix([\n",
       "[8],\n",
       "[2],\n",
       "[5],\n",
       "[1]])"
      ]
     },
     "execution_count": 6,
     "metadata": {},
     "output_type": "execute_result"
    }
   ],
   "source": [
    "p=rt.hpoint3(8,2,5)\n",
    "p"
   ]
  },
  {
   "cell_type": "code",
   "execution_count": 7,
   "id": "f9ad4c2a-fb9b-43a8-9139-033290ee2760",
   "metadata": {},
   "outputs": [
    {
     "data": {
      "text/latex": [
       "$\\displaystyle \\left[\\begin{matrix}16\\\\4\\\\10\\\\2\\end{matrix}\\right]$"
      ],
      "text/plain": [
       "Matrix([\n",
       "[16],\n",
       "[ 4],\n",
       "[10],\n",
       "[ 2]])"
      ]
     },
     "execution_count": 7,
     "metadata": {},
     "output_type": "execute_result"
    }
   ],
   "source": [
    "p*2"
   ]
  },
  {
   "cell_type": "code",
   "execution_count": 8,
   "id": "fd58a17f-a90a-4d61-9af3-16fe89f95c20",
   "metadata": {},
   "outputs": [
    {
     "data": {
      "text/latex": [
       "$\\displaystyle \\left[\\begin{matrix}0.82956135578434\\\\0.207390338946085\\\\0.518475847365213\\\\0\\end{matrix}\\right]$"
      ],
      "text/plain": [
       "Matrix([\n",
       "[ 0.82956135578434],\n",
       "[0.207390338946085],\n",
       "[0.518475847365213],\n",
       "[                0]])"
      ]
     },
     "execution_count": 8,
     "metadata": {},
     "output_type": "execute_result"
    }
   ],
   "source": [
    "rt.unit_vector(p, coordinates='homogeneous')"
   ]
  },
  {
   "cell_type": "markdown",
   "id": "3059f24f-5eb4-45a4-b4ef-84ac81bac1e1",
   "metadata": {},
   "source": [
    "## 2.4 P(3,5,7) x-2, y-3, z-4"
   ]
  },
  {
   "cell_type": "code",
   "execution_count": 9,
   "id": "c2defd39-baa8-4fa5-a7d7-4ff9ae24c081",
   "metadata": {},
   "outputs": [
    {
     "data": {
      "text/latex": [
       "$\\displaystyle \\left[\\begin{matrix}3\\\\5\\\\7\\\\1\\end{matrix}\\right]$"
      ],
      "text/plain": [
       "Matrix([\n",
       "[3],\n",
       "[5],\n",
       "[7],\n",
       "[1]])"
      ]
     },
     "execution_count": 9,
     "metadata": {},
     "output_type": "execute_result"
    }
   ],
   "source": [
    "p=rt.hpoint3(3,5,7)\n",
    "p"
   ]
  },
  {
   "cell_type": "code",
   "execution_count": 10,
   "id": "874a48f3-3e5c-49f3-8e53-19afcccced9d",
   "metadata": {},
   "outputs": [
    {
     "data": {
      "text/latex": [
       "$\\displaystyle \\left[\\begin{matrix}5\\\\8\\\\11\\\\1\\end{matrix}\\right]$"
      ],
      "text/plain": [
       "Matrix([\n",
       "[ 5],\n",
       "[ 8],\n",
       "[11],\n",
       "[ 1]])"
      ]
     },
     "execution_count": 10,
     "metadata": {},
     "output_type": "execute_result"
    }
   ],
   "source": [
    "rt.htranslation3(2,3,4)*p"
   ]
  },
  {
   "cell_type": "markdown",
   "id": "bd62a530-9fbe-41f7-9caa-fcabf4c46c31",
   "metadata": {},
   "source": [
    "## 2.5 B=[(0,1,0,2),(1,0,0,4),(0, 0, -1, 6),(0,0,0,1)] x-5,y-2,z-6"
   ]
  },
  {
   "cell_type": "code",
   "execution_count": 11,
   "id": "33100d1a-a5de-4eb2-9469-ad55a71176c5",
   "metadata": {},
   "outputs": [
    {
     "data": {
      "text/latex": [
       "$\\displaystyle \\left[\\begin{matrix}0 & 1 & 0 & 2\\\\1 & 0 & 0 & 4\\\\0 & 0 & -1 & 6\\\\0 & 0 & 0 & 1\\end{matrix}\\right]$"
      ],
      "text/plain": [
       "Matrix([\n",
       "[0, 1,  0, 2],\n",
       "[1, 0,  0, 4],\n",
       "[0, 0, -1, 6],\n",
       "[0, 0,  0, 1]])"
      ]
     },
     "execution_count": 11,
     "metadata": {},
     "output_type": "execute_result"
    }
   ],
   "source": [
    "B = sp.Matrix([[0, 1, 0, 2],\n",
    "               [1, 0, 0, 4],\n",
    "               [0, 0, -1, 6],\n",
    "               [0, 0, 0, 1]])\n",
    "B"
   ]
  },
  {
   "cell_type": "code",
   "execution_count": 12,
   "id": "6eeab55c-7ae6-40e8-992d-296b2963e7eb",
   "metadata": {},
   "outputs": [
    {
     "data": {
      "text/latex": [
       "$\\displaystyle \\left[\\begin{matrix}0 & 1 & 0 & 7\\\\1 & 0 & 0 & 6\\\\0 & 0 & -1 & 12\\\\0 & 0 & 0 & 1\\end{matrix}\\right]$"
      ],
      "text/plain": [
       "Matrix([\n",
       "[0, 1,  0,  7],\n",
       "[1, 0,  0,  6],\n",
       "[0, 0, -1, 12],\n",
       "[0, 0,  0,  1]])"
      ]
     },
     "execution_count": 12,
     "metadata": {},
     "output_type": "execute_result"
    }
   ],
   "source": [
    "rt.htranslation3(5,2,6)*B"
   ]
  },
  {
   "cell_type": "markdown",
   "id": "4b72dd66-c0ff-4617-b787-1ae85ad0aaff",
   "metadata": {},
   "source": [
    "## 2.6 F=([0, 1, 0, 0],[1, 0, 0, 4],[0, 0, -1, 2],[0, 0, 0, 1]]), x-5,y-2,z-6 vekje e pridvizen vaka, daj orginal"
   ]
  },
  {
   "cell_type": "code",
   "execution_count": 13,
   "id": "3cacf196-e51d-4d34-b04e-53d86c28bc57",
   "metadata": {},
   "outputs": [
    {
     "data": {
      "text/latex": [
       "$\\displaystyle \\left[\\begin{matrix}0 & 1 & 0 & 2\\\\1 & 0 & 0 & 4\\\\0 & 0 & -1 & 6\\\\0 & 0 & 0 & 1\\end{matrix}\\right]$"
      ],
      "text/plain": [
       "Matrix([\n",
       "[0, 1,  0, 2],\n",
       "[1, 0,  0, 4],\n",
       "[0, 0, -1, 6],\n",
       "[0, 0,  0, 1]])"
      ]
     },
     "execution_count": 13,
     "metadata": {},
     "output_type": "execute_result"
    }
   ],
   "source": [
    "F = sp.Matrix([[0, 1, 0, 2],\n",
    "               [1, 0, 0, 4],\n",
    "               [0, 0, -1, 6],\n",
    "               [0, 0, 0, 1]])\n",
    "F"
   ]
  },
  {
   "cell_type": "code",
   "execution_count": 14,
   "id": "4de000f0-eb06-4181-b087-dfcd4dd63368",
   "metadata": {},
   "outputs": [
    {
     "data": {
      "text/latex": [
       "$\\displaystyle \\left[\\begin{matrix}0 & 1 & 0 & -3\\\\1 & 0 & 0 & 2\\\\0 & 0 & -1 & 0\\\\0 & 0 & 0 & 1\\end{matrix}\\right]$"
      ],
      "text/plain": [
       "Matrix([\n",
       "[0, 1,  0, -3],\n",
       "[1, 0,  0,  2],\n",
       "[0, 0, -1,  0],\n",
       "[0, 0,  0,  1]])"
      ]
     },
     "execution_count": 14,
     "metadata": {},
     "output_type": "execute_result"
    }
   ],
   "source": [
    "rt.htranslation3(5,2,6).inv()*F"
   ]
  },
  {
   "cell_type": "markdown",
   "id": "76824554-5c45-4edf-afa2-4b611ffd4241",
   "metadata": {},
   "source": [
    "## 2.8 presmetaj gi nepoznatite"
   ]
  },
  {
   "cell_type": "code",
   "execution_count": 15,
   "id": "820c89ff-ba8a-4793-8e14-ec00ddf1524f",
   "metadata": {},
   "outputs": [
    {
     "data": {
      "text/latex": [
       "$\\displaystyle \\left[\\begin{matrix}0 & x_{2} & 0 & -2\\\\1 & 0 & 0 & 0\\\\x_{1} & 0 & x_{3} & 4\\\\0 & 0 & 0 & 1\\end{matrix}\\right]$"
      ],
      "text/plain": [
       "Matrix([\n",
       "[ 0, x2,  0, -2],\n",
       "[ 1,  0,  0,  0],\n",
       "[x1,  0, x3,  4],\n",
       "[ 0,  0,  0,  1]])"
      ]
     },
     "execution_count": 15,
     "metadata": {},
     "output_type": "execute_result"
    }
   ],
   "source": [
    "x1, x2, x3 = sp.symbols('x1, x2, x3')\n",
    "F = sp.Matrix([[0, x2, 0, -2],\n",
    "               [1, 0, 0, 0],\n",
    "               [x1, 0, x3, 4],\n",
    "               [0, 0, 0, 1]])\n",
    "F"
   ]
  },
  {
   "cell_type": "code",
   "execution_count": 16,
   "id": "309b4fb7-ae7d-4ed0-9985-1f439eba1f31",
   "metadata": {},
   "outputs": [],
   "source": [
    "n, o, a = F[:3, 0], F[:3, 1], F[:3, 2]"
   ]
  },
  {
   "cell_type": "code",
   "execution_count": 17,
   "id": "edcecb82-4599-43ed-ba9c-2023d051c805",
   "metadata": {},
   "outputs": [],
   "source": [
    "n_squared_sum = n.dot(n)\n",
    "o_squared_sum = o.dot(o)\n",
    "a_squared_sum = a.dot(a) # gi dava |n|,..."
   ]
  },
  {
   "cell_type": "markdown",
   "id": "5345e5c8-68af-4f08-8d80-4a1ad632acbc",
   "metadata": {},
   "source": [
    "Добиените изрази за скаларните производи ќе ги искористиме за да ги решиме равенките $ |n| = 1, |o| = 1, |a| = 1 $ кои ги изразуваме како $ |n| - 1 = 0, |o| - 1 = 0, |a| - 1 = 0 $ за да можеме да ги пресметаме користејќи ја библиотеката `sympy`."
   ]
  },
  {
   "cell_type": "code",
   "execution_count": 18,
   "id": "64bf7cb3-b19f-4d38-bc7d-8bb3e1f02a27",
   "metadata": {},
   "outputs": [
    {
     "data": {
      "text/latex": [
       "$\\displaystyle \\left\\{0\\right\\}$"
      ],
      "text/plain": [
       "{0}"
      ]
     },
     "execution_count": 18,
     "metadata": {},
     "output_type": "execute_result"
    }
   ],
   "source": [
    "sp.solveset(n_squared_sum - 1, x1)"
   ]
  },
  {
   "cell_type": "code",
   "execution_count": 19,
   "id": "57b6bfa1-9ba5-4191-a766-c0bd60c8304d",
   "metadata": {},
   "outputs": [
    {
     "data": {
      "text/latex": [
       "$\\displaystyle \\left\\{-1, 1\\right\\}$"
      ],
      "text/plain": [
       "{-1, 1}"
      ]
     },
     "execution_count": 19,
     "metadata": {},
     "output_type": "execute_result"
    }
   ],
   "source": [
    "sp.solveset(o_squared_sum - 1, x2)"
   ]
  },
  {
   "cell_type": "code",
   "execution_count": 20,
   "id": "d37ad85b-a2ad-4f9a-ae56-5fda3074fba9",
   "metadata": {},
   "outputs": [
    {
     "data": {
      "text/latex": [
       "$\\displaystyle \\left\\{-1, 1\\right\\}$"
      ],
      "text/plain": [
       "{-1, 1}"
      ]
     },
     "execution_count": 20,
     "metadata": {},
     "output_type": "execute_result"
    }
   ],
   "source": [
    "sp.solveset(a_squared_sum - 1, x3)"
   ]
  },
  {
   "cell_type": "code",
   "execution_count": 21,
   "id": "09f9f28b-d551-4f94-99ac-e1fabb2feda9",
   "metadata": {},
   "outputs": [],
   "source": [
    "possible_solutions = []\n",
    "possible_solutions.append(F.subs([(x1, 0), (x2, -1), (x3, -1)]))\n",
    "possible_solutions.append(F.subs([(x1, 0), (x2, -1), (x3, 1)]))\n",
    "possible_solutions.append(F.subs([(x1, 0), (x2, 1), (x3, -1)]))\n",
    "possible_solutions.append(F.subs([(x1, 0), (x2, 1), (x3, 1)]))"
   ]
  },
  {
   "cell_type": "code",
   "execution_count": 22,
   "id": "c72b4942-6b84-49d3-8279-54bb0a62a013",
   "metadata": {},
   "outputs": [
    {
     "name": "stdout",
     "output_type": "stream",
     "text": [
      "False\n",
      "True\n",
      "True\n",
      "False\n"
     ]
    }
   ],
   "source": [
    "for possible_solution in possible_solutions:\n",
    "    print(rt.is_right_hand_coordinate_system3(possible_solution))"
   ]
  },
  {
   "cell_type": "code",
   "execution_count": 23,
   "id": "a0035411-33b4-46de-b231-0197f7acccc3",
   "metadata": {},
   "outputs": [],
   "source": [
    "# mozhni reshenija se vtoroto i tretoto, odnosno koga (x2=-1 i x3=1) i (x2=1 i x3=-1)"
   ]
  },
  {
   "cell_type": "markdown",
   "id": "c2bbeeda-8c23-471d-a7a7-b07acbfb7a12",
   "metadata": {},
   "source": [
    "## 2.9"
   ]
  },
  {
   "cell_type": "code",
   "execution_count": 24,
   "id": "3eec9878-6d83-42b5-af86-ec2e62f08f04",
   "metadata": {},
   "outputs": [
    {
     "data": {
      "text/latex": [
       "$\\displaystyle \\left[\\begin{matrix}0 & x_{1} & x_{2} & 0\\\\x_{3} & 0 & - \\frac{\\sqrt{2}}{2} & -1\\\\\\frac{\\sqrt{2}}{2} & 0 & \\frac{\\sqrt{2}}{2} & 6\\\\0 & 0 & 0 & 1\\end{matrix}\\right]$"
      ],
      "text/plain": [
       "Matrix([\n",
       "[        0, x1,         x2,  0],\n",
       "[       x3,  0, -sqrt(2)/2, -1],\n",
       "[sqrt(2)/2,  0,  sqrt(2)/2,  6],\n",
       "[        0,  0,          0,  1]])"
      ]
     },
     "execution_count": 24,
     "metadata": {},
     "output_type": "execute_result"
    }
   ],
   "source": [
    "x1, x2, x3 = sp.symbols('x1, x2, x3')\n",
    "F = sp.Matrix([[0, x1, x2, 0],\n",
    "               [x3, 0, -sp.sqrt(2)/2, -1],\n",
    "               [sp.sqrt(2)/2, 0, sp.sqrt(2)/2, 6],\n",
    "               [0, 0, 0, 1]])\n",
    "F"
   ]
  },
  {
   "cell_type": "code",
   "execution_count": 25,
   "id": "7094f54e-5601-40f8-a616-3bfbd359618a",
   "metadata": {},
   "outputs": [],
   "source": [
    "n, o, a = F[:3, 0], F[:3, 1], F[:3, 2]"
   ]
  },
  {
   "cell_type": "code",
   "execution_count": 26,
   "id": "1fc7d15d-d84f-4a9c-88a3-00ab187a7aa3",
   "metadata": {},
   "outputs": [
    {
     "data": {
      "text/latex": [
       "$\\displaystyle x_{3}^{2} + \\frac{1}{2}$"
      ],
      "text/plain": [
       "x3**2 + 1/2"
      ]
     },
     "execution_count": 26,
     "metadata": {},
     "output_type": "execute_result"
    }
   ],
   "source": [
    "n_squared_sum = n.dot(n)\n",
    "o_squared_sum = o.dot(o)\n",
    "a_squared_sum = a.dot(a) # gi dava |n|,...\n",
    "n_squared_sum"
   ]
  },
  {
   "cell_type": "code",
   "execution_count": 28,
   "id": "f98c2a3d-3f31-49d2-b2a2-63bdaf5a4a18",
   "metadata": {},
   "outputs": [
    {
     "data": {
      "text/latex": [
       "$\\displaystyle \\left\\{- \\frac{\\sqrt{2}}{2}, \\frac{\\sqrt{2}}{2}\\right\\}$"
      ],
      "text/plain": [
       "{-sqrt(2)/2, sqrt(2)/2}"
      ]
     },
     "execution_count": 28,
     "metadata": {},
     "output_type": "execute_result"
    }
   ],
   "source": [
    "sp.solveset(n_squared_sum - 1, x3)"
   ]
  },
  {
   "cell_type": "code",
   "execution_count": 29,
   "id": "2e46548d-428a-4df0-ac6f-4e103cad09c1",
   "metadata": {},
   "outputs": [
    {
     "data": {
      "text/latex": [
       "$\\displaystyle \\left\\{-1, 1\\right\\}$"
      ],
      "text/plain": [
       "{-1, 1}"
      ]
     },
     "execution_count": 29,
     "metadata": {},
     "output_type": "execute_result"
    }
   ],
   "source": [
    "sp.solveset(o_squared_sum - 1, x1)"
   ]
  },
  {
   "cell_type": "code",
   "execution_count": 30,
   "id": "a21b7324-00a0-47bf-8c06-753db159810f",
   "metadata": {},
   "outputs": [
    {
     "data": {
      "text/latex": [
       "$\\displaystyle \\left\\{0\\right\\}$"
      ],
      "text/plain": [
       "{0}"
      ]
     },
     "execution_count": 30,
     "metadata": {},
     "output_type": "execute_result"
    }
   ],
   "source": [
    "sp.solveset(a_squared_sum - 1, x2)"
   ]
  },
  {
   "cell_type": "code",
   "execution_count": 32,
   "id": "87baacbd-e95b-42bb-92a1-cc09b8e68fa8",
   "metadata": {},
   "outputs": [
    {
     "data": {
      "text/latex": [
       "$\\displaystyle \\left[\\begin{matrix}0 & -1 & 0 & 0\\\\- \\frac{\\sqrt{2}}{2} & 0 & - \\frac{\\sqrt{2}}{2} & -1\\\\\\frac{\\sqrt{2}}{2} & 0 & \\frac{\\sqrt{2}}{2} & 6\\\\0 & 0 & 0 & 1\\end{matrix}\\right]$"
      ],
      "text/plain": [
       "Matrix([\n",
       "[         0, -1,          0,  0],\n",
       "[-sqrt(2)/2,  0, -sqrt(2)/2, -1],\n",
       "[ sqrt(2)/2,  0,  sqrt(2)/2,  6],\n",
       "[         0,  0,          0,  1]])"
      ]
     },
     "execution_count": 32,
     "metadata": {},
     "output_type": "execute_result"
    }
   ],
   "source": [
    "possible_solutions = []\n",
    "possible_solutions.append(F.subs([(x3, -sp.sqrt(2)/2), (x1, -1), (x2, 0)]))\n",
    "possible_solutions.append(F.subs([(x3, -sp.sqrt(2)/2), (x1, 1), (x2, 0)]))\n",
    "possible_solutions.append(F.subs([(x3, sp.sqrt(2)/2), (x1, -1), (x2, 0)]))\n",
    "possible_solutions.append(F.subs([(x3, sp.sqrt(2)/2), (x1, 1), (x2, 0)]))\n",
    "possible_solutions[0]"
   ]
  },
  {
   "cell_type": "code",
   "execution_count": 33,
   "id": "bbe2a0e8-f975-470a-8d99-14da2059f207",
   "metadata": {},
   "outputs": [
    {
     "name": "stdout",
     "output_type": "stream",
     "text": [
      "False\n",
      "False\n",
      "True\n",
      "False\n"
     ]
    }
   ],
   "source": [
    "for possible_solution in possible_solutions:\n",
    "    print(rt.is_right_hand_coordinate_system3(possible_solution))"
   ]
  },
  {
   "cell_type": "markdown",
   "id": "cee2b83e-f4f4-43b5-a92c-1e4030103733",
   "metadata": {},
   "source": [
    "## 2.10"
   ]
  },
  {
   "cell_type": "code",
   "execution_count": 34,
   "id": "746400a7-1b12-43d1-b2dc-c098fc536e73",
   "metadata": {},
   "outputs": [
    {
     "data": {
      "text/latex": [
       "$\\displaystyle \\left[\\begin{matrix}1 & 0 & 0 & 0\\\\0 & -1 & 0 & 0\\\\0 & 0 & -1 & 0\\\\0 & 0 & 0 & 1\\end{matrix}\\right]$"
      ],
      "text/plain": [
       "Matrix([\n",
       "[1,  0,  0, 0],\n",
       "[0, -1,  0, 0],\n",
       "[0,  0, -1, 0],\n",
       "[0,  0,  0, 1]])"
      ]
     },
     "execution_count": 34,
     "metadata": {},
     "output_type": "execute_result"
    }
   ],
   "source": [
    "rt.hrotation3('z',sp.pi/2)*rt.hrotation3('x',sp.pi/2)*rt.hrotation3('n',sp.pi/2)*rt.hrotation3('a',sp.pi/2)"
   ]
  },
  {
   "cell_type": "markdown",
   "id": "f67d0072-c567-4e76-a398-30bae10e437b",
   "metadata": {},
   "source": [
    "# 2.14"
   ]
  },
  {
   "cell_type": "code",
   "execution_count": 35,
   "id": "1e010464-85bc-4aa9-903d-ea29ac0a2f17",
   "metadata": {},
   "outputs": [
    {
     "data": {
      "text/latex": [
       "$\\displaystyle \\left[\\begin{matrix}\\cos{\\left(\\theta \\right)} & 0 & \\sin{\\left(\\theta \\right)} & 0\\\\0 & 1 & 0 & 0\\\\- \\sin{\\left(\\theta \\right)} & 0 & \\cos{\\left(\\theta \\right)} & 0\\\\0 & 0 & 0 & 1\\end{matrix}\\right]$"
      ],
      "text/plain": [
       "Matrix([\n",
       "[ cos(theta), 0, sin(theta), 0],\n",
       "[          0, 1,          0, 0],\n",
       "[-sin(theta), 0, cos(theta), 0],\n",
       "[          0, 0,          0, 1]])"
      ]
     },
     "execution_count": 35,
     "metadata": {},
     "output_type": "execute_result"
    }
   ],
   "source": [
    "theta = sp.symbols('theta')\n",
    "F = rt.hrotation3('y', theta)\n",
    "F"
   ]
  },
  {
   "cell_type": "code",
   "execution_count": 36,
   "id": "4d764f26-b10a-45ee-a466-85745745a731",
   "metadata": {},
   "outputs": [],
   "source": [
    "n, o, a = F[:3, 0], F[:3, 1], F[:3, 2]"
   ]
  },
  {
   "cell_type": "code",
   "execution_count": 37,
   "id": "0f262624-0846-496e-9881-818f07b1204a",
   "metadata": {},
   "outputs": [
    {
     "data": {
      "text/plain": [
       "(0, 0, 0)"
      ]
     },
     "execution_count": 37,
     "metadata": {},
     "output_type": "execute_result"
    }
   ],
   "source": [
    "n.dot(o), n.dot(a), a.dot(o)"
   ]
  },
  {
   "cell_type": "code",
   "execution_count": 38,
   "id": "33f87621-a799-4475-b2e5-ff6fafa1cc86",
   "metadata": {},
   "outputs": [
    {
     "data": {
      "text/plain": [
       "(1, 1, 1)"
      ]
     },
     "execution_count": 38,
     "metadata": {},
     "output_type": "execute_result"
    }
   ],
   "source": [
    "n.dot(n).simplify(), o.dot(o).simplify(), a.dot(a).simplify()"
   ]
  },
  {
   "cell_type": "code",
   "execution_count": 39,
   "id": "7d76f0eb-05cf-484b-be31-08a71c256d91",
   "metadata": {},
   "outputs": [
    {
     "data": {
      "text/latex": [
       "$\\displaystyle \\left[\\begin{matrix}1 & 0 & 0 & 0\\\\0 & \\cos{\\left(\\theta \\right)} & - \\sin{\\left(\\theta \\right)} & 0\\\\0 & \\sin{\\left(\\theta \\right)} & \\cos{\\left(\\theta \\right)} & 0\\\\0 & 0 & 0 & 1\\end{matrix}\\right]$"
      ],
      "text/plain": [
       "Matrix([\n",
       "[1,          0,           0, 0],\n",
       "[0, cos(theta), -sin(theta), 0],\n",
       "[0, sin(theta),  cos(theta), 0],\n",
       "[0,          0,           0, 1]])"
      ]
     },
     "execution_count": 39,
     "metadata": {},
     "output_type": "execute_result"
    }
   ],
   "source": [
    "F = rt.hrotation3('x', theta)\n",
    "F"
   ]
  },
  {
   "cell_type": "code",
   "execution_count": 40,
   "id": "0353749d-2954-4ab8-822b-ad929346942c",
   "metadata": {},
   "outputs": [],
   "source": [
    "n, o, a = F[:3, 0], F[:3, 1], F[:3, 2]"
   ]
  },
  {
   "cell_type": "code",
   "execution_count": 41,
   "id": "b4292b86-bed8-491e-86ad-2c7b30e7b4f8",
   "metadata": {},
   "outputs": [
    {
     "data": {
      "text/plain": [
       "(0, 0, 0)"
      ]
     },
     "execution_count": 41,
     "metadata": {},
     "output_type": "execute_result"
    }
   ],
   "source": [
    "n.dot(o), n.dot(a), a.dot(o)"
   ]
  },
  {
   "cell_type": "code",
   "execution_count": 42,
   "id": "ac4f1297-bb2f-4268-b9d9-548bc189f22f",
   "metadata": {},
   "outputs": [
    {
     "data": {
      "text/plain": [
       "(1, 1, 1)"
      ]
     },
     "execution_count": 42,
     "metadata": {},
     "output_type": "execute_result"
    }
   ],
   "source": [
    "n.dot(n).simplify(), o.dot(o).simplify(), a.dot(a).simplify()"
   ]
  },
  {
   "cell_type": "markdown",
   "id": "67f9b86f-202d-4a4c-a608-b204457964e2",
   "metadata": {},
   "source": [
    "## 2.17"
   ]
  },
  {
   "cell_type": "code",
   "execution_count": 47,
   "id": "04c3a4da-8936-4cf8-a34c-28d0934e355a",
   "metadata": {},
   "outputs": [
    {
     "data": {
      "text/latex": [
       "$\\displaystyle \\left[\\begin{matrix}2\\\\3\\\\4\\end{matrix}\\right]$"
      ],
      "text/plain": [
       "Matrix([\n",
       "[2],\n",
       "[3],\n",
       "[4]])"
      ]
     },
     "execution_count": 47,
     "metadata": {},
     "output_type": "execute_result"
    }
   ],
   "source": [
    "p=rt.point3(2,3,4)\n",
    "p"
   ]
  },
  {
   "cell_type": "code",
   "execution_count": 48,
   "id": "e5b0d363-fc0d-4985-860c-7bbcf68ae755",
   "metadata": {},
   "outputs": [
    {
     "data": {
      "text/latex": [
       "$\\displaystyle \\left[\\begin{matrix}2\\\\- \\frac{\\sqrt{2}}{2}\\\\\\frac{7 \\sqrt{2}}{2}\\end{matrix}\\right]$"
      ],
      "text/plain": [
       "Matrix([\n",
       "[          2],\n",
       "[ -sqrt(2)/2],\n",
       "[7*sqrt(2)/2]])"
      ]
     },
     "execution_count": 48,
     "metadata": {},
     "output_type": "execute_result"
    }
   ],
   "source": [
    "rt.rotation3('x',sp.pi/4)*p"
   ]
  },
  {
   "cell_type": "markdown",
   "id": "b9ca6966-9ade-43cf-b685-7e12cc44400b",
   "metadata": {},
   "source": [
    "## 2.18"
   ]
  },
  {
   "cell_type": "code",
   "execution_count": 49,
   "id": "ce2580e5-6824-4134-95e1-d9183131e1fb",
   "metadata": {},
   "outputs": [],
   "source": [
    "p=rt.hpoint3(3,5,7)"
   ]
  },
  {
   "cell_type": "code",
   "execution_count": 50,
   "id": "df6afeb6-4cb2-491a-b4de-85cb1e2e0b53",
   "metadata": {},
   "outputs": [
    {
     "data": {
      "text/latex": [
       "$\\displaystyle \\left[\\begin{matrix}- \\frac{5}{2} + \\frac{3 \\sqrt{3}}{2}\\\\\\frac{3}{2} + \\frac{5 \\sqrt{3}}{2}\\\\7\\\\1\\end{matrix}\\right]$"
      ],
      "text/plain": [
       "Matrix([\n",
       "[-5/2 + 3*sqrt(3)/2],\n",
       "[ 3/2 + 5*sqrt(3)/2],\n",
       "[                 7],\n",
       "[                 1]])"
      ]
     },
     "execution_count": 50,
     "metadata": {},
     "output_type": "execute_result"
    }
   ],
   "source": [
    "rt.hrotation3('z',sp.pi/6)*p"
   ]
  },
  {
   "cell_type": "markdown",
   "id": "9cbaf5f6-377e-4142-884b-8f752fadebef",
   "metadata": {},
   "source": [
    "\n",
    "# 2.19"
   ]
  },
  {
   "cell_type": "code",
   "execution_count": 3,
   "id": "5dfce02c-3e9f-4c06-977e-113f05ce7f5f",
   "metadata": {},
   "outputs": [],
   "source": [
    "p=rt.hpoint3(3,5,7)"
   ]
  },
  {
   "cell_type": "code",
   "execution_count": 6,
   "id": "387d1c37-e795-49af-af7f-035f8474a962",
   "metadata": {},
   "outputs": [
    {
     "data": {
      "text/latex": [
       "$\\displaystyle \\left[\\begin{matrix}3\\\\- \\frac{7 \\sqrt{3}}{2} - \\frac{5}{2}\\\\- \\frac{7}{2} + \\frac{5 \\sqrt{3}}{2}\\\\1\\end{matrix}\\right]$"
      ],
      "text/plain": [
       "Matrix([\n",
       "[                 3],\n",
       "[-7*sqrt(3)/2 - 5/2],\n",
       "[-7/2 + 5*sqrt(3)/2],\n",
       "[                 1]])"
      ]
     },
     "execution_count": 6,
     "metadata": {},
     "output_type": "execute_result"
    }
   ],
   "source": [
    "rt.hrotation3('x',2*sp.pi/3)*p"
   ]
  },
  {
   "cell_type": "markdown",
   "id": "88a963b4-fc2c-45c0-a7ac-c4bbe1041d17",
   "metadata": {},
   "source": [
    "## 2.20"
   ]
  },
  {
   "cell_type": "code",
   "execution_count": 7,
   "id": "9ca52bfc-00a3-4abe-bfa4-201d5c1d368d",
   "metadata": {},
   "outputs": [
    {
     "data": {
      "text/latex": [
       "$\\displaystyle \\left[\\begin{matrix}\\frac{1}{9} & - \\frac{8}{9} & - \\frac{4}{9}\\\\\\frac{4}{9} & \\frac{4}{9} & \\frac{7}{9}\\\\\\frac{8}{9} & - \\frac{1}{9} & \\frac{4}{9}\\end{matrix}\\right]$"
      ],
      "text/plain": [
       "Matrix([\n",
       "[1/9, -8/9, -4/9],\n",
       "[4/9,  4/9,  7/9],\n",
       "[8/9, -1/9,  4/9]])"
      ]
     },
     "execution_count": 7,
     "metadata": {},
     "output_type": "execute_result"
    }
   ],
   "source": [
    "R = sp.Matrix([\n",
    "    [1, -8, -4],\n",
    "    [4, 4, 7],\n",
    "    [8, -1, 4],\n",
    "]) / 9\n",
    "R"
   ]
  },
  {
   "cell_type": "code",
   "execution_count": 8,
   "id": "45258cf8-7d6a-45ab-8a76-31ef740712fb",
   "metadata": {},
   "outputs": [
    {
     "data": {
      "text/latex": [
       "$\\displaystyle \\frac{\\pi}{2}$"
      ],
      "text/plain": [
       "pi/2"
      ]
     },
     "execution_count": 8,
     "metadata": {},
     "output_type": "execute_result"
    }
   ],
   "source": [
    "theta = sp.acos((sp.trace(R) - 1) / 2)\n",
    "theta"
   ]
  },
  {
   "cell_type": "code",
   "execution_count": 9,
   "id": "a1f043f4-84fe-43c8-9185-01a019d741f9",
   "metadata": {},
   "outputs": [
    {
     "data": {
      "text/latex": [
       "$\\displaystyle \\left[\\begin{matrix}- \\frac{4}{9}\\\\- \\frac{2}{3}\\\\\\frac{2}{3}\\end{matrix}\\right]$"
      ],
      "text/plain": [
       "Matrix([\n",
       "[-4/9],\n",
       "[-2/3],\n",
       "[ 2/3]])"
      ]
     },
     "execution_count": 9,
     "metadata": {},
     "output_type": "execute_result"
    }
   ],
   "source": [
    "l = sp.Matrix([\n",
    "    R[2, 1] - R[1, 2], \n",
    "    R[0, 2] - R[2, 0], \n",
    "    R[1, 0] - R[0, 1]\n",
    "]) / (2 * sp.sin(theta))\n",
    "l"
   ]
  },
  {
   "cell_type": "code",
   "execution_count": 10,
   "id": "46b1356f-bcfb-40bb-bf0a-2138bde7e763",
   "metadata": {},
   "outputs": [],
   "source": [
    "# postoi reshenie i za -teta"
   ]
  },
  {
   "cell_type": "markdown",
   "id": "953ab629-c0bf-45fe-b9e1-190c8eef63b9",
   "metadata": {},
   "source": [
    "## 2.23"
   ]
  },
  {
   "cell_type": "code",
   "execution_count": 2,
   "id": "d2340436-e2cb-41f0-86be-9b890ee7add6",
   "metadata": {},
   "outputs": [
    {
     "data": {
      "application/vnd.jupyter.widget-view+json": {
       "model_id": "82e8adcd1667432aa46508216b43a4cb",
       "version_major": 2,
       "version_minor": 0
      },
      "text/plain": [
       "VBox(children=(HBox(children=(ToggleButtons(options=('Ротирај', 'Придвижи се'), value='Ротирај'), BoundedFloat…"
      ]
     },
     "metadata": {},
     "output_type": "display_data"
    }
   ],
   "source": [
    "playground = rt.AnimationPlayground()\n",
    "playground.play(point=rt.hpoint3(3, 4, -5))"
   ]
  },
  {
   "cell_type": "code",
   "execution_count": 11,
   "id": "48eafe1a-85f0-43d1-b7d3-60539e55debf",
   "metadata": {},
   "outputs": [
    {
     "data": {
      "text/latex": [
       "$\\displaystyle \\left[\\begin{matrix}1 & 0 & 0 & 0\\\\0 & 1 & 0 & 0\\\\0 & 0 & 1 & 0\\\\0 & 0 & 0 & 1\\end{matrix}\\right]$"
      ],
      "text/plain": [
       "Matrix([\n",
       "[1, 0, 0, 0],\n",
       "[0, 1, 0, 0],\n",
       "[0, 0, 1, 0],\n",
       "[0, 0, 0, 1]])"
      ]
     },
     "execution_count": 11,
     "metadata": {},
     "output_type": "execute_result"
    }
   ],
   "source": [
    "T0 = rt.hpose3()\n",
    "T0"
   ]
  },
  {
   "cell_type": "code",
   "execution_count": 14,
   "id": "ad0aecfa-574f-44b7-8822-6bd39dd8b125",
   "metadata": {},
   "outputs": [],
   "source": [
    "T1 = rt.hrotation3('x', -sp.pi/6)\n",
    "T2 = rt.htranslation3(y=3)\n",
    "T3 = rt.hrotation3('a', sp.pi/4)\n",
    "T4 = rt.htranslation3(x=6, y=9)"
   ]
  },
  {
   "cell_type": "code",
   "execution_count": 15,
   "id": "c284d732-f604-4528-8787-fef1497f89c6",
   "metadata": {},
   "outputs": [
    {
     "data": {
      "text/latex": [
       "$\\displaystyle \\left[\\begin{matrix}\\frac{\\sqrt{2}}{2} & - \\frac{\\sqrt{2}}{2} & 0 & - \\frac{3 \\sqrt{2}}{2}\\\\\\frac{\\sqrt{6}}{4} & \\frac{\\sqrt{6}}{4} & \\frac{1}{2} & 3 + \\frac{15 \\sqrt{6}}{4}\\\\- \\frac{\\sqrt{2}}{4} & - \\frac{\\sqrt{2}}{4} & \\frac{\\sqrt{3}}{2} & - \\frac{15 \\sqrt{2}}{4}\\\\0 & 0 & 0 & 1\\end{matrix}\\right]$"
      ],
      "text/plain": [
       "Matrix([\n",
       "[ sqrt(2)/2, -sqrt(2)/2,         0,     -3*sqrt(2)/2],\n",
       "[ sqrt(6)/4,  sqrt(6)/4,       1/2, 3 + 15*sqrt(6)/4],\n",
       "[-sqrt(2)/4, -sqrt(2)/4, sqrt(3)/2,    -15*sqrt(2)/4],\n",
       "[         0,          0,         0,                1]])"
      ]
     },
     "execution_count": 15,
     "metadata": {},
     "output_type": "execute_result"
    }
   ],
   "source": [
    "T=T2*T1*T3*T4\n",
    "T"
   ]
  },
  {
   "cell_type": "code",
   "execution_count": 17,
   "id": "7f1820c6-6ce4-4522-9e70-549a05f09bcb",
   "metadata": {},
   "outputs": [
    {
     "data": {
      "text/latex": [
       "$\\displaystyle \\left[\\begin{matrix}- 2 \\sqrt{2}\\\\\\frac{1}{2} + \\frac{11 \\sqrt{6}}{2}\\\\- \\frac{11 \\sqrt{2}}{2} - \\frac{5 \\sqrt{3}}{2}\\\\1\\end{matrix}\\right]$"
      ],
      "text/plain": [
       "Matrix([\n",
       "[                 -2*sqrt(2)],\n",
       "[         1/2 + 11*sqrt(6)/2],\n",
       "[-11*sqrt(2)/2 - 5*sqrt(3)/2],\n",
       "[                          1]])"
      ]
     },
     "execution_count": 17,
     "metadata": {},
     "output_type": "execute_result"
    }
   ],
   "source": [
    "p = rt.hpoint3(3, 4, -5)\n",
    "r = T * p\n",
    "r\n"
   ]
  },
  {
   "cell_type": "code",
   "execution_count": 19,
   "id": "66676132-8540-4b8c-b0fc-762a667c48dd",
   "metadata": {},
   "outputs": [
    {
     "data": {
      "text/latex": [
       "$\\displaystyle \\left[\\begin{matrix}-2.82842712474619\\\\13.9721935853075\\\\-12.1083016119742\\\\1.0\\end{matrix}\\right]$"
      ],
      "text/plain": [
       "Matrix([\n",
       "[-2.82842712474619],\n",
       "[ 13.9721935853075],\n",
       "[-12.1083016119742],\n",
       "[              1.0]])"
      ]
     },
     "execution_count": 19,
     "metadata": {},
     "output_type": "execute_result"
    }
   ],
   "source": [
    "r.evalf()"
   ]
  },
  {
   "cell_type": "markdown",
   "id": "b78c4686-9c00-4a8f-9064-60f8383cb6d0",
   "metadata": {},
   "source": [
    "# 2.26"
   ]
  },
  {
   "cell_type": "code",
   "execution_count": 3,
   "id": "1650714e-a94e-4035-a443-f93b7bb903ef",
   "metadata": {},
   "outputs": [],
   "source": [
    "theta, phi, alpha, beta, gamma = sp.symbols('theta, phi, alpha, beta, gamma')"
   ]
  },
  {
   "cell_type": "code",
   "execution_count": 4,
   "id": "56eddbb2-9b2f-4612-9053-20a5de347569",
   "metadata": {},
   "outputs": [
    {
     "data": {
      "text/latex": [
       "$\\displaystyle \\left[\\begin{matrix}\\left(- \\sin{\\left(\\alpha \\right)} \\sin{\\left(\\phi \\right)} \\cos{\\left(\\theta \\right)} + \\cos{\\left(\\alpha \\right)} \\cos{\\left(\\phi \\right)}\\right) \\cos{\\left(\\beta \\right)} - \\sin{\\left(\\alpha \\right)} \\sin{\\left(\\beta \\right)} \\sin{\\left(\\theta \\right)} & - \\sin{\\left(\\alpha \\right)} \\cos{\\left(\\phi \\right)} \\cos{\\left(\\theta \\right)} - \\sin{\\left(\\phi \\right)} \\cos{\\left(\\alpha \\right)} & \\left(- \\sin{\\left(\\alpha \\right)} \\sin{\\left(\\phi \\right)} \\cos{\\left(\\theta \\right)} + \\cos{\\left(\\alpha \\right)} \\cos{\\left(\\phi \\right)}\\right) \\sin{\\left(\\beta \\right)} + \\sin{\\left(\\alpha \\right)} \\sin{\\left(\\theta \\right)} \\cos{\\left(\\beta \\right)} & 0\\\\\\left(\\left(- \\sin{\\left(\\gamma \\right)} \\sin{\\left(\\theta \\right)} + \\cos{\\left(\\alpha \\right)} \\cos{\\left(\\gamma \\right)} \\cos{\\left(\\theta \\right)}\\right) \\sin{\\left(\\phi \\right)} + \\sin{\\left(\\alpha \\right)} \\cos{\\left(\\gamma \\right)} \\cos{\\left(\\phi \\right)}\\right) \\cos{\\left(\\beta \\right)} - \\left(- \\sin{\\left(\\gamma \\right)} \\cos{\\left(\\theta \\right)} - \\sin{\\left(\\theta \\right)} \\cos{\\left(\\alpha \\right)} \\cos{\\left(\\gamma \\right)}\\right) \\sin{\\left(\\beta \\right)} & \\left(- \\sin{\\left(\\gamma \\right)} \\sin{\\left(\\theta \\right)} + \\cos{\\left(\\alpha \\right)} \\cos{\\left(\\gamma \\right)} \\cos{\\left(\\theta \\right)}\\right) \\cos{\\left(\\phi \\right)} - \\sin{\\left(\\alpha \\right)} \\sin{\\left(\\phi \\right)} \\cos{\\left(\\gamma \\right)} & \\left(\\left(- \\sin{\\left(\\gamma \\right)} \\sin{\\left(\\theta \\right)} + \\cos{\\left(\\alpha \\right)} \\cos{\\left(\\gamma \\right)} \\cos{\\left(\\theta \\right)}\\right) \\sin{\\left(\\phi \\right)} + \\sin{\\left(\\alpha \\right)} \\cos{\\left(\\gamma \\right)} \\cos{\\left(\\phi \\right)}\\right) \\sin{\\left(\\beta \\right)} + \\left(- \\sin{\\left(\\gamma \\right)} \\cos{\\left(\\theta \\right)} - \\sin{\\left(\\theta \\right)} \\cos{\\left(\\alpha \\right)} \\cos{\\left(\\gamma \\right)}\\right) \\cos{\\left(\\beta \\right)} & 0\\\\\\left(\\left(\\sin{\\left(\\gamma \\right)} \\cos{\\left(\\alpha \\right)} \\cos{\\left(\\theta \\right)} + \\sin{\\left(\\theta \\right)} \\cos{\\left(\\gamma \\right)}\\right) \\sin{\\left(\\phi \\right)} + \\sin{\\left(\\alpha \\right)} \\sin{\\left(\\gamma \\right)} \\cos{\\left(\\phi \\right)}\\right) \\cos{\\left(\\beta \\right)} - \\left(- \\sin{\\left(\\gamma \\right)} \\sin{\\left(\\theta \\right)} \\cos{\\left(\\alpha \\right)} + \\cos{\\left(\\gamma \\right)} \\cos{\\left(\\theta \\right)}\\right) \\sin{\\left(\\beta \\right)} & \\left(\\sin{\\left(\\gamma \\right)} \\cos{\\left(\\alpha \\right)} \\cos{\\left(\\theta \\right)} + \\sin{\\left(\\theta \\right)} \\cos{\\left(\\gamma \\right)}\\right) \\cos{\\left(\\phi \\right)} - \\sin{\\left(\\alpha \\right)} \\sin{\\left(\\gamma \\right)} \\sin{\\left(\\phi \\right)} & \\left(\\left(\\sin{\\left(\\gamma \\right)} \\cos{\\left(\\alpha \\right)} \\cos{\\left(\\theta \\right)} + \\sin{\\left(\\theta \\right)} \\cos{\\left(\\gamma \\right)}\\right) \\sin{\\left(\\phi \\right)} + \\sin{\\left(\\alpha \\right)} \\sin{\\left(\\gamma \\right)} \\cos{\\left(\\phi \\right)}\\right) \\sin{\\left(\\beta \\right)} + \\left(- \\sin{\\left(\\gamma \\right)} \\sin{\\left(\\theta \\right)} \\cos{\\left(\\alpha \\right)} + \\cos{\\left(\\gamma \\right)} \\cos{\\left(\\theta \\right)}\\right) \\cos{\\left(\\beta \\right)} & 0\\\\0 & 0 & 0 & 1\\end{matrix}\\right]$"
      ],
      "text/plain": [
       "Matrix([\n",
       "[                                                                                      (-sin(alpha)*sin(phi)*cos(theta) + cos(alpha)*cos(phi))*cos(beta) - sin(alpha)*sin(beta)*sin(theta),                                                 -sin(alpha)*cos(phi)*cos(theta) - sin(phi)*cos(alpha),                                                                                       (-sin(alpha)*sin(phi)*cos(theta) + cos(alpha)*cos(phi))*sin(beta) + sin(alpha)*sin(theta)*cos(beta), 0],\n",
       "[((-sin(gamma)*sin(theta) + cos(alpha)*cos(gamma)*cos(theta))*sin(phi) + sin(alpha)*cos(gamma)*cos(phi))*cos(beta) - (-sin(gamma)*cos(theta) - sin(theta)*cos(alpha)*cos(gamma))*sin(beta), (-sin(gamma)*sin(theta) + cos(alpha)*cos(gamma)*cos(theta))*cos(phi) - sin(alpha)*sin(phi)*cos(gamma), ((-sin(gamma)*sin(theta) + cos(alpha)*cos(gamma)*cos(theta))*sin(phi) + sin(alpha)*cos(gamma)*cos(phi))*sin(beta) + (-sin(gamma)*cos(theta) - sin(theta)*cos(alpha)*cos(gamma))*cos(beta), 0],\n",
       "[ ((sin(gamma)*cos(alpha)*cos(theta) + sin(theta)*cos(gamma))*sin(phi) + sin(alpha)*sin(gamma)*cos(phi))*cos(beta) - (-sin(gamma)*sin(theta)*cos(alpha) + cos(gamma)*cos(theta))*sin(beta),  (sin(gamma)*cos(alpha)*cos(theta) + sin(theta)*cos(gamma))*cos(phi) - sin(alpha)*sin(gamma)*sin(phi),  ((sin(gamma)*cos(alpha)*cos(theta) + sin(theta)*cos(gamma))*sin(phi) + sin(alpha)*sin(gamma)*cos(phi))*sin(beta) + (-sin(gamma)*sin(theta)*cos(alpha) + cos(gamma)*cos(theta))*cos(beta), 0],\n",
       "[                                                                                                                                                                                        0,                                                                                                     0,                                                                                                                                                                                         0, 1]])"
      ]
     },
     "execution_count": 4,
     "metadata": {},
     "output_type": "execute_result"
    }
   ],
   "source": [
    "T1=rt.hrotation3('n',theta)\n",
    "T2=rt.hrotation3('a',phi)\n",
    "T3=rt.hrotation3('z',alpha)\n",
    "T4=rt.hrotation3('o',beta)\n",
    "T5=rt.hrotation3('x',gamma)\n",
    "T=T5*T3*T1*T2*T4\n",
    "T"
   ]
  },
  {
   "cell_type": "markdown",
   "id": "966d3d0e-02c7-465f-8d6c-f67763934e33",
   "metadata": {},
   "source": [
    "# 2.28"
   ]
  },
  {
   "cell_type": "code",
   "execution_count": 6,
   "id": "f0480cd3-af16-42ff-baea-b2e03bf72973",
   "metadata": {},
   "outputs": [],
   "source": [
    "T1 = rt.hrotation3('a',sp.pi)\n",
    "T2 = rt.htranslation3(x=-1, y=-1)\n",
    "T3 = rt.hrotation3('a', sp.pi/2)\n",
    "T4 = rt.htranslation3(x=2, y=1) #n,o"
   ]
  },
  {
   "cell_type": "code",
   "execution_count": 7,
   "id": "be278c75-e5b7-44bd-b36a-73bf3d067d74",
   "metadata": {},
   "outputs": [
    {
     "data": {
      "text/latex": [
       "$\\displaystyle \\left[\\begin{matrix}0 & 1 & 0 & 0\\\\-1 & 0 & 0 & -3\\\\0 & 0 & 1 & 0\\\\0 & 0 & 0 & 1\\end{matrix}\\right]$"
      ],
      "text/plain": [
       "Matrix([\n",
       "[ 0, 1, 0,  0],\n",
       "[-1, 0, 0, -3],\n",
       "[ 0, 0, 1,  0],\n",
       "[ 0, 0, 0,  1]])"
      ]
     },
     "execution_count": 7,
     "metadata": {},
     "output_type": "execute_result"
    }
   ],
   "source": [
    "T=T2*T1*T3*T4\n",
    "T"
   ]
  },
  {
   "cell_type": "code",
   "execution_count": 8,
   "id": "53ee4b6d-d74e-4bbc-96d4-a294c4a8e97b",
   "metadata": {},
   "outputs": [
    {
     "data": {
      "text/latex": [
       "$\\displaystyle \\left[\\begin{matrix}4\\\\-6\\\\-5\\\\1\\end{matrix}\\right]$"
      ],
      "text/plain": [
       "Matrix([\n",
       "[ 4],\n",
       "[-6],\n",
       "[-5],\n",
       "[ 1]])"
      ]
     },
     "execution_count": 8,
     "metadata": {},
     "output_type": "execute_result"
    }
   ],
   "source": [
    "p = rt.hpoint3(3, 4, -5)\n",
    "r = T * p\n",
    "r"
   ]
  },
  {
   "cell_type": "code",
   "execution_count": 9,
   "id": "a4eed59d-fe6c-4f0e-ba82-6a3d2e50748d",
   "metadata": {},
   "outputs": [
    {
     "data": {
      "text/latex": [
       "$\\displaystyle \\left[\\begin{matrix}4.0\\\\-6.0\\\\-5.0\\\\1.0\\end{matrix}\\right]$"
      ],
      "text/plain": [
       "Matrix([\n",
       "[ 4.0],\n",
       "[-6.0],\n",
       "[-5.0],\n",
       "[ 1.0]])"
      ]
     },
     "execution_count": 9,
     "metadata": {},
     "output_type": "execute_result"
    }
   ],
   "source": [
    "r.evalf()"
   ]
  },
  {
   "cell_type": "markdown",
   "id": "af64037e-a509-41b0-82b5-a417c769d044",
   "metadata": {},
   "source": [
    "# 2.31 se bara 2F3\n"
   ]
  },
  {
   "cell_type": "code",
   "execution_count": 25,
   "id": "5e5bd332-b5af-4d68-bc2b-40af35efeef2",
   "metadata": {},
   "outputs": [],
   "source": [
    "F13 = sp.Matrix([\n",
    "    [0, 0, -1],\n",
    "    [0, 1, 0],\n",
    "    [1, 0, 0],\n",
    "])\n",
    "F12 = sp.Matrix([\n",
    "    [1, 0, 0],\n",
    "    [0, '1/2', -sp.sqrt(3)/2],\n",
    "    [0, sp.sqrt(3)/2, '1/2'],\n",
    "])"
   ]
  },
  {
   "cell_type": "code",
   "execution_count": 26,
   "id": "c13e24e6-5d03-4fde-a969-a2f2e693faa2",
   "metadata": {},
   "outputs": [
    {
     "data": {
      "text/latex": [
       "$\\displaystyle \\left[\\begin{matrix}0 & 0 & -1\\\\\\frac{\\sqrt{3}}{2} & \\frac{1}{2} & 0\\\\\\frac{1}{2} & - \\frac{\\sqrt{3}}{2} & 0\\end{matrix}\\right]$"
      ],
      "text/plain": [
       "Matrix([\n",
       "[        0,          0, -1],\n",
       "[sqrt(3)/2,        1/2,  0],\n",
       "[      1/2, -sqrt(3)/2,  0]])"
      ]
     },
     "execution_count": 26,
     "metadata": {},
     "output_type": "execute_result"
    }
   ],
   "source": [
    "F23=F12.inv()*F13\n",
    "F23"
   ]
  },
  {
   "cell_type": "markdown",
   "id": "101f1d91-2607-49d1-bc1c-614763f80e49",
   "metadata": {},
   "source": [
    "# 2.33\n",
    "За да ја решиме оваа задача, прво ќе дефинираме сферен координате систем. Потоа ќе одротираме.\n",
    "\n",
    "Сферен координатен систем може да се дефинира како $\\mathbf{R}(z, \\gamma) \\mathbf{R}(y, \\beta) \\mathbf{Trans}(0, 0, r)$."
   ]
  },
  {
   "cell_type": "code",
   "execution_count": 10,
   "id": "ab43fbca-375e-4b15-bcf7-e1308cdd261c",
   "metadata": {},
   "outputs": [
    {
     "data": {
      "text/latex": [
       "$\\displaystyle \\left[\\begin{matrix}\\cos{\\left(\\beta \\right)} \\cos{\\left(\\gamma \\right)} & - \\sin{\\left(\\gamma \\right)} & \\sin{\\left(\\beta \\right)} \\cos{\\left(\\gamma \\right)} & - r \\sin{\\left(\\gamma \\right)} + z \\cos{\\left(\\beta \\right)} \\cos{\\left(\\gamma \\right)}\\\\\\sin{\\left(\\gamma \\right)} \\cos{\\left(\\beta \\right)} & \\cos{\\left(\\gamma \\right)} & \\sin{\\left(\\beta \\right)} \\sin{\\left(\\gamma \\right)} & r \\cos{\\left(\\gamma \\right)} + z \\sin{\\left(\\gamma \\right)} \\cos{\\left(\\beta \\right)}\\\\- \\sin{\\left(\\beta \\right)} & 0 & \\cos{\\left(\\beta \\right)} & - z \\sin{\\left(\\beta \\right)}\\\\0 & 0 & 0 & 1\\end{matrix}\\right]$"
      ],
      "text/plain": [
       "Matrix([\n",
       "[cos(beta)*cos(gamma), -sin(gamma), sin(beta)*cos(gamma), -r*sin(gamma) + z*cos(beta)*cos(gamma)],\n",
       "[sin(gamma)*cos(beta),  cos(gamma), sin(beta)*sin(gamma),  r*cos(gamma) + z*sin(gamma)*cos(beta)],\n",
       "[          -sin(beta),           0,            cos(beta),                           -z*sin(beta)],\n",
       "[                   0,           0,                    0,                                      1]])"
      ]
     },
     "execution_count": 10,
     "metadata": {},
     "output_type": "execute_result"
    }
   ],
   "source": [
    "gamma, beta, r=sp.symbols('gamma, beta, r')\n",
    "sphere=rt.hrotation3('z',gamma)*rt.hrotation3('y',beta)*rt.htranslation3('z',r)\n",
    "sphere"
   ]
  },
  {
   "cell_type": "code",
   "execution_count": 14,
   "id": "4376c157-a104-4e33-9ddf-7e7199842920",
   "metadata": {},
   "outputs": [
    {
     "data": {
      "text/latex": [
       "$\\displaystyle \\left[\\begin{matrix}1 & 0 & 0 & - r \\sin{\\left(\\gamma \\right)} + z \\cos{\\left(\\beta \\right)} \\cos{\\left(\\gamma \\right)}\\\\0 & 1 & 0 & r \\cos{\\left(\\gamma \\right)} + z \\sin{\\left(\\gamma \\right)} \\cos{\\left(\\beta \\right)}\\\\0 & 0 & 1 & - z \\sin{\\left(\\beta \\right)}\\\\0 & 0 & 0 & 1\\end{matrix}\\right]$"
      ],
      "text/plain": [
       "Matrix([\n",
       "[1, 0, 0, -r*sin(gamma) + z*cos(beta)*cos(gamma)],\n",
       "[0, 1, 0,  r*cos(gamma) + z*sin(gamma)*cos(beta)],\n",
       "[0, 0, 1,                           -z*sin(beta)],\n",
       "[0, 0, 0,                                      1]])"
      ]
     },
     "execution_count": 14,
     "metadata": {},
     "output_type": "execute_result"
    }
   ],
   "source": [
    "unrotated = sphere * rt.hrotation3('o', -beta) * rt.hrotation3('a', -gamma)\n",
    "unrotated.simplify()\n",
    "unrotated"
   ]
  },
  {
   "cell_type": "markdown",
   "id": "30f3ef2c-0a5b-4b3f-8691-cb2858499ebd",
   "metadata": {},
   "source": [
    "# 2.34"
   ]
  },
  {
   "cell_type": "code",
   "execution_count": 15,
   "id": "7bb9bee4-7026-41ef-94ef-d4b8d38d4f9e",
   "metadata": {},
   "outputs": [
    {
     "data": {
      "text/latex": [
       "$\\displaystyle \\left[\\begin{matrix}\\cos{\\left(\\beta \\right)} \\cos{\\left(\\gamma \\right)} & - \\sin{\\left(\\gamma \\right)} & \\sin{\\left(\\beta \\right)} \\cos{\\left(\\gamma \\right)} & r \\sin{\\left(\\beta \\right)} \\cos{\\left(\\gamma \\right)}\\\\\\sin{\\left(\\gamma \\right)} \\cos{\\left(\\beta \\right)} & \\cos{\\left(\\gamma \\right)} & \\sin{\\left(\\beta \\right)} \\sin{\\left(\\gamma \\right)} & r \\sin{\\left(\\beta \\right)} \\sin{\\left(\\gamma \\right)}\\\\- \\sin{\\left(\\beta \\right)} & 0 & \\cos{\\left(\\beta \\right)} & r \\cos{\\left(\\beta \\right)}\\\\0 & 0 & 0 & 1\\end{matrix}\\right]$"
      ],
      "text/plain": [
       "Matrix([\n",
       "[cos(beta)*cos(gamma), -sin(gamma), sin(beta)*cos(gamma), r*sin(beta)*cos(gamma)],\n",
       "[sin(gamma)*cos(beta),  cos(gamma), sin(beta)*sin(gamma), r*sin(beta)*sin(gamma)],\n",
       "[          -sin(beta),           0,            cos(beta),            r*cos(beta)],\n",
       "[                   0,           0,                    0,                      1]])"
      ]
     },
     "execution_count": 15,
     "metadata": {},
     "output_type": "execute_result"
    }
   ],
   "source": [
    "gamma, beta, r = sp.symbols('gamma, beta, r')\n",
    "sphere = rt.hrotation3('z', gamma) * rt.hrotation3('y', beta) * rt.htranslation3(z=r)\n",
    "sphere"
   ]
  },
  {
   "cell_type": "code",
   "execution_count": 16,
   "id": "d723bfb9-cf47-4e28-be34-8bf41cb15cb1",
   "metadata": {},
   "outputs": [],
   "source": [
    "x, y, z = sphere[:3, 3]"
   ]
  },
  {
   "cell_type": "code",
   "execution_count": 25,
   "id": "9732625f-4d8a-44bb-bd02-5d929ec8dc3b",
   "metadata": {},
   "outputs": [
    {
     "data": {
      "text/latex": [
       "$\\displaystyle \\frac{\\sin{\\left(\\gamma \\right)}}{\\cos{\\left(\\gamma \\right)}}$"
      ],
      "text/plain": [
       "sin(gamma)/cos(gamma)"
      ]
     },
     "execution_count": 25,
     "metadata": {},
     "output_type": "execute_result"
    }
   ],
   "source": [
    "tg_gamma=y/x\n",
    "tg_gamma"
   ]
  },
  {
   "cell_type": "code",
   "execution_count": 24,
   "id": "5c87b43d-ffdd-4247-8ddd-b8d2b3746cf4",
   "metadata": {},
   "outputs": [
    {
     "data": {
      "text/latex": [
       "$\\displaystyle r^{2} \\sin^{2}{\\left(\\beta \\right)} \\sin^{2}{\\left(\\gamma \\right)} + r^{2} \\sin^{2}{\\left(\\beta \\right)} \\cos^{2}{\\left(\\gamma \\right)} + r^{2} \\cos^{2}{\\left(\\beta \\right)}$"
      ],
      "text/plain": [
       "r**2*sin(beta)**2*sin(gamma)**2 + r**2*sin(beta)**2*cos(gamma)**2 + r**2*cos(beta)**2"
      ]
     },
     "execution_count": 24,
     "metadata": {},
     "output_type": "execute_result"
    }
   ],
   "source": [
    "t=x**2+y**2+z**2\n",
    "t.simplify()\n",
    "t"
   ]
  },
  {
   "cell_type": "code",
   "execution_count": 26,
   "id": "0abb1311-5366-4aba-8e05-eb9d193a7d35",
   "metadata": {},
   "outputs": [
    {
     "data": {
      "text/latex": [
       "$\\displaystyle r^{2} \\cos^{2}{\\left(\\beta \\right)}$"
      ],
      "text/plain": [
       "r**2*cos(beta)**2"
      ]
     },
     "execution_count": 26,
     "metadata": {},
     "output_type": "execute_result"
    }
   ],
   "source": [
    "z**2"
   ]
  },
  {
   "cell_type": "markdown",
   "id": "13fc78ac-1a06-4e4c-a072-04159500f629",
   "metadata": {},
   "source": [
    "# 2.36"
   ]
  },
  {
   "cell_type": "code",
   "execution_count": 28,
   "id": "4fa1d5ac-692d-4ecd-b094-2fb21d135ca8",
   "metadata": {},
   "outputs": [
    {
     "data": {
      "text/latex": [
       "$\\displaystyle \\left[\\begin{matrix}- \\sin{\\left(\\theta_{1} \\right)} \\sin{\\left(\\theta_{3} \\right)} + \\cos{\\left(\\theta_{1} \\right)} \\cos{\\left(\\theta_{2} \\right)} \\cos{\\left(\\theta_{3} \\right)} & - \\sin{\\left(\\theta_{1} \\right)} \\cos{\\left(\\theta_{3} \\right)} - \\sin{\\left(\\theta_{3} \\right)} \\cos{\\left(\\theta_{1} \\right)} \\cos{\\left(\\theta_{2} \\right)} & \\sin{\\left(\\theta_{2} \\right)} \\cos{\\left(\\theta_{1} \\right)} & 0\\\\\\sin{\\left(\\theta_{1} \\right)} \\cos{\\left(\\theta_{2} \\right)} \\cos{\\left(\\theta_{3} \\right)} + \\sin{\\left(\\theta_{3} \\right)} \\cos{\\left(\\theta_{1} \\right)} & - \\sin{\\left(\\theta_{1} \\right)} \\sin{\\left(\\theta_{3} \\right)} \\cos{\\left(\\theta_{2} \\right)} + \\cos{\\left(\\theta_{1} \\right)} \\cos{\\left(\\theta_{3} \\right)} & \\sin{\\left(\\theta_{1} \\right)} \\sin{\\left(\\theta_{2} \\right)} & 0\\\\- \\sin{\\left(\\theta_{2} \\right)} \\cos{\\left(\\theta_{3} \\right)} & \\sin{\\left(\\theta_{2} \\right)} \\sin{\\left(\\theta_{3} \\right)} & \\cos{\\left(\\theta_{2} \\right)} & 0\\\\0 & 0 & 0 & 1\\end{matrix}\\right]$"
      ],
      "text/plain": [
       "Matrix([\n",
       "[-sin(theta_1)*sin(theta_3) + cos(theta_1)*cos(theta_2)*cos(theta_3), -sin(theta_1)*cos(theta_3) - sin(theta_3)*cos(theta_1)*cos(theta_2), sin(theta_2)*cos(theta_1), 0],\n",
       "[ sin(theta_1)*cos(theta_2)*cos(theta_3) + sin(theta_3)*cos(theta_1), -sin(theta_1)*sin(theta_3)*cos(theta_2) + cos(theta_1)*cos(theta_3), sin(theta_1)*sin(theta_2), 0],\n",
       "[                                         -sin(theta_2)*cos(theta_3),                                           sin(theta_2)*sin(theta_3),              cos(theta_2), 0],\n",
       "[                                                                  0,                                                                   0,                         0, 1]])"
      ]
     },
     "execution_count": 28,
     "metadata": {},
     "output_type": "execute_result"
    }
   ],
   "source": [
    "theta_1, theta_2, theta_3 = sp.symbols('theta_1, theta_2, theta_3')\n",
    "T1 = rt.hrotation3('z', theta_1)\n",
    "T2 = rt.hrotation3('y', theta_2)\n",
    "T3 = rt.hrotation3('z', theta_3)\n",
    "T1 * T2 * T3"
   ]
  },
  {
   "cell_type": "code",
   "execution_count": 29,
   "id": "077888a4-f6fe-4971-b63a-7dfec2a78134",
   "metadata": {},
   "outputs": [
    {
     "data": {
      "text/latex": [
       "$\\displaystyle \\left[\\begin{matrix}- \\sin{\\left(\\theta_{1} \\right)} \\sin{\\left(\\theta_{3} \\right)} + \\cos{\\left(\\theta_{1} \\right)} \\cos{\\left(\\theta_{2} \\right)} \\cos{\\left(\\theta_{3} \\right)} & - \\sin{\\left(\\theta_{1} \\right)} \\cos{\\left(\\theta_{3} \\right)} - \\sin{\\left(\\theta_{3} \\right)} \\cos{\\left(\\theta_{1} \\right)} \\cos{\\left(\\theta_{2} \\right)} & \\sin{\\left(\\theta_{2} \\right)} \\cos{\\left(\\theta_{1} \\right)} & 0\\\\\\sin{\\left(\\theta_{1} \\right)} \\cos{\\left(\\theta_{2} \\right)} \\cos{\\left(\\theta_{3} \\right)} + \\sin{\\left(\\theta_{3} \\right)} \\cos{\\left(\\theta_{1} \\right)} & - \\sin{\\left(\\theta_{1} \\right)} \\sin{\\left(\\theta_{3} \\right)} \\cos{\\left(\\theta_{2} \\right)} + \\cos{\\left(\\theta_{1} \\right)} \\cos{\\left(\\theta_{3} \\right)} & \\sin{\\left(\\theta_{1} \\right)} \\sin{\\left(\\theta_{2} \\right)} & 0\\\\- \\sin{\\left(\\theta_{2} \\right)} \\cos{\\left(\\theta_{3} \\right)} & \\sin{\\left(\\theta_{2} \\right)} \\sin{\\left(\\theta_{3} \\right)} & \\cos{\\left(\\theta_{2} \\right)} & 0\\\\0 & 0 & 0 & 1\\end{matrix}\\right]$"
      ],
      "text/plain": [
       "Matrix([\n",
       "[-sin(theta_1)*sin(theta_3) + cos(theta_1)*cos(theta_2)*cos(theta_3), -sin(theta_1)*cos(theta_3) - sin(theta_3)*cos(theta_1)*cos(theta_2), sin(theta_2)*cos(theta_1), 0],\n",
       "[ sin(theta_1)*cos(theta_2)*cos(theta_3) + sin(theta_3)*cos(theta_1), -sin(theta_1)*sin(theta_3)*cos(theta_2) + cos(theta_1)*cos(theta_3), sin(theta_1)*sin(theta_2), 0],\n",
       "[                                         -sin(theta_2)*cos(theta_3),                                           sin(theta_2)*sin(theta_3),              cos(theta_2), 0],\n",
       "[                                                                  0,                                                                   0,                         0, 1]])"
      ]
     },
     "execution_count": 29,
     "metadata": {},
     "output_type": "execute_result"
    }
   ],
   "source": [
    "theta_1, theta_2, theta_3 = sp.symbols('theta_1, theta_2, theta_3')\n",
    "T1 = rt.hrotation3('a', theta_1)\n",
    "T2 = rt.hrotation3('o', theta_2)\n",
    "T3 = rt.hrotation3('a', theta_3)\n",
    "T1 * T2 * T3"
   ]
  },
  {
   "cell_type": "code",
   "execution_count": 30,
   "id": "de40ab93-f7a7-40d6-a530-447d945be41e",
   "metadata": {},
   "outputs": [],
   "source": [
    "# isti se zoshto se poklopuvaat sistemite"
   ]
  },
  {
   "cell_type": "markdown",
   "id": "b338afb1-13a7-437e-aa48-37d2a7badd3e",
   "metadata": {},
   "source": [
    "# 2.37 zyz"
   ]
  },
  {
   "cell_type": "code",
   "execution_count": 31,
   "id": "98626ceb-3b12-43f6-b7cf-814e0d561984",
   "metadata": {},
   "outputs": [
    {
     "data": {
      "text/latex": [
       "$\\displaystyle \\left[\\begin{matrix}0 & -1 & 0 & 3\\\\-1 & 0 & 0 & 0\\\\0 & 0 & -1 & 0\\\\0 & 0 & 0 & 1\\end{matrix}\\right]$"
      ],
      "text/plain": [
       "Matrix([\n",
       "[ 0, -1,  0, 3],\n",
       "[-1,  0,  0, 0],\n",
       "[ 0,  0, -1, 0],\n",
       "[ 0,  0,  0, 1]])"
      ]
     },
     "execution_count": 31,
     "metadata": {},
     "output_type": "execute_result"
    }
   ],
   "source": [
    "T1 = rt.hrotation3('z', -sp.pi/2)\n",
    "T2 = rt.hrotation3('y', sp.pi)\n",
    "T3 = rt.htranslation3(x=3)\n",
    "T = T3 * T2 * T1\n",
    "T"
   ]
  },
  {
   "cell_type": "code",
   "execution_count": 32,
   "id": "21b98166-8bbe-4cb5-8680-5698dd87606d",
   "metadata": {},
   "outputs": [
    {
     "data": {
      "text/latex": [
       "$\\displaystyle \\left[\\begin{matrix}\\frac{\\pi}{2}\\\\\\pi\\\\0\\end{matrix}\\right]$"
      ],
      "text/plain": [
       "Matrix([\n",
       "[pi/2],\n",
       "[  pi],\n",
       "[   0]])"
      ]
     },
     "execution_count": 32,
     "metadata": {},
     "output_type": "execute_result"
    }
   ],
   "source": [
    "euler_angles = rt.euler_angles(T, 'ZYZ')\n",
    "euler_angles"
   ]
  },
  {
   "cell_type": "code",
   "execution_count": 34,
   "id": "fb6442b1-91d8-420f-9ed3-3ec067cdaa87",
   "metadata": {},
   "outputs": [
    {
     "data": {
      "text/latex": [
       "$\\displaystyle \\left[\\begin{matrix}0 & -1 & 0 & 0\\\\-1 & 0 & 0 & 0\\\\0 & 0 & -1 & 0\\\\0 & 0 & 0 & 1\\end{matrix}\\right]$"
      ],
      "text/plain": [
       "Matrix([\n",
       "[ 0, -1,  0, 0],\n",
       "[-1,  0,  0, 0],\n",
       "[ 0,  0, -1, 0],\n",
       "[ 0,  0,  0, 1]])"
      ]
     },
     "execution_count": 34,
     "metadata": {},
     "output_type": "execute_result"
    }
   ],
   "source": [
    "rt.rotation_matrix_from_euler_angles(euler_angles, 'ZYZ') #proverka dali se tochni ojlerovite agli"
   ]
  },
  {
   "cell_type": "markdown",
   "id": "c7c3a050-a57a-4161-9b40-8bc81877f76b",
   "metadata": {},
   "source": [
    "## 2.38"
   ]
  },
  {
   "cell_type": "code",
   "execution_count": 4,
   "id": "006ba470-0e67-440a-8eac-90f595cb2902",
   "metadata": {},
   "outputs": [
    {
     "data": {
      "text/latex": [
       "$\\displaystyle \\left[\\begin{matrix}0 & -1 & 0 & 0\\\\\\frac{\\sqrt{2}}{2} & 0 & - \\frac{\\sqrt{2}}{2} & -1\\\\\\frac{\\sqrt{2}}{2} & 0 & \\frac{\\sqrt{2}}{2} & 6\\\\0 & 0 & 0 & 1\\end{matrix}\\right]$"
      ],
      "text/plain": [
       "Matrix([\n",
       "[        0, -1,          0,  0],\n",
       "[sqrt(2)/2,  0, -sqrt(2)/2, -1],\n",
       "[sqrt(2)/2,  0,  sqrt(2)/2,  6],\n",
       "[        0,  0,          0,  1]])"
      ]
     },
     "execution_count": 4,
     "metadata": {},
     "output_type": "execute_result"
    }
   ],
   "source": [
    "T1 = rt.htranslation3(x=5) #n\n",
    "T2 = rt.hrotation3('o', sp.pi/4)\n",
    "T3 = rt.hrotation3('z', sp.pi/2)\n",
    "T4 = rt.htranslation3(z=sp.sqrt(2)) #a\n",
    "T5 = rt.hrotation3('x', sp.pi/2)\n",
    "T=T5*T3*T1*T2*T4\n",
    "T"
   ]
  },
  {
   "cell_type": "code",
   "execution_count": 5,
   "id": "f9aa2c6c-38a8-4477-9b68-9433a2fa4e61",
   "metadata": {},
   "outputs": [
    {
     "data": {
      "text/latex": [
       "$\\displaystyle \\left[\\begin{matrix}- \\frac{\\pi}{2}\\\\\\frac{\\pi}{4}\\\\\\pi\\end{matrix}\\right]$"
      ],
      "text/plain": [
       "Matrix([\n",
       "[-pi/2],\n",
       "[ pi/4],\n",
       "[   pi]])"
      ]
     },
     "execution_count": 5,
     "metadata": {},
     "output_type": "execute_result"
    }
   ],
   "source": [
    "euler_angles = rt.euler_angles(T, 'ZYZ')\n",
    "euler_angles"
   ]
  },
  {
   "cell_type": "code",
   "execution_count": 6,
   "id": "22dbe43d-56c9-42b2-8739-c1a8367a15a3",
   "metadata": {},
   "outputs": [
    {
     "data": {
      "text/latex": [
       "$\\displaystyle \\left[\\begin{matrix}0 & -1 & 0 & 0\\\\\\frac{\\sqrt{2}}{2} & 0 & - \\frac{\\sqrt{2}}{2} & 0\\\\\\frac{\\sqrt{2}}{2} & 0 & \\frac{\\sqrt{2}}{2} & 0\\\\0 & 0 & 0 & 1\\end{matrix}\\right]$"
      ],
      "text/plain": [
       "Matrix([\n",
       "[        0, -1,          0, 0],\n",
       "[sqrt(2)/2,  0, -sqrt(2)/2, 0],\n",
       "[sqrt(2)/2,  0,  sqrt(2)/2, 0],\n",
       "[        0,  0,          0, 1]])"
      ]
     },
     "execution_count": 6,
     "metadata": {},
     "output_type": "execute_result"
    }
   ],
   "source": [
    "rt.rotation_matrix_from_euler_angles(euler_angles, 'ZYZ') #proverka dali se tochni ojlerovite agli"
   ]
  },
  {
   "cell_type": "markdown",
   "id": "e5651282-70ef-46a0-b742-809eb8e9ce81",
   "metadata": {},
   "source": [
    "## 2.39"
   ]
  },
  {
   "cell_type": "code",
   "execution_count": 7,
   "id": "1c0fd147-ebe3-49b0-8568-0dc0199e22d2",
   "metadata": {},
   "outputs": [
    {
     "data": {
      "text/latex": [
       "$\\displaystyle \\left[\\begin{matrix}r_{11} & r_{12} & r_{13}\\\\r_{21} & r_{22} & r_{23}\\\\r_{31} & r_{32} & r_{33}\\end{matrix}\\right]$"
      ],
      "text/plain": [
       "Matrix([\n",
       "[r11, r12, r13],\n",
       "[r21, r22, r23],\n",
       "[r31, r32, r33]])"
      ]
     },
     "execution_count": 7,
     "metadata": {},
     "output_type": "execute_result"
    }
   ],
   "source": [
    "r11, r12, r13, r21, r22, r23, r31, r32, r33 = sp.symbols('r11, r12, r13, r21, r22, r23, r31, r32, r33')\n",
    "T = sp.Matrix([[r11, r12, r13], [r21, r22, r23], [r31, r32, r33]])\n",
    "T"
   ]
  },
  {
   "cell_type": "code",
   "execution_count": 8,
   "id": "d831c8da-5ba2-482a-b446-780c49df5340",
   "metadata": {},
   "outputs": [
    {
     "data": {
      "text/latex": [
       "$\\displaystyle \\left[\\begin{matrix}\\operatorname{atan}_{2}{\\left(- r_{23},r_{33} \\right)}\\\\\\operatorname{asin}{\\left(r_{13} \\right)}\\\\\\operatorname{atan}_{2}{\\left(- r_{12},r_{11} \\right)}\\end{matrix}\\right]$"
      ],
      "text/plain": [
       "Matrix([\n",
       "[atan2(-r23, r33)],\n",
       "[       asin(r13)],\n",
       "[atan2(-r12, r11)]])"
      ]
     },
     "execution_count": 8,
     "metadata": {},
     "output_type": "execute_result"
    }
   ],
   "source": [
    "euler_angles = rt.euler_angles(T, 'XYZ')\n",
    "euler_angles"
   ]
  },
  {
   "cell_type": "markdown",
   "id": "338af5a8-832f-4357-8392-ce7e5281a7b8",
   "metadata": {},
   "source": [
    "## 2.41"
   ]
  },
  {
   "cell_type": "code",
   "execution_count": 13,
   "id": "4f5e0eee-24a4-4886-abce-574891a88983",
   "metadata": {},
   "outputs": [
    {
     "data": {
      "text/latex": [
       "$\\displaystyle \\left[\\begin{matrix}r_{11} & r_{12} & r_{13}\\\\r_{21} & r_{22} & r_{23}\\\\r_{31} & r_{32} & r_{33}\\end{matrix}\\right]$"
      ],
      "text/plain": [
       "Matrix([\n",
       "[r11, r12, r13],\n",
       "[r21, r22, r23],\n",
       "[r31, r32, r33]])"
      ]
     },
     "execution_count": 13,
     "metadata": {},
     "output_type": "execute_result"
    }
   ],
   "source": [
    "r11, r12, r13, r21, r22, r23, r31, r32, r33 = sp.symbols('r11, r12, r13, r21, r22, r23, r31, r32, r33')\n",
    "T = sp.Matrix([[r11, r12, r13], [r21, r22, r23], [r31, r32, r33]])\n",
    "T"
   ]
  },
  {
   "cell_type": "code",
   "execution_count": 14,
   "id": "6ffb971c-776c-4d92-9b6a-8cad5edfa0e8",
   "metadata": {},
   "outputs": [
    {
     "data": {
      "text/latex": [
       "$\\displaystyle \\left[\\begin{matrix}\\operatorname{atan}_{2}{\\left(r_{21},r_{11} \\right)}\\\\- \\operatorname{asin}{\\left(r_{31} \\right)}\\\\\\operatorname{atan}_{2}{\\left(r_{32},r_{33} \\right)}\\end{matrix}\\right]$"
      ],
      "text/plain": [
       "Matrix([\n",
       "[atan2(r21, r11)],\n",
       "[     -asin(r31)],\n",
       "[atan2(r32, r33)]])"
      ]
     },
     "execution_count": 14,
     "metadata": {},
     "output_type": "execute_result"
    }
   ],
   "source": [
    "euler_angles = rt.euler_angles(T, 'ZYX')\n",
    "euler_angles"
   ]
  },
  {
   "cell_type": "markdown",
   "id": "2c07cbe1-808c-4746-9b70-27d2f9689c48",
   "metadata": {},
   "source": [
    "# 2.42"
   ]
  },
  {
   "cell_type": "code",
   "execution_count": 28,
   "id": "977c1c2f-c60a-452c-b975-3db0272eb34e",
   "metadata": {},
   "outputs": [
    {
     "data": {
      "text/latex": [
       "$\\displaystyle \\left[\\begin{matrix}\\frac{\\sqrt{3}}{4} & - \\frac{1}{2} & \\frac{3}{4} & \\frac{9}{4} + \\frac{5 \\sqrt{3}}{2}\\\\\\frac{\\sqrt{2}}{8} + \\frac{\\sqrt{6}}{4} & \\frac{\\sqrt{6}}{4} & - \\frac{\\sqrt{2}}{4} + \\frac{\\sqrt{6}}{8} & \\frac{\\sqrt{2}}{2} + \\frac{3 \\sqrt{6}}{8}\\\\- \\frac{\\sqrt{6}}{4} + \\frac{\\sqrt{2}}{8} & \\frac{\\sqrt{6}}{4} & \\frac{\\sqrt{6}}{8} + \\frac{\\sqrt{2}}{4} & \\frac{3 \\sqrt{6}}{8} + 2 \\sqrt{2}\\\\0 & 0 & 0 & 1\\end{matrix}\\right]$"
      ],
      "text/plain": [
       "Matrix([\n",
       "[             sqrt(3)/4,      -1/2,                    3/4,       9/4 + 5*sqrt(3)/2],\n",
       "[ sqrt(2)/8 + sqrt(6)/4, sqrt(6)/4, -sqrt(2)/4 + sqrt(6)/8, sqrt(2)/2 + 3*sqrt(6)/8],\n",
       "[-sqrt(6)/4 + sqrt(2)/8, sqrt(6)/4,  sqrt(6)/8 + sqrt(2)/4, 3*sqrt(6)/8 + 2*sqrt(2)],\n",
       "[                     0,         0,                      0,                       1]])"
      ]
     },
     "execution_count": 28,
     "metadata": {},
     "output_type": "execute_result"
    }
   ],
   "source": [
    "T1=rt.htranslation3(x=5) #n\n",
    "T2=rt.hrotation3('o',sp.pi/3)\n",
    "T3=rt.hrotation3('z',sp.pi/6)\n",
    "T4=rt.htranslation3(z=3) #a\n",
    "T5=rt.hrotation3('x',sp.pi/4)\n",
    "T=T5*T3*T1*T2*T4\n",
    "T"
   ]
  },
  {
   "cell_type": "code",
   "execution_count": 29,
   "id": "b5267ff5-2389-4af7-9851-f87009f1e875",
   "metadata": {},
   "outputs": [
    {
     "data": {
      "text/latex": [
       "$\\displaystyle \\left[\\begin{matrix}\\operatorname{atan}{\\left(\\frac{4 \\sqrt{3} \\left(\\frac{\\sqrt{2}}{8} + \\frac{\\sqrt{6}}{4}\\right)}{3} \\right)}\\\\- \\operatorname{asin}{\\left(- \\frac{\\sqrt{6}}{4} + \\frac{\\sqrt{2}}{8} \\right)}\\\\\\operatorname{atan}{\\left(\\frac{\\sqrt{6}}{4 \\left(\\frac{\\sqrt{6}}{8} + \\frac{\\sqrt{2}}{4}\\right)} \\right)}\\end{matrix}\\right]$"
      ],
      "text/plain": [
       "Matrix([\n",
       "[atan(4*sqrt(3)*(sqrt(2)/8 + sqrt(6)/4)/3)],\n",
       "[            -asin(-sqrt(6)/4 + sqrt(2)/8)],\n",
       "[atan(sqrt(6)/(4*(sqrt(6)/8 + sqrt(2)/4)))]])"
      ]
     },
     "execution_count": 29,
     "metadata": {},
     "output_type": "execute_result"
    }
   ],
   "source": [
    "euler_angles = rt.euler_angles(T, 'ZYX') #RPY\n",
    "euler_angles "
   ]
  },
  {
   "cell_type": "code",
   "execution_count": 30,
   "id": "1a00b124-1c95-4457-a51d-4b311c1dc986",
   "metadata": {},
   "outputs": [
    {
     "data": {
      "text/latex": [
       "$\\displaystyle \\left[\\begin{matrix}61.246056618025\\\\25.8232078223648\\\\42.867573148363\\end{matrix}\\right]$"
      ],
      "text/plain": [
       "Matrix([\n",
       "[ 61.246056618025],\n",
       "[25.8232078223648],\n",
       "[ 42.867573148363]])"
      ]
     },
     "execution_count": 30,
     "metadata": {},
     "output_type": "execute_result"
    }
   ],
   "source": [
    "(euler_angles / sp.pi * 180).evalf()"
   ]
  },
  {
   "cell_type": "markdown",
   "id": "39dbcee9-d146-4e95-904d-d66b10c9c22d",
   "metadata": {},
   "source": [
    "## 2.47"
   ]
  },
  {
   "cell_type": "code",
   "execution_count": 31,
   "id": "bd906c1e-b868-4932-963c-18f28b95336e",
   "metadata": {},
   "outputs": [
    {
     "data": {
      "application/vnd.jupyter.widget-view+json": {
       "model_id": "cd2aa46b42854acd94cf50da6b3ea72f",
       "version_major": 2,
       "version_minor": 0
      },
      "text/plain": [
       "VBox(children=(HBox(children=(ToggleButton(value=True, description='Исклучи цртање'), Button(description='Пром…"
      ]
     },
     "metadata": {},
     "output_type": "display_data"
    }
   ],
   "source": [
    "d1, d2 = sp.symbols('d1, d2')\n",
    "robot = rt.SerialLinkRobot()\n",
    "robot.add_prismatic_joint(0,d1,0,-sp.pi/2)\n",
    "robot.add_prismatic_joint(0,d2,0,0)\n",
    "robot.interact()"
   ]
  },
  {
   "cell_type": "code",
   "execution_count": 19,
   "id": "92754662-628d-40cf-8580-ad45d06072bb",
   "metadata": {},
   "outputs": [
    {
     "data": {
      "text/latex": [
       "$\\displaystyle \\left[\\begin{matrix}1 & 0 & 0 & 0\\\\0 & 0 & 1 & 0\\\\0 & -1 & 0 & d_{1}\\\\0 & 0 & 0 & 1\\end{matrix}\\right]$"
      ],
      "text/plain": [
       "Matrix([\n",
       "[1,  0, 0,  0],\n",
       "[0,  0, 1,  0],\n",
       "[0, -1, 0, d1],\n",
       "[0,  0, 0,  1]])"
      ]
     },
     "execution_count": 19,
     "metadata": {},
     "output_type": "execute_result"
    }
   ],
   "source": [
    "A1 = robot.get_dh_joint_to_joint(0, 1)\n",
    "A1"
   ]
  },
  {
   "cell_type": "code",
   "execution_count": 33,
   "id": "08daaf6b-3056-46bc-bfe8-19e5f7ecc3f2",
   "metadata": {},
   "outputs": [
    {
     "data": {
      "text/latex": [
       "$\\displaystyle \\left[\\begin{matrix}1 & 0 & 0 & 0\\\\0 & 1 & 0 & 0\\\\0 & 0 & 1 & d_{2}\\\\0 & 0 & 0 & 1\\end{matrix}\\right]$"
      ],
      "text/plain": [
       "Matrix([\n",
       "[1, 0, 0,  0],\n",
       "[0, 1, 0,  0],\n",
       "[0, 0, 1, d2],\n",
       "[0, 0, 0,  1]])"
      ]
     },
     "execution_count": 33,
     "metadata": {},
     "output_type": "execute_result"
    }
   ],
   "source": [
    "A2 = robot.get_dh_joint_to_joint(1, 2)\n",
    "A2"
   ]
  },
  {
   "cell_type": "code",
   "execution_count": 34,
   "id": "003c5026-d42f-495a-ac8e-734702e109e5",
   "metadata": {},
   "outputs": [
    {
     "data": {
      "text/latex": [
       "$\\displaystyle \\left[\\begin{matrix}1 & 0 & 0 & 0\\\\0 & 0 & 1 & d_{2}\\\\0 & -1 & 0 & d_{1}\\\\0 & 0 & 0 & 1\\end{matrix}\\right]$"
      ],
      "text/plain": [
       "Matrix([\n",
       "[1,  0, 0,  0],\n",
       "[0,  0, 1, d2],\n",
       "[0, -1, 0, d1],\n",
       "[0,  0, 0,  1]])"
      ]
     },
     "execution_count": 34,
     "metadata": {},
     "output_type": "execute_result"
    }
   ],
   "source": [
    "A=robot.get_dh_joint_to_joint(0,2)\n",
    "A"
   ]
  },
  {
   "cell_type": "markdown",
   "id": "5ee89727-10fc-4b35-a142-458c376e224f",
   "metadata": {},
   "source": [
    "## 2.48"
   ]
  },
  {
   "cell_type": "code",
   "execution_count": 40,
   "id": "1f694f0a-9e15-4bcd-9cd4-e17665311a95",
   "metadata": {},
   "outputs": [
    {
     "data": {
      "application/vnd.jupyter.widget-view+json": {
       "model_id": "b60e0ce7500442f9a5c7ddd4a1550d5f",
       "version_major": 2,
       "version_minor": 0
      },
      "text/plain": [
       "VBox(children=(HBox(children=(ToggleButton(value=True, description='Исклучи цртање'), Button(description='Пром…"
      ]
     },
     "metadata": {},
     "output_type": "display_data"
    }
   ],
   "source": [
    "d1, d2, d3 = sp.symbols('d1, d2, d3')\n",
    "robot = rt.SerialLinkRobot()\n",
    "robot.add_prismatic_joint(0,d1,0,-sp.pi/2)\n",
    "robot.add_prismatic_joint(-sp.pi/2,d2,0,-sp.pi/2)\n",
    "robot.add_prismatic_joint(0,d3,0,0)\n",
    "robot.interact()"
   ]
  },
  {
   "cell_type": "code",
   "execution_count": 27,
   "id": "17ae1cc1-f708-4dda-8bbb-2e24f05970a2",
   "metadata": {},
   "outputs": [
    {
     "data": {
      "text/latex": [
       "$\\displaystyle \\left[\\begin{matrix}0 & 0 & 1 & d_{3}\\\\0 & 1 & 0 & d_{2}\\\\-1 & 0 & 0 & d_{1}\\\\0 & 0 & 0 & 1\\end{matrix}\\right]$"
      ],
      "text/plain": [
       "Matrix([\n",
       "[ 0, 0, 1, d3],\n",
       "[ 0, 1, 0, d2],\n",
       "[-1, 0, 0, d1],\n",
       "[ 0, 0, 0,  1]])"
      ]
     },
     "execution_count": 27,
     "metadata": {},
     "output_type": "execute_result"
    }
   ],
   "source": [
    "A=robot.get_dh_joint_to_joint(0,3)\n",
    "A"
   ]
  },
  {
   "cell_type": "markdown",
   "id": "7e9c1754-e7c0-49a1-8bcf-540fbde550e7",
   "metadata": {},
   "source": [
    "# 2.49"
   ]
  },
  {
   "cell_type": "code",
   "execution_count": 41,
   "id": "a9a492f6-88ee-4abb-84c3-71c630d9a419",
   "metadata": {},
   "outputs": [
    {
     "data": {
      "application/vnd.jupyter.widget-view+json": {
       "model_id": "5c95147b2f044c0c80af6157b401ca24",
       "version_major": 2,
       "version_minor": 0
      },
      "text/plain": [
       "VBox(children=(HBox(children=(ToggleButton(value=True, description='Исклучи цртање'), Button(description='Пром…"
      ]
     },
     "metadata": {},
     "output_type": "display_data"
    }
   ],
   "source": [
    "theta1, theta2, l1, l2 = sp.symbols('theta1, theta2, l1, l2')\n",
    "robot = rt.SerialLinkRobot()\n",
    "robot.add_revolute_joint(theta1,0,l1,0)\n",
    "robot.add_revolute_joint(theta2,0,l2,-sp.pi/2)\n",
    "robot.add_subs([(l1, 1), (l2, 1)])\n",
    "robot.interact()"
   ]
  },
  {
   "cell_type": "code",
   "execution_count": 39,
   "id": "6cbe16be-7e70-472f-ae65-189f961d612a",
   "metadata": {},
   "outputs": [
    {
     "data": {
      "text/latex": [
       "$\\displaystyle \\left[\\begin{matrix}\\cos{\\left(\\theta_{1} + \\theta_{2} \\right)} & 0 & - \\sin{\\left(\\theta_{1} + \\theta_{2} \\right)} & l_{1} \\cos{\\left(\\theta_{1} \\right)} + l_{2} \\cos{\\left(\\theta_{1} + \\theta_{2} \\right)}\\\\\\sin{\\left(\\theta_{1} + \\theta_{2} \\right)} & 0 & \\cos{\\left(\\theta_{1} + \\theta_{2} \\right)} & l_{1} \\sin{\\left(\\theta_{1} \\right)} + l_{2} \\sin{\\left(\\theta_{1} + \\theta_{2} \\right)}\\\\0 & -1 & 0 & 0\\\\0 & 0 & 0 & 1\\end{matrix}\\right]$"
      ],
      "text/plain": [
       "Matrix([\n",
       "[cos(theta1 + theta2),  0, -sin(theta1 + theta2), l1*cos(theta1) + l2*cos(theta1 + theta2)],\n",
       "[sin(theta1 + theta2),  0,  cos(theta1 + theta2), l1*sin(theta1) + l2*sin(theta1 + theta2)],\n",
       "[                   0, -1,                     0,                                        0],\n",
       "[                   0,  0,                     0,                                        1]])"
      ]
     },
     "execution_count": 39,
     "metadata": {},
     "output_type": "execute_result"
    }
   ],
   "source": [
    "A=robot.get_dh_joint_to_joint(0,2)\n",
    "A"
   ]
  },
  {
   "cell_type": "code",
   "execution_count": 40,
   "id": "6b7581ac-75a6-43cf-8c74-77ef4dc88e6d",
   "metadata": {},
   "outputs": [
    {
     "data": {
      "text/latex": [
       "$\\displaystyle \\left[\\begin{matrix}\\cos{\\left(\\theta_{1} + \\theta_{2} \\right)} & 0 & - \\sin{\\left(\\theta_{1} + \\theta_{2} \\right)} & l_{1} \\cos{\\left(\\theta_{1} \\right)} + l_{2} \\cos{\\left(\\theta_{1} + \\theta_{2} \\right)}\\\\\\sin{\\left(\\theta_{1} + \\theta_{2} \\right)} & 0 & \\cos{\\left(\\theta_{1} + \\theta_{2} \\right)} & l_{1} \\sin{\\left(\\theta_{1} \\right)} + l_{2} \\sin{\\left(\\theta_{1} + \\theta_{2} \\right)}\\\\0 & -1 & 0 & 0\\\\0 & 0 & 0 & 1\\end{matrix}\\right]$"
      ],
      "text/plain": [
       "Matrix([\n",
       "[cos(theta1 + theta2),  0, -sin(theta1 + theta2), l1*cos(theta1) + l2*cos(theta1 + theta2)],\n",
       "[sin(theta1 + theta2),  0,  cos(theta1 + theta2), l1*sin(theta1) + l2*sin(theta1 + theta2)],\n",
       "[                   0, -1,                     0,                                        0],\n",
       "[                   0,  0,                     0,                                        1]])"
      ]
     },
     "execution_count": 40,
     "metadata": {},
     "output_type": "execute_result"
    }
   ],
   "source": [
    "A.simplify()\n",
    "A"
   ]
  },
  {
   "cell_type": "markdown",
   "id": "772024ed-3b97-45f8-991a-3c6d62a5edd3",
   "metadata": {},
   "source": [
    "## 2.50"
   ]
  },
  {
   "cell_type": "code",
   "execution_count": 41,
   "id": "514d5659-fd3e-4a21-925c-5ecb2156a26c",
   "metadata": {},
   "outputs": [
    {
     "data": {
      "application/vnd.jupyter.widget-view+json": {
       "model_id": "7e9416547fa0484987a52f74968fca71",
       "version_major": 2,
       "version_minor": 0
      },
      "text/plain": [
       "VBox(children=(HBox(children=(ToggleButton(value=True, description='Исклучи цртање'), Button(description='Пром…"
      ]
     },
     "metadata": {},
     "output_type": "display_data"
    }
   ],
   "source": [
    "theta1, theta2, theta3, l1, l2, l3 = sp.symbols('theta1, theta2, theta3, l1, l2, l3')\n",
    "robot = rt.SerialLinkRobot()\n",
    "robot.add_revolute_joint(theta1,0,l1,0)\n",
    "robot.add_revolute_joint(theta2,0,l2,0)\n",
    "robot.add_revolute_joint(theta3,0,l3,0)\n",
    "robot.add_subs([(l1, 1), (l2, 1), (l3, 1)])\n",
    "robot.interact()"
   ]
  },
  {
   "cell_type": "code",
   "execution_count": 42,
   "id": "ca6ec402-39e7-4e0e-b291-3c2b1d3907bb",
   "metadata": {},
   "outputs": [
    {
     "data": {
      "text/latex": [
       "$\\displaystyle \\left[\\begin{matrix}\\cos{\\left(\\theta_{1} + \\theta_{2} + \\theta_{3} \\right)} & - \\sin{\\left(\\theta_{1} + \\theta_{2} + \\theta_{3} \\right)} & 0 & l_{1} \\cos{\\left(\\theta_{1} \\right)} + l_{2} \\cos{\\left(\\theta_{1} + \\theta_{2} \\right)} + l_{3} \\cos{\\left(\\theta_{1} + \\theta_{2} + \\theta_{3} \\right)}\\\\\\sin{\\left(\\theta_{1} + \\theta_{2} + \\theta_{3} \\right)} & \\cos{\\left(\\theta_{1} + \\theta_{2} + \\theta_{3} \\right)} & 0 & l_{1} \\sin{\\left(\\theta_{1} \\right)} + l_{2} \\sin{\\left(\\theta_{1} + \\theta_{2} \\right)} + l_{3} \\sin{\\left(\\theta_{1} + \\theta_{2} + \\theta_{3} \\right)}\\\\0 & 0 & 1 & 0\\\\0 & 0 & 0 & 1\\end{matrix}\\right]$"
      ],
      "text/plain": [
       "Matrix([\n",
       "[cos(theta1 + theta2 + theta3), -sin(theta1 + theta2 + theta3), 0, l1*cos(theta1) + l2*cos(theta1 + theta2) + l3*cos(theta1 + theta2 + theta3)],\n",
       "[sin(theta1 + theta2 + theta3),  cos(theta1 + theta2 + theta3), 0, l1*sin(theta1) + l2*sin(theta1 + theta2) + l3*sin(theta1 + theta2 + theta3)],\n",
       "[                            0,                              0, 1,                                                                           0],\n",
       "[                            0,                              0, 0,                                                                           1]])"
      ]
     },
     "execution_count": 42,
     "metadata": {},
     "output_type": "execute_result"
    }
   ],
   "source": [
    "A=robot.get_dh_joint_to_joint(0,3)\n",
    "A"
   ]
  },
  {
   "cell_type": "markdown",
   "id": "c394977b-bed5-4899-8f2d-a12d65e04161",
   "metadata": {},
   "source": [
    "## 2.51"
   ]
  },
  {
   "cell_type": "code",
   "execution_count": 42,
   "id": "ae9362b3-9dbd-447e-9c77-5780b855eaad",
   "metadata": {},
   "outputs": [
    {
     "data": {
      "application/vnd.jupyter.widget-view+json": {
       "model_id": "8f70681f89d34f09b6b7161dd42bc01a",
       "version_major": 2,
       "version_minor": 0
      },
      "text/plain": [
       "VBox(children=(HBox(children=(ToggleButton(value=True, description='Исклучи цртање'), Button(description='Пром…"
      ]
     },
     "metadata": {},
     "output_type": "display_data"
    }
   ],
   "source": [
    "theta1, theta2, theta3, l1, l2, l3, d1 = sp.symbols('theta1, theta2, theta3, l1, l2, l3, d1')\n",
    "robot = rt.SerialLinkRobot()\n",
    "robot.add_revolute_joint(theta1,d1,0,-sp.pi/2)\n",
    "robot.add_revolute_joint(theta2,l2,0,0)\n",
    "robot.add_revolute_joint(theta3,l3,0,0)\n",
    "robot.add_subs([(d1, 1), (l2, 1), (l3, 1)])\n",
    "robot.interact()"
   ]
  },
  {
   "cell_type": "code",
   "execution_count": 45,
   "id": "e450902f-e88d-4c67-9757-73a9c918ce89",
   "metadata": {},
   "outputs": [
    {
     "data": {
      "text/latex": [
       "$\\displaystyle \\left[\\begin{matrix}\\cos{\\left(\\theta_{1} + \\theta_{2} + \\theta_{3} \\right)} & - \\sin{\\left(\\theta_{1} + \\theta_{2} + \\theta_{3} \\right)} & 0 & l_{2} \\cos{\\left(\\theta_{1} + \\theta_{2} \\right)} + l_{3} \\cos{\\left(\\theta_{1} + \\theta_{2} + \\theta_{3} \\right)}\\\\\\sin{\\left(\\theta_{1} + \\theta_{2} + \\theta_{3} \\right)} & \\cos{\\left(\\theta_{1} + \\theta_{2} + \\theta_{3} \\right)} & 0 & l_{2} \\sin{\\left(\\theta_{1} + \\theta_{2} \\right)} + l_{3} \\sin{\\left(\\theta_{1} + \\theta_{2} + \\theta_{3} \\right)}\\\\0 & 0 & 1 & d_{1}\\\\0 & 0 & 0 & 1\\end{matrix}\\right]$"
      ],
      "text/plain": [
       "Matrix([\n",
       "[cos(theta1 + theta2 + theta3), -sin(theta1 + theta2 + theta3), 0, l2*cos(theta1 + theta2) + l3*cos(theta1 + theta2 + theta3)],\n",
       "[sin(theta1 + theta2 + theta3),  cos(theta1 + theta2 + theta3), 0, l2*sin(theta1 + theta2) + l3*sin(theta1 + theta2 + theta3)],\n",
       "[                            0,                              0, 1,                                                         d1],\n",
       "[                            0,                              0, 0,                                                          1]])"
      ]
     },
     "execution_count": 45,
     "metadata": {},
     "output_type": "execute_result"
    }
   ],
   "source": [
    "A=robot.get_dh_joint_to_joint(0,3)\n",
    "A"
   ]
  },
  {
   "cell_type": "markdown",
   "id": "77f6b58f-c9bb-4da8-ba58-6075c0a23dc4",
   "metadata": {},
   "source": [
    "## 2.52"
   ]
  },
  {
   "cell_type": "code",
   "execution_count": 43,
   "id": "4ca343c5-1203-4ed5-bb21-7c4ba4827a5f",
   "metadata": {},
   "outputs": [
    {
     "data": {
      "application/vnd.jupyter.widget-view+json": {
       "model_id": "9acc36270038410183e95309baa6116a",
       "version_major": 2,
       "version_minor": 0
      },
      "text/plain": [
       "VBox(children=(HBox(children=(ToggleButton(value=True, description='Исклучи цртање'), Button(description='Пром…"
      ]
     },
     "metadata": {},
     "output_type": "display_data"
    }
   ],
   "source": [
    "theta1, theta2, theta3, l1, l2, l3, d1 = sp.symbols('theta1, theta2, theta3, l1, l2, l3, d1')\n",
    "robot = rt.SerialLinkRobot()\n",
    "robot.add_revolute_joint(theta1,0,0,0)\n",
    "robot.add_prismatic_joint(0,l2,0,-sp.pi/2)\n",
    "robot.add_revolute_joint(theta3,0,l3,0)\n",
    "robot.add_subs([(l3, 1)])\n",
    "robot.interact()"
   ]
  },
  {
   "cell_type": "markdown",
   "id": "6a765226-55c9-470a-a6ce-7bf8261faa23",
   "metadata": {},
   "source": [
    "## 2.53"
   ]
  },
  {
   "cell_type": "code",
   "execution_count": 2,
   "id": "dcfde360-a6c1-433f-8187-34b9886d16ff",
   "metadata": {},
   "outputs": [
    {
     "data": {
      "application/vnd.jupyter.widget-view+json": {
       "model_id": "a5ffb3d83db74e67bb228dd861bb02e5",
       "version_major": 2,
       "version_minor": 0
      },
      "text/plain": [
       "VBox(children=(HBox(children=(ToggleButton(value=True, description='Исклучи цртање'), Button(description='Пром…"
      ]
     },
     "metadata": {},
     "output_type": "display_data"
    }
   ],
   "source": [
    "theta1,d1,d2,l1,l2=sp.symbols('theta1,d1,d2,l1,l2')\n",
    "robot = rt.SerialLinkRobot()\n",
    "robot.add_revolute_joint(theta1,l1,0,0)\n",
    "robot.add_prismatic_joint(sp.pi/2,d1,0,sp.pi/2)\n",
    "robot.add_prismatic_joint(0,d2,0,0)\n",
    "robot.add_subs([(l1, 1)])\n",
    "robot.interact()"
   ]
  },
  {
   "cell_type": "code",
   "execution_count": 3,
   "id": "409ace5d-46b5-4e52-bfd0-0674b15e79b5",
   "metadata": {},
   "outputs": [
    {
     "data": {
      "text/latex": [
       "$\\displaystyle \\left[\\begin{matrix}- \\sin{\\left(\\theta_{1} \\right)} & 0 & \\cos{\\left(\\theta_{1} \\right)} & d_{2} \\cos{\\left(\\theta_{1} \\right)}\\\\\\cos{\\left(\\theta_{1} \\right)} & 0 & \\sin{\\left(\\theta_{1} \\right)} & d_{2} \\sin{\\left(\\theta_{1} \\right)}\\\\0 & 1 & 0 & d_{1} + l_{1}\\\\0 & 0 & 0 & 1\\end{matrix}\\right]$"
      ],
      "text/plain": [
       "Matrix([\n",
       "[-sin(theta1), 0, cos(theta1), d2*cos(theta1)],\n",
       "[ cos(theta1), 0, sin(theta1), d2*sin(theta1)],\n",
       "[           0, 1,           0,        d1 + l1],\n",
       "[           0, 0,           0,              1]])"
      ]
     },
     "execution_count": 3,
     "metadata": {},
     "output_type": "execute_result"
    }
   ],
   "source": [
    "A = robot.get_dh_joint_to_joint(0, 3)\n",
    "A"
   ]
  },
  {
   "cell_type": "markdown",
   "id": "f99cae19-c9f5-4d24-bc46-0ebc46311da6",
   "metadata": {},
   "source": [
    "## 2.54"
   ]
  },
  {
   "cell_type": "code",
   "execution_count": null,
   "id": "f65ba509-9b2f-40fa-a28c-df7ab7b9cd7a",
   "metadata": {},
   "outputs": [],
   "source": [
    "theta1, theta2, theta3, l1, l2, l3 = sp.symbols('theta1, theta2, theta3, l1, l2, l3')\n",
    "robot = rt.SerialLinkRobot()\n",
    "robot.add_revolute_joint(theta1,0,0,)\n",
    "\n",
    "robot.interact()"
   ]
  },
  {
   "cell_type": "markdown",
   "id": "5bef664e-6e8b-4f4a-ab55-e285b8d0663e",
   "metadata": {},
   "source": [
    "## 2.55"
   ]
  },
  {
   "cell_type": "code",
   "execution_count": 13,
   "id": "cde85855-e8ba-43fd-a2ce-d4e02425a40c",
   "metadata": {},
   "outputs": [
    {
     "data": {
      "application/vnd.jupyter.widget-view+json": {
       "model_id": "ef05d298c61448f096c13b60341a2410",
       "version_major": 2,
       "version_minor": 0
      },
      "text/plain": [
       "VBox(children=(HBox(children=(ToggleButton(value=True, description='Исклучи цртање'), Button(description='Пром…"
      ]
     },
     "metadata": {},
     "output_type": "display_data"
    }
   ],
   "source": [
    "theta1, theta2, theta3, l1, l2, l3 = sp.symbols('theta1, theta2, theta3, l1, l2, l3')\n",
    "robot = rt.SerialLinkRobot()\n",
    "robot.add_revolute_joint(theta1,l1,0,-sp.pi/2)\n",
    "robot.add_revolute_joint(theta2,l2,0,sp.pi/2)\n",
    "robot.add_prismatic_joint(0,l3,0,0)\n",
    "robot.add_subs([(l2,1),(l1,1)])\n",
    "robot.interact()"
   ]
  },
  {
   "cell_type": "code",
   "execution_count": 14,
   "id": "5a3a41ec-da0d-48ef-af28-f0fd0c311549",
   "metadata": {},
   "outputs": [
    {
     "data": {
      "text/latex": [
       "$\\displaystyle \\left[\\begin{matrix}\\cos{\\left(\\theta_{1} \\right)} \\cos{\\left(\\theta_{2} \\right)} & - \\sin{\\left(\\theta_{1} \\right)} & \\sin{\\left(\\theta_{2} \\right)} \\cos{\\left(\\theta_{1} \\right)} & - l_{2} \\sin{\\left(\\theta_{1} \\right)} + l_{3} \\sin{\\left(\\theta_{2} \\right)} \\cos{\\left(\\theta_{1} \\right)}\\\\\\sin{\\left(\\theta_{1} \\right)} \\cos{\\left(\\theta_{2} \\right)} & \\cos{\\left(\\theta_{1} \\right)} & \\sin{\\left(\\theta_{1} \\right)} \\sin{\\left(\\theta_{2} \\right)} & l_{2} \\cos{\\left(\\theta_{1} \\right)} + l_{3} \\sin{\\left(\\theta_{1} \\right)} \\sin{\\left(\\theta_{2} \\right)}\\\\- \\sin{\\left(\\theta_{2} \\right)} & 0 & \\cos{\\left(\\theta_{2} \\right)} & l_{1} + l_{3} \\cos{\\left(\\theta_{2} \\right)}\\\\0 & 0 & 0 & 1\\end{matrix}\\right]$"
      ],
      "text/plain": [
       "Matrix([\n",
       "[cos(theta1)*cos(theta2), -sin(theta1), sin(theta2)*cos(theta1), -l2*sin(theta1) + l3*sin(theta2)*cos(theta1)],\n",
       "[sin(theta1)*cos(theta2),  cos(theta1), sin(theta1)*sin(theta2),  l2*cos(theta1) + l3*sin(theta1)*sin(theta2)],\n",
       "[           -sin(theta2),            0,             cos(theta2),                          l1 + l3*cos(theta2)],\n",
       "[                      0,            0,                       0,                                            1]])"
      ]
     },
     "execution_count": 14,
     "metadata": {},
     "output_type": "execute_result"
    }
   ],
   "source": [
    "A = robot.get_dh_joint_to_joint(0, 3)\n",
    "A"
   ]
  },
  {
   "cell_type": "markdown",
   "id": "9d1154b9-28ce-4ab3-afca-6a7bb40296e3",
   "metadata": {},
   "source": [
    "## 2.56"
   ]
  },
  {
   "cell_type": "code",
   "execution_count": 7,
   "id": "819d65cc-686d-401c-849d-e1a8e4089374",
   "metadata": {},
   "outputs": [
    {
     "data": {
      "application/vnd.jupyter.widget-view+json": {
       "model_id": "5d2979d507634a22b6707d8f0c50da5a",
       "version_major": 2,
       "version_minor": 0
      },
      "text/plain": [
       "VBox(children=(HBox(children=(ToggleButton(value=True, description='Исклучи цртање'), Button(description='Пром…"
      ]
     },
     "metadata": {},
     "output_type": "display_data"
    }
   ],
   "source": [
    "theta1, theta2, theta4, l1, l2, l3 = sp.symbols('theta1, theta2, theta4, l1, l2, l3')\n",
    "robot = rt.SerialLinkRobot()\n",
    "robot.add_revolute_joint(theta1,0,l1,0) \n",
    "robot.add_revolute_joint(theta2,0,l2,sp.pi)\n",
    "robot.add_prismatic_joint(0,l3,0,0)\n",
    "robot.add_revolute_joint(theta4,0,0,0)\n",
    "robot.add_subs([(l2,1),(l1,1)])\n",
    "robot.interact()"
   ]
  },
  {
   "cell_type": "code",
   "execution_count": 18,
   "id": "cd46f80a-e3cd-4cef-ba62-8858f001d452",
   "metadata": {},
   "outputs": [
    {
     "data": {
      "text/latex": [
       "$\\displaystyle \\left[\\begin{matrix}\\cos{\\left(\\theta_{1} \\right)} & - \\sin{\\left(\\theta_{1} \\right)} & 0 & l_{1} \\cos{\\left(\\theta_{1} \\right)}\\\\\\sin{\\left(\\theta_{1} \\right)} & \\cos{\\left(\\theta_{1} \\right)} & 0 & l_{1} \\sin{\\left(\\theta_{1} \\right)}\\\\0 & 0 & 1 & 0\\\\0 & 0 & 0 & 1\\end{matrix}\\right]$"
      ],
      "text/plain": [
       "Matrix([\n",
       "[cos(theta1), -sin(theta1), 0, l1*cos(theta1)],\n",
       "[sin(theta1),  cos(theta1), 0, l1*sin(theta1)],\n",
       "[          0,            0, 1,              0],\n",
       "[          0,            0, 0,              1]])"
      ]
     },
     "execution_count": 18,
     "metadata": {},
     "output_type": "execute_result"
    }
   ],
   "source": [
    "A1 = robot.get_dh_joint_to_joint(0, 1)\n",
    "A1"
   ]
  },
  {
   "cell_type": "code",
   "execution_count": 19,
   "id": "59c0df63-cf1a-4fc0-b541-691795643a24",
   "metadata": {},
   "outputs": [
    {
     "data": {
      "text/latex": [
       "$\\displaystyle \\left[\\begin{matrix}\\cos{\\left(\\theta_{2} \\right)} & \\sin{\\left(\\theta_{2} \\right)} & 0 & l_{2} \\cos{\\left(\\theta_{2} \\right)}\\\\\\sin{\\left(\\theta_{2} \\right)} & - \\cos{\\left(\\theta_{2} \\right)} & 0 & l_{2} \\sin{\\left(\\theta_{2} \\right)}\\\\0 & 0 & -1 & 0\\\\0 & 0 & 0 & 1\\end{matrix}\\right]$"
      ],
      "text/plain": [
       "Matrix([\n",
       "[cos(theta2),  sin(theta2),  0, l2*cos(theta2)],\n",
       "[sin(theta2), -cos(theta2),  0, l2*sin(theta2)],\n",
       "[          0,            0, -1,              0],\n",
       "[          0,            0,  0,              1]])"
      ]
     },
     "execution_count": 19,
     "metadata": {},
     "output_type": "execute_result"
    }
   ],
   "source": [
    "A2 = robot.get_dh_joint_to_joint(1, 2)\n",
    "A2"
   ]
  },
  {
   "cell_type": "code",
   "execution_count": 20,
   "id": "ec211f52-70ec-4c8a-b8a6-3984d8db1125",
   "metadata": {},
   "outputs": [
    {
     "data": {
      "text/latex": [
       "$\\displaystyle \\left[\\begin{matrix}1 & 0 & 0 & 0\\\\0 & 1 & 0 & 0\\\\0 & 0 & 1 & l_{3}\\\\0 & 0 & 0 & 1\\end{matrix}\\right]$"
      ],
      "text/plain": [
       "Matrix([\n",
       "[1, 0, 0,  0],\n",
       "[0, 1, 0,  0],\n",
       "[0, 0, 1, l3],\n",
       "[0, 0, 0,  1]])"
      ]
     },
     "execution_count": 20,
     "metadata": {},
     "output_type": "execute_result"
    }
   ],
   "source": [
    "A3 = robot.get_dh_joint_to_joint(2, 3)\n",
    "A3"
   ]
  },
  {
   "cell_type": "code",
   "execution_count": 25,
   "id": "6fd203d0-24a6-485a-80cd-b369121f5b23",
   "metadata": {},
   "outputs": [
    {
     "data": {
      "text/latex": [
       "$\\displaystyle \\left[\\begin{matrix}\\cos{\\left(\\theta_{4} \\right)} & - \\sin{\\left(\\theta_{4} \\right)} & 0 & 0\\\\\\sin{\\left(\\theta_{4} \\right)} & \\cos{\\left(\\theta_{4} \\right)} & 0 & 0\\\\0 & 0 & 1 & 0\\\\0 & 0 & 0 & 1\\end{matrix}\\right]$"
      ],
      "text/plain": [
       "Matrix([\n",
       "[cos(theta4), -sin(theta4), 0, 0],\n",
       "[sin(theta4),  cos(theta4), 0, 0],\n",
       "[          0,            0, 1, 0],\n",
       "[          0,            0, 0, 1]])"
      ]
     },
     "execution_count": 25,
     "metadata": {},
     "output_type": "execute_result"
    }
   ],
   "source": [
    "A4 = robot.get_dh_joint_to_joint(3, 4)\n",
    "A4"
   ]
  },
  {
   "cell_type": "code",
   "execution_count": 27,
   "id": "e8c968b7-22bf-4a17-8b85-19bf59bec7d8",
   "metadata": {},
   "outputs": [
    {
     "data": {
      "text/latex": [
       "$\\displaystyle \\left[\\begin{matrix}\\cos{\\left(\\theta_{1} + \\theta_{2} - \\theta_{4} \\right)} & \\sin{\\left(\\theta_{1} + \\theta_{2} - \\theta_{4} \\right)} & 0 & l_{1} \\cos{\\left(\\theta_{1} \\right)} + l_{2} \\cos{\\left(\\theta_{1} + \\theta_{2} \\right)}\\\\\\sin{\\left(\\theta_{1} + \\theta_{2} - \\theta_{4} \\right)} & - \\cos{\\left(\\theta_{1} + \\theta_{2} - \\theta_{4} \\right)} & 0 & l_{1} \\sin{\\left(\\theta_{1} \\right)} + l_{2} \\sin{\\left(\\theta_{1} + \\theta_{2} \\right)}\\\\0 & 0 & -1 & - l_{3}\\\\0 & 0 & 0 & 1\\end{matrix}\\right]$"
      ],
      "text/plain": [
       "Matrix([\n",
       "[cos(theta1 + theta2 - theta4),  sin(theta1 + theta2 - theta4),  0, l1*cos(theta1) + l2*cos(theta1 + theta2)],\n",
       "[sin(theta1 + theta2 - theta4), -cos(theta1 + theta2 - theta4),  0, l1*sin(theta1) + l2*sin(theta1 + theta2)],\n",
       "[                            0,                              0, -1,                                      -l3],\n",
       "[                            0,                              0,  0,                                        1]])"
      ]
     },
     "execution_count": 27,
     "metadata": {},
     "output_type": "execute_result"
    }
   ],
   "source": [
    "T=A1*A2*A3*A4\n",
    "T.simplify()\n",
    "T"
   ]
  },
  {
   "cell_type": "markdown",
   "id": "9a4d798b-695b-4f91-b3e0-47143a56cf1f",
   "metadata": {},
   "source": [
    "## 2.57"
   ]
  },
  {
   "cell_type": "code",
   "execution_count": 30,
   "id": "4e033078-9edc-4ca2-b3c8-0020b88d163d",
   "metadata": {},
   "outputs": [
    {
     "data": {
      "application/vnd.jupyter.widget-view+json": {
       "model_id": "0c34f6bf2c4b456a89d92c0ed0f8e9ac",
       "version_major": 2,
       "version_minor": 0
      },
      "text/plain": [
       "VBox(children=(HBox(children=(ToggleButton(value=True, description='Исклучи цртање'), Button(description='Пром…"
      ]
     },
     "metadata": {},
     "output_type": "display_data"
    }
   ],
   "source": [
    "theta1, theta2, theta4, l1, l2, l3 = sp.symbols('theta1, theta2, theta4, l1, l2, l3')\n",
    "robot = rt.SerialLinkRobot()\n",
    "robot.add_revolute_joint(theta1,l1,0,sp.pi/2) \n",
    "robot.add_revolute_joint(theta2,0,l2,sp.pi/2)\n",
    "robot.add_prismatic_joint(0,l3,0,0)\n",
    "robot.add_subs([(l2,1),(l1,1)])\n",
    "robot.interact()"
   ]
  },
  {
   "cell_type": "code",
   "execution_count": 31,
   "id": "7676fcc8-455c-44df-b95b-302d887e5c5a",
   "metadata": {},
   "outputs": [
    {
     "data": {
      "text/latex": [
       "$\\displaystyle \\left[\\begin{matrix}\\cos{\\left(\\theta_{1} \\right)} & 0 & \\sin{\\left(\\theta_{1} \\right)} & 0\\\\\\sin{\\left(\\theta_{1} \\right)} & 0 & - \\cos{\\left(\\theta_{1} \\right)} & 0\\\\0 & 1 & 0 & l_{1}\\\\0 & 0 & 0 & 1\\end{matrix}\\right]$"
      ],
      "text/plain": [
       "Matrix([\n",
       "[cos(theta1), 0,  sin(theta1),  0],\n",
       "[sin(theta1), 0, -cos(theta1),  0],\n",
       "[          0, 1,            0, l1],\n",
       "[          0, 0,            0,  1]])"
      ]
     },
     "execution_count": 31,
     "metadata": {},
     "output_type": "execute_result"
    }
   ],
   "source": [
    "A1 = robot.get_dh_joint_to_joint(0, 1)\n",
    "A1"
   ]
  },
  {
   "cell_type": "code",
   "execution_count": 32,
   "id": "b41b2666-f5bd-4b4c-8570-bf27aee7f206",
   "metadata": {},
   "outputs": [
    {
     "data": {
      "text/latex": [
       "$\\displaystyle \\left[\\begin{matrix}\\cos{\\left(\\theta_{2} \\right)} & 0 & \\sin{\\left(\\theta_{2} \\right)} & l_{2} \\cos{\\left(\\theta_{2} \\right)}\\\\\\sin{\\left(\\theta_{2} \\right)} & 0 & - \\cos{\\left(\\theta_{2} \\right)} & l_{2} \\sin{\\left(\\theta_{2} \\right)}\\\\0 & 1 & 0 & 0\\\\0 & 0 & 0 & 1\\end{matrix}\\right]$"
      ],
      "text/plain": [
       "Matrix([\n",
       "[cos(theta2), 0,  sin(theta2), l2*cos(theta2)],\n",
       "[sin(theta2), 0, -cos(theta2), l2*sin(theta2)],\n",
       "[          0, 1,            0,              0],\n",
       "[          0, 0,            0,              1]])"
      ]
     },
     "execution_count": 32,
     "metadata": {},
     "output_type": "execute_result"
    }
   ],
   "source": [
    "A2 = robot.get_dh_joint_to_joint(1, 2)\n",
    "A2"
   ]
  },
  {
   "cell_type": "code",
   "execution_count": 33,
   "id": "97bc4934-af66-4500-ba90-0acddaa4d578",
   "metadata": {},
   "outputs": [
    {
     "data": {
      "text/latex": [
       "$\\displaystyle \\left[\\begin{matrix}1 & 0 & 0 & 0\\\\0 & 1 & 0 & 0\\\\0 & 0 & 1 & l_{3}\\\\0 & 0 & 0 & 1\\end{matrix}\\right]$"
      ],
      "text/plain": [
       "Matrix([\n",
       "[1, 0, 0,  0],\n",
       "[0, 1, 0,  0],\n",
       "[0, 0, 1, l3],\n",
       "[0, 0, 0,  1]])"
      ]
     },
     "execution_count": 33,
     "metadata": {},
     "output_type": "execute_result"
    }
   ],
   "source": [
    "A3 = robot.get_dh_joint_to_joint(2, 3)\n",
    "A3"
   ]
  },
  {
   "cell_type": "code",
   "execution_count": 34,
   "id": "38c708ba-89d6-4de2-b0b1-6c4d47153740",
   "metadata": {},
   "outputs": [
    {
     "data": {
      "text/latex": [
       "$\\displaystyle \\left[\\begin{matrix}\\cos{\\left(\\theta_{1} \\right)} \\cos{\\left(\\theta_{2} \\right)} & \\sin{\\left(\\theta_{1} \\right)} & \\sin{\\left(\\theta_{2} \\right)} \\cos{\\left(\\theta_{1} \\right)} & \\left(l_{2} \\cos{\\left(\\theta_{2} \\right)} + l_{3} \\sin{\\left(\\theta_{2} \\right)}\\right) \\cos{\\left(\\theta_{1} \\right)}\\\\\\sin{\\left(\\theta_{1} \\right)} \\cos{\\left(\\theta_{2} \\right)} & - \\cos{\\left(\\theta_{1} \\right)} & \\sin{\\left(\\theta_{1} \\right)} \\sin{\\left(\\theta_{2} \\right)} & \\left(l_{2} \\cos{\\left(\\theta_{2} \\right)} + l_{3} \\sin{\\left(\\theta_{2} \\right)}\\right) \\sin{\\left(\\theta_{1} \\right)}\\\\\\sin{\\left(\\theta_{2} \\right)} & 0 & - \\cos{\\left(\\theta_{2} \\right)} & l_{1} + l_{2} \\sin{\\left(\\theta_{2} \\right)} - l_{3} \\cos{\\left(\\theta_{2} \\right)}\\\\0 & 0 & 0 & 1\\end{matrix}\\right]$"
      ],
      "text/plain": [
       "Matrix([\n",
       "[cos(theta1)*cos(theta2),  sin(theta1), sin(theta2)*cos(theta1), (l2*cos(theta2) + l3*sin(theta2))*cos(theta1)],\n",
       "[sin(theta1)*cos(theta2), -cos(theta1), sin(theta1)*sin(theta2), (l2*cos(theta2) + l3*sin(theta2))*sin(theta1)],\n",
       "[            sin(theta2),            0,            -cos(theta2),          l1 + l2*sin(theta2) - l3*cos(theta2)],\n",
       "[                      0,            0,                       0,                                             1]])"
      ]
     },
     "execution_count": 34,
     "metadata": {},
     "output_type": "execute_result"
    }
   ],
   "source": [
    "T=A1*A2*A3\n",
    "T.simplify()\n",
    "T"
   ]
  },
  {
   "cell_type": "markdown",
   "id": "26b6ab7a-9971-4252-a1ec-d03b37dabef3",
   "metadata": {},
   "source": [
    "# 2.58"
   ]
  },
  {
   "cell_type": "code",
   "execution_count": 9,
   "id": "7e8be6e9-836c-4b4c-ab91-45a9bda3852a",
   "metadata": {},
   "outputs": [],
   "source": [
    "theta1, theta2, d1, d2, l3, l2=sp.symbols('theta1, theta2, d1, d2, l3, l2')"
   ]
  },
  {
   "cell_type": "code",
   "execution_count": 10,
   "id": "78832191-aab4-433f-831c-ba410f4b8d69",
   "metadata": {},
   "outputs": [
    {
     "data": {
      "application/vnd.jupyter.widget-view+json": {
       "model_id": "2fb9b48be85c4bae904347e7c3f5f901",
       "version_major": 2,
       "version_minor": 0
      },
      "text/plain": [
       "VBox(children=(HBox(children=(ToggleButton(value=True, description='Исклучи цртање'), Button(description='Пром…"
      ]
     },
     "metadata": {},
     "output_type": "display_data"
    }
   ],
   "source": [
    "robot = rt.SerialLinkRobot()\n",
    "robot.add_prismatic_joint(0,d1,0,0)\n",
    "robot.add_revolute_joint(theta1,0,l2,0)\n",
    "robot.add_revolute_joint(theta2,0,l3,sp.pi)\n",
    "robot.add_prismatic_joint(0,d2,0,0)\n",
    "robot.add_subs([(l2,1),(l3,1)])\n",
    "robot.interact()"
   ]
  },
  {
   "cell_type": "markdown",
   "id": "45c350bd-6442-4f17-afdd-4a3623c1926e",
   "metadata": {},
   "source": [
    "## 2.59"
   ]
  },
  {
   "cell_type": "code",
   "execution_count": 14,
   "id": "c4f1df8b-579f-4b3c-87ff-e008c5552587",
   "metadata": {},
   "outputs": [
    {
     "data": {
      "application/vnd.jupyter.widget-view+json": {
       "model_id": "2f2cbc8f25cd47fa9402be24df47259b",
       "version_major": 2,
       "version_minor": 0
      },
      "text/plain": [
       "VBox(children=(HBox(children=(ToggleButton(value=True, description='Исклучи цртање'), Button(description='Пром…"
      ]
     },
     "metadata": {},
     "output_type": "display_data"
    }
   ],
   "source": [
    "theta1, theta2, theta3, theta4, l1,l2,l3,l4,d1,d2 = sp.symbols('theta1, theta2, theta3, theta4, l1,l2,l3,l4,d1,d2')\n",
    "robot = rt.SerialLinkRobot()\n",
    "robot.add_revolute_joint(theta1,l1,0,0)\n",
    "robot.add_prismatic_joint(0,d1,0,-sp.pi/2)\n",
    "robot.add_prismatic_joint(0,d2,0,0)\n",
    "robot.add_revolute_joint(theta2,l2,0,sp.pi/2)\n",
    "robot.add_revolute_joint(theta3,l3,0,-sp.pi/2)\n",
    "robot.add_revolute_joint(theta4,l4,0,0)\n",
    "robot.add_subs([(l2,1),(l3,1),(l1,1),(l4,1)])\n",
    "robot.interact()"
   ]
  },
  {
   "cell_type": "code",
   "execution_count": 15,
   "id": "859ce3d4-cd75-4c28-ad42-27dc8078e77d",
   "metadata": {},
   "outputs": [
    {
     "data": {
      "text/latex": [
       "$\\displaystyle \\left[\\begin{matrix}- \\left(\\sin{\\left(\\theta_{1} \\right)} \\sin{\\left(\\theta_{3} \\right)} - \\cos{\\left(\\theta_{1} \\right)} \\cos{\\left(\\theta_{2} \\right)} \\cos{\\left(\\theta_{3} \\right)}\\right) \\cos{\\left(\\theta_{4} \\right)} - \\sin{\\left(\\theta_{2} \\right)} \\sin{\\left(\\theta_{4} \\right)} \\cos{\\left(\\theta_{1} \\right)} & \\left(\\sin{\\left(\\theta_{1} \\right)} \\sin{\\left(\\theta_{3} \\right)} - \\cos{\\left(\\theta_{1} \\right)} \\cos{\\left(\\theta_{2} \\right)} \\cos{\\left(\\theta_{3} \\right)}\\right) \\sin{\\left(\\theta_{4} \\right)} - \\sin{\\left(\\theta_{2} \\right)} \\cos{\\left(\\theta_{1} \\right)} \\cos{\\left(\\theta_{4} \\right)} & - \\sin{\\left(\\theta_{1} \\right)} \\cos{\\left(\\theta_{3} \\right)} - \\sin{\\left(\\theta_{3} \\right)} \\cos{\\left(\\theta_{1} \\right)} \\cos{\\left(\\theta_{2} \\right)} & - d_{2} \\sin{\\left(\\theta_{1} \\right)} - l_{2} \\sin{\\left(\\theta_{1} \\right)} + l_{3} \\sin{\\left(\\theta_{2} \\right)} \\cos{\\left(\\theta_{1} \\right)} - l_{4} \\left(\\sin{\\left(\\theta_{1} \\right)} \\cos{\\left(\\theta_{3} \\right)} + \\sin{\\left(\\theta_{3} \\right)} \\cos{\\left(\\theta_{1} \\right)} \\cos{\\left(\\theta_{2} \\right)}\\right)\\\\\\left(\\sin{\\left(\\theta_{1} \\right)} \\cos{\\left(\\theta_{2} \\right)} \\cos{\\left(\\theta_{3} \\right)} + \\sin{\\left(\\theta_{3} \\right)} \\cos{\\left(\\theta_{1} \\right)}\\right) \\cos{\\left(\\theta_{4} \\right)} - \\sin{\\left(\\theta_{1} \\right)} \\sin{\\left(\\theta_{2} \\right)} \\sin{\\left(\\theta_{4} \\right)} & - \\left(\\sin{\\left(\\theta_{1} \\right)} \\cos{\\left(\\theta_{2} \\right)} \\cos{\\left(\\theta_{3} \\right)} + \\sin{\\left(\\theta_{3} \\right)} \\cos{\\left(\\theta_{1} \\right)}\\right) \\sin{\\left(\\theta_{4} \\right)} - \\sin{\\left(\\theta_{1} \\right)} \\sin{\\left(\\theta_{2} \\right)} \\cos{\\left(\\theta_{4} \\right)} & - \\sin{\\left(\\theta_{1} \\right)} \\sin{\\left(\\theta_{3} \\right)} \\cos{\\left(\\theta_{2} \\right)} + \\cos{\\left(\\theta_{1} \\right)} \\cos{\\left(\\theta_{3} \\right)} & d_{2} \\cos{\\left(\\theta_{1} \\right)} + l_{2} \\cos{\\left(\\theta_{1} \\right)} + l_{3} \\sin{\\left(\\theta_{1} \\right)} \\sin{\\left(\\theta_{2} \\right)} - l_{4} \\left(\\sin{\\left(\\theta_{1} \\right)} \\sin{\\left(\\theta_{3} \\right)} \\cos{\\left(\\theta_{2} \\right)} - \\cos{\\left(\\theta_{1} \\right)} \\cos{\\left(\\theta_{3} \\right)}\\right)\\\\- \\sin{\\left(\\theta_{2} \\right)} \\cos{\\left(\\theta_{3} \\right)} \\cos{\\left(\\theta_{4} \\right)} - \\sin{\\left(\\theta_{4} \\right)} \\cos{\\left(\\theta_{2} \\right)} & \\sin{\\left(\\theta_{2} \\right)} \\sin{\\left(\\theta_{4} \\right)} \\cos{\\left(\\theta_{3} \\right)} - \\cos{\\left(\\theta_{2} \\right)} \\cos{\\left(\\theta_{4} \\right)} & \\sin{\\left(\\theta_{2} \\right)} \\sin{\\left(\\theta_{3} \\right)} & d_{1} + l_{1} + l_{3} \\cos{\\left(\\theta_{2} \\right)} + l_{4} \\sin{\\left(\\theta_{2} \\right)} \\sin{\\left(\\theta_{3} \\right)}\\\\0 & 0 & 0 & 1\\end{matrix}\\right]$"
      ],
      "text/plain": [
       "Matrix([\n",
       "[-(sin(theta1)*sin(theta3) - cos(theta1)*cos(theta2)*cos(theta3))*cos(theta4) - sin(theta2)*sin(theta4)*cos(theta1),  (sin(theta1)*sin(theta3) - cos(theta1)*cos(theta2)*cos(theta3))*sin(theta4) - sin(theta2)*cos(theta1)*cos(theta4), -sin(theta1)*cos(theta3) - sin(theta3)*cos(theta1)*cos(theta2), -d2*sin(theta1) - l2*sin(theta1) + l3*sin(theta2)*cos(theta1) - l4*(sin(theta1)*cos(theta3) + sin(theta3)*cos(theta1)*cos(theta2))],\n",
       "[ (sin(theta1)*cos(theta2)*cos(theta3) + sin(theta3)*cos(theta1))*cos(theta4) - sin(theta1)*sin(theta2)*sin(theta4), -(sin(theta1)*cos(theta2)*cos(theta3) + sin(theta3)*cos(theta1))*sin(theta4) - sin(theta1)*sin(theta2)*cos(theta4), -sin(theta1)*sin(theta3)*cos(theta2) + cos(theta1)*cos(theta3),  d2*cos(theta1) + l2*cos(theta1) + l3*sin(theta1)*sin(theta2) - l4*(sin(theta1)*sin(theta3)*cos(theta2) - cos(theta1)*cos(theta3))],\n",
       "[                                                    -sin(theta2)*cos(theta3)*cos(theta4) - sin(theta4)*cos(theta2),                                                      sin(theta2)*sin(theta4)*cos(theta3) - cos(theta2)*cos(theta4),                                        sin(theta2)*sin(theta3),                                                                              d1 + l1 + l3*cos(theta2) + l4*sin(theta2)*sin(theta3)],\n",
       "[                                                                                                                 0,                                                                                                                  0,                                                              0,                                                                                                                                  1]])"
      ]
     },
     "execution_count": 15,
     "metadata": {},
     "output_type": "execute_result"
    }
   ],
   "source": [
    "A = robot.get_dh_joint_to_joint(0, 6)\n",
    "A.simplify()\n",
    "A"
   ]
  },
  {
   "cell_type": "markdown",
   "id": "809378a2-fc87-45b8-aa49-975b9473d171",
   "metadata": {},
   "source": [
    "# 2.60"
   ]
  },
  {
   "cell_type": "code",
   "execution_count": 2,
   "id": "0e697339-005f-47f0-8a01-a4155e9779df",
   "metadata": {},
   "outputs": [
    {
     "data": {
      "application/vnd.jupyter.widget-view+json": {
       "model_id": "f804cc59ce60451286155677902ef2f4",
       "version_major": 2,
       "version_minor": 0
      },
      "text/plain": [
       "VBox(children=(HBox(children=(ToggleButton(value=True, description='Исклучи цртање'), Button(description='Пром…"
      ]
     },
     "metadata": {},
     "output_type": "display_data"
    }
   ],
   "source": [
    "theta1, theta2, l1, l2 = sp.symbols('theta1, theta2, l1, l2')\n",
    "robot = rt.SerialLinkRobot()\n",
    "robot.add_revolute_joint(theta1,0,l1,0)\n",
    "robot.add_revolute_joint(theta2,0,l2,0)\n",
    "robot.add_subs([(l1,1),(l2,1)])\n",
    "robot.interact()"
   ]
  },
  {
   "cell_type": "code",
   "execution_count": 3,
   "id": "ffed6617-a635-400a-a31d-5e764d40d2dd",
   "metadata": {},
   "outputs": [
    {
     "data": {
      "text/latex": [
       "$\\displaystyle \\left[\\begin{matrix}\\cos{\\left(\\theta_{1} + \\theta_{2} \\right)} & - \\sin{\\left(\\theta_{1} + \\theta_{2} \\right)} & 0 & l_{1} \\cos{\\left(\\theta_{1} \\right)} + l_{2} \\cos{\\left(\\theta_{1} + \\theta_{2} \\right)}\\\\\\sin{\\left(\\theta_{1} + \\theta_{2} \\right)} & \\cos{\\left(\\theta_{1} + \\theta_{2} \\right)} & 0 & l_{1} \\sin{\\left(\\theta_{1} \\right)} + l_{2} \\sin{\\left(\\theta_{1} + \\theta_{2} \\right)}\\\\0 & 0 & 1 & 0\\\\0 & 0 & 0 & 1\\end{matrix}\\right]$"
      ],
      "text/plain": [
       "Matrix([\n",
       "[cos(theta1 + theta2), -sin(theta1 + theta2), 0, l1*cos(theta1) + l2*cos(theta1 + theta2)],\n",
       "[sin(theta1 + theta2),  cos(theta1 + theta2), 0, l1*sin(theta1) + l2*sin(theta1 + theta2)],\n",
       "[                   0,                     0, 1,                                        0],\n",
       "[                   0,                     0, 0,                                        1]])"
      ]
     },
     "execution_count": 3,
     "metadata": {},
     "output_type": "execute_result"
    }
   ],
   "source": [
    "T = robot.get_dh_matrix()\n",
    "T"
   ]
  },
  {
   "cell_type": "markdown",
   "id": "c996f9c3-d5e0-4f97-bfe8-2678d14dd8db",
   "metadata": {},
   "source": [
    "* во оваа задача имаме два ротациони зглоба, што значи две променливи, $\\theta_1$ и $\\theta_2$ кои ќе ги изведуваме преку дадената трансформациска матрица и онаа што ја добивме преку дх параметрите со тригонометриски идентитети"
   ]
  },
  {
   "cell_type": "code",
   "execution_count": 4,
   "id": "ef02c24a-66b7-4bf9-9368-b4f6f2240689",
   "metadata": {},
   "outputs": [
    {
     "data": {
      "text/latex": [
       "$\\displaystyle \\left[\\begin{matrix}-0.29 & -0.96 & 0 & 0.7\\\\0.96 & -0.29 & 0 & 0.82\\\\0 & 0 & 1 & 0\\\\0 & 0 & 0 & 1\\end{matrix}\\right]$"
      ],
      "text/plain": [
       "Matrix([\n",
       "[-0.29, -0.96, 0,  0.7],\n",
       "[ 0.96, -0.29, 0, 0.82],\n",
       "[    0,     0, 1,    0],\n",
       "[    0,     0, 0,    1]])"
      ]
     },
     "execution_count": 4,
     "metadata": {},
     "output_type": "execute_result"
    }
   ],
   "source": [
    "# dadenata T matrica \n",
    "T1=sp.Matrix([[-0.29, -0.96, 0, 0.70],\n",
    "            [0.96, -0.29, 0, 0.82],\n",
    "            [0, 0, 1, 0],\n",
    "            [0, 0, 0, 1]])\n",
    "T1"
   ]
  },
  {
   "cell_type": "code",
   "execution_count": 5,
   "id": "8eb4eb01-bc70-46da-bf2d-5eee02274dac",
   "metadata": {},
   "outputs": [],
   "source": [
    "xe, ye, ze = T[:3, 3]"
   ]
  },
  {
   "cell_type": "code",
   "execution_count": 6,
   "id": "ab3fb1ec-bae9-41d4-b2cf-494c5b94b021",
   "metadata": {},
   "outputs": [
    {
     "data": {
      "text/latex": [
       "$\\displaystyle l_{1} \\cos{\\left(\\theta_{1} \\right)} + l_{2} \\cos{\\left(\\theta_{1} + \\theta_{2} \\right)}$"
      ],
      "text/plain": [
       "l1*cos(theta1) + l2*cos(theta1 + theta2)"
      ]
     },
     "execution_count": 6,
     "metadata": {},
     "output_type": "execute_result"
    }
   ],
   "source": [
    "xe"
   ]
  },
  {
   "cell_type": "code",
   "execution_count": 7,
   "id": "a4705a3c-191a-43dc-8bc2-47313b34e04a",
   "metadata": {},
   "outputs": [
    {
     "data": {
      "text/latex": [
       "$\\displaystyle l_{1} \\sin{\\left(\\theta_{1} \\right)} + l_{2} \\sin{\\left(\\theta_{1} + \\theta_{2} \\right)}$"
      ],
      "text/plain": [
       "l1*sin(theta1) + l2*sin(theta1 + theta2)"
      ]
     },
     "execution_count": 7,
     "metadata": {},
     "output_type": "execute_result"
    }
   ],
   "source": [
    "ye"
   ]
  },
  {
   "cell_type": "code",
   "execution_count": 8,
   "id": "5c5ccd69-5a5d-448c-ac67-45874ef9701f",
   "metadata": {},
   "outputs": [
    {
     "data": {
      "text/latex": [
       "$\\displaystyle 0$"
      ],
      "text/plain": [
       "0"
      ]
     },
     "execution_count": 8,
     "metadata": {},
     "output_type": "execute_result"
    }
   ],
   "source": [
    "ze"
   ]
  },
  {
   "cell_type": "code",
   "execution_count": 12,
   "id": "cd34a5d0-9615-4f7a-8329-50c08f33ad3a",
   "metadata": {},
   "outputs": [
    {
     "data": {
      "text/latex": [
       "$\\displaystyle \\left\\{\\left( \\frac{l_{1}^{2} y - l_{2}^{2} y + x^{2} y - x \\sqrt{- l_{1}^{4} + 2 l_{1}^{2} l_{2}^{2} + 2 l_{1}^{2} x^{2} + 2 l_{1}^{2} y^{2} - l_{2}^{4} + 2 l_{2}^{2} x^{2} + 2 l_{2}^{2} y^{2} - x^{4} - 2 x^{2} y^{2} - y^{4}} + y^{3}}{2 l_{1} \\left(x^{2} + y^{2}\\right)}, \\  \\frac{l_{1}^{2} x - l_{2}^{2} x + x^{3} + x y^{2} + y \\sqrt{- l_{1}^{4} + 2 l_{1}^{2} l_{2}^{2} + 2 l_{1}^{2} x^{2} + 2 l_{1}^{2} y^{2} - l_{2}^{4} + 2 l_{2}^{2} x^{2} + 2 l_{2}^{2} y^{2} - x^{4} - 2 x^{2} y^{2} - y^{4}}}{2 l_{1} \\left(x^{2} + y^{2}\\right)}, \\  \\frac{- l_{1}^{2} y + l_{2}^{2} y + x^{2} y + x \\sqrt{- l_{1}^{4} + 2 l_{1}^{2} l_{2}^{2} + 2 l_{1}^{2} x^{2} + 2 l_{1}^{2} y^{2} - l_{2}^{4} + 2 l_{2}^{2} x^{2} + 2 l_{2}^{2} y^{2} - x^{4} - 2 x^{2} y^{2} - y^{4}} + y^{3}}{2 l_{2} \\left(x^{2} + y^{2}\\right)}, \\  \\frac{x \\left(- l_{1}^{2} + l_{2}^{2} + x^{2} + y^{2}\\right)}{2 l_{2} \\left(x^{2} + y^{2}\\right)} - \\frac{y \\sqrt{- \\left(- l_{1}^{2} - 2 l_{1} l_{2} - l_{2}^{2} + x^{2} + y^{2}\\right) \\left(- l_{1}^{2} + 2 l_{1} l_{2} - l_{2}^{2} + x^{2} + y^{2}\\right)}}{2 l_{2} \\left(x^{2} + y^{2}\\right)}\\right), \\left( \\frac{l_{1}^{2} y - l_{2}^{2} y + x^{2} y + x \\sqrt{- l_{1}^{4} + 2 l_{1}^{2} l_{2}^{2} + 2 l_{1}^{2} x^{2} + 2 l_{1}^{2} y^{2} - l_{2}^{4} + 2 l_{2}^{2} x^{2} + 2 l_{2}^{2} y^{2} - x^{4} - 2 x^{2} y^{2} - y^{4}} + y^{3}}{2 l_{1} \\left(x^{2} + y^{2}\\right)}, \\  \\frac{l_{1}^{2} x - l_{2}^{2} x + x^{3} + x y^{2} - y \\sqrt{- l_{1}^{4} + 2 l_{1}^{2} l_{2}^{2} + 2 l_{1}^{2} x^{2} + 2 l_{1}^{2} y^{2} - l_{2}^{4} + 2 l_{2}^{2} x^{2} + 2 l_{2}^{2} y^{2} - x^{4} - 2 x^{2} y^{2} - y^{4}}}{2 l_{1} \\left(x^{2} + y^{2}\\right)}, \\  \\frac{- l_{1}^{2} y + l_{2}^{2} y + x^{2} y - x \\sqrt{- l_{1}^{4} + 2 l_{1}^{2} l_{2}^{2} + 2 l_{1}^{2} x^{2} + 2 l_{1}^{2} y^{2} - l_{2}^{4} + 2 l_{2}^{2} x^{2} + 2 l_{2}^{2} y^{2} - x^{4} - 2 x^{2} y^{2} - y^{4}} + y^{3}}{2 l_{2} \\left(x^{2} + y^{2}\\right)}, \\  \\frac{x \\left(- l_{1}^{2} + l_{2}^{2} + x^{2} + y^{2}\\right)}{2 l_{2} \\left(x^{2} + y^{2}\\right)} + \\frac{y \\sqrt{- \\left(- l_{1}^{2} - 2 l_{1} l_{2} - l_{2}^{2} + x^{2} + y^{2}\\right) \\left(- l_{1}^{2} + 2 l_{1} l_{2} - l_{2}^{2} + x^{2} + y^{2}\\right)}}{2 l_{2} \\left(x^{2} + y^{2}\\right)}\\right)\\right\\}$"
      ],
      "text/plain": [
       "{((l1**2*y - l2**2*y + x**2*y - x*sqrt(-l1**4 + 2*l1**2*l2**2 + 2*l1**2*x**2 + 2*l1**2*y**2 - l2**4 + 2*l2**2*x**2 + 2*l2**2*y**2 - x**4 - 2*x**2*y**2 - y**4) + y**3)/(2*l1*(x**2 + y**2)), (l1**2*x - l2**2*x + x**3 + x*y**2 + y*sqrt(-l1**4 + 2*l1**2*l2**2 + 2*l1**2*x**2 + 2*l1**2*y**2 - l2**4 + 2*l2**2*x**2 + 2*l2**2*y**2 - x**4 - 2*x**2*y**2 - y**4))/(2*l1*(x**2 + y**2)), (-l1**2*y + l2**2*y + x**2*y + x*sqrt(-l1**4 + 2*l1**2*l2**2 + 2*l1**2*x**2 + 2*l1**2*y**2 - l2**4 + 2*l2**2*x**2 + 2*l2**2*y**2 - x**4 - 2*x**2*y**2 - y**4) + y**3)/(2*l2*(x**2 + y**2)), x*(-l1**2 + l2**2 + x**2 + y**2)/(2*l2*(x**2 + y**2)) - y*sqrt(-(-l1**2 - 2*l1*l2 - l2**2 + x**2 + y**2)*(-l1**2 + 2*l1*l2 - l2**2 + x**2 + y**2))/(2*l2*(x**2 + y**2))), ((l1**2*y - l2**2*y + x**2*y + x*sqrt(-l1**4 + 2*l1**2*l2**2 + 2*l1**2*x**2 + 2*l1**2*y**2 - l2**4 + 2*l2**2*x**2 + 2*l2**2*y**2 - x**4 - 2*x**2*y**2 - y**4) + y**3)/(2*l1*(x**2 + y**2)), (l1**2*x - l2**2*x + x**3 + x*y**2 - y*sqrt(-l1**4 + 2*l1**2*l2**2 + 2*l1**2*x**2 + 2*l1**2*y**2 - l2**4 + 2*l2**2*x**2 + 2*l2**2*y**2 - x**4 - 2*x**2*y**2 - y**4))/(2*l1*(x**2 + y**2)), (-l1**2*y + l2**2*y + x**2*y - x*sqrt(-l1**4 + 2*l1**2*l2**2 + 2*l1**2*x**2 + 2*l1**2*y**2 - l2**4 + 2*l2**2*x**2 + 2*l2**2*y**2 - x**4 - 2*x**2*y**2 - y**4) + y**3)/(2*l2*(x**2 + y**2)), x*(-l1**2 + l2**2 + x**2 + y**2)/(2*l2*(x**2 + y**2)) + y*sqrt(-(-l1**2 - 2*l1*l2 - l2**2 + x**2 + y**2)*(-l1**2 + 2*l1*l2 - l2**2 + x**2 + y**2))/(2*l2*(x**2 + y**2)))}"
      ]
     },
     "execution_count": 12,
     "metadata": {},
     "output_type": "execute_result"
    }
   ],
   "source": [
    "x, y, z, s1, c1, s12, c12 = sp.symbols('x, y, z, s1, c1, s12, c12')\n",
    "equations = [\n",
    "    l1*c1 + l2*c12 - x,\n",
    "    l1*s1 + l2*s12 - y,\n",
    "    s1**2 + c1**2 - 1,\n",
    "    s12**2 + c12**2 - 1\n",
    "]\n",
    "solutions = sp.nonlinsolve(equations, [s1, c1, s12, c12])\n",
    "solutions"
   ]
  },
  {
   "cell_type": "code",
   "execution_count": 13,
   "id": "d6d3d6b4-af0f-4717-b9cb-effccc2ce8d6",
   "metadata": {},
   "outputs": [
    {
     "data": {
      "text/latex": [
       "$\\displaystyle \\left\\{\\left( -0.136846996874231, \\  0.990592196338385, \\  0.95684699687423, \\  -0.290592196338384\\right), \\left( 0.95684699687423, \\  -0.290592196338385, \\  -0.136846996874231, \\  0.990592196338384\\right)\\right\\}$"
      ],
      "text/plain": [
       "{(-0.136846996874231, 0.990592196338385, 0.95684699687423, -0.290592196338384), (0.95684699687423, -0.290592196338385, -0.136846996874231, 0.990592196338384)}"
      ]
     },
     "execution_count": 13,
     "metadata": {},
     "output_type": "execute_result"
    }
   ],
   "source": [
    "xn, yn, zn = 0.7, 0.82, 0\n",
    "solutions_subs = solutions.subs([(l1, 1), (l2, 1), (x, xn), (y, yn), (z, zn)])\n",
    "solutions_subs"
   ]
  },
  {
   "cell_type": "code",
   "execution_count": 14,
   "id": "08aed9c9-a46a-411c-bc26-386adbdb2714",
   "metadata": {},
   "outputs": [
    {
     "name": "stdout",
     "output_type": "stream",
     "text": [
      "Решение 1 (-0.1372777615569634, 2.002919771887111)\n",
      "Решение 2 (1.8656420103301479, -2.002919771887111)\n"
     ]
    }
   ],
   "source": [
    "q_values = []\n",
    "for i, solution in enumerate(solutions_subs):\n",
    "    s1n, c1n, s12n, c12n = solution\n",
    "    theta1n = sp.atan2(s1n, c1n)\n",
    "    theta12n = sp.atan2(s12n, c12n)\n",
    "    theta2n = theta12n - theta1n\n",
    "    q_value = (\n",
    "        float(theta1n.evalf(30)),\n",
    "        float(theta2n.evalf(30)),\n",
    "    )\n",
    "    q_values.append(q_value)\n",
    "    print(f'Решение {i+1} {q_value}')"
   ]
  },
  {
   "cell_type": "code",
   "execution_count": 16,
   "id": "92411e01-786d-4033-8c25-dfbc5e2ed8d3",
   "metadata": {},
   "outputs": [
    {
     "name": "stdout",
     "output_type": "stream",
     "text": [
      "Решение 1 (-7.865436358217262, 114.75884963243705)\n",
      "Решение 2 (106.8934132742198, -114.75884963243706)\n"
     ]
    }
   ],
   "source": [
    "q_values = [] #vo stepeni\n",
    "for i, solution in enumerate(solutions_subs):\n",
    "    s1n, c1n, s12n, c12n = solution\n",
    "    theta1n = sp.deg(sp.atan2(s1n, c1n))\n",
    "    theta12n = sp.deg(sp.atan2(s12n, c12n))\n",
    "    theta2n = theta12n - theta1n\n",
    "    q_value = (\n",
    "        float(theta1n.evalf(30)),\n",
    "        float(theta2n.evalf(30)),\n",
    "    )\n",
    "    q_values.append(q_value)\n",
    "    print(f'Решение {i+1} {q_value}')"
   ]
  },
  {
   "cell_type": "code",
   "execution_count": 15,
   "id": "3dbba63e-31ac-46e4-8a06-b937e8df305e",
   "metadata": {},
   "outputs": [
    {
     "data": {
      "text/latex": [
       "$\\displaystyle \\left[\\begin{matrix}-0.290592196338384 & -0.956846996874231 & 0 & 0.7\\\\0.956846996874231 & -0.290592196338384 & 0 & 0.82\\\\0 & 0 & 1 & 0\\\\0 & 0 & 0 & 1\\end{matrix}\\right]$"
      ],
      "text/plain": [
       "Matrix([\n",
       "[-0.290592196338384, -0.956846996874231, 0,  0.7],\n",
       "[ 0.956846996874231, -0.290592196338384, 0, 0.82],\n",
       "[                 0,                  0, 1,    0],\n",
       "[                 0,                  0, 0,    1]])"
      ]
     },
     "metadata": {},
     "output_type": "display_data"
    },
    {
     "data": {
      "text/latex": [
       "$\\displaystyle \\left[\\begin{matrix}0.990592196338384 & 0.13684699687423 & 0 & 0.7\\\\-0.13684699687423 & 0.990592196338384 & 0 & 0.82\\\\0 & 0 & 1 & 0\\\\0 & 0 & 0 & 1\\end{matrix}\\right]$"
      ],
      "text/plain": [
       "Matrix([\n",
       "[0.990592196338384,  0.13684699687423, 0,  0.7],\n",
       "[-0.13684699687423, 0.990592196338384, 0, 0.82],\n",
       "[                0,                 0, 1,    0],\n",
       "[                0,                 0, 0,    1]])"
      ]
     },
     "metadata": {},
     "output_type": "display_data"
    }
   ],
   "source": [
    "for q_value in q_values:\n",
    "    display(T.subs([*zip([theta1, theta2], q_value)]).subs([(l1, 1), (l2, 1)]))"
   ]
  },
  {
   "cell_type": "code",
   "execution_count": null,
   "id": "f968a13a-70a2-4345-94ab-6706aba67573",
   "metadata": {},
   "outputs": [],
   "source": []
  },
  {
   "cell_type": "markdown",
   "id": "2ed14dfc-c3d4-49e7-8bdc-8509f61ed529",
   "metadata": {},
   "source": [
    "# 2.61"
   ]
  },
  {
   "cell_type": "code",
   "execution_count": 24,
   "id": "ddfa27f5-4f6e-4ec0-a555-65bb1a81c153",
   "metadata": {},
   "outputs": [
    {
     "data": {
      "application/vnd.jupyter.widget-view+json": {
       "model_id": "c54b85d2d6d941da98b70389ecae6e96",
       "version_major": 2,
       "version_minor": 0
      },
      "text/plain": [
       "VBox(children=(HBox(children=(ToggleButton(value=True, description='Исклучи цртање'), Button(description='Пром…"
      ]
     },
     "metadata": {},
     "output_type": "display_data"
    }
   ],
   "source": [
    "theta1, theta2, d1, d3 = sp.symbols('theta1, theta2, d1, d3')\n",
    "robot = rt.SerialLinkRobot()\n",
    "robot.add_revolute_joint(theta1,d1,0,-sp.pi/2)\n",
    "robot.add_revolute_joint(theta2,0,0,sp.pi/2)\n",
    "robot.add_prismatic_joint(0,d3,0,0)\n",
    "robot.add_subs([(d1,1)])\n",
    "robot.interact()"
   ]
  },
  {
   "cell_type": "code",
   "execution_count": 25,
   "id": "bbed0e7c-8765-4df8-9818-407da845b1ec",
   "metadata": {},
   "outputs": [
    {
     "data": {
      "text/latex": [
       "$\\displaystyle \\left[\\begin{matrix}\\cos{\\left(\\theta_{1} \\right)} \\cos{\\left(\\theta_{2} \\right)} & - \\sin{\\left(\\theta_{1} \\right)} & \\sin{\\left(\\theta_{2} \\right)} \\cos{\\left(\\theta_{1} \\right)} & d_{3} \\sin{\\left(\\theta_{2} \\right)} \\cos{\\left(\\theta_{1} \\right)}\\\\\\sin{\\left(\\theta_{1} \\right)} \\cos{\\left(\\theta_{2} \\right)} & \\cos{\\left(\\theta_{1} \\right)} & \\sin{\\left(\\theta_{1} \\right)} \\sin{\\left(\\theta_{2} \\right)} & d_{3} \\sin{\\left(\\theta_{1} \\right)} \\sin{\\left(\\theta_{2} \\right)}\\\\- \\sin{\\left(\\theta_{2} \\right)} & 0 & \\cos{\\left(\\theta_{2} \\right)} & d_{1} + d_{3} \\cos{\\left(\\theta_{2} \\right)}\\\\0 & 0 & 0 & 1\\end{matrix}\\right]$"
      ],
      "text/plain": [
       "Matrix([\n",
       "[cos(theta1)*cos(theta2), -sin(theta1), sin(theta2)*cos(theta1), d3*sin(theta2)*cos(theta1)],\n",
       "[sin(theta1)*cos(theta2),  cos(theta1), sin(theta1)*sin(theta2), d3*sin(theta1)*sin(theta2)],\n",
       "[           -sin(theta2),            0,             cos(theta2),        d1 + d3*cos(theta2)],\n",
       "[                      0,            0,                       0,                          1]])"
      ]
     },
     "execution_count": 25,
     "metadata": {},
     "output_type": "execute_result"
    }
   ],
   "source": [
    "T = robot.get_dh_matrix()\n",
    "T"
   ]
  },
  {
   "cell_type": "code",
   "execution_count": 27,
   "id": "70888f06-31b5-43ce-97d8-4b92e7d0e846",
   "metadata": {},
   "outputs": [
    {
     "data": {
      "text/latex": [
       "$\\displaystyle d_{3} \\sin{\\left(\\theta_{2} \\right)} \\cos{\\left(\\theta_{1} \\right)}$"
      ],
      "text/plain": [
       "d3*sin(theta2)*cos(theta1)"
      ]
     },
     "execution_count": 27,
     "metadata": {},
     "output_type": "execute_result"
    }
   ],
   "source": [
    "xe,ye,ze=T[:3,3]\n",
    "xe"
   ]
  },
  {
   "cell_type": "code",
   "execution_count": 33,
   "id": "96851c21-7772-4487-8f1f-52b102b2a76e",
   "metadata": {},
   "outputs": [],
   "source": [
    "x, y, z, s1, c1, s2, c2 = sp.symbols('x, y, z, s1, c1, s2, c2')\n",
    "subs = [(sp.sin(theta1), s1), (sp.cos(theta1), c1),\n",
    "        (sp.sin(theta2), s2), (sp.cos(theta2), c2)]\n",
    "xe, ye, ze = [eq.subs(subs) for eq in [xe, ye, ze]]"
   ]
  },
  {
   "cell_type": "code",
   "execution_count": 34,
   "id": "adb40cfc-5f57-4351-aa1c-d3df0f036252",
   "metadata": {},
   "outputs": [
    {
     "data": {
      "text/latex": [
       "$\\displaystyle \\left\\{\\left( - \\frac{y \\sqrt{\\frac{x^{2} + y^{2}}{d_{1}^{2} - 2 d_{1} z + x^{2} + y^{2} + z^{2}}} \\sqrt{d_{1}^{2} - 2 d_{1} z + x^{2} + y^{2} + z^{2}}}{x^{2} + y^{2}}, \\  - \\frac{x \\sqrt{\\frac{x^{2} + y^{2}}{d_{1}^{2} - 2 d_{1} z + x^{2} + y^{2} + z^{2}}} \\sqrt{d_{1}^{2} - 2 d_{1} z + x^{2} + y^{2} + z^{2}}}{x^{2} + y^{2}}, \\  - \\sqrt{\\frac{x^{2} + y^{2}}{d_{1}^{2} - 2 d_{1} z + x^{2} + y^{2} + z^{2}}}, \\  \\frac{- d_{1} + z}{\\sqrt{d_{1}^{2} - 2 d_{1} z + x^{2} + y^{2} + z^{2}}}, \\  \\sqrt{d_{1}^{2} - 2 d_{1} z + x^{2} + y^{2} + z^{2}}\\right), \\left( - \\frac{y \\sqrt{\\frac{x^{2} + y^{2}}{d_{1}^{2} - 2 d_{1} z + x^{2} + y^{2} + z^{2}}} \\sqrt{d_{1}^{2} - 2 d_{1} z + x^{2} + y^{2} + z^{2}}}{x^{2} + y^{2}}, \\  - \\frac{x \\sqrt{\\frac{x^{2} + y^{2}}{d_{1}^{2} - 2 d_{1} z + x^{2} + y^{2} + z^{2}}} \\sqrt{d_{1}^{2} - 2 d_{1} z + x^{2} + y^{2} + z^{2}}}{x^{2} + y^{2}}, \\  \\sqrt{\\frac{x^{2} + y^{2}}{d_{1}^{2} - 2 d_{1} z + x^{2} + y^{2} + z^{2}}}, \\  \\frac{d_{1} - z}{\\sqrt{d_{1}^{2} - 2 d_{1} z + x^{2} + y^{2} + z^{2}}}, \\  - \\sqrt{d_{1}^{2} - 2 d_{1} z + x^{2} + y^{2} + z^{2}}\\right), \\left( \\frac{y \\sqrt{\\frac{x^{2} + y^{2}}{d_{1}^{2} - 2 d_{1} z + x^{2} + y^{2} + z^{2}}} \\sqrt{d_{1}^{2} - 2 d_{1} z + x^{2} + y^{2} + z^{2}}}{x^{2} + y^{2}}, \\  \\frac{x \\sqrt{\\frac{x^{2} + y^{2}}{d_{1}^{2} - 2 d_{1} z + x^{2} + y^{2} + z^{2}}} \\sqrt{d_{1}^{2} - 2 d_{1} z + x^{2} + y^{2} + z^{2}}}{x^{2} + y^{2}}, \\  - \\sqrt{\\frac{x^{2} + y^{2}}{d_{1}^{2} - 2 d_{1} z + x^{2} + y^{2} + z^{2}}}, \\  \\frac{d_{1} - z}{\\sqrt{d_{1}^{2} - 2 d_{1} z + x^{2} + y^{2} + z^{2}}}, \\  - \\sqrt{d_{1}^{2} - 2 d_{1} z + x^{2} + y^{2} + z^{2}}\\right), \\left( \\frac{y \\sqrt{\\frac{x^{2} + y^{2}}{d_{1}^{2} - 2 d_{1} z + x^{2} + y^{2} + z^{2}}} \\sqrt{d_{1}^{2} - 2 d_{1} z + x^{2} + y^{2} + z^{2}}}{x^{2} + y^{2}}, \\  \\frac{x \\sqrt{\\frac{x^{2} + y^{2}}{d_{1}^{2} - 2 d_{1} z + x^{2} + y^{2} + z^{2}}} \\sqrt{d_{1}^{2} - 2 d_{1} z + x^{2} + y^{2} + z^{2}}}{x^{2} + y^{2}}, \\  \\sqrt{\\frac{x^{2} + y^{2}}{d_{1}^{2} - 2 d_{1} z + x^{2} + y^{2} + z^{2}}}, \\  \\frac{- d_{1} + z}{\\sqrt{d_{1}^{2} - 2 d_{1} z + x^{2} + y^{2} + z^{2}}}, \\  \\sqrt{d_{1}^{2} - 2 d_{1} z + x^{2} + y^{2} + z^{2}}\\right)\\right\\}$"
      ],
      "text/plain": [
       "{(-y*sqrt((x**2 + y**2)/(d1**2 - 2*d1*z + x**2 + y**2 + z**2))*sqrt(d1**2 - 2*d1*z + x**2 + y**2 + z**2)/(x**2 + y**2), -x*sqrt((x**2 + y**2)/(d1**2 - 2*d1*z + x**2 + y**2 + z**2))*sqrt(d1**2 - 2*d1*z + x**2 + y**2 + z**2)/(x**2 + y**2), -sqrt((x**2 + y**2)/(d1**2 - 2*d1*z + x**2 + y**2 + z**2)), (-d1 + z)/sqrt(d1**2 - 2*d1*z + x**2 + y**2 + z**2), sqrt(d1**2 - 2*d1*z + x**2 + y**2 + z**2)), (-y*sqrt((x**2 + y**2)/(d1**2 - 2*d1*z + x**2 + y**2 + z**2))*sqrt(d1**2 - 2*d1*z + x**2 + y**2 + z**2)/(x**2 + y**2), -x*sqrt((x**2 + y**2)/(d1**2 - 2*d1*z + x**2 + y**2 + z**2))*sqrt(d1**2 - 2*d1*z + x**2 + y**2 + z**2)/(x**2 + y**2), sqrt((x**2 + y**2)/(d1**2 - 2*d1*z + x**2 + y**2 + z**2)), (d1 - z)/sqrt(d1**2 - 2*d1*z + x**2 + y**2 + z**2), -sqrt(d1**2 - 2*d1*z + x**2 + y**2 + z**2)), (y*sqrt((x**2 + y**2)/(d1**2 - 2*d1*z + x**2 + y**2 + z**2))*sqrt(d1**2 - 2*d1*z + x**2 + y**2 + z**2)/(x**2 + y**2), x*sqrt((x**2 + y**2)/(d1**2 - 2*d1*z + x**2 + y**2 + z**2))*sqrt(d1**2 - 2*d1*z + x**2 + y**2 + z**2)/(x**2 + y**2), -sqrt((x**2 + y**2)/(d1**2 - 2*d1*z + x**2 + y**2 + z**2)), (d1 - z)/sqrt(d1**2 - 2*d1*z + x**2 + y**2 + z**2), -sqrt(d1**2 - 2*d1*z + x**2 + y**2 + z**2)), (y*sqrt((x**2 + y**2)/(d1**2 - 2*d1*z + x**2 + y**2 + z**2))*sqrt(d1**2 - 2*d1*z + x**2 + y**2 + z**2)/(x**2 + y**2), x*sqrt((x**2 + y**2)/(d1**2 - 2*d1*z + x**2 + y**2 + z**2))*sqrt(d1**2 - 2*d1*z + x**2 + y**2 + z**2)/(x**2 + y**2), sqrt((x**2 + y**2)/(d1**2 - 2*d1*z + x**2 + y**2 + z**2)), (-d1 + z)/sqrt(d1**2 - 2*d1*z + x**2 + y**2 + z**2), sqrt(d1**2 - 2*d1*z + x**2 + y**2 + z**2))}"
      ]
     },
     "execution_count": 34,
     "metadata": {},
     "output_type": "execute_result"
    }
   ],
   "source": [
    "equations = [\n",
    "    xe - x,\n",
    "    ye - y,\n",
    "    ze - z,\n",
    "    s1**2 + c1**2 - 1,\n",
    "    s2**2 + c2**2 - 1,\n",
    "]\n",
    "solutions = sp.nonlinsolve(equations, [s1, c1, s2, c2, d3])\n",
    "solutions"
   ]
  },
  {
   "cell_type": "code",
   "execution_count": 36,
   "id": "9a21dd3e-6e5c-4e58-a18e-ff84d262f5c5",
   "metadata": {},
   "outputs": [
    {
     "data": {
      "text/latex": [
       "$\\displaystyle \\left\\{\\left( - 0.53780031703674 \\sqrt{2}, \\  - 0.459097831616729 \\sqrt{2}, \\  -0.733178606755793, \\  - 0.480858155070513 \\sqrt{2}, \\  1.03980767452448 \\sqrt{2}\\right), \\left( - 0.53780031703674 \\sqrt{2}, \\  - 0.459097831616729 \\sqrt{2}, \\  0.733178606755793, \\  0.480858155070513 \\sqrt{2}, \\  - 1.03980767452448 \\sqrt{2}\\right), \\left( 0.53780031703674 \\sqrt{2}, \\  0.459097831616729 \\sqrt{2}, \\  -0.733178606755793, \\  0.480858155070513 \\sqrt{2}, \\  - 1.03980767452448 \\sqrt{2}\\right), \\left( 0.53780031703674 \\sqrt{2}, \\  0.459097831616729 \\sqrt{2}, \\  0.733178606755793, \\  - 0.480858155070513 \\sqrt{2}, \\  1.03980767452448 \\sqrt{2}\\right)\\right\\}$"
      ],
      "text/plain": [
       "{(-0.53780031703674*sqrt(2), -0.459097831616729*sqrt(2), -0.733178606755793, -0.480858155070513*sqrt(2), 1.03980767452448*sqrt(2)), (-0.53780031703674*sqrt(2), -0.459097831616729*sqrt(2), 0.733178606755793, 0.480858155070513*sqrt(2), -1.03980767452448*sqrt(2)), (0.53780031703674*sqrt(2), 0.459097831616729*sqrt(2), -0.733178606755793, 0.480858155070513*sqrt(2), -1.03980767452448*sqrt(2)), (0.53780031703674*sqrt(2), 0.459097831616729*sqrt(2), 0.733178606755793, -0.480858155070513*sqrt(2), 1.03980767452448*sqrt(2))}"
      ]
     },
     "execution_count": 36,
     "metadata": {},
     "output_type": "execute_result"
    }
   ],
   "source": [
    "xn, yn, zn = 0.7, 0.82, 0\n",
    "solutions_subs = solutions.subs([(d1, 1), (x, xn), (y, yn), (z, zn)])\n",
    "solutions_subs"
   ]
  },
  {
   "cell_type": "code",
   "execution_count": 38,
   "id": "b5525e45-53f1-4e76-861c-445872380cfb",
   "metadata": {},
   "outputs": [
    {
     "name": "stdout",
     "output_type": "stream",
     "text": [
      "Решение 1 (-2.2774105292032014, -2.3186082313771843, 1.4705101155721438)\n",
      "Решение 2 (-2.2774105292032014, 0.8229844222126089, -1.4705101155721438)\n",
      "Решение 3 (0.8641821243865919, -0.8229844222126089, -1.4705101155721438)\n",
      "Решение 4 (0.8641821243865919, 2.3186082313771843, 1.4705101155721438)\n"
     ]
    }
   ],
   "source": [
    "q_values = []\n",
    "for i, solution in enumerate(solutions_subs):\n",
    "    s1n, c1n, s2n, c2n, d3n = solution\n",
    "    theta1n = sp.atan2(s1n, c1n)\n",
    "    theta2n = sp.atan2(s2n, c2n)\n",
    "    q_value = (\n",
    "        float(theta1n.evalf(3000)),\n",
    "        float(theta2n.evalf(3000)),\n",
    "        float(d3n.evalf(3000)),\n",
    "    )\n",
    "    q_values.append(q_value)\n",
    "    print(f'Решение {i+1} {q_value}')"
   ]
  },
  {
   "cell_type": "code",
   "execution_count": 39,
   "id": "73d53201-6fd1-4808-9931-b9672b940812",
   "metadata": {},
   "outputs": [
    {
     "data": {
      "text/latex": [
       "$\\displaystyle \\left[\\begin{matrix}0.441521872616186 & 0.760564502201907 & 0.476025287134897 & 0.7\\\\0.517211336493247 & -0.649262379928458 & 0.557629622072307 & 0.82\\\\0.733178606755793 & 0 & -0.680036124478424 & 1.11022302462516 \\cdot 10^{-16}\\\\0 & 0 & 0 & 1\\end{matrix}\\right]$"
      ],
      "text/plain": [
       "Matrix([\n",
       "[0.441521872616186,  0.760564502201907,  0.476025287134897,                  0.7],\n",
       "[0.517211336493247, -0.649262379928458,  0.557629622072307,                 0.82],\n",
       "[0.733178606755793,                  0, -0.680036124478424, 1.11022302462516e-16],\n",
       "[                0,                  0,                  0,                    1]])"
      ]
     },
     "metadata": {},
     "output_type": "display_data"
    },
    {
     "data": {
      "text/latex": [
       "$\\displaystyle \\left[\\begin{matrix}-0.441521872616186 & 0.760564502201907 & -0.476025287134897 & 0.7\\\\-0.517211336493247 & -0.649262379928458 & -0.557629622072307 & 0.82\\\\-0.733178606755793 & 0 & 0.680036124478424 & 1.11022302462516 \\cdot 10^{-16}\\\\0 & 0 & 0 & 1\\end{matrix}\\right]$"
      ],
      "text/plain": [
       "Matrix([\n",
       "[-0.441521872616186,  0.760564502201907, -0.476025287134897,                  0.7],\n",
       "[-0.517211336493247, -0.649262379928458, -0.557629622072307,                 0.82],\n",
       "[-0.733178606755793,                  0,  0.680036124478424, 1.11022302462516e-16],\n",
       "[                 0,                  0,                  0,                    1]])"
      ]
     },
     "metadata": {},
     "output_type": "display_data"
    },
    {
     "data": {
      "text/latex": [
       "$\\displaystyle \\left[\\begin{matrix}0.441521872616186 & -0.760564502201907 & -0.476025287134897 & 0.7\\\\0.517211336493247 & 0.649262379928458 & -0.557629622072307 & 0.82\\\\0.733178606755793 & 0 & 0.680036124478424 & 1.11022302462516 \\cdot 10^{-16}\\\\0 & 0 & 0 & 1\\end{matrix}\\right]$"
      ],
      "text/plain": [
       "Matrix([\n",
       "[0.441521872616186, -0.760564502201907, -0.476025287134897,                  0.7],\n",
       "[0.517211336493247,  0.649262379928458, -0.557629622072307,                 0.82],\n",
       "[0.733178606755793,                  0,  0.680036124478424, 1.11022302462516e-16],\n",
       "[                0,                  0,                  0,                    1]])"
      ]
     },
     "metadata": {},
     "output_type": "display_data"
    },
    {
     "data": {
      "text/latex": [
       "$\\displaystyle \\left[\\begin{matrix}-0.441521872616186 & -0.760564502201907 & 0.476025287134897 & 0.7\\\\-0.517211336493247 & 0.649262379928458 & 0.557629622072307 & 0.82\\\\-0.733178606755793 & 0 & -0.680036124478424 & 1.11022302462516 \\cdot 10^{-16}\\\\0 & 0 & 0 & 1\\end{matrix}\\right]$"
      ],
      "text/plain": [
       "Matrix([\n",
       "[-0.441521872616186, -0.760564502201907,  0.476025287134897,                  0.7],\n",
       "[-0.517211336493247,  0.649262379928458,  0.557629622072307,                 0.82],\n",
       "[-0.733178606755793,                  0, -0.680036124478424, 1.11022302462516e-16],\n",
       "[                 0,                  0,                  0,                    1]])"
      ]
     },
     "metadata": {},
     "output_type": "display_data"
    }
   ],
   "source": [
    "for q_value in q_values:\n",
    "    display(T.subs([*zip([theta1, theta2, d3], q_value)]).subs([(d1, 1)]))"
   ]
  },
  {
   "cell_type": "markdown",
   "id": "83995513-3346-409a-9db0-7857488fb26e",
   "metadata": {},
   "source": [
    "# 2.62"
   ]
  },
  {
   "cell_type": "code",
   "execution_count": 40,
   "id": "d418e3bf-0945-42f5-9dfe-ffa2c3582021",
   "metadata": {},
   "outputs": [
    {
     "data": {
      "application/vnd.jupyter.widget-view+json": {
       "model_id": "f6448f6ea999474d8e378cdd5644a443",
       "version_major": 2,
       "version_minor": 0
      },
      "text/plain": [
       "VBox(children=(HBox(children=(ToggleButton(value=True, description='Исклучи цртање'), Button(description='Пром…"
      ]
     },
     "metadata": {},
     "output_type": "display_data"
    }
   ],
   "source": [
    "theta1, theta2, d1, d2, d3 = sp.symbols('theta1, theta2, d1, d2, d3')\n",
    "robot = rt.SerialLinkRobot()\n",
    "robot.add_revolute_joint(theta1,d1,0,-sp.pi/2)\n",
    "robot.add_revolute_joint(theta2,d2,0,sp.pi/2)\n",
    "robot.add_prismatic_joint(0,d3,0,0)\n",
    "robot.add_subs([(d1,1),(d2,1)])\n",
    "robot.interact()"
   ]
  },
  {
   "cell_type": "code",
   "execution_count": 12,
   "id": "ee25838b-e0f1-48e6-acb7-0cb70ae7023f",
   "metadata": {},
   "outputs": [
    {
     "data": {
      "text/latex": [
       "$\\displaystyle \\left[\\begin{matrix}\\cos{\\left(\\theta_{1} \\right)} \\cos{\\left(\\theta_{2} \\right)} & - \\sin{\\left(\\theta_{1} \\right)} & \\sin{\\left(\\theta_{2} \\right)} \\cos{\\left(\\theta_{1} \\right)} & - d_{2} \\sin{\\left(\\theta_{1} \\right)} + d_{3} \\sin{\\left(\\theta_{2} \\right)} \\cos{\\left(\\theta_{1} \\right)}\\\\\\sin{\\left(\\theta_{1} \\right)} \\cos{\\left(\\theta_{2} \\right)} & \\cos{\\left(\\theta_{1} \\right)} & \\sin{\\left(\\theta_{1} \\right)} \\sin{\\left(\\theta_{2} \\right)} & d_{2} \\cos{\\left(\\theta_{1} \\right)} + d_{3} \\sin{\\left(\\theta_{1} \\right)} \\sin{\\left(\\theta_{2} \\right)}\\\\- \\sin{\\left(\\theta_{2} \\right)} & 0 & \\cos{\\left(\\theta_{2} \\right)} & d_{1} + d_{3} \\cos{\\left(\\theta_{2} \\right)}\\\\0 & 0 & 0 & 1\\end{matrix}\\right]$"
      ],
      "text/plain": [
       "Matrix([\n",
       "[cos(theta1)*cos(theta2), -sin(theta1), sin(theta2)*cos(theta1), -d2*sin(theta1) + d3*sin(theta2)*cos(theta1)],\n",
       "[sin(theta1)*cos(theta2),  cos(theta1), sin(theta1)*sin(theta2),  d2*cos(theta1) + d3*sin(theta1)*sin(theta2)],\n",
       "[           -sin(theta2),            0,             cos(theta2),                          d1 + d3*cos(theta2)],\n",
       "[                      0,            0,                       0,                                            1]])"
      ]
     },
     "execution_count": 12,
     "metadata": {},
     "output_type": "execute_result"
    }
   ],
   "source": [
    "T = robot.get_dh_matrix()\n",
    "T"
   ]
  },
  {
   "cell_type": "code",
   "execution_count": 13,
   "id": "52bc50a2-fdc0-4cb5-ab24-01bce01c7949",
   "metadata": {},
   "outputs": [
    {
     "data": {
      "text/latex": [
       "$\\displaystyle - d_{2} \\sin{\\left(\\theta_{1} \\right)} + d_{3} \\sin{\\left(\\theta_{2} \\right)} \\cos{\\left(\\theta_{1} \\right)}$"
      ],
      "text/plain": [
       "-d2*sin(theta1) + d3*sin(theta2)*cos(theta1)"
      ]
     },
     "execution_count": 13,
     "metadata": {},
     "output_type": "execute_result"
    }
   ],
   "source": [
    "x,y,z=T[:3,3]\n",
    "x"
   ]
  },
  {
   "cell_type": "code",
   "execution_count": 18,
   "id": "a5f3d253-b066-4426-bae8-be24c73b4724",
   "metadata": {},
   "outputs": [
    {
     "data": {
      "text/latex": [
       "$\\displaystyle d_{1} + d_{3} \\cos{\\left(\\theta_{2} \\right)}$"
      ],
      "text/plain": [
       "d1 + d3*cos(theta2)"
      ]
     },
     "execution_count": 18,
     "metadata": {},
     "output_type": "execute_result"
    }
   ],
   "source": [
    "z"
   ]
  },
  {
   "cell_type": "code",
   "execution_count": 17,
   "id": "b95b4211-bba1-4cb3-9815-7449adf04124",
   "metadata": {},
   "outputs": [
    {
     "data": {
      "text/latex": [
       "$\\displaystyle d_{2} \\cos{\\left(\\theta_{1} \\right)} + d_{3} \\sin{\\left(\\theta_{1} \\right)} \\sin{\\left(\\theta_{2} \\right)}$"
      ],
      "text/plain": [
       "d2*cos(theta1) + d3*sin(theta1)*sin(theta2)"
      ]
     },
     "execution_count": 17,
     "metadata": {},
     "output_type": "execute_result"
    }
   ],
   "source": [
    "y"
   ]
  },
  {
   "cell_type": "code",
   "execution_count": 33,
   "id": "4b12190d-f60c-44a2-8b54-7e3153f47293",
   "metadata": {},
   "outputs": [
    {
     "data": {
      "text/plain": [
       "[(-d2*y - x*sqrt(d2**2 - x**2 + y**2))/(x**2 - y**2),\n",
       " (-d2*y + x*sqrt(d2**2 - x**2 + y**2))/(x**2 - y**2)]"
      ]
     },
     "execution_count": 33,
     "metadata": {},
     "output_type": "execute_result"
    }
   ],
   "source": [
    "t, x, y, d2=sp.symbols('t, x, y, d2')\n",
    "sp.solve((y**2-x**2)*t**2-2*y*d2*t+d2**2-x**2,t)"
   ]
  },
  {
   "cell_type": "markdown",
   "id": "22af0f4e-a978-4fd1-bb13-01d145d8cc56",
   "metadata": {},
   "source": [
    "# 2.63"
   ]
  },
  {
   "cell_type": "code",
   "execution_count": 2,
   "id": "72224187-2905-472d-97ce-3703bdab0beb",
   "metadata": {},
   "outputs": [
    {
     "data": {
      "application/vnd.jupyter.widget-view+json": {
       "model_id": "532241556ebc4ceba19196c62d678736",
       "version_major": 2,
       "version_minor": 0
      },
      "text/plain": [
       "VBox(children=(HBox(children=(ToggleButton(value=True, description='Исклучи цртање'), Button(description='Пром…"
      ]
     },
     "metadata": {},
     "output_type": "display_data"
    }
   ],
   "source": [
    "theta3, theta2, d1, a2, a3 = sp.symbols('theta3, theta2, d1, a2, a3')\n",
    "robot = rt.SerialLinkRobot()\n",
    "robot.add_prismatic_joint(0,d1,0,sp.pi/2)\n",
    "robot.add_revolute_joint(theta2,0,a2,-sp.pi/2)\n",
    "robot.add_revolute_joint(theta3,0,a3,0)\n",
    "robot.add_subs([(a2,1),(a3,1)])\n",
    "robot.interact()"
   ]
  },
  {
   "cell_type": "code",
   "execution_count": 3,
   "id": "ffe49b61-5ef2-47ba-9d42-997e658b74e2",
   "metadata": {},
   "outputs": [
    {
     "data": {
      "text/latex": [
       "$\\displaystyle \\left[\\begin{matrix}\\cos{\\left(\\theta_{2} \\right)} \\cos{\\left(\\theta_{3} \\right)} & - \\sin{\\left(\\theta_{3} \\right)} \\cos{\\left(\\theta_{2} \\right)} & - \\sin{\\left(\\theta_{2} \\right)} & \\left(a_{2} + a_{3} \\cos{\\left(\\theta_{3} \\right)}\\right) \\cos{\\left(\\theta_{2} \\right)}\\\\\\sin{\\left(\\theta_{3} \\right)} & \\cos{\\left(\\theta_{3} \\right)} & 0 & a_{3} \\sin{\\left(\\theta_{3} \\right)}\\\\\\sin{\\left(\\theta_{2} \\right)} \\cos{\\left(\\theta_{3} \\right)} & - \\sin{\\left(\\theta_{2} \\right)} \\sin{\\left(\\theta_{3} \\right)} & \\cos{\\left(\\theta_{2} \\right)} & a_{2} \\sin{\\left(\\theta_{2} \\right)} + a_{3} \\sin{\\left(\\theta_{2} \\right)} \\cos{\\left(\\theta_{3} \\right)} + d_{1}\\\\0 & 0 & 0 & 1\\end{matrix}\\right]$"
      ],
      "text/plain": [
       "Matrix([\n",
       "[cos(theta2)*cos(theta3), -sin(theta3)*cos(theta2), -sin(theta2),                (a2 + a3*cos(theta3))*cos(theta2)],\n",
       "[            sin(theta3),              cos(theta3),            0,                                   a3*sin(theta3)],\n",
       "[sin(theta2)*cos(theta3), -sin(theta2)*sin(theta3),  cos(theta2), a2*sin(theta2) + a3*sin(theta2)*cos(theta3) + d1],\n",
       "[                      0,                        0,            0,                                                1]])"
      ]
     },
     "execution_count": 3,
     "metadata": {},
     "output_type": "execute_result"
    }
   ],
   "source": [
    "T = robot.get_dh_matrix()\n",
    "T"
   ]
  },
  {
   "cell_type": "code",
   "execution_count": 4,
   "id": "f5e1c337-47fe-464f-9c3c-19468aebf85b",
   "metadata": {
    "tags": []
   },
   "outputs": [
    {
     "data": {
      "text/latex": [
       "$\\displaystyle \\left(a_{2} + a_{3} \\cos{\\left(\\theta_{3} \\right)}\\right) \\cos{\\left(\\theta_{2} \\right)}$"
      ],
      "text/plain": [
       "(a2 + a3*cos(theta3))*cos(theta2)"
      ]
     },
     "execution_count": 4,
     "metadata": {},
     "output_type": "execute_result"
    }
   ],
   "source": [
    "xe,ye,ze=T[:3,3]\n",
    "xe"
   ]
  },
  {
   "cell_type": "code",
   "execution_count": 5,
   "id": "567e7b06-4716-411b-9ab3-df818db05006",
   "metadata": {
    "tags": []
   },
   "outputs": [],
   "source": [
    "x, y, z, s3, c3, s2, c2 = sp.symbols('x, y, z, s3, c3, s2, c2')\n",
    "subs = [(sp.sin(theta3), s3), (sp.cos(theta3), c3),\n",
    "        (sp.sin(theta2), s2), (sp.cos(theta2), c2)]\n",
    "xe, ye, ze = [eq.subs(subs) for eq in [xe, ye, ze]]"
   ]
  },
  {
   "cell_type": "code",
   "execution_count": 6,
   "id": "635291a0-1357-400a-b783-1edee3f237f7",
   "metadata": {
    "tags": []
   },
   "outputs": [
    {
     "data": {
      "text/latex": [
       "$\\displaystyle c_{2} \\left(a_{2} + a_{3} c_{3}\\right)$"
      ],
      "text/plain": [
       "c2*(a2 + a3*c3)"
      ]
     },
     "execution_count": 6,
     "metadata": {},
     "output_type": "execute_result"
    }
   ],
   "source": [
    "xe"
   ]
  },
  {
   "cell_type": "code",
   "execution_count": 8,
   "id": "48a4fdcb-678b-4b66-99a0-61bf32c1c9e2",
   "metadata": {},
   "outputs": [
    {
     "data": {
      "text/latex": [
       "$\\displaystyle \\left\\{\\left( \\frac{y}{a_{3}}, \\  - \\frac{\\sqrt{a_{3}^{2} - y^{2}}}{a_{3}}, \\  \\frac{\\left(- a_{2} - \\sqrt{a_{3}^{2} - y^{2}}\\right) \\sqrt{a_{2}^{2} - 2 a_{2} \\sqrt{a_{3}^{2} - y^{2}} + a_{3}^{2} - x^{2} - y^{2}}}{a_{2}^{2} - a_{3}^{2} + y^{2}}, \\  \\frac{x \\left(a_{2} + \\sqrt{a_{3}^{2} - y^{2}}\\right)}{a_{2}^{2} - a_{3}^{2} + y^{2}}, \\  z + \\sqrt{a_{2}^{2} - 2 a_{2} \\sqrt{a_{3}^{2} - y^{2}} + a_{3}^{2} - x^{2} - y^{2}}\\right), \\left( \\frac{y}{a_{3}}, \\  - \\frac{\\sqrt{a_{3}^{2} - y^{2}}}{a_{3}}, \\  \\frac{\\left(a_{2} + \\sqrt{a_{3}^{2} - y^{2}}\\right) \\sqrt{a_{2}^{2} - 2 a_{2} \\sqrt{a_{3}^{2} - y^{2}} + a_{3}^{2} - x^{2} - y^{2}}}{a_{2}^{2} - a_{3}^{2} + y^{2}}, \\  \\frac{x \\left(a_{2} + \\sqrt{a_{3}^{2} - y^{2}}\\right)}{a_{2}^{2} - a_{3}^{2} + y^{2}}, \\  z - \\sqrt{a_{2}^{2} - 2 a_{2} \\sqrt{a_{3}^{2} - y^{2}} + a_{3}^{2} - x^{2} - y^{2}}\\right), \\left( \\frac{y}{a_{3}}, \\  \\frac{\\sqrt{a_{3}^{2} - y^{2}}}{a_{3}}, \\  \\frac{\\left(- a_{2} + \\sqrt{a_{3}^{2} - y^{2}}\\right) \\sqrt{a_{2}^{2} + 2 a_{2} \\sqrt{a_{3}^{2} - y^{2}} + a_{3}^{2} - x^{2} - y^{2}}}{a_{2}^{2} - a_{3}^{2} + y^{2}}, \\  \\frac{x \\left(a_{2} - \\sqrt{a_{3}^{2} - y^{2}}\\right)}{a_{2}^{2} - a_{3}^{2} + y^{2}}, \\  z + \\sqrt{a_{2}^{2} + 2 a_{2} \\sqrt{a_{3}^{2} - y^{2}} + a_{3}^{2} - x^{2} - y^{2}}\\right), \\left( \\frac{y}{a_{3}}, \\  \\frac{\\sqrt{a_{3}^{2} - y^{2}}}{a_{3}}, \\  \\frac{\\left(a_{2} - \\sqrt{a_{3}^{2} - y^{2}}\\right) \\sqrt{a_{2}^{2} + 2 a_{2} \\sqrt{a_{3}^{2} - y^{2}} + a_{3}^{2} - x^{2} - y^{2}}}{a_{2}^{2} - a_{3}^{2} + y^{2}}, \\  \\frac{x \\left(a_{2} - \\sqrt{a_{3}^{2} - y^{2}}\\right)}{a_{2}^{2} - a_{3}^{2} + y^{2}}, \\  z - \\sqrt{a_{2}^{2} + 2 a_{2} \\sqrt{a_{3}^{2} - y^{2}} + a_{3}^{2} - x^{2} - y^{2}}\\right)\\right\\}$"
      ],
      "text/plain": [
       "{(y/a3, -sqrt(a3**2 - y**2)/a3, (-a2 - sqrt(a3**2 - y**2))*sqrt(a2**2 - 2*a2*sqrt(a3**2 - y**2) + a3**2 - x**2 - y**2)/(a2**2 - a3**2 + y**2), x*(a2 + sqrt(a3**2 - y**2))/(a2**2 - a3**2 + y**2), z + sqrt(a2**2 - 2*a2*sqrt(a3**2 - y**2) + a3**2 - x**2 - y**2)), (y/a3, -sqrt(a3**2 - y**2)/a3, (a2 + sqrt(a3**2 - y**2))*sqrt(a2**2 - 2*a2*sqrt(a3**2 - y**2) + a3**2 - x**2 - y**2)/(a2**2 - a3**2 + y**2), x*(a2 + sqrt(a3**2 - y**2))/(a2**2 - a3**2 + y**2), z - sqrt(a2**2 - 2*a2*sqrt(a3**2 - y**2) + a3**2 - x**2 - y**2)), (y/a3, sqrt(a3**2 - y**2)/a3, (-a2 + sqrt(a3**2 - y**2))*sqrt(a2**2 + 2*a2*sqrt(a3**2 - y**2) + a3**2 - x**2 - y**2)/(a2**2 - a3**2 + y**2), x*(a2 - sqrt(a3**2 - y**2))/(a2**2 - a3**2 + y**2), z + sqrt(a2**2 + 2*a2*sqrt(a3**2 - y**2) + a3**2 - x**2 - y**2)), (y/a3, sqrt(a3**2 - y**2)/a3, (a2 - sqrt(a3**2 - y**2))*sqrt(a2**2 + 2*a2*sqrt(a3**2 - y**2) + a3**2 - x**2 - y**2)/(a2**2 - a3**2 + y**2), x*(a2 - sqrt(a3**2 - y**2))/(a2**2 - a3**2 + y**2), z - sqrt(a2**2 + 2*a2*sqrt(a3**2 - y**2) + a3**2 - x**2 - y**2))}"
      ]
     },
     "execution_count": 8,
     "metadata": {},
     "output_type": "execute_result"
    }
   ],
   "source": [
    "equations = [\n",
    "    xe - x,\n",
    "    ye - y,\n",
    "    ze - z,\n",
    "    s3**2 + c3**2 - 1,\n",
    "    s2**2 + c2**2 - 1,\n",
    "]\n",
    "solutions = sp.nonlinsolve(equations, [s3, c3, s2, c2, d1])\n",
    "solutions"
   ]
  },
  {
   "cell_type": "code",
   "execution_count": 9,
   "id": "644503c6-24cf-4d27-9479-46956767e93b",
   "metadata": {},
   "outputs": [
    {
     "data": {
      "text/latex": [
       "$\\displaystyle \\left\\{\\left( 0.82, \\  -0.572363520850168, \\  - 0.916366671151053 \\sqrt{2} i, \\  1.63690431974289, \\  0.391871816861289 \\sqrt{2} i\\right), \\left( 0.82, \\  -0.572363520850168, \\  0.916366671151053 \\sqrt{2} i, \\  1.63690431974289, \\  - 0.391871816861289 \\sqrt{2} i\\right), \\left( 0.82, \\  0.572363520850168, \\  - 0.633169075369282 \\sqrt{2}, \\  0.445189671928737, \\  0.99557195664109 \\sqrt{2}\\right), \\left( 0.82, \\  0.572363520850168, \\  0.633169075369282 \\sqrt{2}, \\  0.445189671928737, \\  - 0.99557195664109 \\sqrt{2}\\right)\\right\\}$"
      ],
      "text/plain": [
       "{(0.82, -0.572363520850168, -0.916366671151053*sqrt(2)*I, 1.63690431974289, 0.391871816861289*sqrt(2)*I), (0.82, -0.572363520850168, 0.916366671151053*sqrt(2)*I, 1.63690431974289, -0.391871816861289*sqrt(2)*I), (0.82, 0.572363520850168, -0.633169075369282*sqrt(2), 0.445189671928737, 0.99557195664109*sqrt(2)), (0.82, 0.572363520850168, 0.633169075369282*sqrt(2), 0.445189671928737, -0.99557195664109*sqrt(2))}"
      ]
     },
     "execution_count": 9,
     "metadata": {},
     "output_type": "execute_result"
    }
   ],
   "source": [
    "xn, yn, zn = 0.7, 0.82, 0\n",
    "solutions_subs = solutions.subs([(a2, 1), (a3,1), (x, xn), (y, yn), (z, zn)])\n",
    "solutions_subs"
   ]
  },
  {
   "cell_type": "code",
   "execution_count": 21,
   "id": "0ed86afb-5848-4641-a463-94314f7635bf",
   "metadata": {},
   "outputs": [
    {
     "name": "stdout",
     "output_type": "stream",
     "text": [
      "Решение 1 (0.9614110187641015, -1.1094102564264403, 1.4079513634001477)\n",
      "Решение 2 (0.9614110187641015, 1.1094102564264403, -1.4079513634001477)\n"
     ]
    },
    {
     "ename": "TypeError",
     "evalue": "Cannot convert complex to float",
     "output_type": "error",
     "traceback": [
      "\u001b[0;31m---------------------------------------------------------------------------\u001b[0m",
      "\u001b[0;31mTypeError\u001b[0m                                 Traceback (most recent call last)",
      "Cell \u001b[0;32mIn[21], line 8\u001b[0m\n\u001b[1;32m      4\u001b[0m theta3n \u001b[38;5;241m=\u001b[39m sp\u001b[38;5;241m.\u001b[39matan2(s3n, c3n)\n\u001b[1;32m      5\u001b[0m theta2n \u001b[38;5;241m=\u001b[39m sp\u001b[38;5;241m.\u001b[39matan2(s2n, c2n)\n\u001b[1;32m      6\u001b[0m q_value \u001b[38;5;241m=\u001b[39m (\n\u001b[1;32m      7\u001b[0m     \u001b[38;5;28mfloat\u001b[39m(theta3n\u001b[38;5;241m.\u001b[39mevalf(\u001b[38;5;241m3000\u001b[39m)),\n\u001b[0;32m----> 8\u001b[0m     \u001b[38;5;28;43mfloat\u001b[39;49m\u001b[43m(\u001b[49m\u001b[43mtheta2n\u001b[49m\u001b[38;5;241;43m.\u001b[39;49m\u001b[43mevalf\u001b[49m\u001b[43m(\u001b[49m\u001b[38;5;241;43m3000\u001b[39;49m\u001b[43m)\u001b[49m\u001b[43m)\u001b[49m,\n\u001b[1;32m      9\u001b[0m     \u001b[38;5;28mfloat\u001b[39m(d1n\u001b[38;5;241m.\u001b[39mevalf(\u001b[38;5;241m3000\u001b[39m))\n\u001b[1;32m     10\u001b[0m )\n\u001b[1;32m     11\u001b[0m q_values\u001b[38;5;241m.\u001b[39mappend(q_value)\n\u001b[1;32m     12\u001b[0m \u001b[38;5;28mprint\u001b[39m(\u001b[38;5;124mf\u001b[39m\u001b[38;5;124m'\u001b[39m\u001b[38;5;124mРешение \u001b[39m\u001b[38;5;132;01m{\u001b[39;00mi\u001b[38;5;241m+\u001b[39m\u001b[38;5;241m1\u001b[39m\u001b[38;5;132;01m}\u001b[39;00m\u001b[38;5;124m \u001b[39m\u001b[38;5;132;01m{\u001b[39;00mq_value\u001b[38;5;132;01m}\u001b[39;00m\u001b[38;5;124m'\u001b[39m)\n",
      "File \u001b[0;32m~/miniconda3/envs/mel/lib/python3.10/site-packages/sympy/core/expr.py:350\u001b[0m, in \u001b[0;36mExpr.__float__\u001b[0;34m(self)\u001b[0m\n\u001b[1;32m    348\u001b[0m     \u001b[38;5;28;01mreturn\u001b[39;00m \u001b[38;5;28mfloat\u001b[39m(result)\n\u001b[1;32m    349\u001b[0m \u001b[38;5;28;01mif\u001b[39;00m result\u001b[38;5;241m.\u001b[39mis_number \u001b[38;5;129;01mand\u001b[39;00m result\u001b[38;5;241m.\u001b[39mas_real_imag()[\u001b[38;5;241m1\u001b[39m]:\n\u001b[0;32m--> 350\u001b[0m     \u001b[38;5;28;01mraise\u001b[39;00m \u001b[38;5;167;01mTypeError\u001b[39;00m(\u001b[38;5;124m\"\u001b[39m\u001b[38;5;124mCannot convert complex to float\u001b[39m\u001b[38;5;124m\"\u001b[39m)\n\u001b[1;32m    351\u001b[0m \u001b[38;5;28;01mraise\u001b[39;00m \u001b[38;5;167;01mTypeError\u001b[39;00m(\u001b[38;5;124m\"\u001b[39m\u001b[38;5;124mCannot convert expression to float\u001b[39m\u001b[38;5;124m\"\u001b[39m)\n",
      "\u001b[0;31mTypeError\u001b[0m: Cannot convert complex to float"
     ]
    }
   ],
   "source": [
    "q_values = []\n",
    "for i, solution in enumerate(solutions_subs):\n",
    "    s3n, c3n, s2n, c2n, d1n = solution\n",
    "    theta3n = sp.atan2(s3n, c3n)\n",
    "    theta2n = sp.atan2(s2n, c2n)\n",
    "    q_value = (\n",
    "        float(theta3n.evalf(3000)),\n",
    "        float(theta2n.evalf(3000)),\n",
    "        float(d1n.evalf(3000))\n",
    "    )\n",
    "    q_values.append(q_value)\n",
    "    print(f'Решение {i+1} {q_value}') # gi dava dvete reshenija shto ne se so imaginaren del"
   ]
  },
  {
   "cell_type": "code",
   "execution_count": 23,
   "id": "76f72aec-5775-42ab-82c9-fc8070efbb7d",
   "metadata": {},
   "outputs": [
    {
     "data": {
      "text/latex": [
       "$\\displaystyle \\left[\\begin{matrix}0.254810328071263 & -0.365055530981564 & 0.895436293662471 & 0.7\\\\0.82 & 0.572363520850168 & 0 & 0.82\\\\-0.512515069737677 & 0.734257760803226 & 0.445189671928737 & -1.11022302462516 \\cdot 10^{-16}\\\\0 & 0 & 0 & 1\\end{matrix}\\right]$"
      ],
      "text/plain": [
       "Matrix([\n",
       "[ 0.254810328071263, -0.365055530981564, 0.895436293662471,                   0.7],\n",
       "[              0.82,  0.572363520850168,                 0,                  0.82],\n",
       "[-0.512515069737677,  0.734257760803226, 0.445189671928737, -1.11022302462516e-16],\n",
       "[                 0,                  0,                 0,                     1]])"
      ]
     },
     "metadata": {},
     "output_type": "display_data"
    },
    {
     "data": {
      "text/latex": [
       "$\\displaystyle \\left[\\begin{matrix}0.254810328071263 & -0.365055530981564 & -0.895436293662471 & 0.7\\\\0.82 & 0.572363520850168 & 0 & 0.82\\\\0.512515069737677 & -0.734257760803226 & 0.445189671928737 & 1.11022302462516 \\cdot 10^{-16}\\\\0 & 0 & 0 & 1\\end{matrix}\\right]$"
      ],
      "text/plain": [
       "Matrix([\n",
       "[0.254810328071263, -0.365055530981564, -0.895436293662471,                  0.7],\n",
       "[             0.82,  0.572363520850168,                  0,                 0.82],\n",
       "[0.512515069737677, -0.734257760803226,  0.445189671928737, 1.11022302462516e-16],\n",
       "[                0,                  0,                  0,                    1]])"
      ]
     },
     "metadata": {},
     "output_type": "display_data"
    }
   ],
   "source": [
    "for q_value in q_values:\n",
    "    display(T.subs([*zip([theta3, theta2, d1], q_value)]).subs([(a2, 1),(a3,1)]))"
   ]
  },
  {
   "cell_type": "markdown",
   "id": "52435359-2817-48d4-abc7-bd06f853111e",
   "metadata": {},
   "source": [
    "# 2.64"
   ]
  },
  {
   "cell_type": "code",
   "execution_count": 24,
   "id": "ad2e8d03-2886-4853-a256-786792bf0d82",
   "metadata": {},
   "outputs": [
    {
     "data": {
      "application/vnd.jupyter.widget-view+json": {
       "model_id": "aa0af1e3462c45f5a2af6f502f06661d",
       "version_major": 2,
       "version_minor": 0
      },
      "text/plain": [
       "VBox(children=(HBox(children=(ToggleButton(value=True, description='Исклучи цртање'), Button(description='Пром…"
      ]
     },
     "metadata": {},
     "output_type": "display_data"
    }
   ],
   "source": [
    "theta1, theta3, theta2, d4, l1, l2, l3 = sp.symbols('theta1, theta3, theta2, d4, l1, l2, l3')\n",
    "robot = rt.SerialLinkRobot()\n",
    "robot.add_revolute_joint(theta1,0,l1,-sp.pi/2)\n",
    "robot.add_revolute_joint(theta2,0,l2,sp.pi/2)\n",
    "robot.add_revolute_joint(theta3,0,l3,0)\n",
    "robot.add_prismatic_joint(0,d4,0,0)\n",
    "robot.add_subs([(l1,1),(l2,1),(l3,1)])\n",
    "robot.interact()"
   ]
  },
  {
   "cell_type": "code",
   "execution_count": 25,
   "id": "00c45f54-a027-46b7-9ca4-565feb9f8ede",
   "metadata": {},
   "outputs": [
    {
     "data": {
      "text/latex": [
       "$\\displaystyle \\left[\\begin{matrix}- \\sin{\\left(\\theta_{1} \\right)} \\sin{\\left(\\theta_{3} \\right)} + \\cos{\\left(\\theta_{1} \\right)} \\cos{\\left(\\theta_{2} \\right)} \\cos{\\left(\\theta_{3} \\right)} & - \\sin{\\left(\\theta_{1} \\right)} \\cos{\\left(\\theta_{3} \\right)} - \\sin{\\left(\\theta_{3} \\right)} \\cos{\\left(\\theta_{1} \\right)} \\cos{\\left(\\theta_{2} \\right)} & \\sin{\\left(\\theta_{2} \\right)} \\cos{\\left(\\theta_{1} \\right)} & d_{4} \\sin{\\left(\\theta_{2} \\right)} \\cos{\\left(\\theta_{1} \\right)} + l_{1} \\cos{\\left(\\theta_{1} \\right)} + l_{2} \\cos{\\left(\\theta_{1} \\right)} \\cos{\\left(\\theta_{2} \\right)} - l_{3} \\sin{\\left(\\theta_{1} \\right)} \\sin{\\left(\\theta_{3} \\right)} + l_{3} \\cos{\\left(\\theta_{1} \\right)} \\cos{\\left(\\theta_{2} \\right)} \\cos{\\left(\\theta_{3} \\right)}\\\\\\sin{\\left(\\theta_{1} \\right)} \\cos{\\left(\\theta_{2} \\right)} \\cos{\\left(\\theta_{3} \\right)} + \\sin{\\left(\\theta_{3} \\right)} \\cos{\\left(\\theta_{1} \\right)} & - \\sin{\\left(\\theta_{1} \\right)} \\sin{\\left(\\theta_{3} \\right)} \\cos{\\left(\\theta_{2} \\right)} + \\cos{\\left(\\theta_{1} \\right)} \\cos{\\left(\\theta_{3} \\right)} & \\sin{\\left(\\theta_{1} \\right)} \\sin{\\left(\\theta_{2} \\right)} & d_{4} \\sin{\\left(\\theta_{1} \\right)} \\sin{\\left(\\theta_{2} \\right)} + l_{1} \\sin{\\left(\\theta_{1} \\right)} + l_{2} \\sin{\\left(\\theta_{1} \\right)} \\cos{\\left(\\theta_{2} \\right)} + l_{3} \\sin{\\left(\\theta_{1} \\right)} \\cos{\\left(\\theta_{2} \\right)} \\cos{\\left(\\theta_{3} \\right)} + l_{3} \\sin{\\left(\\theta_{3} \\right)} \\cos{\\left(\\theta_{1} \\right)}\\\\- \\sin{\\left(\\theta_{2} \\right)} \\cos{\\left(\\theta_{3} \\right)} & \\sin{\\left(\\theta_{2} \\right)} \\sin{\\left(\\theta_{3} \\right)} & \\cos{\\left(\\theta_{2} \\right)} & d_{4} \\cos{\\left(\\theta_{2} \\right)} - l_{2} \\sin{\\left(\\theta_{2} \\right)} - l_{3} \\sin{\\left(\\theta_{2} \\right)} \\cos{\\left(\\theta_{3} \\right)}\\\\0 & 0 & 0 & 1\\end{matrix}\\right]$"
      ],
      "text/plain": [
       "Matrix([\n",
       "[-sin(theta1)*sin(theta3) + cos(theta1)*cos(theta2)*cos(theta3), -sin(theta1)*cos(theta3) - sin(theta3)*cos(theta1)*cos(theta2), sin(theta2)*cos(theta1), d4*sin(theta2)*cos(theta1) + l1*cos(theta1) + l2*cos(theta1)*cos(theta2) - l3*sin(theta1)*sin(theta3) + l3*cos(theta1)*cos(theta2)*cos(theta3)],\n",
       "[ sin(theta1)*cos(theta2)*cos(theta3) + sin(theta3)*cos(theta1), -sin(theta1)*sin(theta3)*cos(theta2) + cos(theta1)*cos(theta3), sin(theta1)*sin(theta2), d4*sin(theta1)*sin(theta2) + l1*sin(theta1) + l2*sin(theta1)*cos(theta2) + l3*sin(theta1)*cos(theta2)*cos(theta3) + l3*sin(theta3)*cos(theta1)],\n",
       "[                                      -sin(theta2)*cos(theta3),                                        sin(theta2)*sin(theta3),             cos(theta2),                                                                                   d4*cos(theta2) - l2*sin(theta2) - l3*sin(theta2)*cos(theta3)],\n",
       "[                                                             0,                                                              0,                       0,                                                                                                                                              1]])"
      ]
     },
     "execution_count": 25,
     "metadata": {},
     "output_type": "execute_result"
    }
   ],
   "source": [
    "T = robot.get_dh_matrix()\n",
    "T"
   ]
  },
  {
   "cell_type": "code",
   "execution_count": 29,
   "id": "fe2f6a7a-fd2f-4513-a92a-9d296064ab42",
   "metadata": {},
   "outputs": [
    {
     "data": {
      "text/latex": [
       "$\\displaystyle d_{4} \\sin{\\left(\\theta_{2} \\right)} \\cos{\\left(\\theta_{1} \\right)} + l_{1} \\cos{\\left(\\theta_{1} \\right)} + l_{2} \\cos{\\left(\\theta_{1} \\right)} \\cos{\\left(\\theta_{2} \\right)} - l_{3} \\sin{\\left(\\theta_{1} \\right)} \\sin{\\left(\\theta_{3} \\right)} + l_{3} \\cos{\\left(\\theta_{1} \\right)} \\cos{\\left(\\theta_{2} \\right)} \\cos{\\left(\\theta_{3} \\right)}$"
      ],
      "text/plain": [
       "d4*sin(theta2)*cos(theta1) + l1*cos(theta1) + l2*cos(theta1)*cos(theta2) - l3*sin(theta1)*sin(theta3) + l3*cos(theta1)*cos(theta2)*cos(theta3)"
      ]
     },
     "execution_count": 29,
     "metadata": {},
     "output_type": "execute_result"
    }
   ],
   "source": [
    "xe,ye,ze=T[:3,3]\n",
    "xe"
   ]
  },
  {
   "cell_type": "code",
   "execution_count": 32,
   "id": "b1168296-29c2-4921-b675-6f7ac89e0b5a",
   "metadata": {},
   "outputs": [],
   "source": [
    "x, y, z, s1, c1, s2, c2, s3, c3, d4 = sp.symbols('x, y, z, s1, c1, s2, c2, s3, c3, d4')\n",
    "subs = [(sp.sin(theta1), s1), (sp.cos(theta1), c1),\n",
    "        (sp.sin(theta3), s3), (sp.cos(theta3), c3),\n",
    "        (sp.sin(theta2), s2), (sp.cos(theta2), c2)]\n",
    "xe, ye, ze = [eq.subs(subs) for eq in [xe, ye, ze]]"
   ]
  },
  {
   "cell_type": "code",
   "execution_count": 33,
   "id": "392046a0-0b87-4268-bfb1-8c13d2f5b036",
   "metadata": {},
   "outputs": [
    {
     "data": {
      "text/latex": [
       "$\\displaystyle c_{1} c_{2} c_{3} l_{3} + c_{1} c_{2} l_{2} + c_{1} d_{4} s_{2} + c_{1} l_{1} - l_{3} s_{1} s_{3}$"
      ],
      "text/plain": [
       "c1*c2*c3*l3 + c1*c2*l2 + c1*d4*s2 + c1*l1 - l3*s1*s3"
      ]
     },
     "execution_count": 33,
     "metadata": {},
     "output_type": "execute_result"
    }
   ],
   "source": [
    "xe"
   ]
  },
  {
   "cell_type": "code",
   "execution_count": null,
   "id": "5764fd2f-1e29-4035-93b8-156a1a1c3ef5",
   "metadata": {},
   "outputs": [],
   "source": [
    "equations = [\n",
    "    xe - x,\n",
    "    ye - y,\n",
    "    ze - z,\n",
    "    s3**2 + c3**2 - 1,\n",
    "    s2**2 + c2**2 - 1,\n",
    "]\n",
    "solutions = sp.nonlinsolve(equations, [s3, c3, s2, c2, d4, s1, c1])\n",
    "solutions"
   ]
  },
  {
   "cell_type": "code",
   "execution_count": null,
   "id": "cf2c7ee7-b2d6-4f26-8ae7-fdfc5729db04",
   "metadata": {},
   "outputs": [],
   "source": [
    "xn, yn, zn = 0.7, 0.82, 0\n",
    "solutions_subs = solutions.subs([(l2, 1), (l3,1), (l1,1), (x, xn), (y, yn), (z, zn)])\n",
    "solutions_subs"
   ]
  },
  {
   "cell_type": "code",
   "execution_count": null,
   "id": "dd4fda9a-cc4f-46ca-87ad-c72ef10d4660",
   "metadata": {},
   "outputs": [],
   "source": [
    "q_values = []\n",
    "for i, solution in enumerate(solutions_subs):\n",
    "    s3n, c3n, s2n, c2n, d1n = solution\n",
    "    theta3n = sp.atan2(s3n, c3n)\n",
    "    theta2n = sp.atan2(s2n, c2n)\n",
    "    q_value = (\n",
    "        float(theta3n.evalf(3000)),\n",
    "        float(theta2n.evalf(3000)),\n",
    "        float(d1n.evalf(3000))\n",
    "    )\n",
    "    q_values.append(q_value)\n",
    "    print(f'Решение {i+1} {q_value}') "
   ]
  },
  {
   "cell_type": "code",
   "execution_count": null,
   "id": "b2f5b4d0-dcb3-4aca-a439-d127efc5b298",
   "metadata": {},
   "outputs": [],
   "source": []
  },
  {
   "cell_type": "markdown",
   "id": "da90429c-0f5f-4ce4-a1db-d9afadff7d5b",
   "metadata": {},
   "source": [
    "# 2.65"
   ]
  },
  {
   "cell_type": "code",
   "execution_count": 27,
   "id": "5b5d016e-5575-4ca0-9504-69374a89cc52",
   "metadata": {},
   "outputs": [
    {
     "data": {
      "application/vnd.jupyter.widget-view+json": {
       "model_id": "e09a496b42874d6aa608e2b0bea00da7",
       "version_major": 2,
       "version_minor": 0
      },
      "text/plain": [
       "VBox(children=(HBox(children=(ToggleButton(value=True, description='Исклучи цртање'), Button(description='Пром…"
      ]
     },
     "metadata": {},
     "output_type": "display_data"
    }
   ],
   "source": [
    "theta1, theta3, theta2, d3, l1, l2, l3 = sp.symbols('theta1, theta3, theta2, d3, l1, l2, l3')\n",
    "robot = rt.SerialLinkRobot()\n",
    "robot.add_revolute_joint(theta1,l1,0,-sp.pi/2)\n",
    "robot.add_revolute_joint(theta2,l2,0,sp.pi/2)\n",
    "robot.add_prismatic_joint(0,d3,0,0)\n",
    "robot.add_subs([(l1,1),(l2,1)])\n",
    "robot.interact()"
   ]
  },
  {
   "cell_type": "code",
   "execution_count": 28,
   "id": "8209604b-87f5-48b6-83af-9be2d416f81f",
   "metadata": {},
   "outputs": [
    {
     "data": {
      "text/latex": [
       "$\\displaystyle \\left[\\begin{matrix}\\cos{\\left(\\theta_{1} \\right)} \\cos{\\left(\\theta_{2} \\right)} & - \\sin{\\left(\\theta_{1} \\right)} & \\sin{\\left(\\theta_{2} \\right)} \\cos{\\left(\\theta_{1} \\right)} & d_{3} \\sin{\\left(\\theta_{2} \\right)} \\cos{\\left(\\theta_{1} \\right)} - l_{2} \\sin{\\left(\\theta_{1} \\right)}\\\\\\sin{\\left(\\theta_{1} \\right)} \\cos{\\left(\\theta_{2} \\right)} & \\cos{\\left(\\theta_{1} \\right)} & \\sin{\\left(\\theta_{1} \\right)} \\sin{\\left(\\theta_{2} \\right)} & d_{3} \\sin{\\left(\\theta_{1} \\right)} \\sin{\\left(\\theta_{2} \\right)} + l_{2} \\cos{\\left(\\theta_{1} \\right)}\\\\- \\sin{\\left(\\theta_{2} \\right)} & 0 & \\cos{\\left(\\theta_{2} \\right)} & d_{3} \\cos{\\left(\\theta_{2} \\right)} + l_{1}\\\\0 & 0 & 0 & 1\\end{matrix}\\right]$"
      ],
      "text/plain": [
       "Matrix([\n",
       "[cos(theta1)*cos(theta2), -sin(theta1), sin(theta2)*cos(theta1), d3*sin(theta2)*cos(theta1) - l2*sin(theta1)],\n",
       "[sin(theta1)*cos(theta2),  cos(theta1), sin(theta1)*sin(theta2), d3*sin(theta1)*sin(theta2) + l2*cos(theta1)],\n",
       "[           -sin(theta2),            0,             cos(theta2),                         d3*cos(theta2) + l1],\n",
       "[                      0,            0,                       0,                                           1]])"
      ]
     },
     "execution_count": 28,
     "metadata": {},
     "output_type": "execute_result"
    }
   ],
   "source": [
    "T = robot.get_dh_matrix()\n",
    "T"
   ]
  },
  {
   "cell_type": "code",
   "execution_count": null,
   "id": "9d7b1a71-6de9-4393-9342-d1291b05a204",
   "metadata": {},
   "outputs": [],
   "source": []
  }
 ],
 "metadata": {
  "kernelspec": {
   "display_name": "Python 3 (ipykernel)",
   "language": "python",
   "name": "python3"
  },
  "language_info": {
   "codemirror_mode": {
    "name": "ipython",
    "version": 3
   },
   "file_extension": ".py",
   "mimetype": "text/x-python",
   "name": "python",
   "nbconvert_exporter": "python",
   "pygments_lexer": "ipython3",
   "version": "3.10.8"
  }
 },
 "nbformat": 4,
 "nbformat_minor": 5
}
