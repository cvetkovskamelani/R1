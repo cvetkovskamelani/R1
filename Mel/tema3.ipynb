{
 "cells": [
  {
   "cell_type": "code",
   "execution_count": 1,
   "id": "22b770f2-8025-4f0a-b9d3-1bf71948773c",
   "metadata": {
    "tags": []
   },
   "outputs": [],
   "source": [
    "import sympy as sp\n",
    "import script as rt\n",
    "from IPython import display\n",
    "from IPython.lib.display import IFrame"
   ]
  },
  {
   "cell_type": "markdown",
   "id": "cb5a8a3c-8d0d-4ca0-bfbe-c84ddb568cf8",
   "metadata": {},
   "source": [
    "# 3.1"
   ]
  },
  {
   "cell_type": "code",
   "execution_count": 3,
   "id": "98e6697c-3648-4eb1-ab33-d05b5508511f",
   "metadata": {},
   "outputs": [
    {
     "data": {
      "text/latex": [
       "$\\displaystyle \\left[\\begin{matrix}0 & 0 & 1 & 2\\\\1 & 0 & 0 & 7\\\\0 & 1 & 0 & 5\\\\0 & 0 & 0 & 1\\end{matrix}\\right]$"
      ],
      "text/plain": [
       "Matrix([\n",
       "[0, 0, 1, 2],\n",
       "[1, 0, 0, 7],\n",
       "[0, 1, 0, 5],\n",
       "[0, 0, 0, 1]])"
      ]
     },
     "execution_count": 3,
     "metadata": {},
     "output_type": "execute_result"
    }
   ],
   "source": [
    "T = sp.Matrix([\n",
    "    [0, 0, 1, 2],\n",
    "    [1, 0, 0, 7],\n",
    "    [0, 1, 0, 5],\n",
    "    [0, 0, 0, 1],\n",
    "])\n",
    "T"
   ]
  },
  {
   "cell_type": "code",
   "execution_count": 4,
   "id": "7781e867-6fcf-4b34-b602-9ae6fe608c4d",
   "metadata": {},
   "outputs": [
    {
     "data": {
      "text/latex": [
       "$\\displaystyle \\left[\\begin{matrix}0 & -0.15 & 0 & 0.1\\\\0.15 & 0 & 0 & 0.1\\\\0 & 0 & 0 & 0.3\\\\0 & 0 & 0 & 0\\end{matrix}\\right]$"
      ],
      "text/plain": [
       "Matrix([\n",
       "[   0, -0.15, 0, 0.1],\n",
       "[0.15,     0, 0, 0.1],\n",
       "[   0,     0, 0, 0.3],\n",
       "[   0,     0, 0,   0]])"
      ]
     },
     "execution_count": 4,
     "metadata": {},
     "output_type": "execute_result"
    }
   ],
   "source": [
    "delta = rt.hdelta3(dRz=0.15, dx=0.1, dy=0.1, dz=0.3)\n",
    "delta"
   ]
  },
  {
   "cell_type": "code",
   "execution_count": 5,
   "id": "badb0756-9707-4488-aeea-17de0b4c9777",
   "metadata": {},
   "outputs": [
    {
     "data": {
      "text/latex": [
       "$\\displaystyle \\left[\\begin{matrix}-0.15 & 0 & 0 & -0.95\\\\0 & 0 & 0.15 & 0.4\\\\0 & 0 & 0 & 0.3\\\\0 & 0 & 0 & 0\\end{matrix}\\right]$"
      ],
      "text/plain": [
       "Matrix([\n",
       "[-0.15, 0,    0, -0.95],\n",
       "[    0, 0, 0.15,   0.4],\n",
       "[    0, 0,    0,   0.3],\n",
       "[    0, 0,    0,     0]])"
      ]
     },
     "execution_count": 5,
     "metadata": {},
     "output_type": "execute_result"
    }
   ],
   "source": [
    "dT = delta * T\n",
    "dT"
   ]
  },
  {
   "cell_type": "code",
   "execution_count": 6,
   "id": "f203580a-e715-44ae-a73d-da0f95ff23af",
   "metadata": {},
   "outputs": [
    {
     "data": {
      "text/latex": [
       "$\\displaystyle \\left[\\begin{matrix}-0.15 & 0 & 1 & 1.05\\\\1 & 0 & 0.15 & 7.4\\\\0 & 1 & 0 & 5.3\\\\0 & 0 & 0 & 1\\end{matrix}\\right]$"
      ],
      "text/plain": [
       "Matrix([\n",
       "[-0.15, 0,    1, 1.05],\n",
       "[    1, 0, 0.15,  7.4],\n",
       "[    0, 1,    0,  5.3],\n",
       "[    0, 0,    0,    1]])"
      ]
     },
     "execution_count": 6,
     "metadata": {},
     "output_type": "execute_result"
    }
   ],
   "source": [
    "Tnew= T + dT\n",
    "Tnew"
   ]
  },
  {
   "cell_type": "markdown",
   "id": "f0e4a268-90b0-4f7c-9c21-53c0830c6d5e",
   "metadata": {},
   "source": [
    "# 3.3"
   ]
  },
  {
   "cell_type": "code",
   "execution_count": 7,
   "id": "1fb69c77-e84b-43fc-949b-2a48ccd5eeb3",
   "metadata": {},
   "outputs": [
    {
     "data": {
      "text/latex": [
       "$\\displaystyle \\left[\\begin{matrix}1 & 0 & 0 & 5\\\\0 & 0 & 1 & 3\\\\0 & -1 & 0 & 8\\\\0 & 0 & 0 & 1\\end{matrix}\\right]$"
      ],
      "text/plain": [
       "Matrix([\n",
       "[1,  0, 0, 5],\n",
       "[0,  0, 1, 3],\n",
       "[0, -1, 0, 8],\n",
       "[0,  0, 0, 1]])"
      ]
     },
     "execution_count": 7,
     "metadata": {},
     "output_type": "execute_result"
    }
   ],
   "source": [
    "T = sp.Matrix([\n",
    "    [1, 0, 0, 5],\n",
    "    [0, 0, 1, 3],\n",
    "    [0, -1, 0, 8],\n",
    "    [0, 0, 0, 1],\n",
    "])\n",
    "T"
   ]
  },
  {
   "cell_type": "code",
   "execution_count": 8,
   "id": "87290ab8-3224-4b3c-aaea-13214bacdbae",
   "metadata": {},
   "outputs": [
    {
     "data": {
      "text/latex": [
       "$\\displaystyle \\left[\\begin{matrix}0 & -0.1 & -0.1 & 0.6\\\\0.1 & 0 & 0 & 0.5\\\\-0.1 & 0 & 0 & -0.5\\\\0 & 0 & 0 & 0\\end{matrix}\\right]$"
      ],
      "text/plain": [
       "Matrix([\n",
       "[   0, -0.1, -0.1,  0.6],\n",
       "[ 0.1,    0,    0,  0.5],\n",
       "[-0.1,    0,    0, -0.5],\n",
       "[   0,    0,    0,    0]])"
      ]
     },
     "execution_count": 8,
     "metadata": {},
     "output_type": "execute_result"
    }
   ],
   "source": [
    "dT = sp.Matrix([\n",
    "    [0, -0.1, -0.1, 0.6],\n",
    "    [0.1, 0, 0, 0.5],\n",
    "    [-0.1, 0, 0, -0.5],\n",
    "    [0, 0, 0, 0],\n",
    "])\n",
    "dT"
   ]
  },
  {
   "cell_type": "code",
   "execution_count": 9,
   "id": "1baa61da-dfd5-4b7c-bf90-5a56c0395580",
   "metadata": {},
   "outputs": [
    {
     "data": {
      "text/latex": [
       "$\\displaystyle \\left[\\begin{matrix}0 & -0.1 & 0.1 & 0.1\\\\0.1 & 0 & 0 & 0\\\\-0.1 & 0 & 0 & 0\\\\0 & 0 & 0 & 0\\end{matrix}\\right]$"
      ],
      "text/plain": [
       "Matrix([\n",
       "[   0, -0.1, 0.1, 0.1],\n",
       "[ 0.1,    0,   0,   0],\n",
       "[-0.1,    0,   0,   0],\n",
       "[   0,    0,   0,   0]])"
      ]
     },
     "execution_count": 9,
     "metadata": {},
     "output_type": "execute_result"
    }
   ],
   "source": [
    "delta = dT * T.inv()\n",
    "delta"
   ]
  },
  {
   "cell_type": "code",
   "execution_count": 11,
   "id": "23cacfef-1589-4c04-81b7-9df3d984ba5f",
   "metadata": {},
   "outputs": [
    {
     "data": {
      "text/latex": [
       "$\\displaystyle \\left[\\begin{matrix}0\\\\0.1\\\\0.1\\\\0.1\\\\0\\\\0\\end{matrix}\\right]$"
      ],
      "text/plain": [
       "Matrix([\n",
       "[  0],\n",
       "[0.1],\n",
       "[0.1],\n",
       "[0.1],\n",
       "[  0],\n",
       "[  0]])"
      ]
     },
     "execution_count": 11,
     "metadata": {},
     "output_type": "execute_result"
    }
   ],
   "source": [
    "rt.extract_hdelta3(delta) #gi dobivame diferencijalnite dvizhenja, prvo rotaciite pa translaciite"
   ]
  },
  {
   "cell_type": "code",
   "execution_count": 12,
   "id": "7dfabe27-e892-4a91-ae4b-a358fe2a91a6",
   "metadata": {},
   "outputs": [
    {
     "data": {
      "text/latex": [
       "$\\displaystyle \\left[\\begin{matrix}0 & -0.1 & -0.1 & 0.6\\\\0.1 & 0 & 0 & 0.5\\\\0.1 & 0 & 0 & 0.5\\\\0 & 0 & 0 & 0\\end{matrix}\\right]$"
      ],
      "text/plain": [
       "Matrix([\n",
       "[  0, -0.1, -0.1, 0.6],\n",
       "[0.1,    0,    0, 0.5],\n",
       "[0.1,    0,    0, 0.5],\n",
       "[  0,    0,    0,   0]])"
      ]
     },
     "execution_count": 12,
     "metadata": {},
     "output_type": "execute_result"
    }
   ],
   "source": [
    "T.inv() * delta * T # izrazena delta vo odnos na t a ne na ref sistem"
   ]
  },
  {
   "cell_type": "markdown",
   "id": "885e630e-7ced-461f-b4a3-df79c09c7fc3",
   "metadata": {},
   "source": [
    "# 3.5"
   ]
  },
  {
   "cell_type": "code",
   "execution_count": 14,
   "id": "6195e5b1-8230-48ac-b428-c4cec7301f84",
   "metadata": {},
   "outputs": [
    {
     "data": {
      "text/latex": [
       "$\\displaystyle \\left[\\begin{matrix}0 & 0 & 1 & 10\\\\1 & 0 & 0 & 5\\\\0 & 0 & -1 & 0\\\\0 & 0 & 0 & 1\\end{matrix}\\right]$"
      ],
      "text/plain": [
       "Matrix([\n",
       "[0, 0,  1, 10],\n",
       "[1, 0,  0,  5],\n",
       "[0, 0, -1,  0],\n",
       "[0, 0,  0,  1]])"
      ]
     },
     "execution_count": 14,
     "metadata": {},
     "output_type": "execute_result"
    }
   ],
   "source": [
    "T6 = sp.Matrix([\n",
    "    [0, 0, 1, 10],\n",
    "    [1, 0, 0, 5],\n",
    "    [0, 0, -1, 0],\n",
    "    [0, 0, 0, 1],\n",
    "])\n",
    "T6"
   ]
  },
  {
   "cell_type": "code",
   "execution_count": 15,
   "id": "86328cfb-60c0-4411-b740-84cb5fae6466",
   "metadata": {},
   "outputs": [
    {
     "data": {
      "text/latex": [
       "$\\displaystyle \\left[\\begin{matrix}8 & 0 & 0 & 0 & 0 & 0\\\\-3 & 0 & 1 & 0 & 0 & 0\\\\0 & 10 & 0 & 0 & 0 & 0\\\\0 & 1 & 0 & 0 & 1 & 0\\\\8 & 0 & 0 & 1 & 0 & 0\\\\-1 & 0 & 0 & 0 & 0 & 1\\end{matrix}\\right]$"
      ],
      "text/plain": [
       "Matrix([\n",
       "[ 8,  0, 0, 0, 0, 0],\n",
       "[-3,  0, 1, 0, 0, 0],\n",
       "[ 0, 10, 0, 0, 0, 0],\n",
       "[ 0,  1, 0, 0, 1, 0],\n",
       "[ 8,  0, 0, 1, 0, 0],\n",
       "[-1,  0, 0, 0, 0, 1]])"
      ]
     },
     "execution_count": 15,
     "metadata": {},
     "output_type": "execute_result"
    }
   ],
   "source": [
    "J = sp.Matrix([\n",
    "    [8, 0, 0, 0, 0, 0],\n",
    "    [-3, 0, 1, 0, 0, 0],\n",
    "    [0, 10, 0, 0, 0, 0],\n",
    "    [0, 1, 0, 0, 1, 0],\n",
    "    [8, 0, 0, 1, 0, 0],\n",
    "    [-1, 0, 0, 0, 0, 1],\n",
    "])\n",
    "J"
   ]
  },
  {
   "cell_type": "code",
   "execution_count": 17,
   "id": "2f42401a-0548-441b-a221-ea73f7c57f47",
   "metadata": {},
   "outputs": [
    {
     "data": {
      "text/latex": [
       "$\\displaystyle \\left[\\begin{matrix}0\\\\0.1\\\\-0.1\\\\0.2\\\\0.2\\\\0\\end{matrix}\\right]$"
      ],
      "text/plain": [
       "Matrix([\n",
       "[   0],\n",
       "[ 0.1],\n",
       "[-0.1],\n",
       "[ 0.2],\n",
       "[ 0.2],\n",
       "[   0]])"
      ]
     },
     "execution_count": 17,
     "metadata": {},
     "output_type": "execute_result"
    }
   ],
   "source": [
    "delta_j = sp.Matrix([0, 0.1, -0.1, 0.2, 0.2, 0])\n",
    "delta_j"
   ]
  },
  {
   "cell_type": "code",
   "execution_count": 18,
   "id": "d1bcb969-8d5c-4220-b012-a4e1655cf644",
   "metadata": {},
   "outputs": [
    {
     "data": {
      "text/latex": [
       "$\\displaystyle \\left[\\begin{matrix}0\\\\-0.1\\\\1.0\\\\0.3\\\\0.2\\\\0\\end{matrix}\\right]$"
      ],
      "text/plain": [
       "Matrix([\n",
       "[   0],\n",
       "[-0.1],\n",
       "[ 1.0],\n",
       "[ 0.3],\n",
       "[ 0.2],\n",
       "[   0]])"
      ]
     },
     "execution_count": 18,
     "metadata": {},
     "output_type": "execute_result"
    }
   ],
   "source": [
    "delta_E = J*delta_j\n",
    "delta_E"
   ]
  },
  {
   "cell_type": "code",
   "execution_count": 21,
   "id": "1646b6cd-83f2-4192-94e7-bcc0bf9b2826",
   "metadata": {
    "tags": []
   },
   "outputs": [
    {
     "data": {
      "text/latex": [
       "$\\displaystyle \\left[\\begin{matrix}0 & -1 & -0.1 & 0.3\\\\1 & 0 & 0 & 0.2\\\\0.1 & 0 & 0 & 0\\\\0 & 0 & 0 & 0\\end{matrix}\\right]$"
      ],
      "text/plain": [
       "Matrix([\n",
       "[  0, -1, -0.1, 0.3],\n",
       "[  1,  0,    0, 0.2],\n",
       "[0.1,  0,    0,   0],\n",
       "[  0,  0,    0,   0]])"
      ]
     },
     "execution_count": 21,
     "metadata": {},
     "output_type": "execute_result"
    }
   ],
   "source": [
    "delta = rt.hdelta3(dRx=0, dRy=-0.1, dRz=1, dx=0.3, dy=0.2, dz=0)\n",
    "delta"
   ]
  },
  {
   "cell_type": "code",
   "execution_count": 22,
   "id": "3d8d13fd-793f-4bf4-9e3d-064e385f570d",
   "metadata": {
    "tags": []
   },
   "outputs": [
    {
     "data": {
      "text/latex": [
       "$\\displaystyle \\left[\\begin{matrix}-1 & 0 & 1.1 & 5.3\\\\1 & 0 & 1 & 15.2\\\\0 & 0 & -0.9 & 1.0\\\\0 & 0 & 0 & 1\\end{matrix}\\right]$"
      ],
      "text/plain": [
       "Matrix([\n",
       "[-1, 0,  1.1,  5.3],\n",
       "[ 1, 0,    1, 15.2],\n",
       "[ 0, 0, -0.9,  1.0],\n",
       "[ 0, 0,    0,    1]])"
      ]
     },
     "execution_count": 22,
     "metadata": {},
     "output_type": "execute_result"
    }
   ],
   "source": [
    "T6new= T6+ delta*T6\n",
    "T6new"
   ]
  },
  {
   "cell_type": "markdown",
   "id": "d627fc69-8521-402b-85fc-4d941f5ecd3c",
   "metadata": {},
   "source": [
    "# 3.7"
   ]
  },
  {
   "cell_type": "code",
   "execution_count": 23,
   "id": "e1ffb5a3-747d-4e29-9210-654a71c6d92a",
   "metadata": {
    "tags": []
   },
   "outputs": [
    {
     "data": {
      "text/latex": [
       "$\\displaystyle \\left[\\begin{matrix}1 & 0 & 0 & 5\\\\0 & 0 & -1 & 3\\\\0 & 1 & 0 & 6\\\\0 & 0 & 0 & 1\\end{matrix}\\right]$"
      ],
      "text/plain": [
       "Matrix([\n",
       "[1, 0,  0, 5],\n",
       "[0, 0, -1, 3],\n",
       "[0, 1,  0, 6],\n",
       "[0, 0,  0, 1]])"
      ]
     },
     "execution_count": 23,
     "metadata": {},
     "output_type": "execute_result"
    }
   ],
   "source": [
    "T1 = sp.Matrix([\n",
    "    [1, 0, 0, 5],\n",
    "    [0, 0, -1, 3],\n",
    "    [0, 1, 0, 6],\n",
    "    [0, 0, 0, 1],\n",
    "])\n",
    "T1"
   ]
  },
  {
   "cell_type": "code",
   "execution_count": 24,
   "id": "f9df8f73-c4c5-4671-aef4-330414460bcd",
   "metadata": {
    "tags": []
   },
   "outputs": [
    {
     "data": {
      "text/latex": [
       "$\\displaystyle \\left[\\begin{matrix}1 & 0 & 0.1 & 4.8\\\\0.1 & 0 & -1 & 3.5\\\\0 & 1 & 0 & 6.2\\\\0 & 0 & 0 & 1\\end{matrix}\\right]$"
      ],
      "text/plain": [
       "Matrix([\n",
       "[  1, 0, 0.1, 4.8],\n",
       "[0.1, 0,  -1, 3.5],\n",
       "[  0, 1,   0, 6.2],\n",
       "[  0, 0,   0,   1]])"
      ]
     },
     "execution_count": 24,
     "metadata": {},
     "output_type": "execute_result"
    }
   ],
   "source": [
    "T2 = sp.Matrix([\n",
    "    [1, 0, 0.1, 4.8],\n",
    "    [0.1, 0, -1, 3.5],\n",
    "    [0, 1, 0, 6.2],\n",
    "    [0, 0, 0, 1],\n",
    "])\n",
    "T2"
   ]
  },
  {
   "cell_type": "code",
   "execution_count": 25,
   "id": "cbc1abdd-f5a2-4056-927d-6c508bf74542",
   "metadata": {
    "tags": []
   },
   "outputs": [
    {
     "data": {
      "text/latex": [
       "$\\displaystyle \\left[\\begin{matrix}0 & 0 & 0.1 & -0.2\\\\0.1 & 0 & 0 & 0.5\\\\0 & 0 & 0 & 0.2\\\\0 & 0 & 0 & 0\\end{matrix}\\right]$"
      ],
      "text/plain": [
       "Matrix([\n",
       "[  0, 0, 0.1, -0.2],\n",
       "[0.1, 0,   0,  0.5],\n",
       "[  0, 0,   0,  0.2],\n",
       "[  0, 0,   0,    0]])"
      ]
     },
     "execution_count": 25,
     "metadata": {},
     "output_type": "execute_result"
    }
   ],
   "source": [
    "dT = T2 - T1\n",
    "dT"
   ]
  },
  {
   "cell_type": "code",
   "execution_count": 26,
   "id": "e8016e64-6340-4304-9bce-2716ea0d34dd",
   "metadata": {
    "tags": []
   },
   "outputs": [
    {
     "data": {
      "text/latex": [
       "$\\displaystyle \\left[\\begin{matrix}0 & -0.1 & 0 & 0.0999999999999999\\\\0.1 & 0 & 0 & 0\\\\0 & 0 & 0 & 0.2\\\\0 & 0 & 0 & 0\\end{matrix}\\right]$"
      ],
      "text/plain": [
       "Matrix([\n",
       "[  0, -0.1, 0, 0.0999999999999999],\n",
       "[0.1,    0, 0,                  0],\n",
       "[  0,    0, 0,                0.2],\n",
       "[  0,    0, 0,                  0]])"
      ]
     },
     "execution_count": 26,
     "metadata": {},
     "output_type": "execute_result"
    }
   ],
   "source": [
    "delta = dT * T1.inv()\n",
    "delta"
   ]
  },
  {
   "cell_type": "markdown",
   "id": "c5a70a32-0ab8-407f-aaff-32b36567c72c",
   "metadata": {},
   "source": [
    "# 3.10"
   ]
  },
  {
   "cell_type": "code",
   "execution_count": 27,
   "id": "aaf2a348-1146-46bc-a73f-701f77e76f3f",
   "metadata": {
    "tags": []
   },
   "outputs": [
    {
     "data": {
      "application/vnd.jupyter.widget-view+json": {
       "model_id": "a8eaec85d8db434987887a0cc29dea2d",
       "version_major": 2,
       "version_minor": 0
      },
      "text/plain": [
       "VBox(children=(HBox(children=(ToggleButton(value=True, description='Исклучи цртање'), Button(description='Пром…"
      ]
     },
     "execution_count": 27,
     "metadata": {},
     "output_type": "execute_result"
    }
   ],
   "source": [
    "d1, d2, theta3, a3 = sp.symbols('d1, d2, theta3, a3')\n",
    "robot = rt.SerialLinkRobot()\n",
    "robot.add_prismatic_joint(0, d1, 0, -sp.pi/2)\n",
    "robot.add_prismatic_joint(0, d2, 0, sp.pi/2)\n",
    "robot.add_revolute_joint(theta3, 0, a3, 0)\n",
    "robot.add_subs([(a3, 1)])\n",
    "robot.interact()"
   ]
  },
  {
   "cell_type": "code",
   "execution_count": 29,
   "id": "d5d36c8b-b2fe-45ee-9060-a301307988c4",
   "metadata": {
    "tags": []
   },
   "outputs": [
    {
     "data": {
      "text/latex": [
       "$\\displaystyle \\left[\\begin{matrix}\\cos{\\left(\\theta_{3} \\right)} & - \\sin{\\left(\\theta_{3} \\right)} & 0 & a_{3} \\cos{\\left(\\theta_{3} \\right)}\\\\\\sin{\\left(\\theta_{3} \\right)} & \\cos{\\left(\\theta_{3} \\right)} & 0 & a_{3} \\sin{\\left(\\theta_{3} \\right)} + d_{2}\\\\0 & 0 & 1 & d_{1}\\\\0 & 0 & 0 & 1\\end{matrix}\\right]$"
      ],
      "text/plain": [
       "Matrix([\n",
       "[cos(theta3), -sin(theta3), 0,      a3*cos(theta3)],\n",
       "[sin(theta3),  cos(theta3), 0, a3*sin(theta3) + d2],\n",
       "[          0,            0, 1,                  d1],\n",
       "[          0,            0, 0,                   1]])"
      ]
     },
     "execution_count": 29,
     "metadata": {},
     "output_type": "execute_result"
    }
   ],
   "source": [
    "robot.get_dh_matrix()"
   ]
  },
  {
   "cell_type": "code",
   "execution_count": 30,
   "id": "8d65cd74-56ce-47c6-9b3b-9a756010ae4a",
   "metadata": {
    "tags": []
   },
   "outputs": [
    {
     "data": {
      "text/latex": [
       "$\\displaystyle \\left[\\begin{matrix}0 & 0 & - a_{3} \\sin{\\left(\\theta_{3} \\right)}\\\\0 & 1 & a_{3} \\cos{\\left(\\theta_{3} \\right)}\\\\1 & 0 & 0\\end{matrix}\\right]$"
      ],
      "text/plain": [
       "Matrix([\n",
       "[0, 0, -a3*sin(theta3)],\n",
       "[0, 1,  a3*cos(theta3)],\n",
       "[1, 0,               0]])"
      ]
     },
     "execution_count": 30,
     "metadata": {},
     "output_type": "execute_result"
    }
   ],
   "source": [
    "J = robot.linear_jacobian()\n",
    "J"
   ]
  },
  {
   "cell_type": "code",
   "execution_count": 32,
   "id": "7ea95e9f-532a-4eac-9e47-0da859f6126b",
   "metadata": {
    "tags": []
   },
   "outputs": [
    {
     "data": {
      "text/latex": [
       "$\\displaystyle a_{3} \\sin{\\left(\\theta_{3} \\right)}$"
      ],
      "text/plain": [
       "a3*sin(theta3)"
      ]
     },
     "execution_count": 32,
     "metadata": {},
     "output_type": "execute_result"
    }
   ],
   "source": [
    "det = sp.det(J)\n",
    "det"
   ]
  },
  {
   "cell_type": "code",
   "execution_count": 33,
   "id": "1670f7a9-138d-4c06-bb58-55005d12c881",
   "metadata": {
    "tags": []
   },
   "outputs": [],
   "source": [
    "#singularitet kje se dobie pri sin(theta3)=0, shto znaci theta3= 0 ili pi"
   ]
  },
  {
   "cell_type": "markdown",
   "id": "2ac5184a-13ff-4618-bc77-c552f7c06f6c",
   "metadata": {},
   "source": [
    "# 3.14"
   ]
  },
  {
   "cell_type": "code",
   "execution_count": 34,
   "id": "a8461560-6a88-4550-81ec-166c812f6ae1",
   "metadata": {
    "tags": []
   },
   "outputs": [
    {
     "data": {
      "application/vnd.jupyter.widget-view+json": {
       "model_id": "118c9e461d88408d98854235f4af93db",
       "version_major": 2,
       "version_minor": 0
      },
      "text/plain": [
       "VBox(children=(HBox(children=(ToggleButton(value=True, description='Исклучи цртање'), Button(description='Пром…"
      ]
     },
     "execution_count": 34,
     "metadata": {},
     "output_type": "execute_result"
    }
   ],
   "source": [
    "theta1, theta2, theta3, l1, l2, l3 = sp.symbols('theta1, theta2, theta3, l1, l2, l3')\n",
    "robot = rt.SerialLinkRobot()\n",
    "robot.add_revolute_joint(theta1,0,l1,0)\n",
    "robot.add_revolute_joint(theta2,0,l2,0)\n",
    "robot.add_revolute_joint(theta3, 0,l3, 0)\n",
    "robot.add_subs([(l1, 1),(l2, 1),(l3, 1)])\n",
    "robot.interact()"
   ]
  },
  {
   "cell_type": "code",
   "execution_count": 35,
   "id": "c1cd81fa-a464-4c17-8c11-e273befb3beb",
   "metadata": {
    "tags": []
   },
   "outputs": [
    {
     "data": {
      "text/latex": [
       "$\\displaystyle \\left[\\begin{matrix}- l_{1} \\sin{\\left(\\theta_{1} \\right)} - l_{2} \\sin{\\left(\\theta_{1} + \\theta_{2} \\right)} - l_{3} \\sin{\\left(\\theta_{1} + \\theta_{2} + \\theta_{3} \\right)} & - l_{2} \\sin{\\left(\\theta_{1} + \\theta_{2} \\right)} - l_{3} \\sin{\\left(\\theta_{1} + \\theta_{2} + \\theta_{3} \\right)} & - l_{3} \\sin{\\left(\\theta_{1} + \\theta_{2} + \\theta_{3} \\right)}\\\\l_{1} \\cos{\\left(\\theta_{1} \\right)} + l_{2} \\cos{\\left(\\theta_{1} + \\theta_{2} \\right)} + l_{3} \\cos{\\left(\\theta_{1} + \\theta_{2} + \\theta_{3} \\right)} & l_{2} \\cos{\\left(\\theta_{1} + \\theta_{2} \\right)} + l_{3} \\cos{\\left(\\theta_{1} + \\theta_{2} + \\theta_{3} \\right)} & l_{3} \\cos{\\left(\\theta_{1} + \\theta_{2} + \\theta_{3} \\right)}\\\\0 & 0 & 0\\end{matrix}\\right]$"
      ],
      "text/plain": [
       "Matrix([\n",
       "[-l1*sin(theta1) - l2*sin(theta1 + theta2) - l3*sin(theta1 + theta2 + theta3), -l2*sin(theta1 + theta2) - l3*sin(theta1 + theta2 + theta3), -l3*sin(theta1 + theta2 + theta3)],\n",
       "[ l1*cos(theta1) + l2*cos(theta1 + theta2) + l3*cos(theta1 + theta2 + theta3),  l2*cos(theta1 + theta2) + l3*cos(theta1 + theta2 + theta3),  l3*cos(theta1 + theta2 + theta3)],\n",
       "[                                                                           0,                                                           0,                                 0]])"
      ]
     },
     "execution_count": 35,
     "metadata": {},
     "output_type": "execute_result"
    }
   ],
   "source": [
    "J = robot.linear_jacobian()\n",
    "J"
   ]
  },
  {
   "cell_type": "code",
   "execution_count": 41,
   "id": "028f0e74-244d-412e-b310-0ead4e12c3f4",
   "metadata": {
    "tags": []
   },
   "outputs": [
    {
     "data": {
      "text/latex": [
       "$\\displaystyle - l_{1} l_{2} \\sin{\\left(\\theta_{1} \\right)} \\cos{\\left(\\theta_{1} + \\theta_{2} \\right)} + l_{1} l_{2} \\sin{\\left(\\theta_{1} + \\theta_{2} \\right)} \\cos{\\left(\\theta_{1} \\right)} - l_{1} l_{3} \\sin{\\left(\\theta_{1} \\right)} \\cos{\\left(\\theta_{1} + \\theta_{2} + \\theta_{3} \\right)} + l_{1} l_{3} \\sin{\\left(\\theta_{1} + \\theta_{2} + \\theta_{3} \\right)} \\cos{\\left(\\theta_{1} \\right)}$"
      ],
      "text/plain": [
       "-l1*l2*sin(theta1)*cos(theta1 + theta2) + l1*l2*sin(theta1 + theta2)*cos(theta1) - l1*l3*sin(theta1)*cos(theta1 + theta2 + theta3) + l1*l3*sin(theta1 + theta2 + theta3)*cos(theta1)"
      ]
     },
     "execution_count": 41,
     "metadata": {},
     "output_type": "execute_result"
    }
   ],
   "source": [
    "det = sp.det(J[:2,:2]) #mora kratenje na redici zs ednata e cela nuli\n",
    "det"
   ]
  },
  {
   "cell_type": "code",
   "execution_count": 42,
   "id": "9b5d7114-5b84-4870-b711-4ccc20840c95",
   "metadata": {
    "tags": []
   },
   "outputs": [
    {
     "data": {
      "text/latex": [
       "$\\displaystyle \\left[\\begin{matrix}- l_{1} \\sin{\\left(\\theta_{1} \\right)} - l_{2} \\sin{\\left(\\theta_{1} + \\theta_{2} \\right)} - l_{3} \\sin{\\left(\\theta_{1} + \\theta_{2} + \\theta_{3} \\right)} & - l_{2} \\sin{\\left(\\theta_{1} + \\theta_{2} \\right)} - l_{3} \\sin{\\left(\\theta_{1} + \\theta_{2} + \\theta_{3} \\right)} & - l_{3} \\sin{\\left(\\theta_{1} + \\theta_{2} + \\theta_{3} \\right)}\\\\l_{1} \\cos{\\left(\\theta_{1} \\right)} + l_{2} \\cos{\\left(\\theta_{1} + \\theta_{2} \\right)} + l_{3} \\cos{\\left(\\theta_{1} + \\theta_{2} + \\theta_{3} \\right)} & l_{2} \\cos{\\left(\\theta_{1} + \\theta_{2} \\right)} + l_{3} \\cos{\\left(\\theta_{1} + \\theta_{2} + \\theta_{3} \\right)} & l_{3} \\cos{\\left(\\theta_{1} + \\theta_{2} + \\theta_{3} \\right)}\\\\0 & 0 & 0\\\\0 & 0 & 0\\\\0 & 0 & 0\\\\1 & 1 & 1\\end{matrix}\\right]$"
      ],
      "text/plain": [
       "Matrix([\n",
       "[-l1*sin(theta1) - l2*sin(theta1 + theta2) - l3*sin(theta1 + theta2 + theta3), -l2*sin(theta1 + theta2) - l3*sin(theta1 + theta2 + theta3), -l3*sin(theta1 + theta2 + theta3)],\n",
       "[ l1*cos(theta1) + l2*cos(theta1 + theta2) + l3*cos(theta1 + theta2 + theta3),  l2*cos(theta1 + theta2) + l3*cos(theta1 + theta2 + theta3),  l3*cos(theta1 + theta2 + theta3)],\n",
       "[                                                                           0,                                                           0,                                 0],\n",
       "[                                                                           0,                                                           0,                                 0],\n",
       "[                                                                           0,                                                           0,                                 0],\n",
       "[                                                                           1,                                                           1,                                 1]])"
      ]
     },
     "execution_count": 42,
     "metadata": {},
     "output_type": "execute_result"
    }
   ],
   "source": [
    "J1 = robot.jacobian() # zatoa aj da go zememe golemiov i redicata so edinici kje ja zeeme za da e kvadratna\n",
    "J1"
   ]
  },
  {
   "cell_type": "code",
   "execution_count": 46,
   "id": "c943fdb6-0377-4d69-b79f-374fc12eb248",
   "metadata": {
    "tags": []
   },
   "outputs": [
    {
     "data": {
      "text/latex": [
       "$\\displaystyle \\left[\\begin{matrix}- l_{1} \\sin{\\left(\\theta_{1} \\right)} - l_{2} \\sin{\\left(\\theta_{1} + \\theta_{2} \\right)} - l_{3} \\sin{\\left(\\theta_{1} + \\theta_{2} + \\theta_{3} \\right)} & - l_{2} \\sin{\\left(\\theta_{1} + \\theta_{2} \\right)} - l_{3} \\sin{\\left(\\theta_{1} + \\theta_{2} + \\theta_{3} \\right)} & - l_{3} \\sin{\\left(\\theta_{1} + \\theta_{2} + \\theta_{3} \\right)}\\\\l_{1} \\cos{\\left(\\theta_{1} \\right)} + l_{2} \\cos{\\left(\\theta_{1} + \\theta_{2} \\right)} + l_{3} \\cos{\\left(\\theta_{1} + \\theta_{2} + \\theta_{3} \\right)} & l_{2} \\cos{\\left(\\theta_{1} + \\theta_{2} \\right)} + l_{3} \\cos{\\left(\\theta_{1} + \\theta_{2} + \\theta_{3} \\right)} & l_{3} \\cos{\\left(\\theta_{1} + \\theta_{2} + \\theta_{3} \\right)}\\\\1 & 1 & 1\\end{matrix}\\right]$"
      ],
      "text/plain": [
       "Matrix([\n",
       "[-l1*sin(theta1) - l2*sin(theta1 + theta2) - l3*sin(theta1 + theta2 + theta3), -l2*sin(theta1 + theta2) - l3*sin(theta1 + theta2 + theta3), -l3*sin(theta1 + theta2 + theta3)],\n",
       "[ l1*cos(theta1) + l2*cos(theta1 + theta2) + l3*cos(theta1 + theta2 + theta3),  l2*cos(theta1 + theta2) + l3*cos(theta1 + theta2 + theta3),  l3*cos(theta1 + theta2 + theta3)],\n",
       "[                                                                           1,                                                           1,                                 1]])"
      ]
     },
     "execution_count": 46,
     "metadata": {},
     "output_type": "execute_result"
    }
   ],
   "source": [
    "J11 = sp.Matrix([J1.row(0),J1.row(1),J1.row(5)])\n",
    "J11"
   ]
  },
  {
   "cell_type": "code",
   "execution_count": 47,
   "id": "bd397bc7-bc9b-4044-9e1d-7ff777ec1195",
   "metadata": {
    "tags": []
   },
   "outputs": [
    {
     "data": {
      "text/latex": [
       "$\\displaystyle - l_{1} l_{2} \\sin{\\left(\\theta_{1} \\right)} \\cos{\\left(\\theta_{1} + \\theta_{2} \\right)} + l_{1} l_{2} \\sin{\\left(\\theta_{1} + \\theta_{2} \\right)} \\cos{\\left(\\theta_{1} \\right)}$"
      ],
      "text/plain": [
       "-l1*l2*sin(theta1)*cos(theta1 + theta2) + l1*l2*sin(theta1 + theta2)*cos(theta1)"
      ]
     },
     "execution_count": 47,
     "metadata": {},
     "output_type": "execute_result"
    }
   ],
   "source": [
    "det = sp.det(J11)\n",
    "det"
   ]
  },
  {
   "cell_type": "code",
   "execution_count": 48,
   "id": "125a231b-80e5-42ac-bc72-35f649e6fb01",
   "metadata": {
    "tags": []
   },
   "outputs": [
    {
     "data": {
      "text/latex": [
       "$\\displaystyle \\emptyset$"
      ],
      "text/plain": [
       "EmptySet"
      ]
     },
     "execution_count": 48,
     "metadata": {},
     "output_type": "execute_result"
    }
   ],
   "source": [
    "# barame singulariteti koga theta 1 e vo prashanje\n",
    "interval = sp.Interval(-sp.pi, sp.pi, left_open=True)\n",
    "solution = sp.solveset(det, theta1, interval)\n",
    "solution #singulariteti"
   ]
  },
  {
   "cell_type": "code",
   "execution_count": 49,
   "id": "33889cc2-36b9-4e70-ae60-651bf0e89127",
   "metadata": {
    "tags": []
   },
   "outputs": [
    {
     "data": {
      "text/latex": [
       "$\\displaystyle \\left\\{0, \\pi\\right\\}$"
      ],
      "text/plain": [
       "{0, pi}"
      ]
     },
     "execution_count": 49,
     "metadata": {},
     "output_type": "execute_result"
    }
   ],
   "source": [
    "# barame singulariteti koga theta 2 e vo prashanje\n",
    "interval = sp.Interval(-sp.pi, sp.pi, left_open=True)\n",
    "solution = sp.solveset(det, theta2, interval)\n",
    "solution #singulariteti"
   ]
  },
  {
   "cell_type": "markdown",
   "id": "bbeb8001-082f-47e7-b234-7b986b0914ef",
   "metadata": {},
   "source": [
    "# 3.16"
   ]
  },
  {
   "cell_type": "code",
   "execution_count": 50,
   "id": "bba5a29c-56e2-4584-91c2-0d0f522b8c19",
   "metadata": {
    "tags": []
   },
   "outputs": [
    {
     "data": {
      "image/png": "[encoded data removed]",
      "text/plain": [
       "<IPython.core.display.Image object>"
      ]
     },
     "execution_count": 50,
     "metadata": {
      "image/png": {
       "width": 700
      }
     },
     "output_type": "execute_result"
    }
   ],
   "source": [
    "display.Image('images/3.7.1.png', width=700)"
   ]
  },
  {
   "cell_type": "code",
   "execution_count": 53,
   "id": "c5b85706-e818-4c9d-985a-0dd070f237eb",
   "metadata": {
    "tags": []
   },
   "outputs": [
    {
     "data": {
      "application/vnd.jupyter.widget-view+json": {
       "model_id": "18e83f1908bf4b1ca6b991629c9624c9",
       "version_major": 2,
       "version_minor": 0
      },
      "text/plain": [
       "VBox(children=(HBox(children=(ToggleButton(value=True, description='Исклучи цртање'), Button(description='Пром…"
      ]
     },
     "execution_count": 53,
     "metadata": {},
     "output_type": "execute_result"
    }
   ],
   "source": [
    "d1, theta2, theta3, l2, l3 = sp.symbols('d1, theta2, theta3, l2, l3')\n",
    "robot = rt.SerialLinkRobot()\n",
    "robot.add_prismatic_joint(sp.pi/2,d1,0,sp.pi/2)\n",
    "robot.add_revolute_joint(theta1, 0, l1, 0)\n",
    "robot.add_revolute_joint(theta2, 0, l2, 0)\n",
    "robot.add_subs([(l1, 1), (l2, 1)])\n",
    "robot.interact()"
   ]
  },
  {
   "cell_type": "code",
   "execution_count": 54,
   "id": "9d96e135-da10-4973-ad45-5b0ee5fc6d1c",
   "metadata": {
    "tags": []
   },
   "outputs": [
    {
     "data": {
      "text/latex": [
       "$\\displaystyle \\left[\\begin{matrix}0 & 0 & 0\\\\0 & - l_{1} \\sin{\\left(\\theta_{1} \\right)} - l_{2} \\sin{\\left(\\theta_{1} + \\theta_{2} \\right)} & - l_{2} \\sin{\\left(\\theta_{1} + \\theta_{2} \\right)}\\\\1 & l_{1} \\cos{\\left(\\theta_{1} \\right)} + l_{2} \\cos{\\left(\\theta_{1} + \\theta_{2} \\right)} & l_{2} \\cos{\\left(\\theta_{1} + \\theta_{2} \\right)}\\end{matrix}\\right]$"
      ],
      "text/plain": [
       "Matrix([\n",
       "[0,                                         0,                        0],\n",
       "[0, -l1*sin(theta1) - l2*sin(theta1 + theta2), -l2*sin(theta1 + theta2)],\n",
       "[1,  l1*cos(theta1) + l2*cos(theta1 + theta2),  l2*cos(theta1 + theta2)]])"
      ]
     },
     "execution_count": 54,
     "metadata": {},
     "output_type": "execute_result"
    }
   ],
   "source": [
    "J= robot.linear_jacobian()\n",
    "J"
   ]
  },
  {
   "cell_type": "code",
   "execution_count": 55,
   "id": "06d0f5a2-b992-4f21-9d82-30b44162108e",
   "metadata": {
    "tags": []
   },
   "outputs": [
    {
     "data": {
      "text/latex": [
       "$\\displaystyle \\left[\\begin{matrix}- l_{1} \\sin{\\left(\\theta_{1} \\right)} - l_{2} \\sin{\\left(\\theta_{1} + \\theta_{2} \\right)} & - l_{2} \\sin{\\left(\\theta_{1} + \\theta_{2} \\right)}\\\\l_{1} \\cos{\\left(\\theta_{1} \\right)} + l_{2} \\cos{\\left(\\theta_{1} + \\theta_{2} \\right)} & l_{2} \\cos{\\left(\\theta_{1} + \\theta_{2} \\right)}\\end{matrix}\\right]$"
      ],
      "text/plain": [
       "Matrix([\n",
       "[-l1*sin(theta1) - l2*sin(theta1 + theta2), -l2*sin(theta1 + theta2)],\n",
       "[ l1*cos(theta1) + l2*cos(theta1 + theta2),  l2*cos(theta1 + theta2)]])"
      ]
     },
     "execution_count": 55,
     "metadata": {},
     "output_type": "execute_result"
    }
   ],
   "source": [
    "J1 = J[1:3,1:3]\n",
    "J1"
   ]
  },
  {
   "cell_type": "code",
   "execution_count": 59,
   "id": "315ddba8-2f21-4237-8146-2f1c786d3ac7",
   "metadata": {
    "tags": []
   },
   "outputs": [
    {
     "data": {
      "text/latex": [
       "$\\displaystyle - l_{1} l_{2} \\sin{\\left(\\theta_{1} \\right)} \\cos{\\left(\\theta_{1} + \\theta_{2} \\right)} + l_{1} l_{2} \\sin{\\left(\\theta_{1} + \\theta_{2} \\right)} \\cos{\\left(\\theta_{1} \\right)}$"
      ],
      "text/plain": [
       "-l1*l2*sin(theta1)*cos(theta1 + theta2) + l1*l2*sin(theta1 + theta2)*cos(theta1)"
      ]
     },
     "execution_count": 59,
     "metadata": {},
     "output_type": "execute_result"
    }
   ],
   "source": [
    "det = sp.det(J1)\n",
    "det.simplify()\n",
    "det"
   ]
  },
  {
   "cell_type": "code",
   "execution_count": 57,
   "id": "87dbacc7-1000-437a-97f0-65cf97885415",
   "metadata": {
    "tags": []
   },
   "outputs": [
    {
     "data": {
      "text/latex": [
       "$\\displaystyle \\emptyset$"
      ],
      "text/plain": [
       "EmptySet"
      ]
     },
     "execution_count": 57,
     "metadata": {},
     "output_type": "execute_result"
    }
   ],
   "source": [
    "# barame singulariteti koga theta 1 e vo prashanje\n",
    "interval = sp.Interval(-sp.pi, sp.pi, left_open=True)\n",
    "solution = sp.solveset(det, theta1, interval)\n",
    "solution #singulariteti"
   ]
  },
  {
   "cell_type": "code",
   "execution_count": 58,
   "id": "801e83d0-bd4d-4781-9d49-47a40e20fda6",
   "metadata": {
    "tags": []
   },
   "outputs": [
    {
     "data": {
      "text/latex": [
       "$\\displaystyle \\left\\{0, \\pi\\right\\}$"
      ],
      "text/plain": [
       "{0, pi}"
      ]
     },
     "execution_count": 58,
     "metadata": {},
     "output_type": "execute_result"
    }
   ],
   "source": [
    "# barame singulariteti koga theta 2 e vo prashanje\n",
    "interval = sp.Interval(-sp.pi, sp.pi, left_open=True)\n",
    "solution = sp.solveset(det, theta2, interval)\n",
    "solution #singulariteti"
   ]
  },
  {
   "cell_type": "markdown",
   "id": "a8f16742-6624-4025-a90e-0bf67ede049f",
   "metadata": {},
   "source": [
    "# 3.17"
   ]
  },
  {
   "cell_type": "code",
   "execution_count": 60,
   "id": "fe4b699b-75de-4ea5-ba8d-801a3aa2a8de",
   "metadata": {
    "tags": []
   },
   "outputs": [
    {
     "data": {
      "application/vnd.jupyter.widget-view+json": {
       "model_id": "3ecf703108744cecbf967009c1b57133",
       "version_major": 2,
       "version_minor": 0
      },
      "text/plain": [
       "VBox(children=(HBox(children=(ToggleButton(value=True, description='Исклучи цртање'), Button(description='Пром…"
      ]
     },
     "execution_count": 60,
     "metadata": {},
     "output_type": "execute_result"
    }
   ],
   "source": [
    "theta1, theta2, theta3, l1, l2, l3 = sp.symbols('theta1, theta2, theta3, l1, l2, l3')\n",
    "robot = rt.SerialLinkRobot()\n",
    "robot.add_revolute_joint(theta1, 0, l1, -sp.pi/2)\n",
    "robot.add_revolute_joint(theta2, 0, l2, sp.pi/2)\n",
    "robot.add_revolute_joint(theta3, 0, l3, -sp.pi/2)\n",
    "robot.add_subs([(l1, 1), (l2, 1),(l3,1)])\n",
    "robot.interact()"
   ]
  },
  {
   "cell_type": "code",
   "execution_count": 61,
   "id": "8f496fc3-2f81-47f5-bb0a-2dce54ba8352",
   "metadata": {
    "tags": []
   },
   "outputs": [
    {
     "data": {
      "text/latex": [
       "$\\displaystyle \\left[\\begin{matrix}- l_{1} \\sin{\\left(\\theta_{1} \\right)} - l_{2} \\sin{\\left(\\theta_{1} \\right)} \\cos{\\left(\\theta_{2} \\right)} - l_{3} \\sin{\\left(\\theta_{1} \\right)} \\cos{\\left(\\theta_{2} \\right)} \\cos{\\left(\\theta_{3} \\right)} - l_{3} \\sin{\\left(\\theta_{3} \\right)} \\cos{\\left(\\theta_{1} \\right)} & - \\left(l_{2} + l_{3} \\cos{\\left(\\theta_{3} \\right)}\\right) \\sin{\\left(\\theta_{2} \\right)} \\cos{\\left(\\theta_{1} \\right)} & - l_{3} \\left(\\sin{\\left(\\theta_{1} \\right)} \\cos{\\left(\\theta_{3} \\right)} + \\sin{\\left(\\theta_{3} \\right)} \\cos{\\left(\\theta_{1} \\right)} \\cos{\\left(\\theta_{2} \\right)}\\right)\\\\l_{1} \\cos{\\left(\\theta_{1} \\right)} + l_{2} \\cos{\\left(\\theta_{1} \\right)} \\cos{\\left(\\theta_{2} \\right)} - l_{3} \\sin{\\left(\\theta_{1} \\right)} \\sin{\\left(\\theta_{3} \\right)} + l_{3} \\cos{\\left(\\theta_{1} \\right)} \\cos{\\left(\\theta_{2} \\right)} \\cos{\\left(\\theta_{3} \\right)} & - \\left(l_{2} + l_{3} \\cos{\\left(\\theta_{3} \\right)}\\right) \\sin{\\left(\\theta_{1} \\right)} \\sin{\\left(\\theta_{2} \\right)} & l_{3} \\left(- \\sin{\\left(\\theta_{1} \\right)} \\sin{\\left(\\theta_{3} \\right)} \\cos{\\left(\\theta_{2} \\right)} + \\cos{\\left(\\theta_{1} \\right)} \\cos{\\left(\\theta_{3} \\right)}\\right)\\\\0 & - \\left(l_{2} + l_{3} \\cos{\\left(\\theta_{3} \\right)}\\right) \\cos{\\left(\\theta_{2} \\right)} & l_{3} \\sin{\\left(\\theta_{2} \\right)} \\sin{\\left(\\theta_{3} \\right)}\\\\0 & - \\sin{\\left(\\theta_{1} \\right)} & \\sin{\\left(\\theta_{2} \\right)} \\cos{\\left(\\theta_{1} \\right)}\\\\0 & \\cos{\\left(\\theta_{1} \\right)} & \\sin{\\left(\\theta_{1} \\right)} \\sin{\\left(\\theta_{2} \\right)}\\\\1 & 0 & \\cos{\\left(\\theta_{2} \\right)}\\end{matrix}\\right]$"
      ],
      "text/plain": [
       "Matrix([\n",
       "[-l1*sin(theta1) - l2*sin(theta1)*cos(theta2) - l3*sin(theta1)*cos(theta2)*cos(theta3) - l3*sin(theta3)*cos(theta1), -(l2 + l3*cos(theta3))*sin(theta2)*cos(theta1), -l3*(sin(theta1)*cos(theta3) + sin(theta3)*cos(theta1)*cos(theta2))],\n",
       "[ l1*cos(theta1) + l2*cos(theta1)*cos(theta2) - l3*sin(theta1)*sin(theta3) + l3*cos(theta1)*cos(theta2)*cos(theta3), -(l2 + l3*cos(theta3))*sin(theta1)*sin(theta2), l3*(-sin(theta1)*sin(theta3)*cos(theta2) + cos(theta1)*cos(theta3))],\n",
       "[                                                                                                                 0,             -(l2 + l3*cos(theta3))*cos(theta2),                                          l3*sin(theta2)*sin(theta3)],\n",
       "[                                                                                                                 0,                                   -sin(theta1),                                             sin(theta2)*cos(theta1)],\n",
       "[                                                                                                                 0,                                    cos(theta1),                                             sin(theta1)*sin(theta2)],\n",
       "[                                                                                                                 1,                                              0,                                                         cos(theta2)]])"
      ]
     },
     "execution_count": 61,
     "metadata": {},
     "output_type": "execute_result"
    }
   ],
   "source": [
    "J = robot.jacobian()\n",
    "J"
   ]
  },
  {
   "cell_type": "code",
   "execution_count": 62,
   "id": "efab058e-8d85-4f10-ade4-4dc979dfd72d",
   "metadata": {
    "tags": []
   },
   "outputs": [
    {
     "data": {
      "text/latex": [
       "$\\displaystyle \\left[\\begin{matrix}- l_{1} \\sin{\\left(\\theta_{1} \\right)} - l_{2} \\sin{\\left(\\theta_{1} \\right)} \\cos{\\left(\\theta_{2} \\right)} - l_{3} \\sin{\\left(\\theta_{1} \\right)} \\cos{\\left(\\theta_{2} \\right)} \\cos{\\left(\\theta_{3} \\right)} - l_{3} \\sin{\\left(\\theta_{3} \\right)} \\cos{\\left(\\theta_{1} \\right)} & - \\left(l_{2} + l_{3} \\cos{\\left(\\theta_{3} \\right)}\\right) \\sin{\\left(\\theta_{2} \\right)} \\cos{\\left(\\theta_{1} \\right)} & - l_{3} \\left(\\sin{\\left(\\theta_{1} \\right)} \\cos{\\left(\\theta_{3} \\right)} + \\sin{\\left(\\theta_{3} \\right)} \\cos{\\left(\\theta_{1} \\right)} \\cos{\\left(\\theta_{2} \\right)}\\right)\\\\l_{1} \\cos{\\left(\\theta_{1} \\right)} + l_{2} \\cos{\\left(\\theta_{1} \\right)} \\cos{\\left(\\theta_{2} \\right)} - l_{3} \\sin{\\left(\\theta_{1} \\right)} \\sin{\\left(\\theta_{3} \\right)} + l_{3} \\cos{\\left(\\theta_{1} \\right)} \\cos{\\left(\\theta_{2} \\right)} \\cos{\\left(\\theta_{3} \\right)} & - \\left(l_{2} + l_{3} \\cos{\\left(\\theta_{3} \\right)}\\right) \\sin{\\left(\\theta_{1} \\right)} \\sin{\\left(\\theta_{2} \\right)} & l_{3} \\left(- \\sin{\\left(\\theta_{1} \\right)} \\sin{\\left(\\theta_{3} \\right)} \\cos{\\left(\\theta_{2} \\right)} + \\cos{\\left(\\theta_{1} \\right)} \\cos{\\left(\\theta_{3} \\right)}\\right)\\\\0 & - \\left(l_{2} + l_{3} \\cos{\\left(\\theta_{3} \\right)}\\right) \\cos{\\left(\\theta_{2} \\right)} & l_{3} \\sin{\\left(\\theta_{2} \\right)} \\sin{\\left(\\theta_{3} \\right)}\\end{matrix}\\right]$"
      ],
      "text/plain": [
       "Matrix([\n",
       "[-l1*sin(theta1) - l2*sin(theta1)*cos(theta2) - l3*sin(theta1)*cos(theta2)*cos(theta3) - l3*sin(theta3)*cos(theta1), -(l2 + l3*cos(theta3))*sin(theta2)*cos(theta1), -l3*(sin(theta1)*cos(theta3) + sin(theta3)*cos(theta1)*cos(theta2))],\n",
       "[ l1*cos(theta1) + l2*cos(theta1)*cos(theta2) - l3*sin(theta1)*sin(theta3) + l3*cos(theta1)*cos(theta2)*cos(theta3), -(l2 + l3*cos(theta3))*sin(theta1)*sin(theta2), l3*(-sin(theta1)*sin(theta3)*cos(theta2) + cos(theta1)*cos(theta3))],\n",
       "[                                                                                                                 0,             -(l2 + l3*cos(theta3))*cos(theta2),                                          l3*sin(theta2)*sin(theta3)]])"
      ]
     },
     "execution_count": 62,
     "metadata": {},
     "output_type": "execute_result"
    }
   ],
   "source": [
    "Jv = robot.linear_jacobian()\n",
    "Jv"
   ]
  },
  {
   "cell_type": "code",
   "execution_count": 69,
   "id": "76063d16-54aa-45b9-9113-031c52b81cc1",
   "metadata": {
    "tags": []
   },
   "outputs": [
    {
     "data": {
      "text/latex": [
       "$\\displaystyle \\left(\\cos{\\left(\\theta_{2} \\right)} \\cos{\\left(\\theta_{3} \\right)} + \\cos{\\left(\\theta_{2} \\right)} + \\cos{\\left(\\theta_{3} \\right)} + 1\\right) \\sin{\\left(\\theta_{3} \\right)}$"
      ],
      "text/plain": [
       "(cos(theta2)*cos(theta3) + cos(theta2) + cos(theta3) + 1)*sin(theta3)"
      ]
     },
     "execution_count": 69,
     "metadata": {},
     "output_type": "execute_result"
    }
   ],
   "source": [
    "det = sp.det(Jv)\n",
    "det = det.simplify()\n",
    "det = det.subs([(l1,1),(l2,1),(l3,1)])\n",
    "det"
   ]
  },
  {
   "cell_type": "code",
   "execution_count": 70,
   "id": "7c6e0bae-d58b-4fde-a795-9ca9da9f7667",
   "metadata": {
    "tags": []
   },
   "outputs": [
    {
     "data": {
      "text/latex": [
       "$\\displaystyle \\left\\{\\pi\\right\\}$"
      ],
      "text/plain": [
       "{pi}"
      ]
     },
     "execution_count": 70,
     "metadata": {},
     "output_type": "execute_result"
    }
   ],
   "source": [
    "# barame singulariteti koga theta 2 e vo prashanje\n",
    "interval = sp.Interval(-sp.pi, sp.pi, left_open=True)\n",
    "solution = sp.solveset(det, theta2, interval)\n",
    "solution #singulariteti"
   ]
  },
  {
   "cell_type": "code",
   "execution_count": 71,
   "id": "a1c00876-ebf9-4993-8b1e-c40f53bad5be",
   "metadata": {
    "tags": []
   },
   "outputs": [
    {
     "data": {
      "text/latex": [
       "$\\displaystyle \\left\\{0, \\pi\\right\\}$"
      ],
      "text/plain": [
       "{0, pi}"
      ]
     },
     "execution_count": 71,
     "metadata": {},
     "output_type": "execute_result"
    }
   ],
   "source": [
    "# barame singulariteti koga theta 3 e vo prashanje\n",
    "interval = sp.Interval(-sp.pi, sp.pi, left_open=True)\n",
    "solution = sp.solveset(det, theta3, interval)\n",
    "solution #singulariteti"
   ]
  },
  {
   "cell_type": "code",
   "execution_count": 72,
   "id": "2fdf74dc-6c8b-457c-a759-4ed1addc0c6f",
   "metadata": {
    "tags": []
   },
   "outputs": [],
   "source": [
    "# pri theta2 = pi, zglobovite 1 i 3 kako da se poklopuvaat i go gubime dvizhenjeto na izvrshniot element, \n",
    "# bidejkji dvizhenjata na zglob 1 i tri kje se poklopuvaat"
   ]
  },
  {
   "cell_type": "code",
   "execution_count": 73,
   "id": "5899f537-9e4f-427d-9f64-7e16d61bcd0b",
   "metadata": {
    "tags": []
   },
   "outputs": [],
   "source": [
    "# koga theta3 = 0 togash ne e vozmozhno nikakvo dvozhenje vo pravez na x3 oskata"
   ]
  },
  {
   "cell_type": "code",
   "execution_count": 74,
   "id": "941a9b0e-61c8-44a4-b9a3-99b37361ef11",
   "metadata": {
    "tags": []
   },
   "outputs": [],
   "source": [
    "# koga theta3 = pi x3 kje se svrti vo obratna nasoka i kje se poklopi so x1 no vo sprotivna nasoka, so shto kje se onevozmozhni dvizhenje po x3\n",
    "# isto taka nema da mozhe da ima dvizhenje po z1 zatoa shto kje se poklopi vtoriot zglob"
   ]
  },
  {
   "cell_type": "markdown",
   "id": "28e85905-e0af-4fdf-ab5f-f48cd1588897",
   "metadata": {},
   "source": [
    "# 3.18"
   ]
  },
  {
   "cell_type": "code",
   "execution_count": 2,
   "id": "9291c739-c10c-4f4f-b3e2-591258f363c6",
   "metadata": {
    "tags": []
   },
   "outputs": [
    {
     "data": {
      "application/vnd.jupyter.widget-view+json": {
       "model_id": "44c58061d1fd44d78b1fb3fdb6aab989",
       "version_major": 2,
       "version_minor": 0
      },
      "text/plain": [
       "VBox(children=(HBox(children=(ToggleButton(value=True, description='Исклучи цртање'), Button(description='Пром…"
      ]
     },
     "execution_count": 2,
     "metadata": {},
     "output_type": "execute_result"
    }
   ],
   "source": [
    "theta1, theta2, theta3, l1, l2, l3, d1 = sp.symbols('theta1, theta2, theta3, l1, l2, l3, d1')\n",
    "robot = rt.SerialLinkRobot()\n",
    "robot.add_prismatic_joint(sp.pi/2,d1,l1,sp.pi/2)\n",
    "robot.add_revolute_joint(theta2, 0, l2, 0)\n",
    "robot.add_subs([(l1, 1), (l2, 1),(l3,1)])\n",
    "robot.interact()"
   ]
  },
  {
   "cell_type": "code",
   "execution_count": 3,
   "id": "ee7705fb-f520-45f4-890c-9cece24c243a",
   "metadata": {
    "tags": []
   },
   "outputs": [
    {
     "data": {
      "text/latex": [
       "$\\displaystyle \\left[\\begin{matrix}0 & 0\\\\0 & - l_{2} \\sin{\\left(\\theta_{2} \\right)}\\\\1 & l_{2} \\cos{\\left(\\theta_{2} \\right)}\\end{matrix}\\right]$"
      ],
      "text/plain": [
       "Matrix([\n",
       "[0,               0],\n",
       "[0, -l2*sin(theta2)],\n",
       "[1,  l2*cos(theta2)]])"
      ]
     },
     "execution_count": 3,
     "metadata": {},
     "output_type": "execute_result"
    }
   ],
   "source": [
    "Jv = robot.linear_jacobian()\n",
    "Jv"
   ]
  },
  {
   "cell_type": "code",
   "execution_count": 4,
   "id": "42c124bf-b346-4b6a-827a-8bdd633416b4",
   "metadata": {
    "tags": []
   },
   "outputs": [
    {
     "data": {
      "text/latex": [
       "$\\displaystyle \\left[\\begin{matrix}0 & 0\\\\0 & - l_{2} \\sin{\\left(\\theta_{2} \\right)}\\\\1 & l_{2} \\cos{\\left(\\theta_{2} \\right)}\\\\0 & 1\\\\0 & 0\\\\0 & 0\\end{matrix}\\right]$"
      ],
      "text/plain": [
       "Matrix([\n",
       "[0,               0],\n",
       "[0, -l2*sin(theta2)],\n",
       "[1,  l2*cos(theta2)],\n",
       "[0,               1],\n",
       "[0,               0],\n",
       "[0,               0]])"
      ]
     },
     "execution_count": 4,
     "metadata": {},
     "output_type": "execute_result"
    }
   ],
   "source": [
    "J= robot.jacobian()\n",
    "J"
   ]
  },
  {
   "cell_type": "code",
   "execution_count": 8,
   "id": "4c2aa4c4-e7f3-4110-a21c-0d622cb3144d",
   "metadata": {
    "tags": []
   },
   "outputs": [
    {
     "data": {
      "text/latex": [
       "$\\displaystyle \\left[\\begin{matrix}0 & - l_{2} \\sin{\\left(\\theta_{2} \\right)}\\\\1 & l_{2} \\cos{\\left(\\theta_{2} \\right)}\\end{matrix}\\right]$"
      ],
      "text/plain": [
       "Matrix([\n",
       "[0, -l2*sin(theta2)],\n",
       "[1,  l2*cos(theta2)]])"
      ]
     },
     "execution_count": 8,
     "metadata": {},
     "output_type": "execute_result"
    }
   ],
   "source": [
    "J1 = Jv[1:3,:]\n",
    "J1"
   ]
  },
  {
   "cell_type": "code",
   "execution_count": 9,
   "id": "3bf189b5-625f-4520-8c0c-2ee09fd17c5c",
   "metadata": {
    "tags": []
   },
   "outputs": [
    {
     "data": {
      "text/latex": [
       "$\\displaystyle l_{2} \\sin{\\left(\\theta_{2} \\right)}$"
      ],
      "text/plain": [
       "l2*sin(theta2)"
      ]
     },
     "execution_count": 9,
     "metadata": {},
     "output_type": "execute_result"
    }
   ],
   "source": [
    "det = sp.det(J1)\n",
    "det"
   ]
  },
  {
   "cell_type": "markdown",
   "id": "ff02bf8c-4be1-4eb6-a4a3-eeb8e91db657",
   "metadata": {},
   "source": [
    "* сингуларитети се одредуваат така што детерминантата на Јакобијанот треба да е 0, па затоа може да забележиме дека во овој случај само тета2 е потенцијален случај за сингуларитет\n",
    "* кога тета2= 0 или пи добиваме сингуларитет\n",
    "* при фиксирање на тета2=0, забележуваме дека извршниот елемент ќе може да се движи само по својата локална y2 оска, бидејќи единствено призматичниот зглоб ќе има способност да се движи по својата z0 оска\n",
    "* при фиксирање на тета2=pi, забележуваме дека извршниот елемент ќе се поклопи со призматичниот зглоб така што неговата z оска ќе се поклопи со x оската на призматичниот зглоб, а z оската на зглобот ќе се поклопи во обратен правез со y оската на извршниот елемент. така повторно се губи движењето по x i z оските на извршниот елемент"
   ]
  },
  {
   "cell_type": "markdown",
   "id": "0c3d6303-cd68-4ce2-b4c1-0cd36afc5c3b",
   "metadata": {},
   "source": [
    "# 3.21"
   ]
  },
  {
   "cell_type": "code",
   "execution_count": 10,
   "id": "8de2e3d7-c587-41e6-8e74-b763f1cd89b3",
   "metadata": {
    "tags": []
   },
   "outputs": [
    {
     "data": {
      "application/vnd.jupyter.widget-view+json": {
       "model_id": "47e97b395308401a9b662f430b7af927",
       "version_major": 2,
       "version_minor": 0
      },
      "text/plain": [
       "VBox(children=(HBox(children=(ToggleButton(value=True, description='Исклучи цртање'), Button(description='Пром…"
      ]
     },
     "execution_count": 10,
     "metadata": {},
     "output_type": "execute_result"
    }
   ],
   "source": [
    "theta1, theta2, l1, l2 = sp.symbols('theta1, theta2, l1, l2')\n",
    "robot = rt.SerialLinkRobot()\n",
    "robot.add_revolute_joint(theta1, 0, l1, 0)\n",
    "robot.add_revolute_joint(theta2, 0, l2, 0)\n",
    "robot.add_subs([(l1, 1), (l2, 1)])\n",
    "robot.interact()"
   ]
  },
  {
   "cell_type": "code",
   "execution_count": 11,
   "id": "4a09d634-9b73-428b-9b74-43dcd837615d",
   "metadata": {
    "tags": []
   },
   "outputs": [
    {
     "data": {
      "text/latex": [
       "$\\displaystyle \\left[\\begin{matrix}- l_{1} \\sin{\\left(\\theta_{1} \\right)} - l_{2} \\sin{\\left(\\theta_{1} + \\theta_{2} \\right)} & - l_{2} \\sin{\\left(\\theta_{1} + \\theta_{2} \\right)}\\\\l_{1} \\cos{\\left(\\theta_{1} \\right)} + l_{2} \\cos{\\left(\\theta_{1} + \\theta_{2} \\right)} & l_{2} \\cos{\\left(\\theta_{1} + \\theta_{2} \\right)}\\\\0 & 0\\end{matrix}\\right]$"
      ],
      "text/plain": [
       "Matrix([\n",
       "[-l1*sin(theta1) - l2*sin(theta1 + theta2), -l2*sin(theta1 + theta2)],\n",
       "[ l1*cos(theta1) + l2*cos(theta1 + theta2),  l2*cos(theta1 + theta2)],\n",
       "[                                        0,                        0]])"
      ]
     },
     "execution_count": 11,
     "metadata": {},
     "output_type": "execute_result"
    }
   ],
   "source": [
    "Jv = robot.linear_jacobian()\n",
    "Jv"
   ]
  },
  {
   "cell_type": "code",
   "execution_count": 14,
   "id": "9ad45b50-21c7-4c21-9ccb-c461fde0e28b",
   "metadata": {
    "tags": []
   },
   "outputs": [
    {
     "data": {
      "text/latex": [
       "$\\displaystyle \\left[\\begin{matrix}- l_{1} \\sin{\\left(\\theta_{1} \\right)} - l_{2} \\sin{\\left(\\theta_{1} + \\theta_{2} \\right)} & - l_{2} \\sin{\\left(\\theta_{1} + \\theta_{2} \\right)}\\\\l_{1} \\cos{\\left(\\theta_{1} \\right)} + l_{2} \\cos{\\left(\\theta_{1} + \\theta_{2} \\right)} & l_{2} \\cos{\\left(\\theta_{1} + \\theta_{2} \\right)}\\end{matrix}\\right]$"
      ],
      "text/plain": [
       "Matrix([\n",
       "[-l1*sin(theta1) - l2*sin(theta1 + theta2), -l2*sin(theta1 + theta2)],\n",
       "[ l1*cos(theta1) + l2*cos(theta1 + theta2),  l2*cos(theta1 + theta2)]])"
      ]
     },
     "execution_count": 14,
     "metadata": {},
     "output_type": "execute_result"
    }
   ],
   "source": [
    "Jvv= Jv[0:2,:]\n",
    "Jvv"
   ]
  },
  {
   "cell_type": "code",
   "execution_count": 15,
   "id": "27e12aed-9cf3-4058-b966-7944fbb8386d",
   "metadata": {
    "tags": []
   },
   "outputs": [
    {
     "data": {
      "text/latex": [
       "$\\displaystyle \\left[\\begin{matrix}- \\frac{\\cos{\\left(\\theta_{1} + \\theta_{2} \\right)}}{l_{1} \\sin{\\left(\\theta_{1} \\right)} \\cos{\\left(\\theta_{1} + \\theta_{2} \\right)} - l_{1} \\sin{\\left(\\theta_{1} + \\theta_{2} \\right)} \\cos{\\left(\\theta_{1} \\right)}} & - \\frac{\\sin{\\left(\\theta_{1} + \\theta_{2} \\right)}}{l_{1} \\sin{\\left(\\theta_{1} \\right)} \\cos{\\left(\\theta_{1} + \\theta_{2} \\right)} - l_{1} \\sin{\\left(\\theta_{1} + \\theta_{2} \\right)} \\cos{\\left(\\theta_{1} \\right)}}\\\\\\frac{- l_{1} \\cos{\\left(\\theta_{1} \\right)} - l_{2} \\cos{\\left(\\theta_{1} + \\theta_{2} \\right)}}{- l_{1} l_{2} \\sin{\\left(\\theta_{1} \\right)} \\cos{\\left(\\theta_{1} + \\theta_{2} \\right)} + l_{1} l_{2} \\sin{\\left(\\theta_{1} + \\theta_{2} \\right)} \\cos{\\left(\\theta_{1} \\right)}} & \\frac{- l_{1} \\sin{\\left(\\theta_{1} \\right)} - l_{2} \\sin{\\left(\\theta_{1} + \\theta_{2} \\right)}}{- l_{1} l_{2} \\sin{\\left(\\theta_{1} \\right)} \\cos{\\left(\\theta_{1} + \\theta_{2} \\right)} + l_{1} l_{2} \\sin{\\left(\\theta_{1} + \\theta_{2} \\right)} \\cos{\\left(\\theta_{1} \\right)}}\\end{matrix}\\right]$"
      ],
      "text/plain": [
       "Matrix([\n",
       "[                             -cos(theta1 + theta2)/(l1*sin(theta1)*cos(theta1 + theta2) - l1*sin(theta1 + theta2)*cos(theta1)),                              -sin(theta1 + theta2)/(l1*sin(theta1)*cos(theta1 + theta2) - l1*sin(theta1 + theta2)*cos(theta1))],\n",
       "[(-l1*cos(theta1) - l2*cos(theta1 + theta2))/(-l1*l2*sin(theta1)*cos(theta1 + theta2) + l1*l2*sin(theta1 + theta2)*cos(theta1)), (-l1*sin(theta1) - l2*sin(theta1 + theta2))/(-l1*l2*sin(theta1)*cos(theta1 + theta2) + l1*l2*sin(theta1 + theta2)*cos(theta1))]])"
      ]
     },
     "execution_count": 15,
     "metadata": {},
     "output_type": "execute_result"
    }
   ],
   "source": [
    "Jv_inv = Jvv.inv()\n",
    "Jv_inv"
   ]
  },
  {
   "cell_type": "code",
   "execution_count": 19,
   "id": "c28e92f1-3dd9-4438-bfd6-0209fd52ddf5",
   "metadata": {
    "tags": []
   },
   "outputs": [
    {
     "data": {
      "text/latex": [
       "$\\displaystyle - \\sin{\\left(\\theta_{1} \\right)} \\cos{\\left(\\theta_{1} + \\theta_{2} \\right)} + \\sin{\\left(\\theta_{1} + \\theta_{2} \\right)} \\cos{\\left(\\theta_{1} \\right)}$"
      ],
      "text/plain": [
       "-sin(theta1)*cos(theta1 + theta2) + sin(theta1 + theta2)*cos(theta1)"
      ]
     },
     "execution_count": 19,
     "metadata": {},
     "output_type": "execute_result"
    }
   ],
   "source": [
    "det = sp.det(Jvv)\n",
    "det = det.subs([(l1,1),(l2,1),(l3,1)])\n",
    "det"
   ]
  },
  {
   "cell_type": "code",
   "execution_count": 20,
   "id": "35ebe9b6-e592-4573-b744-0e1581e71f38",
   "metadata": {
    "tags": []
   },
   "outputs": [
    {
     "data": {
      "text/latex": [
       "$\\displaystyle \\left\\{0, \\pi\\right\\}$"
      ],
      "text/plain": [
       "{0, pi}"
      ]
     },
     "execution_count": 20,
     "metadata": {},
     "output_type": "execute_result"
    }
   ],
   "source": [
    "# barame singulariteti koga theta 2 e vo prashanje\n",
    "interval = sp.Interval(-sp.pi, sp.pi, left_open=True)\n",
    "solution = sp.solveset(det, theta2, interval)\n",
    "solution #singulariteti"
   ]
  },
  {
   "cell_type": "code",
   "execution_count": 21,
   "id": "0e3b69ce-85d7-46b2-83a1-04c395f20044",
   "metadata": {
    "tags": []
   },
   "outputs": [
    {
     "data": {
      "text/latex": [
       "$\\displaystyle \\emptyset$"
      ],
      "text/plain": [
       "EmptySet"
      ]
     },
     "execution_count": 21,
     "metadata": {},
     "output_type": "execute_result"
    }
   ],
   "source": [
    "# barame singulariteti koga theta 1 e vo prashanje\n",
    "interval = sp.Interval(-sp.pi, sp.pi, left_open=True)\n",
    "solution = sp.solveset(det, theta1, interval)\n",
    "solution #singulariteti"
   ]
  },
  {
   "cell_type": "markdown",
   "id": "3864aa4e-2c89-4f9e-9a42-b67d9d2ae804",
   "metadata": {},
   "source": [
    "* koga teta2= 0 => izvrshniot element ja gubi sposobnosta za dvizhenje po negovite z i x oski\n",
    "* koga teta2 = pi => izvrshniot element se poklopuva so prviot zglob, so shto povtorno se gubi dvizhenjeto po negpvite lokalni z i x oski "
   ]
  },
  {
   "cell_type": "markdown",
   "id": "6162398f-ee75-47e7-a9ea-9b9422add1ad",
   "metadata": {},
   "source": [
    "# 3.22"
   ]
  },
  {
   "cell_type": "code",
   "execution_count": 22,
   "id": "67aefe5d-1880-45d8-9f20-4e6f25951f46",
   "metadata": {
    "tags": []
   },
   "outputs": [
    {
     "data": {
      "image/png": "[encoded data removed]",
      "text/plain": [
       "<IPython.core.display.Image object>"
      ]
     },
     "execution_count": 22,
     "metadata": {
      "image/png": {
       "width": 700
      }
     },
     "output_type": "execute_result"
    }
   ],
   "source": [
    "display.Image('images/3.22.png', width=700)"
   ]
  },
  {
   "cell_type": "code",
   "execution_count": 2,
   "id": "0e47b174-7591-45f0-8f77-4f9dabbf549e",
   "metadata": {
    "tags": []
   },
   "outputs": [
    {
     "data": {
      "application/vnd.jupyter.widget-view+json": {
       "model_id": "54170075abac4bf38819311693cfec68",
       "version_major": 2,
       "version_minor": 0
      },
      "text/plain": [
       "VBox(children=(HBox(children=(ToggleButton(value=True, description='Исклучи цртање'), Button(description='Пром…"
      ]
     },
     "execution_count": 2,
     "metadata": {},
     "output_type": "execute_result"
    }
   ],
   "source": [
    "theta1, theta2, theta3, l1, l2, l3 = sp.symbols('theta1, theta2, theta3, l1, l2, l3')\n",
    "robot = rt.SerialLinkRobot()\n",
    "robot.add_revolute_joint(theta1, l1, 0, sp.pi/2)\n",
    "robot.add_revolute_joint(theta2, 0, l2, 0)\n",
    "robot.add_revolute_joint(theta3, 0, l3, 0)\n",
    "robot.add_subs([(l1, 1), (l2, 1),(l3,1)])\n",
    "robot.interact()"
   ]
  },
  {
   "cell_type": "code",
   "execution_count": 4,
   "id": "da54dadf-a56c-4553-be49-278a98b0662a",
   "metadata": {
    "tags": []
   },
   "outputs": [
    {
     "data": {
      "text/latex": [
       "$\\displaystyle \\left[\\begin{matrix}\\cos{\\left(\\theta_{1} \\right)} \\cos{\\left(\\theta_{2} + \\theta_{3} \\right)} & - \\sin{\\left(\\theta_{2} + \\theta_{3} \\right)} \\cos{\\left(\\theta_{1} \\right)} & \\sin{\\left(\\theta_{1} \\right)} & \\left(l_{2} \\cos{\\left(\\theta_{2} \\right)} + l_{3} \\cos{\\left(\\theta_{2} + \\theta_{3} \\right)}\\right) \\cos{\\left(\\theta_{1} \\right)}\\\\\\sin{\\left(\\theta_{1} \\right)} \\cos{\\left(\\theta_{2} + \\theta_{3} \\right)} & - \\sin{\\left(\\theta_{1} \\right)} \\sin{\\left(\\theta_{2} + \\theta_{3} \\right)} & - \\cos{\\left(\\theta_{1} \\right)} & \\left(l_{2} \\cos{\\left(\\theta_{2} \\right)} + l_{3} \\cos{\\left(\\theta_{2} + \\theta_{3} \\right)}\\right) \\sin{\\left(\\theta_{1} \\right)}\\\\\\sin{\\left(\\theta_{2} + \\theta_{3} \\right)} & \\cos{\\left(\\theta_{2} + \\theta_{3} \\right)} & 0 & l_{1} + l_{2} \\sin{\\left(\\theta_{2} \\right)} + l_{3} \\sin{\\left(\\theta_{2} + \\theta_{3} \\right)}\\\\0 & 0 & 0 & 1\\end{matrix}\\right]$"
      ],
      "text/plain": [
       "Matrix([\n",
       "[cos(theta1)*cos(theta2 + theta3), -sin(theta2 + theta3)*cos(theta1),  sin(theta1), (l2*cos(theta2) + l3*cos(theta2 + theta3))*cos(theta1)],\n",
       "[sin(theta1)*cos(theta2 + theta3), -sin(theta1)*sin(theta2 + theta3), -cos(theta1), (l2*cos(theta2) + l3*cos(theta2 + theta3))*sin(theta1)],\n",
       "[            sin(theta2 + theta3),              cos(theta2 + theta3),            0,          l1 + l2*sin(theta2) + l3*sin(theta2 + theta3)],\n",
       "[                               0,                                 0,            0,                                                      1]])"
      ]
     },
     "execution_count": 4,
     "metadata": {},
     "output_type": "execute_result"
    }
   ],
   "source": [
    "T = robot.get_dh_matrix()\n",
    "T"
   ]
  },
  {
   "cell_type": "code",
   "execution_count": 5,
   "id": "951aa89b-910b-435a-803c-847926ceeefc",
   "metadata": {
    "tags": []
   },
   "outputs": [
    {
     "data": {
      "text/latex": [
       "$\\displaystyle \\left[\\begin{matrix}- \\left(l_{2} \\cos{\\left(\\theta_{2} \\right)} + l_{3} \\cos{\\left(\\theta_{2} + \\theta_{3} \\right)}\\right) \\sin{\\left(\\theta_{1} \\right)} & - \\left(l_{2} \\sin{\\left(\\theta_{2} \\right)} + l_{3} \\sin{\\left(\\theta_{2} + \\theta_{3} \\right)}\\right) \\cos{\\left(\\theta_{1} \\right)} & - l_{3} \\sin{\\left(\\theta_{2} + \\theta_{3} \\right)} \\cos{\\left(\\theta_{1} \\right)}\\\\\\left(l_{2} \\cos{\\left(\\theta_{2} \\right)} + l_{3} \\cos{\\left(\\theta_{2} + \\theta_{3} \\right)}\\right) \\cos{\\left(\\theta_{1} \\right)} & - \\left(l_{2} \\sin{\\left(\\theta_{2} \\right)} + l_{3} \\sin{\\left(\\theta_{2} + \\theta_{3} \\right)}\\right) \\sin{\\left(\\theta_{1} \\right)} & - l_{3} \\sin{\\left(\\theta_{1} \\right)} \\sin{\\left(\\theta_{2} + \\theta_{3} \\right)}\\\\0 & l_{2} \\cos{\\left(\\theta_{2} \\right)} + l_{3} \\cos{\\left(\\theta_{2} + \\theta_{3} \\right)} & l_{3} \\cos{\\left(\\theta_{2} + \\theta_{3} \\right)}\\end{matrix}\\right]$"
      ],
      "text/plain": [
       "Matrix([\n",
       "[-(l2*cos(theta2) + l3*cos(theta2 + theta3))*sin(theta1), -(l2*sin(theta2) + l3*sin(theta2 + theta3))*cos(theta1), -l3*sin(theta2 + theta3)*cos(theta1)],\n",
       "[ (l2*cos(theta2) + l3*cos(theta2 + theta3))*cos(theta1), -(l2*sin(theta2) + l3*sin(theta2 + theta3))*sin(theta1), -l3*sin(theta1)*sin(theta2 + theta3)],\n",
       "[                                                      0,                l2*cos(theta2) + l3*cos(theta2 + theta3),              l3*cos(theta2 + theta3)]])"
      ]
     },
     "execution_count": 5,
     "metadata": {},
     "output_type": "execute_result"
    }
   ],
   "source": [
    "Jv = robot.linear_jacobian()\n",
    "Jv"
   ]
  },
  {
   "cell_type": "code",
   "execution_count": 6,
   "id": "dc983dac-222b-45c9-90d9-f8145d28602a",
   "metadata": {
    "tags": []
   },
   "outputs": [
    {
     "data": {
      "text/latex": [
       "$\\displaystyle - \\left(\\cos{\\left(\\theta_{2} \\right)} + \\cos{\\left(\\theta_{2} + \\theta_{3} \\right)}\\right) \\sin{\\left(\\theta_{3} \\right)}$"
      ],
      "text/plain": [
       "-(cos(theta2) + cos(theta2 + theta3))*sin(theta3)"
      ]
     },
     "execution_count": 6,
     "metadata": {},
     "output_type": "execute_result"
    }
   ],
   "source": [
    "det = sp.det(Jv)\n",
    "det = det.simplify()\n",
    "det = det.subs([(l1,1),(l2,1),(l3,1)])\n",
    "det"
   ]
  },
  {
   "cell_type": "code",
   "execution_count": 7,
   "id": "8112abd9-7a12-4f37-a9b0-ead626f55d28",
   "metadata": {
    "tags": []
   },
   "outputs": [
    {
     "data": {
      "text/latex": [
       "$\\displaystyle \\left(\\left\\{0\\right\\} \\cap \\left\\{- i \\left(i \\left(2 n \\pi + \\arg{\\left(\\sqrt{- e^{- i \\theta_{3}}} \\right)}\\right) + \\log{\\left(\\left|{\\sqrt{- e^{- i \\theta_{3}}}}\\right| \\right)}\\right)\\; \\middle|\\; n \\in \\left(- \\pi, \\pi\\right]\\right\\}\\right) \\cup \\left(\\left\\{0\\right\\} \\cap \\left\\{- i \\left(i \\left(2 n \\pi + \\arg{\\left(- \\sqrt{- e^{- i \\theta_{3}}} \\right)}\\right) + \\log{\\left(\\left|{\\sqrt{- e^{- i \\theta_{3}}}}\\right| \\right)}\\right)\\; \\middle|\\; n \\in \\left(- \\pi, \\pi\\right]\\right\\}\\right)$"
      ],
      "text/plain": [
       "Union(Intersection({0}, ImageSet(Lambda(_n, -I*(I*(2*_n*pi + arg(sqrt(-exp(-I*theta3)))) + log(Abs(sqrt(-exp(-I*theta3)))))), Interval.Lopen(-pi, pi))), Intersection({0}, ImageSet(Lambda(_n, -I*(I*(2*_n*pi + arg(-sqrt(-exp(-I*theta3)))) + log(Abs(sqrt(-exp(-I*theta3)))))), Interval.Lopen(-pi, pi))))"
      ]
     },
     "execution_count": 7,
     "metadata": {},
     "output_type": "execute_result"
    }
   ],
   "source": [
    "# barame singulariteti koga theta 2 e vo prashanje\n",
    "interval = sp.Interval(-sp.pi, sp.pi, left_open=True)\n",
    "solution = sp.solveset(det, theta2, interval)\n",
    "solution #singulariteti"
   ]
  },
  {
   "cell_type": "code",
   "execution_count": 8,
   "id": "95ecfec2-4d57-4201-b0b5-37a29618d748",
   "metadata": {
    "tags": []
   },
   "outputs": [
    {
     "data": {
      "text/latex": [
       "$\\displaystyle \\left\\{0, \\pi\\right\\} \\cup \\left(\\left\\{0\\right\\} \\cap \\left\\{- i \\left(i \\left(2 n \\pi + \\arg{\\left(- e^{- 2 i \\theta_{2}} \\right)}\\right) + 2 \\operatorname{im}{\\left(\\theta_{2}\\right)}\\right)\\; \\middle|\\; n \\in \\left(- \\pi, \\pi\\right]\\right\\}\\right)$"
      ],
      "text/plain": [
       "Union({0, pi}, Intersection({0}, ImageSet(Lambda(_n, -I*(I*(2*_n*pi + arg(-exp(-2*I*theta2))) + 2*im(theta2))), Interval.Lopen(-pi, pi))))"
      ]
     },
     "execution_count": 8,
     "metadata": {},
     "output_type": "execute_result"
    }
   ],
   "source": [
    "# barame singulariteti koga theta 3 e vo prashanje\n",
    "interval = sp.Interval(-sp.pi, sp.pi, left_open=True)\n",
    "solution = sp.solveset(det, theta3, interval)\n",
    "solution #singulariteti"
   ]
  },
  {
   "cell_type": "markdown",
   "id": "4e1800d2-26f2-4fd2-b731-3e38eee9bcf6",
   "metadata": {},
   "source": [
    "* koga theta3=0 => se gubi sposobnost za dvizhenje po y3\n",
    "* koga theta3=pi => izbrshniot element se poklopuva so vtor zglob i se gubi stepen na sloboda"
   ]
  },
  {
   "cell_type": "markdown",
   "id": "8f5e2673-6ea5-4944-a509-4e42f1f7baa2",
   "metadata": {},
   "source": [
    "# 3.23"
   ]
  },
  {
   "cell_type": "code",
   "execution_count": 43,
   "id": "96aeb22e-0887-4221-af76-5b904476e5b9",
   "metadata": {
    "tags": []
   },
   "outputs": [
    {
     "data": {
      "application/vnd.jupyter.widget-view+json": {
       "model_id": "c6ea1b69cb444c9fb46008474da47716",
       "version_major": 2,
       "version_minor": 0
      },
      "text/plain": [
       "VBox(children=(HBox(children=(ToggleButton(value=True, description='Исклучи цртање'), Button(description='Пром…"
      ]
     },
     "execution_count": 43,
     "metadata": {},
     "output_type": "execute_result"
    }
   ],
   "source": [
    "theta1, theta2, d3 = sp.symbols('theta1, theta2, d3')\n",
    "robot = rt.SerialLinkRobot()\n",
    "robot.add_revolute_joint(theta1, 0, 0, sp.pi/2)\n",
    "robot.add_revolute_joint(theta2, 0, 0, sp.pi/2)\n",
    "robot.add_prismatic_joint(0, d3, 0, 0)\n",
    "robot.interact()"
   ]
  },
  {
   "cell_type": "code",
   "execution_count": 50,
   "id": "e03d23fe-336b-4822-aae1-5992a5499827",
   "metadata": {
    "tags": []
   },
   "outputs": [
    {
     "data": {
      "text/latex": [
       "$\\displaystyle \\left[\\begin{matrix}- d_{3} \\sin{\\left(\\theta_{1} \\right)} \\sin{\\left(\\theta_{2} \\right)} & d_{3} \\cos{\\left(\\theta_{1} \\right)} \\cos{\\left(\\theta_{2} \\right)} & \\sin{\\left(\\theta_{2} \\right)} \\cos{\\left(\\theta_{1} \\right)}\\\\d_{3} \\sin{\\left(\\theta_{2} \\right)} \\cos{\\left(\\theta_{1} \\right)} & d_{3} \\sin{\\left(\\theta_{1} \\right)} \\cos{\\left(\\theta_{2} \\right)} & \\sin{\\left(\\theta_{1} \\right)} \\sin{\\left(\\theta_{2} \\right)}\\\\0 & d_{3} \\sin{\\left(\\theta_{2} \\right)} & - \\cos{\\left(\\theta_{2} \\right)}\\\\0 & \\sin{\\left(\\theta_{1} \\right)} & 0\\\\0 & - \\cos{\\left(\\theta_{1} \\right)} & 0\\\\1 & 0 & 0\\end{matrix}\\right]$"
      ],
      "text/plain": [
       "Matrix([\n",
       "[-d3*sin(theta1)*sin(theta2), d3*cos(theta1)*cos(theta2), sin(theta2)*cos(theta1)],\n",
       "[ d3*sin(theta2)*cos(theta1), d3*sin(theta1)*cos(theta2), sin(theta1)*sin(theta2)],\n",
       "[                          0,             d3*sin(theta2),            -cos(theta2)],\n",
       "[                          0,                sin(theta1),                       0],\n",
       "[                          0,               -cos(theta1),                       0],\n",
       "[                          1,                          0,                       0]])"
      ]
     },
     "execution_count": 50,
     "metadata": {},
     "output_type": "execute_result"
    }
   ],
   "source": [
    "J = robot.jacobian()\n",
    "J"
   ]
  },
  {
   "cell_type": "code",
   "execution_count": 54,
   "id": "6be5da61-0bc5-4520-aabe-54e61f604cad",
   "metadata": {
    "tags": []
   },
   "outputs": [
    {
     "data": {
      "text/latex": [
       "$\\displaystyle \\left[\\begin{matrix}\\cos{\\left(\\theta_{1} \\right)} \\cos{\\left(\\theta_{2} \\right)} & \\sin{\\left(\\theta_{1} \\right)} & \\sin{\\left(\\theta_{2} \\right)} \\cos{\\left(\\theta_{1} \\right)} & d_{3} \\sin{\\left(\\theta_{2} \\right)} \\cos{\\left(\\theta_{1} \\right)}\\\\\\sin{\\left(\\theta_{1} \\right)} \\cos{\\left(\\theta_{2} \\right)} & - \\cos{\\left(\\theta_{1} \\right)} & \\sin{\\left(\\theta_{1} \\right)} \\sin{\\left(\\theta_{2} \\right)} & d_{3} \\sin{\\left(\\theta_{1} \\right)} \\sin{\\left(\\theta_{2} \\right)}\\\\\\sin{\\left(\\theta_{2} \\right)} & 0 & - \\cos{\\left(\\theta_{2} \\right)} & - d_{3} \\cos{\\left(\\theta_{2} \\right)}\\\\0 & 0 & 0 & 1\\end{matrix}\\right]$"
      ],
      "text/plain": [
       "Matrix([\n",
       "[cos(theta1)*cos(theta2),  sin(theta1), sin(theta2)*cos(theta1), d3*sin(theta2)*cos(theta1)],\n",
       "[sin(theta1)*cos(theta2), -cos(theta1), sin(theta1)*sin(theta2), d3*sin(theta1)*sin(theta2)],\n",
       "[            sin(theta2),            0,            -cos(theta2),            -d3*cos(theta2)],\n",
       "[                      0,            0,                       0,                          1]])"
      ]
     },
     "execution_count": 54,
     "metadata": {},
     "output_type": "execute_result"
    }
   ],
   "source": [
    "T = robot.get_dh_matrix()\n",
    "T"
   ]
  },
  {
   "cell_type": "code",
   "execution_count": 51,
   "id": "41e5e826-d636-4ec4-a658-8f75bae6d23a",
   "metadata": {
    "tags": []
   },
   "outputs": [
    {
     "data": {
      "text/latex": [
       "$\\displaystyle \\left[\\begin{matrix}- d_{3} \\sin{\\left(\\theta_{1} \\right)} \\sin{\\left(\\theta_{2} \\right)} & d_{3} \\cos{\\left(\\theta_{1} \\right)} \\cos{\\left(\\theta_{2} \\right)} & \\sin{\\left(\\theta_{2} \\right)} \\cos{\\left(\\theta_{1} \\right)}\\\\d_{3} \\sin{\\left(\\theta_{2} \\right)} \\cos{\\left(\\theta_{1} \\right)} & d_{3} \\sin{\\left(\\theta_{1} \\right)} \\cos{\\left(\\theta_{2} \\right)} & \\sin{\\left(\\theta_{1} \\right)} \\sin{\\left(\\theta_{2} \\right)}\\\\0 & d_{3} \\sin{\\left(\\theta_{2} \\right)} & - \\cos{\\left(\\theta_{2} \\right)}\\end{matrix}\\right]$"
      ],
      "text/plain": [
       "Matrix([\n",
       "[-d3*sin(theta1)*sin(theta2), d3*cos(theta1)*cos(theta2), sin(theta2)*cos(theta1)],\n",
       "[ d3*sin(theta2)*cos(theta1), d3*sin(theta1)*cos(theta2), sin(theta1)*sin(theta2)],\n",
       "[                          0,             d3*sin(theta2),            -cos(theta2)]])"
      ]
     },
     "execution_count": 51,
     "metadata": {},
     "output_type": "execute_result"
    }
   ],
   "source": [
    "Jv = robot.linear_jacobian()\n",
    "Jv"
   ]
  },
  {
   "cell_type": "code",
   "execution_count": 46,
   "id": "27a9dade-441b-478a-8145-1177b261c500",
   "metadata": {
    "tags": []
   },
   "outputs": [
    {
     "data": {
      "text/latex": [
       "$\\displaystyle d_{3}^{2} \\sin{\\left(\\theta_{2} \\right)}$"
      ],
      "text/plain": [
       "d3**2*sin(theta2)"
      ]
     },
     "execution_count": 46,
     "metadata": {},
     "output_type": "execute_result"
    }
   ],
   "source": [
    "det = sp.det(Jv)\n",
    "det=det.simplify()\n",
    "det"
   ]
  },
  {
   "cell_type": "code",
   "execution_count": 47,
   "id": "7d17045b-3455-419f-a495-cd9ef99e1677",
   "metadata": {
    "tags": []
   },
   "outputs": [
    {
     "data": {
      "text/latex": [
       "$\\displaystyle \\left\\{0, \\pi\\right\\}$"
      ],
      "text/plain": [
       "{0, pi}"
      ]
     },
     "execution_count": 47,
     "metadata": {},
     "output_type": "execute_result"
    }
   ],
   "source": [
    "# barame singulariteti koga theta 2 e vo prashanje\n",
    "interval = sp.Interval(-sp.pi, sp.pi, left_open=True)\n",
    "solution = sp.solveset(det, theta2, interval)\n",
    "solution #singulariteti"
   ]
  },
  {
   "cell_type": "code",
   "execution_count": 48,
   "id": "68c035ce-8c72-4f85-9825-c2f067c4a773",
   "metadata": {
    "tags": []
   },
   "outputs": [
    {
     "data": {
      "text/latex": [
       "$\\displaystyle \\left\\{0\\right\\}$"
      ],
      "text/plain": [
       "{0}"
      ]
     },
     "execution_count": 48,
     "metadata": {},
     "output_type": "execute_result"
    }
   ],
   "source": [
    "# barame singulariteti koga d3 e vo prashanje\n",
    "interval = sp.Interval(-sp.pi, sp.pi, left_open=True)\n",
    "solution = sp.solveset(det, d3, interval)\n",
    "solution #singulariteti"
   ]
  },
  {
   "cell_type": "markdown",
   "id": "a95dd16b-4912-457d-b40f-1349d7b42331",
   "metadata": {},
   "source": [
    "Јакобијанот зависи од моменталната положба на раката бидејќи во неговите изрази ги содржат симболите на зглобовите. Моменталната состојба на раката е $[\\theta_1 = 0, \\theta_2 = 0, d_3 = 5]$, па ги заменуваме овие вредности во јакобијанот."
   ]
  },
  {
   "cell_type": "code",
   "execution_count": 52,
   "id": "aa32e4e2-b7f1-440e-b1af-f438e7aa0ce4",
   "metadata": {
    "tags": []
   },
   "outputs": [
    {
     "data": {
      "text/latex": [
       "$\\displaystyle \\left[\\begin{matrix}0 & 5 & 0\\\\0 & 0 & 0\\\\0 & 0 & -1\\\\0 & 0 & 0\\\\0 & -1 & 0\\\\1 & 0 & 0\\end{matrix}\\right]$"
      ],
      "text/plain": [
       "Matrix([\n",
       "[0,  5,  0],\n",
       "[0,  0,  0],\n",
       "[0,  0, -1],\n",
       "[0,  0,  0],\n",
       "[0, -1,  0],\n",
       "[1,  0,  0]])"
      ]
     },
     "execution_count": 52,
     "metadata": {},
     "output_type": "execute_result"
    }
   ],
   "source": [
    "Jn = J.subs([(theta1,0),(theta2,0),(d3,5)])\n",
    "Jn"
   ]
  },
  {
   "cell_type": "code",
   "execution_count": 57,
   "id": "d9afcb3d-7286-4556-a27f-899d80754594",
   "metadata": {
    "tags": []
   },
   "outputs": [
    {
     "data": {
      "text/latex": [
       "$\\displaystyle \\left[\\begin{matrix}-0.5\\\\0\\\\-0.05\\\\0\\\\0.1\\\\0.1\\end{matrix}\\right]$"
      ],
      "text/plain": [
       "Matrix([\n",
       "[ -0.5],\n",
       "[    0],\n",
       "[-0.05],\n",
       "[    0],\n",
       "[  0.1],\n",
       "[  0.1]])"
      ]
     },
     "execution_count": 57,
     "metadata": {},
     "output_type": "execute_result"
    }
   ],
   "source": [
    "delta_j = sp.Matrix([0.1, -0.1, 0.05])\n",
    "delta_e = Jn* delta_j\n",
    "delta_e"
   ]
  },
  {
   "cell_type": "code",
   "execution_count": 58,
   "id": "0b55c31b-c864-4db9-bf0a-be20541d65b0",
   "metadata": {
    "tags": []
   },
   "outputs": [
    {
     "data": {
      "text/latex": [
       "$\\displaystyle \\left[\\begin{matrix}0 & -0.1 & 0.1 & -0.5\\\\0.1 & 0 & 0 & 0\\\\-0.1 & 0 & 0 & -0.05\\\\0 & 0 & 0 & 0\\end{matrix}\\right]$"
      ],
      "text/plain": [
       "Matrix([\n",
       "[   0, -0.1, 0.1,  -0.5],\n",
       "[ 0.1,    0,   0,     0],\n",
       "[-0.1,    0,   0, -0.05],\n",
       "[   0,    0,   0,     0]])"
      ]
     },
     "execution_count": 58,
     "metadata": {},
     "output_type": "execute_result"
    }
   ],
   "source": [
    "delta = rt.hdelta3(dRx=0, dRy=0.1, dRz=0.1, dx=-0.5, dy=0, dz=-0.05)\n",
    "delta"
   ]
  },
  {
   "cell_type": "code",
   "execution_count": 59,
   "id": "1b01324c-cb94-4b3c-8cf7-012879546e37",
   "metadata": {
    "tags": []
   },
   "outputs": [
    {
     "data": {
      "text/latex": [
       "$\\displaystyle \\left[\\begin{matrix}1 & 0 & 0 & 0\\\\0 & -1 & 0 & 0\\\\0 & 0 & -1 & -5\\\\0 & 0 & 0 & 1\\end{matrix}\\right]$"
      ],
      "text/plain": [
       "Matrix([\n",
       "[1,  0,  0,  0],\n",
       "[0, -1,  0,  0],\n",
       "[0,  0, -1, -5],\n",
       "[0,  0,  0,  1]])"
      ]
     },
     "execution_count": 59,
     "metadata": {},
     "output_type": "execute_result"
    }
   ],
   "source": [
    "T = robot.get_dh_matrix().subs(theta1, 0).subs(theta2, 0).subs(d3, 5)\n",
    "T"
   ]
  },
  {
   "cell_type": "code",
   "execution_count": 61,
   "id": "33f38504-4aa0-42ae-a445-046e8a970902",
   "metadata": {
    "tags": []
   },
   "outputs": [
    {
     "data": {
      "text/latex": [
       "$\\displaystyle \\left[\\begin{matrix}1 & 0.1 & -0.1 & -1.0\\\\0.1 & -1 & 0 & 0\\\\-0.1 & 0 & -1 & -5.05\\\\0 & 0 & 0 & 1\\end{matrix}\\right]$"
      ],
      "text/plain": [
       "Matrix([\n",
       "[   1, 0.1, -0.1,  -1.0],\n",
       "[ 0.1,  -1,    0,     0],\n",
       "[-0.1,   0,   -1, -5.05],\n",
       "[   0,   0,    0,     1]])"
      ]
     },
     "execution_count": 61,
     "metadata": {},
     "output_type": "execute_result"
    }
   ],
   "source": [
    "Tnew = T+ delta*T\n",
    "Tnew"
   ]
  },
  {
   "cell_type": "markdown",
   "id": "cc825236-e6f9-4d09-99b6-78a306dc1747",
   "metadata": {},
   "source": [
    "# 3.25"
   ]
  },
  {
   "cell_type": "code",
   "execution_count": 2,
   "id": "3d0fe127-6df6-4d78-8b31-784c87d53739",
   "metadata": {
    "tags": []
   },
   "outputs": [
    {
     "data": {
      "image/png": "[encoded data removed]",
      "text/plain": [
       "<IPython.core.display.Image object>"
      ]
     },
     "execution_count": 2,
     "metadata": {
      "image/png": {
       "width": 700
      }
     },
     "output_type": "execute_result"
    }
   ],
   "source": [
    "display.Image('images/3.25.png', width=700)"
   ]
  },
  {
   "cell_type": "code",
   "execution_count": 3,
   "id": "2365cfb7-598b-4c21-a5b0-832a23af2d40",
   "metadata": {
    "tags": []
   },
   "outputs": [
    {
     "data": {
      "application/vnd.jupyter.widget-view+json": {
       "model_id": "9e0af8fb2b7741c4b0edb9998ec4c1d3",
       "version_major": 2,
       "version_minor": 0
      },
      "text/plain": [
       "VBox(children=(HBox(children=(ToggleButton(value=True, description='Исклучи цртање'), Button(description='Пром…"
      ]
     },
     "execution_count": 3,
     "metadata": {},
     "output_type": "execute_result"
    }
   ],
   "source": [
    "theta1, theta2, theta3, l1, l2, l3 = sp.symbols('theta1, theta2, theta3, l1, l2, l3')\n",
    "robot = rt.SerialLinkRobot()\n",
    "robot.add_revolute_joint(theta1, 0, l1, sp.pi/2)\n",
    "robot.add_revolute_joint(theta2, 0, l2, 0)\n",
    "robot.add_revolute_joint(theta3, 0, l3, 0)\n",
    "robot.add_subs([(l1, 1), (l2, 1),(l3,1)])\n",
    "robot.interact()"
   ]
  },
  {
   "cell_type": "code",
   "execution_count": 4,
   "id": "a8271d4a-8997-46a4-abe3-13652279a740",
   "metadata": {
    "tags": []
   },
   "outputs": [
    {
     "data": {
      "text/latex": [
       "$\\displaystyle \\left[\\begin{matrix}- \\left(l_{1} + l_{2} \\cos{\\left(\\theta_{2} \\right)} + l_{3} \\cos{\\left(\\theta_{2} + \\theta_{3} \\right)}\\right) \\sin{\\left(\\theta_{1} \\right)} & - \\left(l_{2} \\sin{\\left(\\theta_{2} \\right)} + l_{3} \\sin{\\left(\\theta_{2} + \\theta_{3} \\right)}\\right) \\cos{\\left(\\theta_{1} \\right)} & - l_{3} \\sin{\\left(\\theta_{2} + \\theta_{3} \\right)} \\cos{\\left(\\theta_{1} \\right)}\\\\\\left(l_{1} + l_{2} \\cos{\\left(\\theta_{2} \\right)} + l_{3} \\cos{\\left(\\theta_{2} + \\theta_{3} \\right)}\\right) \\cos{\\left(\\theta_{1} \\right)} & - \\left(l_{2} \\sin{\\left(\\theta_{2} \\right)} + l_{3} \\sin{\\left(\\theta_{2} + \\theta_{3} \\right)}\\right) \\sin{\\left(\\theta_{1} \\right)} & - l_{3} \\sin{\\left(\\theta_{1} \\right)} \\sin{\\left(\\theta_{2} + \\theta_{3} \\right)}\\\\0 & l_{2} \\cos{\\left(\\theta_{2} \\right)} + l_{3} \\cos{\\left(\\theta_{2} + \\theta_{3} \\right)} & l_{3} \\cos{\\left(\\theta_{2} + \\theta_{3} \\right)}\\end{matrix}\\right]$"
      ],
      "text/plain": [
       "Matrix([\n",
       "[-(l1 + l2*cos(theta2) + l3*cos(theta2 + theta3))*sin(theta1), -(l2*sin(theta2) + l3*sin(theta2 + theta3))*cos(theta1), -l3*sin(theta2 + theta3)*cos(theta1)],\n",
       "[ (l1 + l2*cos(theta2) + l3*cos(theta2 + theta3))*cos(theta1), -(l2*sin(theta2) + l3*sin(theta2 + theta3))*sin(theta1), -l3*sin(theta1)*sin(theta2 + theta3)],\n",
       "[                                                           0,                l2*cos(theta2) + l3*cos(theta2 + theta3),              l3*cos(theta2 + theta3)]])"
      ]
     },
     "execution_count": 4,
     "metadata": {},
     "output_type": "execute_result"
    }
   ],
   "source": [
    "Jv = robot.linear_jacobian()\n",
    "Jv"
   ]
  },
  {
   "cell_type": "code",
   "execution_count": 6,
   "id": "49505781-d247-4ab6-bf59-96a84a59c650",
   "metadata": {
    "tags": []
   },
   "outputs": [
    {
     "data": {
      "text/latex": [
       "$\\displaystyle - l_{2} l_{3} \\left(l_{1} + l_{2} \\cos{\\left(\\theta_{2} \\right)} + l_{3} \\cos{\\left(\\theta_{2} + \\theta_{3} \\right)}\\right) \\sin{\\left(\\theta_{3} \\right)}$"
      ],
      "text/plain": [
       "-l2*l3*(l1 + l2*cos(theta2) + l3*cos(theta2 + theta3))*sin(theta3)"
      ]
     },
     "execution_count": 6,
     "metadata": {},
     "output_type": "execute_result"
    }
   ],
   "source": [
    "det = sp.det(Jv)\n",
    "det = det.simplify()\n",
    "det"
   ]
  },
  {
   "cell_type": "code",
   "execution_count": 7,
   "id": "95208794-1c3b-4e69-a736-c03a79828118",
   "metadata": {
    "tags": []
   },
   "outputs": [
    {
     "data": {
      "text/latex": [
       "$\\displaystyle \\left\\{\\theta_{2}\\; \\middle|\\; \\theta_{2} \\in \\mathbb{R} \\wedge l_{1} + l_{2} \\cos{\\left(\\theta_{2} \\right)} + l_{3} \\cos{\\left(\\theta_{2} + \\theta_{3} \\right)} = 0 \\right\\}$"
      ],
      "text/plain": [
       "ConditionSet(theta2, Eq(l1 + l2*cos(theta2) + l3*cos(theta2 + theta3), 0), Reals)"
      ]
     },
     "execution_count": 7,
     "metadata": {},
     "output_type": "execute_result"
    }
   ],
   "source": [
    "# barame singulariteti koga theta 2 e vo prashanje\n",
    "interval = sp.Interval(-sp.pi, sp.pi, left_open=True)\n",
    "solution = sp.solveset(det, theta2, interval)\n",
    "solution #singulariteti"
   ]
  },
  {
   "cell_type": "code",
   "execution_count": 8,
   "id": "aebb2a34-aebb-4c8d-89d2-472192f12d78",
   "metadata": {
    "tags": []
   },
   "outputs": [
    {
     "data": {
      "text/latex": [
       "$\\displaystyle \\left\\{0, \\pi\\right\\} \\cup \\left\\{\\theta_{3}\\; \\middle|\\; \\theta_{3} \\in \\mathbb{R} \\wedge \\cos{\\left(\\theta_{2} + \\theta_{3} \\right)} + \\frac{l_{1} + l_{2} \\cos{\\left(\\theta_{2} \\right)}}{l_{3}} = 0 \\right\\}$"
      ],
      "text/plain": [
       "Union(ConditionSet(theta3, Eq(cos(theta2 + theta3) + (l1 + l2*cos(theta2))/l3, 0), Reals), {0, pi})"
      ]
     },
     "execution_count": 8,
     "metadata": {},
     "output_type": "execute_result"
    }
   ],
   "source": [
    "# barame singulariteti koga theta 3 e vo prashanje\n",
    "interval = sp.Interval(-sp.pi, sp.pi, left_open=True)\n",
    "solution = sp.solveset(det, theta3, interval)\n",
    "solution #singulariteti"
   ]
  },
  {
   "cell_type": "markdown",
   "id": "bc15052e-a42a-4f1a-b5de-bf875cbbde8f",
   "metadata": {},
   "source": [
    "* кога тета3=0 раката е испружена и се губи способноста за движење по локалната x оска на извршниот елемент\n",
    "* кога тета3=пи извршниот елемент ќе се поклопи со вториот зглоб"
   ]
  },
  {
   "cell_type": "code",
   "execution_count": null,
   "id": "56b681f1-f447-490d-a63e-d8c8ea27f7ca",
   "metadata": {},
   "outputs": [],
   "source": []
  }
 ],
 "metadata": {
  "kernelspec": {
   "display_name": "Python 3 (ipykernel)",
   "language": "python",
   "name": "python3"
  },
  "language_info": {
   "codemirror_mode": {
    "name": "ipython",
    "version": 3
   },
   "file_extension": ".py",
   "mimetype": "text/x-python",
   "name": "python",
   "nbconvert_exporter": "python",
   "pygments_lexer": "ipython3",
   "version": "3.11.3"
  }
 },
 "nbformat": 4,
 "nbformat_minor": 5
}
