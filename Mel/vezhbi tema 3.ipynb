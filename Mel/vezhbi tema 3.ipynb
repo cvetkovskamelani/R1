{
 "cells": [
  {
   "cell_type": "code",
   "execution_count": 1,
   "id": "db11ba73-1272-4ef3-b88c-2bdb61750179",
   "metadata": {
    "tags": []
   },
   "outputs": [],
   "source": [
    "import sympy as sp\n",
    "import script as rt\n",
    "from IPython import display\n",
    "from IPython.lib.display import IFrame"
   ]
  },
  {
   "cell_type": "markdown",
   "id": "cd6c9dcb-2aa6-458c-a3dc-4dc2fb9b8c27",
   "metadata": {},
   "source": [
    "# 3.1 - dif R okolu z za 0.15 i T dvizhenje [0.1 0.1 0.3]"
   ]
  },
  {
   "cell_type": "code",
   "execution_count": 6,
   "id": "00b44980-08fa-4534-a6ec-2c967d6313e5",
   "metadata": {
    "tags": []
   },
   "outputs": [
    {
     "data": {
      "text/latex": [
       "$\\displaystyle \\left[\\begin{matrix}0 & 0 & 1 & 2\\\\1 & 0 & 0 & 7\\\\0 & 1 & 0 & 5\\\\0 & 0 & 0 & 1\\end{matrix}\\right]$"
      ],
      "text/plain": [
       "Matrix([\n",
       "[0, 0, 1, 2],\n",
       "[1, 0, 0, 7],\n",
       "[0, 1, 0, 5],\n",
       "[0, 0, 0, 1]])"
      ]
     },
     "execution_count": 6,
     "metadata": {},
     "output_type": "execute_result"
    }
   ],
   "source": [
    "T = sp.Matrix([\n",
    "    [0, 0, 1, 2],\n",
    "    [1, 0, 0, 7],\n",
    "    [0, 1, 0, 5],\n",
    "    [0, 0, 0, 1],\n",
    "])\n",
    "T"
   ]
  },
  {
   "cell_type": "markdown",
   "id": "9c7ca25e-bb3f-4f59-9ca6-5a47c6d290c1",
   "metadata": {},
   "source": [
    "$dT = \\Delta T$"
   ]
  },
  {
   "cell_type": "code",
   "execution_count": 7,
   "id": "59c3a103-2bf7-4948-b1c6-25a4a6f33292",
   "metadata": {
    "tags": []
   },
   "outputs": [
    {
     "data": {
      "text/latex": [
       "$\\displaystyle \\left[\\begin{matrix}0 & - \\delta_{z} & \\delta_{y} & dx\\\\\\delta_{z} & 0 & - \\delta_{x} & dy\\\\- \\delta_{y} & \\delta_{x} & 0 & dz\\\\0 & 0 & 0 & 0\\end{matrix}\\right]$"
      ],
      "text/plain": [
       "Matrix([\n",
       "[       0, -delta_z,  delta_y, dx],\n",
       "[ delta_z,        0, -delta_x, dy],\n",
       "[-delta_y,  delta_x,        0, dz],\n",
       "[       0,        0,        0,  0]])"
      ]
     },
     "execution_count": 7,
     "metadata": {},
     "output_type": "execute_result"
    }
   ],
   "source": [
    "dRx, dRy, dRz, dx, dy, dz = sp.symbols('delta_x, delta_y, delta_z, dx, dy, dz')\n",
    "rt.hdelta3(dRx, dRy, dRz, dx, dy, dz)"
   ]
  },
  {
   "cell_type": "code",
   "execution_count": 5,
   "id": "1d47585d-a269-47db-88ec-210b08646e20",
   "metadata": {
    "tags": []
   },
   "outputs": [
    {
     "data": {
      "text/latex": [
       "$\\displaystyle \\left[\\begin{matrix}0 & -0.15 & 0 & 0.1\\\\0.15 & 0 & 0 & 0.1\\\\0 & 0 & 0 & 0.3\\\\0 & 0 & 0 & 0\\end{matrix}\\right]$"
      ],
      "text/plain": [
       "Matrix([\n",
       "[   0, -0.15, 0, 0.1],\n",
       "[0.15,     0, 0, 0.1],\n",
       "[   0,     0, 0, 0.3],\n",
       "[   0,     0, 0,   0]])"
      ]
     },
     "execution_count": 5,
     "metadata": {},
     "output_type": "execute_result"
    }
   ],
   "source": [
    "delta = rt.hdelta3(dRz=0.15, dx=0.1, dy=0.1, dz=0.3)\n",
    "delta"
   ]
  },
  {
   "cell_type": "code",
   "execution_count": 6,
   "id": "67754812-00cc-4d3b-afa4-64017cf50b56",
   "metadata": {
    "tags": []
   },
   "outputs": [
    {
     "data": {
      "text/latex": [
       "$\\displaystyle \\left[\\begin{matrix}-0.15 & 0 & 0 & -0.95\\\\0 & 0 & 0.15 & 0.4\\\\0 & 0 & 0 & 0.3\\\\0 & 0 & 0 & 0\\end{matrix}\\right]$"
      ],
      "text/plain": [
       "Matrix([\n",
       "[-0.15, 0,    0, -0.95],\n",
       "[    0, 0, 0.15,   0.4],\n",
       "[    0, 0,    0,   0.3],\n",
       "[    0, 0,    0,     0]])"
      ]
     },
     "execution_count": 6,
     "metadata": {},
     "output_type": "execute_result"
    }
   ],
   "source": [
    "dT = delta * T\n",
    "dT"
   ]
  },
  {
   "cell_type": "code",
   "execution_count": 7,
   "id": "18c02335-3583-4f3a-a3b0-d2adb76ff73c",
   "metadata": {
    "tags": []
   },
   "outputs": [
    {
     "data": {
      "text/latex": [
       "$\\displaystyle \\left[\\begin{matrix}-0.15 & 0 & 1 & 1.05\\\\1 & 0 & 0.15 & 7.4\\\\0 & 1 & 0 & 5.3\\\\0 & 0 & 0 & 1\\end{matrix}\\right]$"
      ],
      "text/plain": [
       "Matrix([\n",
       "[-0.15, 0,    1, 1.05],\n",
       "[    1, 0, 0.15,  7.4],\n",
       "[    0, 1,    0,  5.3],\n",
       "[    0, 0,    0,    1]])"
      ]
     },
     "execution_count": 7,
     "metadata": {},
     "output_type": "execute_result"
    }
   ],
   "source": [
    "Tnew = T + dT\n",
    "Tnew"
   ]
  },
  {
   "cell_type": "markdown",
   "id": "468d7ecf-c0b7-4bb9-aa1c-c82068e45ea6",
   "metadata": {},
   "source": [
    "# 3.2 r po z za 0.12 i T 0.05 0.02 i 0.1"
   ]
  },
  {
   "cell_type": "code",
   "execution_count": 8,
   "id": "e40ac03c-ef80-4f7a-8ba2-a6bed2515015",
   "metadata": {
    "tags": []
   },
   "outputs": [
    {
     "data": {
      "text/latex": [
       "$\\displaystyle \\left[\\begin{matrix}0 & 0 & 1 & 2\\\\1 & 0 & 0 & 7\\\\0 & 1 & 0 & 5\\\\0 & 0 & 0 & 1\\end{matrix}\\right]$"
      ],
      "text/plain": [
       "Matrix([\n",
       "[0, 0, 1, 2],\n",
       "[1, 0, 0, 7],\n",
       "[0, 1, 0, 5],\n",
       "[0, 0, 0, 1]])"
      ]
     },
     "execution_count": 8,
     "metadata": {},
     "output_type": "execute_result"
    }
   ],
   "source": [
    "T = sp.Matrix([\n",
    "    [0, 0, 1, 2],\n",
    "    [1, 0, 0, 7],\n",
    "    [0, 1, 0, 5],\n",
    "    [0, 0, 0, 1],\n",
    "])\n",
    "T"
   ]
  },
  {
   "cell_type": "code",
   "execution_count": 9,
   "id": "c671c80c-f91f-4c0b-8578-fb00a9ea7a69",
   "metadata": {
    "tags": []
   },
   "outputs": [
    {
     "data": {
      "text/latex": [
       "$\\displaystyle \\left[\\begin{matrix}0 & - \\delta_{z} & \\delta_{y} & dx\\\\\\delta_{z} & 0 & - \\delta_{x} & dy\\\\- \\delta_{y} & \\delta_{x} & 0 & dz\\\\0 & 0 & 0 & 0\\end{matrix}\\right]$"
      ],
      "text/plain": [
       "Matrix([\n",
       "[       0, -delta_z,  delta_y, dx],\n",
       "[ delta_z,        0, -delta_x, dy],\n",
       "[-delta_y,  delta_x,        0, dz],\n",
       "[       0,        0,        0,  0]])"
      ]
     },
     "execution_count": 9,
     "metadata": {},
     "output_type": "execute_result"
    }
   ],
   "source": [
    "dRx, dRy, dRz, dx, dy, dz = sp.symbols('delta_x, delta_y, delta_z, dx, dy, dz')\n",
    "rt.hdelta3(dRx, dRy, dRz, dx, dy, dz)"
   ]
  },
  {
   "cell_type": "code",
   "execution_count": 10,
   "id": "6d7d674e-a3d9-4625-a63e-7cfebb500bba",
   "metadata": {
    "tags": []
   },
   "outputs": [
    {
     "data": {
      "text/latex": [
       "$\\displaystyle \\left[\\begin{matrix}0 & -0.15 & 0 & 0.05\\\\0.15 & 0 & 0 & 0.02\\\\0 & 0 & 0 & 0.1\\\\0 & 0 & 0 & 0\\end{matrix}\\right]$"
      ],
      "text/plain": [
       "Matrix([\n",
       "[   0, -0.15, 0, 0.05],\n",
       "[0.15,     0, 0, 0.02],\n",
       "[   0,     0, 0,  0.1],\n",
       "[   0,     0, 0,    0]])"
      ]
     },
     "execution_count": 10,
     "metadata": {},
     "output_type": "execute_result"
    }
   ],
   "source": [
    "delta = rt.hdelta3(dRz=0.15, dx=0.05, dy=0.02, dz=0.1)\n",
    "delta"
   ]
  },
  {
   "cell_type": "code",
   "execution_count": 11,
   "id": "d15d1f63-70dd-4201-98b6-b2e722cc4312",
   "metadata": {
    "tags": []
   },
   "outputs": [
    {
     "data": {
      "text/latex": [
       "$\\displaystyle \\left[\\begin{matrix}-0.15 & 0 & 0 & -1.0\\\\0 & 0 & 0.15 & 0.32\\\\0 & 0 & 0 & 0.1\\\\0 & 0 & 0 & 0\\end{matrix}\\right]$"
      ],
      "text/plain": [
       "Matrix([\n",
       "[-0.15, 0,    0, -1.0],\n",
       "[    0, 0, 0.15, 0.32],\n",
       "[    0, 0,    0,  0.1],\n",
       "[    0, 0,    0,    0]])"
      ]
     },
     "execution_count": 11,
     "metadata": {},
     "output_type": "execute_result"
    }
   ],
   "source": [
    "dT = delta * T\n",
    "dT"
   ]
  },
  {
   "cell_type": "code",
   "execution_count": 12,
   "id": "2785fdaf-e6c4-4568-a5bd-9b58dfcd21f1",
   "metadata": {
    "tags": []
   },
   "outputs": [
    {
     "data": {
      "text/latex": [
       "$\\displaystyle \\left[\\begin{matrix}-0.15 & 0 & 1 & 1.0\\\\1 & 0 & 0.15 & 7.32\\\\0 & 1 & 0 & 5.1\\\\0 & 0 & 0 & 1\\end{matrix}\\right]$"
      ],
      "text/plain": [
       "Matrix([\n",
       "[-0.15, 0,    1,  1.0],\n",
       "[    1, 0, 0.15, 7.32],\n",
       "[    0, 1,    0,  5.1],\n",
       "[    0, 0,    0,    1]])"
      ]
     },
     "execution_count": 12,
     "metadata": {},
     "output_type": "execute_result"
    }
   ],
   "source": [
    "Tnew = T + dT\n",
    "Tnew"
   ]
  },
  {
   "cell_type": "markdown",
   "id": "b9645c61-81ef-4fff-b786-843b8dc06411",
   "metadata": {},
   "source": [
    "# 3.3"
   ]
  },
  {
   "cell_type": "code",
   "execution_count": 14,
   "id": "692d8624-4a1e-4fd5-9e74-dd7a50b2536a",
   "metadata": {
    "tags": []
   },
   "outputs": [
    {
     "data": {
      "text/latex": [
       "$\\displaystyle \\left[\\begin{matrix}1 & 0 & 0 & 5\\\\0 & 0 & 1 & 3\\\\0 & -1 & 0 & 8\\\\0 & 0 & 0 & 1\\end{matrix}\\right]$"
      ],
      "text/plain": [
       "Matrix([\n",
       "[1,  0, 0, 5],\n",
       "[0,  0, 1, 3],\n",
       "[0, -1, 0, 8],\n",
       "[0,  0, 0, 1]])"
      ]
     },
     "execution_count": 14,
     "metadata": {},
     "output_type": "execute_result"
    }
   ],
   "source": [
    "T = sp.Matrix([\n",
    "    [1, 0, 0, 5],\n",
    "    [0, 0, 1, 3],\n",
    "    [0, -1, 0, 8],\n",
    "    [0, 0, 0, 1],\n",
    "])\n",
    "T"
   ]
  },
  {
   "cell_type": "code",
   "execution_count": 15,
   "id": "d92395ef-71d0-4863-aa70-7f5a87a5dbb7",
   "metadata": {
    "tags": []
   },
   "outputs": [
    {
     "data": {
      "text/latex": [
       "$\\displaystyle \\left[\\begin{matrix}0 & -0.1 & -0.1 & 0.6\\\\0.1 & 0 & 0 & 0.5\\\\-0.1 & 0 & 0 & -0.5\\\\0 & 0 & 0 & 0\\end{matrix}\\right]$"
      ],
      "text/plain": [
       "Matrix([\n",
       "[   0, -0.1, -0.1,  0.6],\n",
       "[ 0.1,    0,    0,  0.5],\n",
       "[-0.1,    0,    0, -0.5],\n",
       "[   0,    0,    0,    0]])"
      ]
     },
     "execution_count": 15,
     "metadata": {},
     "output_type": "execute_result"
    }
   ],
   "source": [
    "dT = sp.Matrix([\n",
    "    [0, -0.1, -0.1, 0.6],\n",
    "    [0.1, 0, 0, 0.5],\n",
    "    [-0.1, 0, 0, -0.5],\n",
    "    [0, 0, 0, 0],\n",
    "])\n",
    "dT"
   ]
  },
  {
   "cell_type": "markdown",
   "id": "50846704-d240-4176-92ab-d871a9532fd9",
   "metadata": {},
   "source": [
    "$dT = \\Delta T$ \n",
    "* Tnew= T+dT"
   ]
  },
  {
   "cell_type": "code",
   "execution_count": 16,
   "id": "893e021e-264f-4e78-8016-04d39213545e",
   "metadata": {
    "tags": []
   },
   "outputs": [
    {
     "data": {
      "text/latex": [
       "$\\displaystyle \\left[\\begin{matrix}0 & -0.1 & 0.1 & 0.1\\\\0.1 & 0 & 0 & 0\\\\-0.1 & 0 & 0 & 0\\\\0 & 0 & 0 & 0\\end{matrix}\\right]$"
      ],
      "text/plain": [
       "Matrix([\n",
       "[   0, -0.1, 0.1, 0.1],\n",
       "[ 0.1,    0,   0,   0],\n",
       "[-0.1,    0,   0,   0],\n",
       "[   0,    0,   0,   0]])"
      ]
     },
     "execution_count": 16,
     "metadata": {},
     "output_type": "execute_result"
    }
   ],
   "source": [
    "delta = dT*T.inv()\n",
    "delta"
   ]
  },
  {
   "cell_type": "code",
   "execution_count": 17,
   "id": "1238af5a-4afb-45f2-93bc-e8897b7b0a78",
   "metadata": {
    "tags": []
   },
   "outputs": [
    {
     "data": {
      "text/latex": [
       "$\\displaystyle \\left[\\begin{matrix}0\\\\0.1\\\\0.1\\\\0.1\\\\0\\\\0\\end{matrix}\\right]$"
      ],
      "text/plain": [
       "Matrix([\n",
       "[  0],\n",
       "[0.1],\n",
       "[0.1],\n",
       "[0.1],\n",
       "[  0],\n",
       "[  0]])"
      ]
     },
     "execution_count": 17,
     "metadata": {},
     "output_type": "execute_result"
    }
   ],
   "source": [
    "rt.extract_hdelta3(delta) #gi dobivame diferencijalnite dvizhenja, prvo rotaciite pa translaciite"
   ]
  },
  {
   "cell_type": "code",
   "execution_count": 19,
   "id": "bed92107-7bc7-4ad8-b89a-32c026a26246",
   "metadata": {
    "tags": []
   },
   "outputs": [
    {
     "data": {
      "text/latex": [
       "$\\displaystyle \\left[\\begin{matrix}0 & -0.1 & -0.1 & 0.6\\\\0.1 & 0 & 0 & 0.5\\\\0.1 & 0 & 0 & 0.5\\\\0 & 0 & 0 & 0\\end{matrix}\\right]$"
      ],
      "text/plain": [
       "Matrix([\n",
       "[  0, -0.1, -0.1, 0.6],\n",
       "[0.1,    0,    0, 0.5],\n",
       "[0.1,    0,    0, 0.5],\n",
       "[  0,    0,    0,   0]])"
      ]
     },
     "execution_count": 19,
     "metadata": {},
     "output_type": "execute_result"
    }
   ],
   "source": [
    "T.inv() * delta * T # izrazena delta vo odnos na t a ne na ref sistem"
   ]
  },
  {
   "cell_type": "markdown",
   "id": "cb7a69bd-ca87-4793-bd83-3f93f27936ce",
   "metadata": {},
   "source": [
    "# 3.4"
   ]
  },
  {
   "cell_type": "code",
   "execution_count": 18,
   "id": "6694132e-9897-467b-bdd5-b21fca3dcbc0",
   "metadata": {
    "tags": []
   },
   "outputs": [
    {
     "data": {
      "text/latex": [
       "$\\displaystyle \\left[\\begin{matrix}0 & 0 & 1 & 10\\\\1 & 0 & 0 & 5\\\\0 & 1 & 0 & 0\\\\0 & 0 & 0 & 1\\end{matrix}\\right]$"
      ],
      "text/plain": [
       "Matrix([\n",
       "[0, 0, 1, 10],\n",
       "[1, 0, 0,  5],\n",
       "[0, 1, 0,  0],\n",
       "[0, 0, 0,  1]])"
      ]
     },
     "execution_count": 18,
     "metadata": {},
     "output_type": "execute_result"
    }
   ],
   "source": [
    "A = sp.Matrix([\n",
    "    [0, 0, 1, 10],\n",
    "    [1, 0, 0, 5],\n",
    "    [0, 1, 0, 0],\n",
    "    [0, 0, 0, 1],\n",
    "])\n",
    "A"
   ]
  },
  {
   "cell_type": "code",
   "execution_count": 21,
   "id": "d4422866-4504-43ca-bc9e-ddb69323e763",
   "metadata": {
    "tags": []
   },
   "outputs": [],
   "source": [
    "dRx, dRy, dRz, dx, dy, dz = sp.symbols('delta_x, delta_y, delta_z, dx, dy, dz')"
   ]
  },
  {
   "cell_type": "code",
   "execution_count": 23,
   "id": "846ed7ce-42c4-4f45-b5bd-dd6922ed4231",
   "metadata": {
    "tags": []
   },
   "outputs": [
    {
     "data": {
      "text/latex": [
       "$\\displaystyle \\left[\\begin{matrix}0 & 0 & 0.1 & 1\\\\0 & 0 & 0 & 0\\\\-0.1 & 0 & 0 & 0.5\\\\0 & 0 & 0 & 0\\end{matrix}\\right]$"
      ],
      "text/plain": [
       "Matrix([\n",
       "[   0, 0, 0.1,   1],\n",
       "[   0, 0,   0,   0],\n",
       "[-0.1, 0,   0, 0.5],\n",
       "[   0, 0,   0,   0]])"
      ]
     },
     "execution_count": 23,
     "metadata": {},
     "output_type": "execute_result"
    }
   ],
   "source": [
    "delta_ref = rt.hdelta3(dRy=0.1, dx=1, dz=0.5) #vo odnos na ref sistem\n",
    "delta_ref"
   ]
  },
  {
   "cell_type": "code",
   "execution_count": 26,
   "id": "cb8565c6-1c05-4724-be41-3b5aa5fb1baa",
   "metadata": {
    "tags": []
   },
   "outputs": [
    {
     "data": {
      "text/latex": [
       "$\\displaystyle \\left[\\begin{matrix}0 & 0 & 0 & 0\\\\0 & 0 & -0.1 & -0.5\\\\0 & 0.1 & 0 & 1\\\\0 & 0 & 0 & 0\\end{matrix}\\right]$"
      ],
      "text/plain": [
       "Matrix([\n",
       "[0,   0,    0,    0],\n",
       "[0,   0, -0.1, -0.5],\n",
       "[0, 0.1,    0,    1],\n",
       "[0,   0,    0,    0]])"
      ]
     },
     "execution_count": 26,
     "metadata": {},
     "output_type": "execute_result"
    }
   ],
   "source": [
    "delta_A=A.inv() * delta_ref * A\n",
    "delta_A"
   ]
  },
  {
   "cell_type": "markdown",
   "id": "e9ee5953-4086-4c1d-81bc-96af87cdc44d",
   "metadata": {},
   "source": [
    "# 3.5"
   ]
  },
  {
   "cell_type": "code",
   "execution_count": 27,
   "id": "5f1ddad8-a97f-4f13-ac40-db386c9f6224",
   "metadata": {
    "tags": []
   },
   "outputs": [
    {
     "data": {
      "text/latex": [
       "$\\displaystyle \\left[\\begin{matrix}0 & 0 & 1 & 10\\\\1 & 0 & 0 & 5\\\\0 & 0 & -1 & 0\\\\0 & 0 & 0 & 1\\end{matrix}\\right]$"
      ],
      "text/plain": [
       "Matrix([\n",
       "[0, 0,  1, 10],\n",
       "[1, 0,  0,  5],\n",
       "[0, 0, -1,  0],\n",
       "[0, 0,  0,  1]])"
      ]
     },
     "execution_count": 27,
     "metadata": {},
     "output_type": "execute_result"
    }
   ],
   "source": [
    "T6 = sp.Matrix([\n",
    "    [0, 0, 1, 10],\n",
    "    [1, 0, 0, 5],\n",
    "    [0, 0, -1, 0],\n",
    "    [0, 0, 0, 1],\n",
    "])\n",
    "T6"
   ]
  },
  {
   "cell_type": "code",
   "execution_count": 28,
   "id": "7e579aa2-5b4e-4baa-b19f-73aba7c8cfe6",
   "metadata": {
    "tags": []
   },
   "outputs": [
    {
     "data": {
      "text/latex": [
       "$\\displaystyle \\left[\\begin{matrix}8 & 0 & 0 & 0 & 0 & 0\\\\-3 & 0 & 1 & 0 & 0 & 0\\\\0 & 10 & 0 & 0 & 0 & 0\\\\0 & 1 & 0 & 0 & 1 & 0\\\\8 & 0 & 0 & 1 & 0 & 0\\\\-1 & 0 & 0 & 0 & 0 & 1\\end{matrix}\\right]$"
      ],
      "text/plain": [
       "Matrix([\n",
       "[ 8,  0, 0, 0, 0, 0],\n",
       "[-3,  0, 1, 0, 0, 0],\n",
       "[ 0, 10, 0, 0, 0, 0],\n",
       "[ 0,  1, 0, 0, 1, 0],\n",
       "[ 8,  0, 0, 1, 0, 0],\n",
       "[-1,  0, 0, 0, 0, 1]])"
      ]
     },
     "execution_count": 28,
     "metadata": {},
     "output_type": "execute_result"
    }
   ],
   "source": [
    "J = sp.Matrix([\n",
    "    [8, 0, 0, 0, 0, 0],\n",
    "    [-3, 0, 1, 0, 0, 0],\n",
    "    [0, 10, 0, 0, 0, 0],\n",
    "    [0, 1, 0, 0, 1, 0],\n",
    "    [8, 0, 0, 1, 0, 0],\n",
    "    [-1, 0, 0, 0, 0, 1],\n",
    "])\n",
    "J"
   ]
  },
  {
   "cell_type": "code",
   "execution_count": 29,
   "id": "43e5426e-3ab3-4c68-b6e0-74316aad45be",
   "metadata": {
    "tags": []
   },
   "outputs": [
    {
     "data": {
      "text/latex": [
       "$\\displaystyle \\left[\\begin{matrix}0\\\\0.1\\\\-0.1\\\\0.2\\\\0.2\\\\0\\end{matrix}\\right]$"
      ],
      "text/plain": [
       "Matrix([\n",
       "[   0],\n",
       "[ 0.1],\n",
       "[-0.1],\n",
       "[ 0.2],\n",
       "[ 0.2],\n",
       "[   0]])"
      ]
     },
     "execution_count": 29,
     "metadata": {},
     "output_type": "execute_result"
    }
   ],
   "source": [
    "delta_joints = sp.Matrix([0, 0.1, -0.1, 0.2, 0.2, 0])\n",
    "delta_joints"
   ]
  },
  {
   "cell_type": "code",
   "execution_count": 30,
   "id": "bb4b4226-00c3-41db-a2f2-6dfc31e9f185",
   "metadata": {
    "tags": []
   },
   "outputs": [
    {
     "data": {
      "text/latex": [
       "$\\displaystyle \\left[\\begin{matrix}0\\\\-0.1\\\\1.0\\\\0.3\\\\0.2\\\\0\\end{matrix}\\right]$"
      ],
      "text/plain": [
       "Matrix([\n",
       "[   0],\n",
       "[-0.1],\n",
       "[ 1.0],\n",
       "[ 0.3],\n",
       "[ 0.2],\n",
       "[   0]])"
      ]
     },
     "execution_count": 30,
     "metadata": {},
     "output_type": "execute_result"
    }
   ],
   "source": [
    "delta_end_effector = J * delta_joints\n",
    "delta_end_effector"
   ]
  },
  {
   "cell_type": "code",
   "execution_count": 31,
   "id": "b83a015d-ab68-46bb-8692-5999642c56d8",
   "metadata": {
    "tags": []
   },
   "outputs": [
    {
     "data": {
      "text/latex": [
       "$\\displaystyle \\left[\\begin{matrix}0 & -1 & -0.1 & 0.3\\\\1 & 0 & 0 & 0.2\\\\0.1 & 0 & 0 & 0\\\\0 & 0 & 0 & 0\\end{matrix}\\right]$"
      ],
      "text/plain": [
       "Matrix([\n",
       "[  0, -1, -0.1, 0.3],\n",
       "[  1,  0,    0, 0.2],\n",
       "[0.1,  0,    0,   0],\n",
       "[  0,  0,    0,   0]])"
      ]
     },
     "execution_count": 31,
     "metadata": {},
     "output_type": "execute_result"
    }
   ],
   "source": [
    "delta = rt.hdelta3(dRx=0, dRy=-0.1, dRz=1, dx=0.3, dy=0.2, dz=0)\n",
    "delta"
   ]
  },
  {
   "cell_type": "code",
   "execution_count": 33,
   "id": "5a38f81b-d7cf-4189-a5fb-13207756aa5e",
   "metadata": {
    "tags": []
   },
   "outputs": [
    {
     "data": {
      "text/latex": [
       "$\\displaystyle \\left[\\begin{matrix}-1 & 0 & 1.1 & 5.3\\\\1 & 0 & 1 & 15.2\\\\0 & 0 & -0.9 & 1.0\\\\0 & 0 & 0 & 1\\end{matrix}\\right]$"
      ],
      "text/plain": [
       "Matrix([\n",
       "[-1, 0,  1.1,  5.3],\n",
       "[ 1, 0,    1, 15.2],\n",
       "[ 0, 0, -0.9,  1.0],\n",
       "[ 0, 0,    0,    1]])"
      ]
     },
     "execution_count": 33,
     "metadata": {},
     "output_type": "execute_result"
    }
   ],
   "source": [
    "T6new= T6+ delta*T6\n",
    "T6new"
   ]
  },
  {
   "cell_type": "markdown",
   "id": "e7c5a753-860b-4683-ba28-c5e40ae20ed9",
   "metadata": {},
   "source": [
    "# 3.7"
   ]
  },
  {
   "cell_type": "code",
   "execution_count": 34,
   "id": "ca099815-70ff-47a4-941a-244a167fa793",
   "metadata": {
    "tags": []
   },
   "outputs": [
    {
     "data": {
      "text/latex": [
       "$\\displaystyle \\left[\\begin{matrix}1 & 0 & 0 & 5\\\\0 & 0 & -1 & 3\\\\0 & 1 & 0 & 6\\\\0 & 0 & 0 & 1\\end{matrix}\\right]$"
      ],
      "text/plain": [
       "Matrix([\n",
       "[1, 0,  0, 5],\n",
       "[0, 0, -1, 3],\n",
       "[0, 1,  0, 6],\n",
       "[0, 0,  0, 1]])"
      ]
     },
     "execution_count": 34,
     "metadata": {},
     "output_type": "execute_result"
    }
   ],
   "source": [
    "T1 = sp.Matrix([\n",
    "    [1, 0, 0, 5],\n",
    "    [0, 0, -1, 3],\n",
    "    [0, 1, 0, 6],\n",
    "    [0, 0, 0, 1],\n",
    "])\n",
    "T1"
   ]
  },
  {
   "cell_type": "code",
   "execution_count": 35,
   "id": "ff9bc57e-6008-4576-a379-1dc75e8bf277",
   "metadata": {
    "tags": []
   },
   "outputs": [
    {
     "data": {
      "text/latex": [
       "$\\displaystyle \\left[\\begin{matrix}1 & 0 & 0.1 & 4.8\\\\0.1 & 0 & -1 & 3.5\\\\0 & 1 & 0 & 6.2\\\\0 & 0 & 0 & 1\\end{matrix}\\right]$"
      ],
      "text/plain": [
       "Matrix([\n",
       "[  1, 0, 0.1, 4.8],\n",
       "[0.1, 0,  -1, 3.5],\n",
       "[  0, 1,   0, 6.2],\n",
       "[  0, 0,   0,   1]])"
      ]
     },
     "execution_count": 35,
     "metadata": {},
     "output_type": "execute_result"
    }
   ],
   "source": [
    "T2 = sp.Matrix([\n",
    "    [1, 0, 0.1, 4.8],\n",
    "    [0.1, 0, -1, 3.5],\n",
    "    [0, 1, 0, 6.2],\n",
    "    [0, 0, 0, 1],\n",
    "])\n",
    "T2"
   ]
  },
  {
   "cell_type": "code",
   "execution_count": 36,
   "id": "796a8445-7e65-4484-9b2a-e764e9ed938c",
   "metadata": {
    "tags": []
   },
   "outputs": [
    {
     "data": {
      "text/latex": [
       "$\\displaystyle \\left[\\begin{matrix}1 & -0.1 & 0 & 0.0999999999999996\\\\0.1 & 1 & 0 & 0\\\\0 & 0 & 1 & 0.2\\\\0 & 0 & 0 & 1\\end{matrix}\\right]$"
      ],
      "text/plain": [
       "Matrix([\n",
       "[  1, -0.1, 0, 0.0999999999999996],\n",
       "[0.1,    1, 0,                  0],\n",
       "[  0,    0, 1,                0.2],\n",
       "[  0,    0, 0,                  1]])"
      ]
     },
     "execution_count": 36,
     "metadata": {},
     "output_type": "execute_result"
    }
   ],
   "source": [
    "# T2=QT1 Q=T2*invT1\n",
    "Q=T2*T1.inv()\n",
    "Q"
   ]
  },
  {
   "cell_type": "code",
   "execution_count": 37,
   "id": "54abbacc-9775-4a36-b427-ea47571d991e",
   "metadata": {
    "tags": []
   },
   "outputs": [
    {
     "data": {
      "text/latex": [
       "$\\displaystyle \\left[\\begin{matrix}0 & 0 & 0.1 & -0.2\\\\0.1 & 0 & 0 & 0.5\\\\0 & 0 & 0 & 0.2\\\\0 & 0 & 0 & 0\\end{matrix}\\right]$"
      ],
      "text/plain": [
       "Matrix([\n",
       "[  0, 0, 0.1, -0.2],\n",
       "[0.1, 0,   0,  0.5],\n",
       "[  0, 0,   0,  0.2],\n",
       "[  0, 0,   0,    0]])"
      ]
     },
     "execution_count": 37,
     "metadata": {},
     "output_type": "execute_result"
    }
   ],
   "source": [
    "dT = T2 - T1\n",
    "dT"
   ]
  },
  {
   "cell_type": "code",
   "execution_count": 38,
   "id": "91c0da58-ab6b-4f88-af62-79616f55b632",
   "metadata": {
    "tags": []
   },
   "outputs": [
    {
     "data": {
      "text/latex": [
       "$\\displaystyle \\left[\\begin{matrix}0 & -0.1 & 0 & 0.0999999999999999\\\\0.1 & 0 & 0 & 0\\\\0 & 0 & 0 & 0.2\\\\0 & 0 & 0 & 0\\end{matrix}\\right]$"
      ],
      "text/plain": [
       "Matrix([\n",
       "[  0, -0.1, 0, 0.0999999999999999],\n",
       "[0.1,    0, 0,                  0],\n",
       "[  0,    0, 0,                0.2],\n",
       "[  0,    0, 0,                  0]])"
      ]
     },
     "execution_count": 38,
     "metadata": {},
     "output_type": "execute_result"
    }
   ],
   "source": [
    "delta = dT * T1.inv()\n",
    "delta"
   ]
  },
  {
   "cell_type": "code",
   "execution_count": 39,
   "id": "8b11c708-e18c-4384-a2ad-b0dc94bf193a",
   "metadata": {
    "tags": []
   },
   "outputs": [
    {
     "data": {
      "text/latex": [
       "$\\displaystyle \\left[\\begin{matrix}0\\\\0\\\\0.1\\\\0.0999999999999999\\\\0\\\\0.2\\end{matrix}\\right]$"
      ],
      "text/plain": [
       "Matrix([\n",
       "[                 0],\n",
       "[                 0],\n",
       "[               0.1],\n",
       "[0.0999999999999999],\n",
       "[                 0],\n",
       "[               0.2]])"
      ]
     },
     "execution_count": 39,
     "metadata": {},
     "output_type": "execute_result"
    }
   ],
   "source": [
    "rt.extract_hdelta3(delta)"
   ]
  },
  {
   "cell_type": "markdown",
   "id": "b7b86ed6-c69f-4939-9a00-54bff78ee518",
   "metadata": {},
   "source": [
    "# 3.8 - cilindrichna i singulariteti"
   ]
  },
  {
   "cell_type": "code",
   "execution_count": 40,
   "id": "8a926b07-2c1c-45e7-8dd0-c4bdd1d48e27",
   "metadata": {
    "tags": []
   },
   "outputs": [
    {
     "data": {
      "text/latex": [
       "$\\displaystyle \\left[\\begin{matrix}\\cos{\\left(\\alpha \\right)} & - \\sin{\\left(\\alpha \\right)} & 0 & r \\cos{\\left(\\alpha \\right)}\\\\\\sin{\\left(\\alpha \\right)} & \\cos{\\left(\\alpha \\right)} & 0 & r \\sin{\\left(\\alpha \\right)}\\\\0 & 0 & 1 & l\\\\0 & 0 & 0 & 1\\end{matrix}\\right]$"
      ],
      "text/plain": [
       "Matrix([\n",
       "[cos(alpha), -sin(alpha), 0, r*cos(alpha)],\n",
       "[sin(alpha),  cos(alpha), 0, r*sin(alpha)],\n",
       "[         0,           0, 1,            l],\n",
       "[         0,           0, 0,            1]])"
      ]
     },
     "execution_count": 40,
     "metadata": {},
     "output_type": "execute_result"
    }
   ],
   "source": [
    "alpha, r, l = sp.symbols('alpha, r, l')\n",
    "T = rt.hrotation3('z', alpha) * rt.htranslation3(x=r, z=l)\n",
    "T"
   ]
  },
  {
   "cell_type": "code",
   "execution_count": 41,
   "id": "677f5d3d-0619-4be9-bcf4-77a11d79d3ea",
   "metadata": {
    "tags": []
   },
   "outputs": [
    {
     "data": {
      "text/latex": [
       "$\\displaystyle \\left[\\begin{matrix}\\cos{\\left(\\alpha \\right)} & - r \\sin{\\left(\\alpha \\right)} & 0\\\\\\sin{\\left(\\alpha \\right)} & r \\cos{\\left(\\alpha \\right)} & 0\\\\0 & 0 & 1\\end{matrix}\\right]$"
      ],
      "text/plain": [
       "Matrix([\n",
       "[cos(alpha), -r*sin(alpha), 0],\n",
       "[sin(alpha),  r*cos(alpha), 0],\n",
       "[         0,             0, 1]])"
      ]
     },
     "execution_count": 41,
     "metadata": {},
     "output_type": "execute_result"
    }
   ],
   "source": [
    "position = T[:3, 3]\n",
    "linear_jacobian = position.jacobian([r, alpha, l])\n",
    "linear_jacobian"
   ]
  },
  {
   "cell_type": "code",
   "execution_count": 42,
   "id": "c9ff33c9-45a4-474b-9e45-5e3b5d1e21d1",
   "metadata": {
    "tags": []
   },
   "outputs": [
    {
     "data": {
      "text/latex": [
       "$\\displaystyle r$"
      ],
      "text/plain": [
       "r"
      ]
     },
     "execution_count": 42,
     "metadata": {},
     "output_type": "execute_result"
    }
   ],
   "source": [
    "det_J = sp.det(linear_jacobian).simplify()\n",
    "det_J"
   ]
  },
  {
   "cell_type": "markdown",
   "id": "c68d5f4c-6b99-49d5-9431-03acac4f2a6a",
   "metadata": {},
   "source": [
    "* singulariteti se naogjaat taka shto jakobijanot treba da e 0 so toa r=0"
   ]
  },
  {
   "cell_type": "markdown",
   "id": "075bf3eb-ea1c-4b27-b70f-213b6aa3783b",
   "metadata": {},
   "source": [
    "# 3.9"
   ]
  },
  {
   "cell_type": "code",
   "execution_count": 46,
   "id": "86eeadc7-99dc-4ac9-99fb-04551be8b111",
   "metadata": {
    "tags": []
   },
   "outputs": [
    {
     "data": {
      "text/latex": [
       "$\\displaystyle \\left[\\begin{matrix}\\cos{\\left(\\beta \\right)} \\cos{\\left(\\gamma \\right)} & - \\sin{\\left(\\gamma \\right)} & \\sin{\\left(\\beta \\right)} \\cos{\\left(\\gamma \\right)} & r \\sin{\\left(\\beta \\right)} \\cos{\\left(\\gamma \\right)}\\\\\\sin{\\left(\\gamma \\right)} \\cos{\\left(\\beta \\right)} & \\cos{\\left(\\gamma \\right)} & \\sin{\\left(\\beta \\right)} \\sin{\\left(\\gamma \\right)} & r \\sin{\\left(\\beta \\right)} \\sin{\\left(\\gamma \\right)}\\\\- \\sin{\\left(\\beta \\right)} & 0 & \\cos{\\left(\\beta \\right)} & r \\cos{\\left(\\beta \\right)}\\\\0 & 0 & 0 & 1\\end{matrix}\\right]$"
      ],
      "text/plain": [
       "Matrix([\n",
       "[cos(beta)*cos(gamma), -sin(gamma), sin(beta)*cos(gamma), r*sin(beta)*cos(gamma)],\n",
       "[sin(gamma)*cos(beta),  cos(gamma), sin(beta)*sin(gamma), r*sin(beta)*sin(gamma)],\n",
       "[          -sin(beta),           0,            cos(beta),            r*cos(beta)],\n",
       "[                   0,           0,                    0,                      1]])"
      ]
     },
     "execution_count": 46,
     "metadata": {},
     "output_type": "execute_result"
    }
   ],
   "source": [
    "r, beta, gamma = sp.symbols('r, beta, gamma')\n",
    "T = rt.hrotation3('z', gamma) * rt.hrotation3('y', beta) * rt.htranslation3(z=r)\n",
    "T"
   ]
  },
  {
   "cell_type": "code",
   "execution_count": 49,
   "id": "667daf3f-2fb8-461a-a5ed-297e839201cf",
   "metadata": {
    "tags": []
   },
   "outputs": [
    {
     "data": {
      "text/latex": [
       "$\\displaystyle \\left[\\begin{matrix}\\sin{\\left(\\beta \\right)} \\cos{\\left(\\gamma \\right)} & r \\cos{\\left(\\beta \\right)} \\cos{\\left(\\gamma \\right)} & - r \\sin{\\left(\\beta \\right)} \\sin{\\left(\\gamma \\right)}\\\\\\sin{\\left(\\beta \\right)} \\sin{\\left(\\gamma \\right)} & r \\sin{\\left(\\gamma \\right)} \\cos{\\left(\\beta \\right)} & r \\sin{\\left(\\beta \\right)} \\cos{\\left(\\gamma \\right)}\\\\\\cos{\\left(\\beta \\right)} & - r \\sin{\\left(\\beta \\right)} & 0\\end{matrix}\\right]$"
      ],
      "text/plain": [
       "Matrix([\n",
       "[sin(beta)*cos(gamma), r*cos(beta)*cos(gamma), -r*sin(beta)*sin(gamma)],\n",
       "[sin(beta)*sin(gamma), r*sin(gamma)*cos(beta),  r*sin(beta)*cos(gamma)],\n",
       "[           cos(beta),           -r*sin(beta),                       0]])"
      ]
     },
     "execution_count": 49,
     "metadata": {},
     "output_type": "execute_result"
    }
   ],
   "source": [
    "position = T[:3, 3]\n",
    "linear_jacobian = position.jacobian([r, beta, gamma])\n",
    "linear_jacobian"
   ]
  },
  {
   "cell_type": "code",
   "execution_count": 50,
   "id": "f29ceaba-8cdb-4cb9-9230-e871615b46a2",
   "metadata": {
    "tags": []
   },
   "outputs": [
    {
     "data": {
      "text/latex": [
       "$\\displaystyle r^{2} \\sin{\\left(\\beta \\right)}$"
      ],
      "text/plain": [
       "r**2*sin(beta)"
      ]
     },
     "execution_count": 50,
     "metadata": {},
     "output_type": "execute_result"
    }
   ],
   "source": [
    "det_J = sp.det(linear_jacobian).simplify()\n",
    "det_J"
   ]
  },
  {
   "cell_type": "code",
   "execution_count": 51,
   "id": "3da478dd-a8bf-491b-9443-c10ffa26853b",
   "metadata": {
    "tags": []
   },
   "outputs": [
    {
     "data": {
      "text/latex": [
       "$\\displaystyle r^{2} \\sin{\\left(\\beta \\right)} = 0$"
      ],
      "text/plain": [
       "Eq(r**2*sin(beta), 0)"
      ]
     },
     "execution_count": 51,
     "metadata": {},
     "output_type": "execute_result"
    }
   ],
   "source": [
    "equation = sp.Eq(det_J, 0)\n",
    "equation"
   ]
  },
  {
   "cell_type": "code",
   "execution_count": 52,
   "id": "cf4fc15d-d96f-4080-9435-d43c95941119",
   "metadata": {
    "tags": []
   },
   "outputs": [
    {
     "data": {
      "text/latex": [
       "$\\displaystyle \\left\\{2 n \\pi\\; \\middle|\\; n \\in \\mathbb{Z}\\right\\} \\cup \\left\\{2 n \\pi + \\pi\\; \\middle|\\; n \\in \\mathbb{Z}\\right\\}$"
      ],
      "text/plain": [
       "Union(ImageSet(Lambda(_n, 2*_n*pi + pi), Integers), ImageSet(Lambda(_n, 2*_n*pi), Integers))"
      ]
     },
     "execution_count": 52,
     "metadata": {},
     "output_type": "execute_result"
    }
   ],
   "source": [
    "solution = sp.solveset(det_J, beta)\n",
    "solution"
   ]
  },
  {
   "cell_type": "code",
   "execution_count": 53,
   "id": "b73f6784-fcec-4a46-b25e-514ec0f98120",
   "metadata": {
    "tags": []
   },
   "outputs": [
    {
     "data": {
      "text/latex": [
       "$\\displaystyle \\left(- \\pi, \\pi\\right]$"
      ],
      "text/plain": [
       "Interval.Lopen(-pi, pi)"
      ]
     },
     "execution_count": 53,
     "metadata": {},
     "output_type": "execute_result"
    }
   ],
   "source": [
    "interval = sp.Interval(-sp.pi, sp.pi, left_open=True)\n",
    "interval"
   ]
  },
  {
   "cell_type": "code",
   "execution_count": 54,
   "id": "4c147c4b-5c90-4152-825e-5125912a7af8",
   "metadata": {
    "tags": []
   },
   "outputs": [
    {
     "data": {
      "text/latex": [
       "$\\displaystyle \\left\\{0, \\pi\\right\\}$"
      ],
      "text/plain": [
       "{0, pi}"
      ]
     },
     "execution_count": 54,
     "metadata": {},
     "output_type": "execute_result"
    }
   ],
   "source": [
    "solution = sp.solveset(det_J, beta, interval)\n",
    "solution"
   ]
  },
  {
   "cell_type": "markdown",
   "id": "155cdf6f-500f-49f0-9f34-fdd56147a30e",
   "metadata": {},
   "source": [
    "# 3.10"
   ]
  },
  {
   "cell_type": "code",
   "execution_count": 2,
   "id": "9dcca894-0bb3-4ad3-89af-ea9ce6ff7969",
   "metadata": {
    "tags": []
   },
   "outputs": [
    {
     "data": {
      "application/vnd.jupyter.widget-view+json": {
       "model_id": "e70fcd7e72f3464f969a4847823048f2",
       "version_major": 2,
       "version_minor": 0
      },
      "text/plain": [
       "VBox(children=(HBox(children=(ToggleButton(value=True, description='Исклучи цртање'), Button(description='Пром…"
      ]
     },
     "execution_count": 2,
     "metadata": {},
     "output_type": "execute_result"
    }
   ],
   "source": [
    "d1, d2, theta3, a3 = sp.symbols('d1, d2, theta3, a3')\n",
    "robot = rt.SerialLinkRobot()\n",
    "robot.add_prismatic_joint(0, d1, 0, -sp.pi/2)\n",
    "robot.add_prismatic_joint(0, d2, 0, sp.pi/2)\n",
    "robot.add_revolute_joint(theta3, 0, a3, 0)\n",
    "robot.add_subs([(a3, 1)])\n",
    "robot.interact()"
   ]
  },
  {
   "cell_type": "code",
   "execution_count": 56,
   "id": "da613b2e-795b-4093-8b8f-232c769d340e",
   "metadata": {
    "tags": []
   },
   "outputs": [
    {
     "data": {
      "text/latex": [
       "$\\displaystyle \\left[\\begin{matrix}\\cos{\\left(\\theta_{3} \\right)} & - \\sin{\\left(\\theta_{3} \\right)} & 0 & a_{3} \\cos{\\left(\\theta_{3} \\right)}\\\\\\sin{\\left(\\theta_{3} \\right)} & \\cos{\\left(\\theta_{3} \\right)} & 0 & a_{3} \\sin{\\left(\\theta_{3} \\right)} + d_{2}\\\\0 & 0 & 1 & d_{1}\\\\0 & 0 & 0 & 1\\end{matrix}\\right]$"
      ],
      "text/plain": [
       "Matrix([\n",
       "[cos(theta3), -sin(theta3), 0,      a3*cos(theta3)],\n",
       "[sin(theta3),  cos(theta3), 0, a3*sin(theta3) + d2],\n",
       "[          0,            0, 1,                  d1],\n",
       "[          0,            0, 0,                   1]])"
      ]
     },
     "execution_count": 56,
     "metadata": {},
     "output_type": "execute_result"
    }
   ],
   "source": [
    "robot.get_dh_matrix()"
   ]
  },
  {
   "cell_type": "code",
   "execution_count": 57,
   "id": "36c9a48a-03eb-452e-b267-4d52ae7f3b9e",
   "metadata": {
    "tags": []
   },
   "outputs": [
    {
     "data": {
      "text/latex": [
       "$\\displaystyle \\left[\\begin{matrix}0 & 0 & - a_{3} \\sin{\\left(\\theta_{3} \\right)}\\\\0 & 1 & a_{3} \\cos{\\left(\\theta_{3} \\right)}\\\\1 & 0 & 0\\end{matrix}\\right]$"
      ],
      "text/plain": [
       "Matrix([\n",
       "[0, 0, -a3*sin(theta3)],\n",
       "[0, 1,  a3*cos(theta3)],\n",
       "[1, 0,               0]])"
      ]
     },
     "execution_count": 57,
     "metadata": {},
     "output_type": "execute_result"
    }
   ],
   "source": [
    "robot.linear_jacobian() #jakobijan na linearni brzini"
   ]
  },
  {
   "cell_type": "code",
   "execution_count": 58,
   "id": "1785454f-405f-4a77-9606-f0ee42b4cae1",
   "metadata": {
    "tags": []
   },
   "outputs": [
    {
     "data": {
      "text/latex": [
       "$\\displaystyle \\left[\\begin{matrix}0 & 0 & 0\\\\0 & 0 & 0\\\\0 & 0 & 1\\end{matrix}\\right]$"
      ],
      "text/plain": [
       "Matrix([\n",
       "[0, 0, 0],\n",
       "[0, 0, 0],\n",
       "[0, 0, 1]])"
      ]
     },
     "execution_count": 58,
     "metadata": {},
     "output_type": "execute_result"
    }
   ],
   "source": [
    "robot.angular_jacobian() #jakobijan na agolni brzini"
   ]
  },
  {
   "cell_type": "code",
   "execution_count": 59,
   "id": "7b3423d3-ff7c-4bd1-b096-3a1d13f0bb9f",
   "metadata": {
    "tags": []
   },
   "outputs": [
    {
     "data": {
      "text/latex": [
       "$\\displaystyle \\left[\\begin{matrix}0 & 0 & - a_{3} \\sin{\\left(\\theta_{3} \\right)}\\\\0 & 1 & a_{3} \\cos{\\left(\\theta_{3} \\right)}\\\\1 & 0 & 0\\\\0 & 0 & 0\\\\0 & 0 & 0\\\\0 & 0 & 1\\end{matrix}\\right]$"
      ],
      "text/plain": [
       "Matrix([\n",
       "[0, 0, -a3*sin(theta3)],\n",
       "[0, 1,  a3*cos(theta3)],\n",
       "[1, 0,               0],\n",
       "[0, 0,               0],\n",
       "[0, 0,               0],\n",
       "[0, 0,               1]])"
      ]
     },
     "execution_count": 59,
     "metadata": {},
     "output_type": "execute_result"
    }
   ],
   "source": [
    "robot.jacobian() # spoj od dvata"
   ]
  },
  {
   "cell_type": "markdown",
   "id": "80b66fcd-7b8b-4446-ad2e-6ea500bbbff8",
   "metadata": {},
   "source": [
    "# 3.12"
   ]
  },
  {
   "cell_type": "code",
   "execution_count": 61,
   "id": "105049b1-c75d-4cc9-bd2b-d1f67f90f5e1",
   "metadata": {
    "tags": []
   },
   "outputs": [
    {
     "data": {
      "application/vnd.jupyter.widget-view+json": {
       "model_id": "6ba43461ed2746129a098d9524748745",
       "version_major": 2,
       "version_minor": 0
      },
      "text/plain": [
       "VBox(children=(HBox(children=(ToggleButton(value=True, description='Исклучи цртање'), Button(description='Пром…"
      ]
     },
     "execution_count": 61,
     "metadata": {},
     "output_type": "execute_result"
    }
   ],
   "source": [
    "theta1, theta2, l1, l2 = sp.symbols('theta1, theta2, l1, l2')\n",
    "robot = rt.SerialLinkRobot()\n",
    "robot.add_revolute_joint(theta1, 0, l1, 0)\n",
    "robot.add_revolute_joint(theta2, 0, l2, 0)\n",
    "robot.add_subs([(l1, 1),(l2,1)])\n",
    "robot.interact()"
   ]
  },
  {
   "cell_type": "code",
   "execution_count": 62,
   "id": "e5b1e4eb-9c34-451a-a4f9-89fadf61fc01",
   "metadata": {
    "tags": []
   },
   "outputs": [
    {
     "data": {
      "text/latex": [
       "$\\displaystyle \\left[\\begin{matrix}- l_{1} \\sin{\\left(\\theta_{1} \\right)} - l_{2} \\sin{\\left(\\theta_{1} + \\theta_{2} \\right)} & - l_{2} \\sin{\\left(\\theta_{1} + \\theta_{2} \\right)}\\\\l_{1} \\cos{\\left(\\theta_{1} \\right)} + l_{2} \\cos{\\left(\\theta_{1} + \\theta_{2} \\right)} & l_{2} \\cos{\\left(\\theta_{1} + \\theta_{2} \\right)}\\\\0 & 0\\\\0 & 0\\\\0 & 0\\\\1 & 1\\end{matrix}\\right]$"
      ],
      "text/plain": [
       "Matrix([\n",
       "[-l1*sin(theta1) - l2*sin(theta1 + theta2), -l2*sin(theta1 + theta2)],\n",
       "[ l1*cos(theta1) + l2*cos(theta1 + theta2),  l2*cos(theta1 + theta2)],\n",
       "[                                        0,                        0],\n",
       "[                                        0,                        0],\n",
       "[                                        0,                        0],\n",
       "[                                        1,                        1]])"
      ]
     },
     "execution_count": 62,
     "metadata": {},
     "output_type": "execute_result"
    }
   ],
   "source": [
    "J=robot.jacobian() # spoj od dvata\n",
    "J "
   ]
  },
  {
   "cell_type": "code",
   "execution_count": 63,
   "id": "c184abe8-9b10-4ccd-86ca-ec1ac60b2c06",
   "metadata": {
    "tags": []
   },
   "outputs": [
    {
     "data": {
      "text/latex": [
       "$\\displaystyle \\left[\\begin{matrix}- l_{1} \\sin{\\left(\\theta_{1} \\right)} - l_{2} \\sin{\\left(\\theta_{1} + \\theta_{2} \\right)} & - l_{2} \\sin{\\left(\\theta_{1} + \\theta_{2} \\right)}\\\\l_{1} \\cos{\\left(\\theta_{1} \\right)} + l_{2} \\cos{\\left(\\theta_{1} + \\theta_{2} \\right)} & l_{2} \\cos{\\left(\\theta_{1} + \\theta_{2} \\right)}\\end{matrix}\\right]$"
      ],
      "text/plain": [
       "Matrix([\n",
       "[-l1*sin(theta1) - l2*sin(theta1 + theta2), -l2*sin(theta1 + theta2)],\n",
       "[ l1*cos(theta1) + l2*cos(theta1 + theta2),  l2*cos(theta1 + theta2)]])"
      ]
     },
     "execution_count": 63,
     "metadata": {},
     "output_type": "execute_result"
    }
   ],
   "source": [
    "# birame kvadratna matrica, koi redovi smeeme da gi izostavime-> nulite i poslednata zs sekogash rotira po z\n",
    "Jv2 = J[:2, :]\n",
    "Jv2"
   ]
  },
  {
   "cell_type": "code",
   "execution_count": 64,
   "id": "4eb50902-8307-4bd5-adbe-071146583cde",
   "metadata": {
    "tags": []
   },
   "outputs": [
    {
     "data": {
      "text/latex": [
       "$\\displaystyle l_{1} l_{2} \\sin{\\left(\\theta_{2} \\right)}$"
      ],
      "text/plain": [
       "l1*l2*sin(theta2)"
      ]
     },
     "execution_count": 64,
     "metadata": {},
     "output_type": "execute_result"
    }
   ],
   "source": [
    "det_J = sp.det(Jv2).simplify()\n",
    "det_J"
   ]
  },
  {
   "cell_type": "code",
   "execution_count": 65,
   "id": "38c5de61-1335-4d54-a23b-94877f713774",
   "metadata": {
    "tags": []
   },
   "outputs": [
    {
     "data": {
      "text/latex": [
       "$\\displaystyle \\left(- \\pi, \\pi\\right]$"
      ],
      "text/plain": [
       "Interval.Lopen(-pi, pi)"
      ]
     },
     "execution_count": 65,
     "metadata": {},
     "output_type": "execute_result"
    }
   ],
   "source": [
    "interval = sp.Interval(-sp.pi, sp.pi, left_open=True)\n",
    "interval"
   ]
  },
  {
   "cell_type": "code",
   "execution_count": 67,
   "id": "c3ada1c6-9d4a-415e-9fef-2526ca93b452",
   "metadata": {
    "tags": []
   },
   "outputs": [
    {
     "data": {
      "text/latex": [
       "$\\displaystyle \\left\\{0, \\pi\\right\\}$"
      ],
      "text/plain": [
       "{0, pi}"
      ]
     },
     "execution_count": 67,
     "metadata": {},
     "output_type": "execute_result"
    }
   ],
   "source": [
    "solution = sp.solveset(det_J, theta2, interval)\n",
    "solution #singulariteti"
   ]
  },
  {
   "cell_type": "markdown",
   "id": "893577a5-b2e9-4ac1-864b-fae764d76751",
   "metadata": {},
   "source": [
    "# 3.13"
   ]
  },
  {
   "cell_type": "code",
   "execution_count": 68,
   "id": "66f1f193-57f9-4fa5-b38a-02bcb91e07e5",
   "metadata": {
    "tags": []
   },
   "outputs": [
    {
     "data": {
      "application/vnd.jupyter.widget-view+json": {
       "model_id": "a002839dc8f84d7ab8d505f36f7a9f2a",
       "version_major": 2,
       "version_minor": 0
      },
      "text/plain": [
       "VBox(children=(HBox(children=(ToggleButton(value=True, description='Исклучи цртање'), Button(description='Пром…"
      ]
     },
     "execution_count": 68,
     "metadata": {},
     "output_type": "execute_result"
    }
   ],
   "source": [
    "d1, theta2, a2, theta3, a3 = sp.symbols('d1, theta2, a2, theta3, a3')\n",
    "robot = rt.SerialLinkRobot()\n",
    "robot.add_prismatic_joint(0, d1, 0, sp.pi/2)\n",
    "robot.add_revolute_joint(theta2, 0, a2, -sp.pi/2)\n",
    "robot.add_revolute_joint(theta3, 0, a3, 0)\n",
    "robot.add_subs([(a3, 1),(a2,1)])\n",
    "robot.interact()"
   ]
  },
  {
   "cell_type": "code",
   "execution_count": 69,
   "id": "66373615-454f-4c04-80ba-34e446fa18f2",
   "metadata": {
    "tags": []
   },
   "outputs": [
    {
     "data": {
      "text/latex": [
       "$\\displaystyle \\left[\\begin{matrix}0 & - \\left(a_{2} + a_{3} \\cos{\\left(\\theta_{3} \\right)}\\right) \\sin{\\left(\\theta_{2} \\right)} & - a_{3} \\sin{\\left(\\theta_{3} \\right)} \\cos{\\left(\\theta_{2} \\right)}\\\\0 & 0 & a_{3} \\cos{\\left(\\theta_{3} \\right)}\\\\1 & \\left(a_{2} + a_{3} \\cos{\\left(\\theta_{3} \\right)}\\right) \\cos{\\left(\\theta_{2} \\right)} & - a_{3} \\sin{\\left(\\theta_{2} \\right)} \\sin{\\left(\\theta_{3} \\right)}\\\\0 & 0 & - \\sin{\\left(\\theta_{2} \\right)}\\\\0 & -1 & 0\\\\0 & 0 & \\cos{\\left(\\theta_{2} \\right)}\\end{matrix}\\right]$"
      ],
      "text/plain": [
       "Matrix([\n",
       "[0, -(a2 + a3*cos(theta3))*sin(theta2), -a3*sin(theta3)*cos(theta2)],\n",
       "[0,                                  0,              a3*cos(theta3)],\n",
       "[1,  (a2 + a3*cos(theta3))*cos(theta2), -a3*sin(theta2)*sin(theta3)],\n",
       "[0,                                  0,                -sin(theta2)],\n",
       "[0,                                 -1,                           0],\n",
       "[0,                                  0,                 cos(theta2)]])"
      ]
     },
     "execution_count": 69,
     "metadata": {},
     "output_type": "execute_result"
    }
   ],
   "source": [
    "J=robot.jacobian() # spoj od dvata\n",
    "J "
   ]
  },
  {
   "cell_type": "code",
   "execution_count": 70,
   "id": "3bdba456-2bdb-440b-b012-86a05fcba3b8",
   "metadata": {
    "tags": []
   },
   "outputs": [
    {
     "data": {
      "text/latex": [
       "$\\displaystyle \\left[\\begin{matrix}0 & - \\left(a_{2} + a_{3} \\cos{\\left(\\theta_{3} \\right)}\\right) \\sin{\\left(\\theta_{2} \\right)} & - a_{3} \\sin{\\left(\\theta_{3} \\right)} \\cos{\\left(\\theta_{2} \\right)}\\\\0 & 0 & a_{3} \\cos{\\left(\\theta_{3} \\right)}\\\\1 & \\left(a_{2} + a_{3} \\cos{\\left(\\theta_{3} \\right)}\\right) \\cos{\\left(\\theta_{2} \\right)} & - a_{3} \\sin{\\left(\\theta_{2} \\right)} \\sin{\\left(\\theta_{3} \\right)}\\end{matrix}\\right]$"
      ],
      "text/plain": [
       "Matrix([\n",
       "[0, -(a2 + a3*cos(theta3))*sin(theta2), -a3*sin(theta3)*cos(theta2)],\n",
       "[0,                                  0,              a3*cos(theta3)],\n",
       "[1,  (a2 + a3*cos(theta3))*cos(theta2), -a3*sin(theta2)*sin(theta3)]])"
      ]
     },
     "execution_count": 70,
     "metadata": {},
     "output_type": "execute_result"
    }
   ],
   "source": [
    "Jv=robot.linear_jacobian()\n",
    "Jv"
   ]
  },
  {
   "cell_type": "code",
   "execution_count": 71,
   "id": "402edc32-d285-47e9-83de-8579e97541f6",
   "metadata": {
    "tags": []
   },
   "outputs": [
    {
     "data": {
      "text/latex": [
       "$\\displaystyle - a_{3} \\left(a_{2} + a_{3} \\cos{\\left(\\theta_{3} \\right)}\\right) \\sin{\\left(\\theta_{2} \\right)} \\cos{\\left(\\theta_{3} \\right)}$"
      ],
      "text/plain": [
       "-a3*(a2 + a3*cos(theta3))*sin(theta2)*cos(theta3)"
      ]
     },
     "execution_count": 71,
     "metadata": {},
     "output_type": "execute_result"
    }
   ],
   "source": [
    "det_J = sp.det(Jv).simplify()\n",
    "det_J"
   ]
  },
  {
   "cell_type": "code",
   "execution_count": 72,
   "id": "33c2e840-d399-478f-85a5-50badb93c9da",
   "metadata": {
    "tags": []
   },
   "outputs": [
    {
     "data": {
      "text/latex": [
       "$\\displaystyle \\left\\{0, \\pi\\right\\}$"
      ],
      "text/plain": [
       "{0, pi}"
      ]
     },
     "execution_count": 72,
     "metadata": {},
     "output_type": "execute_result"
    }
   ],
   "source": [
    "interval = sp.Interval(-sp.pi, sp.pi, left_open=True)\n",
    "solution = sp.solveset(det_J, theta2, interval)\n",
    "solution #singulariteti"
   ]
  },
  {
   "cell_type": "markdown",
   "id": "99a0fe00-887b-4ced-b6d1-c13a340d23a3",
   "metadata": {},
   "source": [
    "# 3.15"
   ]
  },
  {
   "cell_type": "code",
   "execution_count": 11,
   "id": "8b264f96-00f5-4215-9c75-14aea966567d",
   "metadata": {
    "tags": []
   },
   "outputs": [
    {
     "data": {
      "application/vnd.jupyter.widget-view+json": {
       "model_id": "4accb79ffa0541818820714ff29c9e4f",
       "version_major": 2,
       "version_minor": 0
      },
      "text/plain": [
       "VBox(children=(HBox(children=(ToggleButton(value=True, description='Исклучи цртање'), Button(description='Пром…"
      ]
     },
     "execution_count": 11,
     "metadata": {},
     "output_type": "execute_result"
    }
   ],
   "source": [
    "theta1, theta2, theta3, l1, l2, l3 = sp.symbols('theta1, theta2, theta3, l1, l2, l3')\n",
    "robot = rt.SerialLinkRobot()\n",
    "robot.add_revolute_joint(theta1, l1, 0, sp.pi/2)\n",
    "robot.add_revolute_joint(theta2, l2, 0, sp.pi/2)\n",
    "robot.add_revolute_joint(theta3, l3, 0, 0)\n",
    "robot.add_subs([(l1, 1), (l2, 1),(l3,1)])\n",
    "robot.interact()"
   ]
  },
  {
   "cell_type": "code",
   "execution_count": 15,
   "id": "6326c606-5757-459c-948f-72ae5c9fddca",
   "metadata": {
    "tags": []
   },
   "outputs": [
    {
     "data": {
      "text/latex": [
       "$\\displaystyle \\left[\\begin{matrix}l_{2} \\cos{\\left(\\theta_{1} \\right)} - l_{3} \\sin{\\left(\\theta_{1} \\right)} \\sin{\\left(\\theta_{2} \\right)} & l_{3} \\cos{\\left(\\theta_{1} \\right)} \\cos{\\left(\\theta_{2} \\right)}\\\\l_{2} \\sin{\\left(\\theta_{1} \\right)} + l_{3} \\sin{\\left(\\theta_{2} \\right)} \\cos{\\left(\\theta_{1} \\right)} & l_{3} \\sin{\\left(\\theta_{1} \\right)} \\cos{\\left(\\theta_{2} \\right)}\\end{matrix}\\right]$"
      ],
      "text/plain": [
       "Matrix([\n",
       "[l2*cos(theta1) - l3*sin(theta1)*sin(theta2), l3*cos(theta1)*cos(theta2)],\n",
       "[l2*sin(theta1) + l3*sin(theta2)*cos(theta1), l3*sin(theta1)*cos(theta2)]])"
      ]
     },
     "execution_count": 15,
     "metadata": {},
     "output_type": "execute_result"
    }
   ],
   "source": [
    "J = robot.linear_jacobian()\n",
    "J= J[:2,:2]\n",
    "J"
   ]
  },
  {
   "cell_type": "code",
   "execution_count": 16,
   "id": "51c4aae6-a16c-4b2f-8416-751457d0c368",
   "metadata": {
    "tags": []
   },
   "outputs": [
    {
     "data": {
      "text/latex": [
       "$\\displaystyle - \\frac{l_{3}^{2} \\sin{\\left(2 \\theta_{2} \\right)}}{2}$"
      ],
      "text/plain": [
       "-l3**2*sin(2*theta2)/2"
      ]
     },
     "execution_count": 16,
     "metadata": {},
     "output_type": "execute_result"
    }
   ],
   "source": [
    "det_J = sp.det(J).simplify()\n",
    "det_J"
   ]
  },
  {
   "cell_type": "code",
   "execution_count": 19,
   "id": "e46ae27b-c15a-4c4e-be0a-1f547eae2fc3",
   "metadata": {
    "tags": []
   },
   "outputs": [
    {
     "data": {
      "text/latex": [
       "$\\displaystyle \\left\\{0, - \\frac{\\pi}{2}, \\frac{\\pi}{2}, \\pi\\right\\}$"
      ],
      "text/plain": [
       "{0, -pi/2, pi/2, pi}"
      ]
     },
     "execution_count": 19,
     "metadata": {},
     "output_type": "execute_result"
    }
   ],
   "source": [
    "interval = sp.Interval(-sp.pi, sp.pi, left_open=True)\n",
    "solution = sp.solveset(det_J, theta2, interval)\n",
    "solution.simplify() #singulariteti"
   ]
  },
  {
   "cell_type": "markdown",
   "id": "5840b18c-a7c5-4734-abf6-388bd1ab59c3",
   "metadata": {},
   "source": [
    "* proveri ova kakoo!!!!!!!\n",
    "*  како сингуларитети може да се претстават повеќе случаи:\n",
    "    * кога sin(theta3)=0, односно theta3=0 или theta3=pi со што нема да се изгуби ниту еден степен на слобода\n",
    "    * кога cos(theta2)+cos(theta2-theta3)+1=0"
   ]
  },
  {
   "cell_type": "code",
   "execution_count": 16,
   "id": "249f611d-7f2e-4f92-8b90-feba085fc6ae",
   "metadata": {
    "tags": []
   },
   "outputs": [
    {
     "data": {
      "text/latex": [
       "$\\displaystyle \\left[\\begin{matrix}- \\left(l_{1} + l_{2} \\cos{\\left(\\theta_{2} \\right)} + l_{3} \\cos{\\left(\\theta_{2} \\right)}\\right) \\sin{\\left(\\theta_{1} \\right)} & - \\left(l_{2} \\sin{\\left(\\theta_{2} \\right)} + l_{3} \\sin{\\left(\\theta_{2} \\right)}\\right) \\cos{\\left(\\theta_{1} \\right)} & l_{3} \\sin{\\left(\\theta_{2} \\right)} \\cos{\\left(\\theta_{1} \\right)}\\\\\\left(l_{1} + l_{2} \\cos{\\left(\\theta_{2} \\right)} + l_{3} \\cos{\\left(\\theta_{2} \\right)}\\right) \\cos{\\left(\\theta_{1} \\right)} & - \\left(l_{2} \\sin{\\left(\\theta_{2} \\right)} + l_{3} \\sin{\\left(\\theta_{2} \\right)}\\right) \\sin{\\left(\\theta_{1} \\right)} & l_{3} \\sin{\\left(\\theta_{1} \\right)} \\sin{\\left(\\theta_{2} \\right)}\\\\0 & l_{2} \\cos{\\left(\\theta_{2} \\right)} + l_{3} \\cos{\\left(\\theta_{2} \\right)} & - l_{3} \\cos{\\left(\\theta_{2} \\right)}\\end{matrix}\\right]$"
      ],
      "text/plain": [
       "Matrix([\n",
       "[-(l1 + l2*cos(theta2) + l3*cos(theta2))*sin(theta1), -(l2*sin(theta2) + l3*sin(theta2))*cos(theta1), l3*sin(theta2)*cos(theta1)],\n",
       "[ (l1 + l2*cos(theta2) + l3*cos(theta2))*cos(theta1), -(l2*sin(theta2) + l3*sin(theta2))*sin(theta1), l3*sin(theta1)*sin(theta2)],\n",
       "[                                                  0,                l2*cos(theta2) + l3*cos(theta2),            -l3*cos(theta2)]])"
      ]
     },
     "execution_count": 16,
     "metadata": {},
     "output_type": "execute_result"
    }
   ],
   "source": [
    "J.subs(theta3, 0)"
   ]
  },
  {
   "cell_type": "code",
   "execution_count": 18,
   "id": "34a4eaa0-89d4-4ff1-ac6f-a4c811e79082",
   "metadata": {
    "tags": []
   },
   "outputs": [
    {
     "data": {
      "text/latex": [
       "$\\displaystyle \\left[\\begin{matrix}- \\left(l_{1} + l_{2} \\cos{\\left(\\theta_{2} \\right)} - l_{3} \\cos{\\left(\\theta_{2} \\right)}\\right) \\sin{\\left(\\theta_{1} \\right)} & - \\left(l_{2} \\sin{\\left(\\theta_{2} \\right)} - l_{3} \\sin{\\left(\\theta_{2} \\right)}\\right) \\cos{\\left(\\theta_{1} \\right)} & - l_{3} \\sin{\\left(\\theta_{2} \\right)} \\cos{\\left(\\theta_{1} \\right)}\\\\\\left(l_{1} + l_{2} \\cos{\\left(\\theta_{2} \\right)} - l_{3} \\cos{\\left(\\theta_{2} \\right)}\\right) \\cos{\\left(\\theta_{1} \\right)} & - \\left(l_{2} \\sin{\\left(\\theta_{2} \\right)} - l_{3} \\sin{\\left(\\theta_{2} \\right)}\\right) \\sin{\\left(\\theta_{1} \\right)} & - l_{3} \\sin{\\left(\\theta_{1} \\right)} \\sin{\\left(\\theta_{2} \\right)}\\\\0 & l_{2} \\cos{\\left(\\theta_{2} \\right)} - l_{3} \\cos{\\left(\\theta_{2} \\right)} & l_{3} \\cos{\\left(\\theta_{2} \\right)}\\end{matrix}\\right]$"
      ],
      "text/plain": [
       "Matrix([\n",
       "[-(l1 + l2*cos(theta2) - l3*cos(theta2))*sin(theta1), -(l2*sin(theta2) - l3*sin(theta2))*cos(theta1), -l3*sin(theta2)*cos(theta1)],\n",
       "[ (l1 + l2*cos(theta2) - l3*cos(theta2))*cos(theta1), -(l2*sin(theta2) - l3*sin(theta2))*sin(theta1), -l3*sin(theta1)*sin(theta2)],\n",
       "[                                                  0,                l2*cos(theta2) - l3*cos(theta2),              l3*cos(theta2)]])"
      ]
     },
     "execution_count": 18,
     "metadata": {},
     "output_type": "execute_result"
    }
   ],
   "source": [
    "J.subs(theta3, sp.pi)"
   ]
  },
  {
   "cell_type": "code",
   "execution_count": 25,
   "id": "08c7b397-57c0-4fe1-b301-ebb6428fa11f",
   "metadata": {
    "tags": []
   },
   "outputs": [
    {
     "data": {
      "text/latex": [
       "$\\displaystyle - \\left(\\cos{\\left(\\theta_{2} \\right)} + \\cos{\\left(\\theta_{2} - \\theta_{3} \\right)} + 1\\right) \\sin{\\left(\\theta_{3} \\right)}$"
      ],
      "text/plain": [
       "-(cos(theta2) + cos(theta2 - theta3) + 1)*sin(theta3)"
      ]
     },
     "execution_count": 25,
     "metadata": {},
     "output_type": "execute_result"
    }
   ],
   "source": [
    "det_J.subs([(l1, 1), (l2, 1),(l3,1)])"
   ]
  },
  {
   "cell_type": "markdown",
   "id": "a9078bf0-0919-4d4d-a98d-526d419b26b4",
   "metadata": {},
   "source": [
    "# 3.16"
   ]
  },
  {
   "cell_type": "code",
   "execution_count": 26,
   "id": "3a7b2d20-59c8-4a18-8e69-14255cba5268",
   "metadata": {
    "tags": []
   },
   "outputs": [
    {
     "data": {
      "application/vnd.jupyter.widget-view+json": {
       "model_id": "8b66b52ffb2742e6a39ea85109568a08",
       "version_major": 2,
       "version_minor": 0
      },
      "text/plain": [
       "VBox(children=(HBox(children=(ToggleButton(value=True, description='Исклучи цртање'), Button(description='Пром…"
      ]
     },
     "execution_count": 26,
     "metadata": {},
     "output_type": "execute_result"
    }
   ],
   "source": [
    "d1, theta2, theta3, l2, l3 = sp.symbols('d1, theta2, theta3, l2, l3')\n",
    "robot = rt.SerialLinkRobot()\n",
    "robot.add_prismatic_joint(0,0,0,-sp.pi/2)\n",
    "robot.add_prismatic_joint(-sp.pi/2,d1,0,sp.pi/2)\n",
    "robot.add_revolute_joint(theta2, 0, l2, 0)\n",
    "robot.add_revolute_joint(theta3, 0, l3, 0)\n",
    "robot.add_subs([(l1, 1), (l2, 1),(l3,1)])\n",
    "robot.interact()"
   ]
  },
  {
   "cell_type": "code",
   "execution_count": null,
   "id": "917e7a52-05e1-44c7-a57f-1be758ce6d02",
   "metadata": {},
   "outputs": [],
   "source": []
  },
  {
   "cell_type": "code",
   "execution_count": null,
   "id": "22c4431d-98db-4e78-87c3-b7d88031c35a",
   "metadata": {},
   "outputs": [],
   "source": []
  },
  {
   "cell_type": "code",
   "execution_count": null,
   "id": "7d0eb364-caf5-40ec-91e1-0f552e197226",
   "metadata": {},
   "outputs": [],
   "source": []
  },
  {
   "cell_type": "code",
   "execution_count": null,
   "id": "a18304d2-0490-48b7-b350-578be10fddfd",
   "metadata": {},
   "outputs": [],
   "source": []
  },
  {
   "cell_type": "code",
   "execution_count": null,
   "id": "391d7777-2db5-4cf5-a868-7789a6dfb809",
   "metadata": {},
   "outputs": [],
   "source": []
  },
  {
   "cell_type": "markdown",
   "id": "6a7a5b78-77d8-4355-8f05-d3cece538422",
   "metadata": {},
   "source": [
    "# 3.18"
   ]
  },
  {
   "cell_type": "code",
   "execution_count": 9,
   "id": "d46d1cf7-2877-4ff2-b1e9-4f34e290ddba",
   "metadata": {
    "tags": []
   },
   "outputs": [
    {
     "data": {
      "application/vnd.jupyter.widget-view+json": {
       "model_id": "b931593db69846d6b090a05795471ea3",
       "version_major": 2,
       "version_minor": 0
      },
      "text/plain": [
       "VBox(children=(HBox(children=(ToggleButton(value=True, description='Исклучи цртање'), Button(description='Пром…"
      ]
     },
     "execution_count": 9,
     "metadata": {},
     "output_type": "execute_result"
    }
   ],
   "source": [
    "d1, theta2, l1, l2 = sp.symbols('d1, theta2, l1, l2')\n",
    "robot = rt.SerialLinkRobot()\n",
    "robot.add_prismatic_joint(0, d1, l1, sp.pi/2)\n",
    "robot.add_revolute_joint(theta2, 0, l2, 0)\n",
    "robot.add_subs([(l1, 1), (l2, 1)])\n",
    "robot.interact()"
   ]
  },
  {
   "cell_type": "code",
   "execution_count": 10,
   "id": "1b84c912-b5e9-4db2-ad0a-774488a05e8b",
   "metadata": {
    "tags": []
   },
   "outputs": [
    {
     "data": {
      "text/latex": [
       "$\\displaystyle \\left[\\begin{matrix}0 & - l_{2} \\sin{\\left(\\theta_{2} \\right)}\\\\0 & 0\\\\1 & l_{2} \\cos{\\left(\\theta_{2} \\right)}\\end{matrix}\\right]$"
      ],
      "text/plain": [
       "Matrix([\n",
       "[0, -l2*sin(theta2)],\n",
       "[0,               0],\n",
       "[1,  l2*cos(theta2)]])"
      ]
     },
     "execution_count": 10,
     "metadata": {},
     "output_type": "execute_result"
    }
   ],
   "source": [
    "J = robot.linear_jacobian()\n",
    "J"
   ]
  },
  {
   "cell_type": "code",
   "execution_count": 11,
   "id": "95e8b4fe-c296-4f53-8e81-cad5d8c34539",
   "metadata": {
    "tags": []
   },
   "outputs": [
    {
     "data": {
      "text/latex": [
       "$\\displaystyle \\left[\\begin{matrix}0 & - l_{2} \\sin{\\left(\\theta_{2} \\right)}\\\\1 & l_{2} \\cos{\\left(\\theta_{2} \\right)}\\end{matrix}\\right]$"
      ],
      "text/plain": [
       "Matrix([\n",
       "[0, -l2*sin(theta2)],\n",
       "[1,  l2*cos(theta2)]])"
      ]
     },
     "execution_count": 11,
     "metadata": {},
     "output_type": "execute_result"
    }
   ],
   "source": [
    "Jv = sp.Matrix.vstack(J[:1, :], J[2:, :])\n",
    "Jv"
   ]
  },
  {
   "cell_type": "code",
   "execution_count": 12,
   "id": "c3485568-0f68-4910-a423-266059bc050b",
   "metadata": {
    "tags": []
   },
   "outputs": [
    {
     "data": {
      "text/latex": [
       "$\\displaystyle l_{2} \\sin{\\left(\\theta_{2} \\right)}$"
      ],
      "text/plain": [
       "l2*sin(theta2)"
      ]
     },
     "execution_count": 12,
     "metadata": {},
     "output_type": "execute_result"
    }
   ],
   "source": [
    "det_J = sp.det(Jv).simplify()\n",
    "det_J"
   ]
  },
  {
   "cell_type": "code",
   "execution_count": 13,
   "id": "99698aad-364e-4a57-8527-6cee181aa9ad",
   "metadata": {
    "tags": []
   },
   "outputs": [
    {
     "data": {
      "text/latex": [
       "$\\displaystyle \\left\\{0, \\pi\\right\\}$"
      ],
      "text/plain": [
       "{0, pi}"
      ]
     },
     "execution_count": 13,
     "metadata": {},
     "output_type": "execute_result"
    }
   ],
   "source": [
    "interval = sp.Interval(-sp.pi, sp.pi, left_open=True)\n",
    "solution = sp.solveset(det_J, theta2, interval)\n",
    "solution #singulariteti"
   ]
  },
  {
   "cell_type": "code",
   "execution_count": 78,
   "id": "df232592-6167-4fd6-a980-0f6b4325fd24",
   "metadata": {
    "tags": []
   },
   "outputs": [
    {
     "data": {
      "text/latex": [
       "$\\displaystyle \\left[\\begin{matrix}0 & 0\\\\1 & l_{2}\\end{matrix}\\right]$"
      ],
      "text/plain": [
       "Matrix([\n",
       "[0,  0],\n",
       "[1, l2]])"
      ]
     },
     "execution_count": 78,
     "metadata": {},
     "output_type": "execute_result"
    }
   ],
   "source": [
    "Jv.subs(theta2, 0)"
   ]
  },
  {
   "cell_type": "code",
   "execution_count": 79,
   "id": "c9a07580-869a-44fe-8367-906ae0a133fa",
   "metadata": {
    "tags": []
   },
   "outputs": [
    {
     "data": {
      "text/latex": [
       "$\\displaystyle \\left[\\begin{matrix}0 & 0\\\\1 & - l_{2}\\end{matrix}\\right]$"
      ],
      "text/plain": [
       "Matrix([\n",
       "[0,   0],\n",
       "[1, -l2]])"
      ]
     },
     "execution_count": 79,
     "metadata": {},
     "output_type": "execute_result"
    }
   ],
   "source": [
    "Jv.subs(theta2, sp.pi)"
   ]
  },
  {
   "cell_type": "code",
   "execution_count": 80,
   "id": "d2547b06-595f-4dcb-933f-e8492e769e1f",
   "metadata": {
    "tags": []
   },
   "outputs": [],
   "source": [
    "# se gubi stepenot na sloboda po x oska, a prethodno go izgubivme po y"
   ]
  },
  {
   "cell_type": "markdown",
   "id": "bf03a111-38e2-447d-970d-9314b14a07a9",
   "metadata": {},
   "source": [
    "# 3.21"
   ]
  },
  {
   "cell_type": "code",
   "execution_count": 2,
   "id": "15ebf8bf-9b5c-45a3-ac86-d7f5b8ffa154",
   "metadata": {
    "tags": []
   },
   "outputs": [
    {
     "data": {
      "application/vnd.jupyter.widget-view+json": {
       "model_id": "97bcf37c810e466caccba8ee73c00f15",
       "version_major": 2,
       "version_minor": 0
      },
      "text/plain": [
       "VBox(children=(HBox(children=(ToggleButton(value=True, description='Исклучи цртање'), Button(description='Пром…"
      ]
     },
     "execution_count": 2,
     "metadata": {},
     "output_type": "execute_result"
    }
   ],
   "source": [
    "theta1, theta2, l1, l2 = sp.symbols('theta1, theta2, l1, l2')\n",
    "robot = rt.SerialLinkRobot()\n",
    "robot.add_revolute_joint(theta1, 0, l1, 0)\n",
    "robot.add_revolute_joint(theta2, 0, l2, 0)\n",
    "robot.add_subs([(l1, 1), (l2, 1)])\n",
    "robot.interact()"
   ]
  },
  {
   "cell_type": "code",
   "execution_count": 4,
   "id": "3b9db219-8663-4b6f-b152-82c9be225932",
   "metadata": {
    "tags": []
   },
   "outputs": [
    {
     "data": {
      "text/latex": [
       "$\\displaystyle \\left[\\begin{matrix}- l_{1} \\sin{\\left(\\theta_{1} \\right)} - l_{2} \\sin{\\left(\\theta_{1} + \\theta_{2} \\right)} & - l_{2} \\sin{\\left(\\theta_{1} + \\theta_{2} \\right)}\\\\l_{1} \\cos{\\left(\\theta_{1} \\right)} + l_{2} \\cos{\\left(\\theta_{1} + \\theta_{2} \\right)} & l_{2} \\cos{\\left(\\theta_{1} + \\theta_{2} \\right)}\\\\0 & 0\\end{matrix}\\right]$"
      ],
      "text/plain": [
       "Matrix([\n",
       "[-l1*sin(theta1) - l2*sin(theta1 + theta2), -l2*sin(theta1 + theta2)],\n",
       "[ l1*cos(theta1) + l2*cos(theta1 + theta2),  l2*cos(theta1 + theta2)],\n",
       "[                                        0,                        0]])"
      ]
     },
     "execution_count": 4,
     "metadata": {},
     "output_type": "execute_result"
    }
   ],
   "source": [
    "J = robot.linear_jacobian()\n",
    "J"
   ]
  },
  {
   "cell_type": "code",
   "execution_count": 5,
   "id": "5a08b82d-396d-4fbc-8037-7ffede3f2bc8",
   "metadata": {
    "tags": []
   },
   "outputs": [
    {
     "data": {
      "text/latex": [
       "$\\displaystyle \\left[\\begin{matrix}- l_{1} \\sin{\\left(\\theta_{1} \\right)} - l_{2} \\sin{\\left(\\theta_{1} + \\theta_{2} \\right)} & - l_{2} \\sin{\\left(\\theta_{1} + \\theta_{2} \\right)}\\\\l_{1} \\cos{\\left(\\theta_{1} \\right)} + l_{2} \\cos{\\left(\\theta_{1} + \\theta_{2} \\right)} & l_{2} \\cos{\\left(\\theta_{1} + \\theta_{2} \\right)}\\end{matrix}\\right]$"
      ],
      "text/plain": [
       "Matrix([\n",
       "[-l1*sin(theta1) - l2*sin(theta1 + theta2), -l2*sin(theta1 + theta2)],\n",
       "[ l1*cos(theta1) + l2*cos(theta1 + theta2),  l2*cos(theta1 + theta2)]])"
      ]
     },
     "execution_count": 5,
     "metadata": {},
     "output_type": "execute_result"
    }
   ],
   "source": [
    "# tretata redica mozhe da se izostavi \n",
    "Jv= J[:2,:]\n",
    "Jv"
   ]
  },
  {
   "cell_type": "code",
   "execution_count": 11,
   "id": "5e93e6e9-6d4d-40c1-951b-ba57f5dc3c40",
   "metadata": {
    "tags": []
   },
   "outputs": [
    {
     "data": {
      "text/latex": [
       "$\\displaystyle \\left[\\begin{matrix}\\frac{\\cos{\\left(\\theta_{1} + \\theta_{2} \\right)}}{l_{1} \\sin{\\left(\\theta_{2} \\right)}} & \\frac{\\sin{\\left(\\theta_{1} + \\theta_{2} \\right)}}{l_{1} \\sin{\\left(\\theta_{2} \\right)}}\\\\- \\frac{l_{1} \\cos{\\left(\\theta_{1} \\right)} + l_{2} \\cos{\\left(\\theta_{1} + \\theta_{2} \\right)}}{l_{1} l_{2} \\sin{\\left(\\theta_{2} \\right)}} & - \\frac{l_{1} \\sin{\\left(\\theta_{1} \\right)} + l_{2} \\sin{\\left(\\theta_{1} + \\theta_{2} \\right)}}{l_{1} l_{2} \\sin{\\left(\\theta_{2} \\right)}}\\end{matrix}\\right]$"
      ],
      "text/plain": [
       "Matrix([\n",
       "[                          cos(theta1 + theta2)/(l1*sin(theta2)),                           sin(theta1 + theta2)/(l1*sin(theta2))],\n",
       "[-(l1*cos(theta1) + l2*cos(theta1 + theta2))/(l1*l2*sin(theta2)), -(l1*sin(theta1) + l2*sin(theta1 + theta2))/(l1*l2*sin(theta2))]])"
      ]
     },
     "execution_count": 11,
     "metadata": {},
     "output_type": "execute_result"
    }
   ],
   "source": [
    "Jv_inv=Jv.inv()\n",
    "Jv_inv.simplify()\n",
    "Jv_inv"
   ]
  },
  {
   "cell_type": "code",
   "execution_count": 13,
   "id": "43ccbf13-bdcf-4599-b981-5fb81f43c2bf",
   "metadata": {
    "tags": []
   },
   "outputs": [
    {
     "data": {
      "text/latex": [
       "$\\displaystyle l_{1} l_{2} \\sin{\\left(\\theta_{2} \\right)}$"
      ],
      "text/plain": [
       "l1*l2*sin(theta2)"
      ]
     },
     "execution_count": 13,
     "metadata": {},
     "output_type": "execute_result"
    }
   ],
   "source": [
    "det_J = sp.det(Jv).simplify()\n",
    "det_J"
   ]
  },
  {
   "cell_type": "code",
   "execution_count": 7,
   "id": "f83ac42f-8e03-40ff-9192-7ccca9a544ff",
   "metadata": {
    "tags": []
   },
   "outputs": [
    {
     "data": {
      "text/latex": [
       "$\\displaystyle \\left\\{0, \\pi\\right\\}$"
      ],
      "text/plain": [
       "{0, pi}"
      ]
     },
     "execution_count": 7,
     "metadata": {},
     "output_type": "execute_result"
    }
   ],
   "source": [
    "interval = sp.Interval(-sp.pi, sp.pi, left_open=True)\n",
    "solution = sp.solveset(det_J, theta2, interval)\n",
    "solution #singulariteti"
   ]
  },
  {
   "cell_type": "code",
   "execution_count": 12,
   "id": "3f1ae6f7-3548-4a4d-ab54-3ce0f4df2c21",
   "metadata": {
    "tags": []
   },
   "outputs": [
    {
     "data": {
      "text/latex": [
       "$\\displaystyle \\left[\\begin{matrix}l_{1} \\cos{\\left(\\theta_{1} \\right)} + l_{2} \\cos{\\left(\\theta_{1} + \\theta_{2} \\right)}\\\\l_{1} \\sin{\\left(\\theta_{1} \\right)} + l_{2} \\sin{\\left(\\theta_{1} + \\theta_{2} \\right)}\\\\0\\end{matrix}\\right]$"
      ],
      "text/plain": [
       "Matrix([\n",
       "[l1*cos(theta1) + l2*cos(theta1 + theta2)],\n",
       "[l1*sin(theta1) + l2*sin(theta1 + theta2)],\n",
       "[                                       0]])"
      ]
     },
     "execution_count": 12,
     "metadata": {},
     "output_type": "execute_result"
    }
   ],
   "source": [
    "position = robot.get_dh_matrix()[:3, 3]\n",
    "position"
   ]
  },
  {
   "cell_type": "code",
   "execution_count": null,
   "id": "2ff052db-6a41-4690-9012-e3a5b1fff4ac",
   "metadata": {},
   "outputs": [],
   "source": [
    "v) kak0?????????"
   ]
  },
  {
   "cell_type": "code",
   "execution_count": null,
   "id": "eff5f10b-3541-40f2-89db-6d8454c0562a",
   "metadata": {},
   "outputs": [],
   "source": []
  },
  {
   "cell_type": "code",
   "execution_count": null,
   "id": "122413f3-7f2e-46ab-8e40-4dcb912a6dea",
   "metadata": {},
   "outputs": [],
   "source": []
  },
  {
   "cell_type": "code",
   "execution_count": null,
   "id": "af39ec83-b287-46d1-afa9-3c51d8b230d5",
   "metadata": {},
   "outputs": [],
   "source": []
  },
  {
   "cell_type": "markdown",
   "id": "e0401f44-c142-488b-8baf-2dc4bf2d4df4",
   "metadata": {},
   "source": [
    "# 3.22"
   ]
  },
  {
   "cell_type": "code",
   "execution_count": 17,
   "id": "7118925f-08b7-4f49-b802-3deaef1c26ff",
   "metadata": {
    "tags": []
   },
   "outputs": [
    {
     "data": {
      "image/png": "[encoded data removed]",
      "text/plain": [
       "<IPython.core.display.Image object>"
      ]
     },
     "execution_count": 17,
     "metadata": {
      "image/png": {
       "width": 700
      }
     },
     "output_type": "execute_result"
    }
   ],
   "source": [
    "display.Image('images/3.22.png', width=700)"
   ]
  },
  {
   "cell_type": "code",
   "execution_count": 18,
   "id": "3bfbf195-6253-4040-a1bf-c5ea4a959d2f",
   "metadata": {
    "tags": []
   },
   "outputs": [
    {
     "data": {
      "application/vnd.jupyter.widget-view+json": {
       "model_id": "ff6b70ab836b4b45ad7df8bd88df57b1",
       "version_major": 2,
       "version_minor": 0
      },
      "text/plain": [
       "VBox(children=(HBox(children=(ToggleButton(value=True, description='Исклучи цртање'), Button(description='Пром…"
      ]
     },
     "execution_count": 18,
     "metadata": {},
     "output_type": "execute_result"
    }
   ],
   "source": [
    "theta1, theta2, theta3, l1, l2, l3 = sp.symbols('theta1, theta2, theta3, l1, l2, l3')\n",
    "robot = rt.SerialLinkRobot()\n",
    "robot.add_revolute_joint(theta1, l1, 0, sp.pi/2)\n",
    "robot.add_revolute_joint(theta2, 0, l2, 0)\n",
    "robot.add_revolute_joint(theta3, 0, l3, 0)\n",
    "robot.add_subs([(l1, 1), (l2, 1), (l3, 2)])\n",
    "robot.interact()"
   ]
  },
  {
   "cell_type": "code",
   "execution_count": 20,
   "id": "10738846-88c5-4654-8e84-75ddc0c2ad4c",
   "metadata": {
    "tags": []
   },
   "outputs": [
    {
     "data": {
      "text/latex": [
       "$\\displaystyle \\left[\\begin{matrix}\\cos{\\left(\\theta_{1} \\right)} \\cos{\\left(\\theta_{2} + \\theta_{3} \\right)} & - \\sin{\\left(\\theta_{2} + \\theta_{3} \\right)} \\cos{\\left(\\theta_{1} \\right)} & \\sin{\\left(\\theta_{1} \\right)} & \\left(l_{2} \\cos{\\left(\\theta_{2} \\right)} + l_{3} \\cos{\\left(\\theta_{2} + \\theta_{3} \\right)}\\right) \\cos{\\left(\\theta_{1} \\right)}\\\\\\sin{\\left(\\theta_{1} \\right)} \\cos{\\left(\\theta_{2} + \\theta_{3} \\right)} & - \\sin{\\left(\\theta_{1} \\right)} \\sin{\\left(\\theta_{2} + \\theta_{3} \\right)} & - \\cos{\\left(\\theta_{1} \\right)} & \\left(l_{2} \\cos{\\left(\\theta_{2} \\right)} + l_{3} \\cos{\\left(\\theta_{2} + \\theta_{3} \\right)}\\right) \\sin{\\left(\\theta_{1} \\right)}\\\\\\sin{\\left(\\theta_{2} + \\theta_{3} \\right)} & \\cos{\\left(\\theta_{2} + \\theta_{3} \\right)} & 0 & l_{1} + l_{2} \\sin{\\left(\\theta_{2} \\right)} + l_{3} \\sin{\\left(\\theta_{2} + \\theta_{3} \\right)}\\\\0 & 0 & 0 & 1\\end{matrix}\\right]$"
      ],
      "text/plain": [
       "Matrix([\n",
       "[cos(theta1)*cos(theta2 + theta3), -sin(theta2 + theta3)*cos(theta1),  sin(theta1), (l2*cos(theta2) + l3*cos(theta2 + theta3))*cos(theta1)],\n",
       "[sin(theta1)*cos(theta2 + theta3), -sin(theta1)*sin(theta2 + theta3), -cos(theta1), (l2*cos(theta2) + l3*cos(theta2 + theta3))*sin(theta1)],\n",
       "[            sin(theta2 + theta3),              cos(theta2 + theta3),            0,          l1 + l2*sin(theta2) + l3*sin(theta2 + theta3)],\n",
       "[                               0,                                 0,            0,                                                      1]])"
      ]
     },
     "execution_count": 20,
     "metadata": {},
     "output_type": "execute_result"
    }
   ],
   "source": [
    "robot.get_dh_matrix() #a"
   ]
  },
  {
   "cell_type": "code",
   "execution_count": 21,
   "id": "ec4ed832-f31e-46b5-aa9a-db48ab5dd229",
   "metadata": {
    "tags": []
   },
   "outputs": [
    {
     "data": {
      "text/latex": [
       "$\\displaystyle \\left[\\begin{matrix}- \\left(l_{2} \\cos{\\left(\\theta_{2} \\right)} + l_{3} \\cos{\\left(\\theta_{2} + \\theta_{3} \\right)}\\right) \\sin{\\left(\\theta_{1} \\right)} & - \\left(l_{2} \\sin{\\left(\\theta_{2} \\right)} + l_{3} \\sin{\\left(\\theta_{2} + \\theta_{3} \\right)}\\right) \\cos{\\left(\\theta_{1} \\right)} & - l_{3} \\sin{\\left(\\theta_{2} + \\theta_{3} \\right)} \\cos{\\left(\\theta_{1} \\right)}\\\\\\left(l_{2} \\cos{\\left(\\theta_{2} \\right)} + l_{3} \\cos{\\left(\\theta_{2} + \\theta_{3} \\right)}\\right) \\cos{\\left(\\theta_{1} \\right)} & - \\left(l_{2} \\sin{\\left(\\theta_{2} \\right)} + l_{3} \\sin{\\left(\\theta_{2} + \\theta_{3} \\right)}\\right) \\sin{\\left(\\theta_{1} \\right)} & - l_{3} \\sin{\\left(\\theta_{1} \\right)} \\sin{\\left(\\theta_{2} + \\theta_{3} \\right)}\\\\0 & l_{2} \\cos{\\left(\\theta_{2} \\right)} + l_{3} \\cos{\\left(\\theta_{2} + \\theta_{3} \\right)} & l_{3} \\cos{\\left(\\theta_{2} + \\theta_{3} \\right)}\\end{matrix}\\right]$"
      ],
      "text/plain": [
       "Matrix([\n",
       "[-(l2*cos(theta2) + l3*cos(theta2 + theta3))*sin(theta1), -(l2*sin(theta2) + l3*sin(theta2 + theta3))*cos(theta1), -l3*sin(theta2 + theta3)*cos(theta1)],\n",
       "[ (l2*cos(theta2) + l3*cos(theta2 + theta3))*cos(theta1), -(l2*sin(theta2) + l3*sin(theta2 + theta3))*sin(theta1), -l3*sin(theta1)*sin(theta2 + theta3)],\n",
       "[                                                      0,                l2*cos(theta2) + l3*cos(theta2 + theta3),              l3*cos(theta2 + theta3)]])"
      ]
     },
     "execution_count": 21,
     "metadata": {},
     "output_type": "execute_result"
    }
   ],
   "source": [
    "# b\n",
    "Jv = robot.linear_jacobian()\n",
    "Jv"
   ]
  },
  {
   "cell_type": "code",
   "execution_count": 25,
   "id": "cab8423d-ebe8-4e4a-9bca-8ffc5d390c44",
   "metadata": {
    "tags": []
   },
   "outputs": [
    {
     "data": {
      "text/latex": [
       "$\\displaystyle \\left[\\begin{matrix}\\cos{\\left(\\theta_{1} \\right)} \\cos{\\left(\\theta_{2} \\right)} & - \\sin{\\left(\\theta_{2} \\right)} \\cos{\\left(\\theta_{1} \\right)} & \\sin{\\left(\\theta_{1} \\right)}\\\\\\sin{\\left(\\theta_{1} \\right)} \\cos{\\left(\\theta_{2} \\right)} & - \\sin{\\left(\\theta_{1} \\right)} \\sin{\\left(\\theta_{2} \\right)} & - \\cos{\\left(\\theta_{1} \\right)}\\\\\\sin{\\left(\\theta_{2} \\right)} & \\cos{\\left(\\theta_{2} \\right)} & 0\\end{matrix}\\right]$"
      ],
      "text/plain": [
       "Matrix([\n",
       "[cos(theta1)*cos(theta2), -sin(theta2)*cos(theta1),  sin(theta1)],\n",
       "[sin(theta1)*cos(theta2), -sin(theta1)*sin(theta2), -cos(theta1)],\n",
       "[            sin(theta2),              cos(theta2),            0]])"
      ]
     },
     "execution_count": 25,
     "metadata": {},
     "output_type": "execute_result"
    }
   ],
   "source": [
    "# c\n",
    "R02 = robot.get_dh_joint_to_joint(0, 2)\n",
    "R02 # mora da se napravi da e od ist red kako Jv-> 3x3\n",
    "R02k=R02[:3,:3]\n",
    "R02k"
   ]
  },
  {
   "cell_type": "code",
   "execution_count": 26,
   "id": "549447fa-77bb-4e13-a0b7-01b5f3a82101",
   "metadata": {
    "tags": []
   },
   "outputs": [
    {
     "data": {
      "text/latex": [
       "$\\displaystyle \\left[\\begin{matrix}0 & - l_{3} \\sin{\\left(\\theta_{3} \\right)} & - l_{3} \\sin{\\left(\\theta_{3} \\right)}\\\\0 & l_{2} + l_{3} \\cos{\\left(\\theta_{3} \\right)} & l_{3} \\cos{\\left(\\theta_{3} \\right)}\\\\- l_{2} \\cos{\\left(\\theta_{2} \\right)} - l_{3} \\cos{\\left(\\theta_{2} + \\theta_{3} \\right)} & 0 & 0\\end{matrix}\\right]$"
      ],
      "text/plain": [
       "Matrix([\n",
       "[                                        0,     -l3*sin(theta3), -l3*sin(theta3)],\n",
       "[                                        0, l2 + l3*cos(theta3),  l3*cos(theta3)],\n",
       "[-l2*cos(theta2) - l3*cos(theta2 + theta3),                   0,               0]])"
      ]
     },
     "execution_count": 26,
     "metadata": {},
     "output_type": "execute_result"
    }
   ],
   "source": [
    "Jv_wrt_2 = sp.simplify(R02k.inv() * Jv)  # wrt stands for 'with respect to'\n",
    "Jv_wrt_2"
   ]
  },
  {
   "cell_type": "code",
   "execution_count": 28,
   "id": "bf8c21b1-9fba-42fd-b85a-4b59abfd1242",
   "metadata": {
    "tags": []
   },
   "outputs": [
    {
     "data": {
      "text/latex": [
       "$\\displaystyle - l_{2} l_{3} \\left(l_{2} \\cos{\\left(\\theta_{2} \\right)} + l_{3} \\cos{\\left(\\theta_{2} + \\theta_{3} \\right)}\\right) \\sin{\\left(\\theta_{3} \\right)}$"
      ],
      "text/plain": [
       "-l2*l3*(l2*cos(theta2) + l3*cos(theta2 + theta3))*sin(theta3)"
      ]
     },
     "execution_count": 28,
     "metadata": {},
     "output_type": "execute_result"
    }
   ],
   "source": [
    "det_Jv_wrt_2= Jv_wrt_2.det()\n",
    "det_Jv_wrt_2.simplify()"
   ]
  },
  {
   "cell_type": "code",
   "execution_count": 33,
   "id": "fdaf859f-fca7-4d31-b04b-3754ad452e44",
   "metadata": {
    "tags": []
   },
   "outputs": [
    {
     "data": {
      "text/latex": [
       "$\\displaystyle \\left\\{\\theta_{3}\\; \\middle|\\; \\theta_{3} \\in \\mathbb{R} \\wedge - l_{2} l_{3} \\left(l_{2} \\cos{\\left(\\theta_{2} \\right)} + l_{3} \\cos{\\left(\\theta_{2} + \\theta_{3} \\right)}\\right) \\sin{\\left(\\theta_{3} \\right)} = 0 \\right\\}$"
      ],
      "text/plain": [
       "ConditionSet(theta3, Eq(-l2*l3*(l2*cos(theta2) + l3*cos(theta2 + theta3))*sin(theta3), 0), Reals)"
      ]
     },
     "execution_count": 33,
     "metadata": {},
     "output_type": "execute_result"
    }
   ],
   "source": [
    "interval = sp.Interval(-sp.pi, sp.pi, left_open=True)\n",
    "solution = sp.solveset(det_Jv_wrt_2, theta3, interval)\n",
    "solution #singulariteti ## razlichno od stefan"
   ]
  },
  {
   "cell_type": "code",
   "execution_count": 32,
   "id": "f1dc193d-1c12-4837-9ef3-8ab44f0f18ae",
   "metadata": {
    "tags": []
   },
   "outputs": [
    {
     "data": {
      "text/latex": [
       "$\\displaystyle \\left\\{\\theta_{2}\\; \\middle|\\; \\theta_{2} \\in \\mathbb{R} \\wedge - l_{2} l_{3} \\left(l_{2} \\cos{\\left(\\theta_{2} \\right)} + l_{3} \\cos{\\left(\\theta_{2} + \\theta_{3} \\right)}\\right) \\sin{\\left(\\theta_{3} \\right)} = 0 \\right\\}$"
      ],
      "text/plain": [
       "ConditionSet(theta2, Eq(-l2*l3*(l2*cos(theta2) + l3*cos(theta2 + theta3))*sin(theta3), 0), Reals)"
      ]
     },
     "execution_count": 32,
     "metadata": {},
     "output_type": "execute_result"
    }
   ],
   "source": [
    "interval = sp.Interval(-sp.pi, sp.pi, left_open=True)\n",
    "solution = sp.solveset(det_Jv_wrt_2, theta2, interval)\n",
    "solution #singulariteti"
   ]
  },
  {
   "cell_type": "markdown",
   "id": "d1da3568-2afe-4bd5-903e-7db71e1ea516",
   "metadata": {},
   "source": [
    "# 3.23"
   ]
  },
  {
   "cell_type": "code",
   "execution_count": 3,
   "id": "2aa4e39c-513d-4f68-9d42-6ada09d0dd3b",
   "metadata": {
    "tags": []
   },
   "outputs": [
    {
     "data": {
      "application/vnd.jupyter.widget-view+json": {
       "model_id": "f9daefc3ec29439a99e19c4541784ea6",
       "version_major": 2,
       "version_minor": 0
      },
      "text/plain": [
       "VBox(children=(HBox(children=(ToggleButton(value=True, description='Исклучи цртање'), Button(description='Пром…"
      ]
     },
     "execution_count": 3,
     "metadata": {},
     "output_type": "execute_result"
    }
   ],
   "source": [
    "theta1, theta2, l1, l2, d3 = sp.symbols('theta1, theta2, l1, l2, d3')\n",
    "robot = rt.SerialLinkRobot()\n",
    "robot.add_revolute_joint(theta1, 0, 0, sp.pi/2)\n",
    "robot.add_revolute_joint(theta2, 0, 0, sp.pi/2)\n",
    "robot.add_prismatic_joint(0, d3, 0, 0)\n",
    "robot.add_subs([(l1, 1), (l2, 1)])\n",
    "robot.interact()"
   ]
  },
  {
   "cell_type": "code",
   "execution_count": 4,
   "id": "8b307308-f4a0-4449-8908-e14284675abd",
   "metadata": {
    "tags": []
   },
   "outputs": [
    {
     "data": {
      "text/latex": [
       "$\\displaystyle \\left[\\begin{matrix}\\cos{\\left(\\theta_{1} \\right)} \\cos{\\left(\\theta_{2} \\right)} & \\sin{\\left(\\theta_{1} \\right)} & \\sin{\\left(\\theta_{2} \\right)} \\cos{\\left(\\theta_{1} \\right)} & d_{3} \\sin{\\left(\\theta_{2} \\right)} \\cos{\\left(\\theta_{1} \\right)}\\\\\\sin{\\left(\\theta_{1} \\right)} \\cos{\\left(\\theta_{2} \\right)} & - \\cos{\\left(\\theta_{1} \\right)} & \\sin{\\left(\\theta_{1} \\right)} \\sin{\\left(\\theta_{2} \\right)} & d_{3} \\sin{\\left(\\theta_{1} \\right)} \\sin{\\left(\\theta_{2} \\right)}\\\\\\sin{\\left(\\theta_{2} \\right)} & 0 & - \\cos{\\left(\\theta_{2} \\right)} & - d_{3} \\cos{\\left(\\theta_{2} \\right)}\\\\0 & 0 & 0 & 1\\end{matrix}\\right]$"
      ],
      "text/plain": [
       "Matrix([\n",
       "[cos(theta1)*cos(theta2),  sin(theta1), sin(theta2)*cos(theta1), d3*sin(theta2)*cos(theta1)],\n",
       "[sin(theta1)*cos(theta2), -cos(theta1), sin(theta1)*sin(theta2), d3*sin(theta1)*sin(theta2)],\n",
       "[            sin(theta2),            0,            -cos(theta2),            -d3*cos(theta2)],\n",
       "[                      0,            0,                       0,                          1]])"
      ]
     },
     "execution_count": 4,
     "metadata": {},
     "output_type": "execute_result"
    }
   ],
   "source": [
    "robot.get_dh_matrix()"
   ]
  },
  {
   "cell_type": "code",
   "execution_count": 11,
   "id": "1e7eb08f-4527-4ef8-9c0e-117680a1e27d",
   "metadata": {
    "tags": []
   },
   "outputs": [
    {
     "data": {
      "text/latex": [
       "$\\displaystyle \\left[\\begin{matrix}- \\left(d_{3} \\sin{\\left(\\theta_{2} \\right)} + l_{1} + l_{2} \\cos{\\left(\\theta_{2} \\right)}\\right) \\sin{\\left(\\theta_{1} \\right)} & \\left(d_{3} \\cos{\\left(\\theta_{2} \\right)} - l_{2} \\sin{\\left(\\theta_{2} \\right)}\\right) \\cos{\\left(\\theta_{1} \\right)} & \\sin{\\left(\\theta_{2} \\right)} \\cos{\\left(\\theta_{1} \\right)}\\\\\\left(d_{3} \\sin{\\left(\\theta_{2} \\right)} + l_{1} + l_{2} \\cos{\\left(\\theta_{2} \\right)}\\right) \\cos{\\left(\\theta_{1} \\right)} & \\left(d_{3} \\cos{\\left(\\theta_{2} \\right)} - l_{2} \\sin{\\left(\\theta_{2} \\right)}\\right) \\sin{\\left(\\theta_{1} \\right)} & \\sin{\\left(\\theta_{1} \\right)} \\sin{\\left(\\theta_{2} \\right)}\\\\0 & d_{3} \\sin{\\left(\\theta_{2} \\right)} + l_{2} \\cos{\\left(\\theta_{2} \\right)} & - \\cos{\\left(\\theta_{2} \\right)}\\\\0 & \\sin{\\left(\\theta_{1} \\right)} & 0\\\\0 & - \\cos{\\left(\\theta_{1} \\right)} & 0\\\\1 & 0 & 0\\end{matrix}\\right]$"
      ],
      "text/plain": [
       "Matrix([\n",
       "[-(d3*sin(theta2) + l1 + l2*cos(theta2))*sin(theta1), (d3*cos(theta2) - l2*sin(theta2))*cos(theta1), sin(theta2)*cos(theta1)],\n",
       "[ (d3*sin(theta2) + l1 + l2*cos(theta2))*cos(theta1), (d3*cos(theta2) - l2*sin(theta2))*sin(theta1), sin(theta1)*sin(theta2)],\n",
       "[                                                  0,               d3*sin(theta2) + l2*cos(theta2),            -cos(theta2)],\n",
       "[                                                  0,                                   sin(theta1),                       0],\n",
       "[                                                  0,                                  -cos(theta1),                       0],\n",
       "[                                                  1,                                             0,                       0]])"
      ]
     },
     "execution_count": 11,
     "metadata": {},
     "output_type": "execute_result"
    }
   ],
   "source": [
    "J= robot.jacobian()\n",
    "J"
   ]
  },
  {
   "cell_type": "markdown",
   "id": "7296e2aa-93c6-44ee-9fb0-e6e61700ce4b",
   "metadata": {},
   "source": [
    "Јакобијанот зависи од моменталната положба на раката бидејќи во неговите изрази ги содржат симболите на зглобовите. Моменталната состојба на раката е $[\\theta_1 = 0, \\theta_2 = 0, d_3 = 5]$, па ги заменуваме овие вредности во јакобијанот."
   ]
  },
  {
   "cell_type": "code",
   "execution_count": 12,
   "id": "4b04ea8a-a877-4978-89bd-b73e76eb9ce0",
   "metadata": {
    "tags": []
   },
   "outputs": [
    {
     "data": {
      "text/latex": [
       "$\\displaystyle \\left[\\begin{matrix}0 & 5 & 0\\\\2 & 0 & 0\\\\0 & 1 & -1\\\\0 & 0 & 0\\\\0 & -1 & 0\\\\1 & 0 & 0\\end{matrix}\\right]$"
      ],
      "text/plain": [
       "Matrix([\n",
       "[0,  5,  0],\n",
       "[2,  0,  0],\n",
       "[0,  1, -1],\n",
       "[0,  0,  0],\n",
       "[0, -1,  0],\n",
       "[1,  0,  0]])"
      ]
     },
     "execution_count": 12,
     "metadata": {},
     "output_type": "execute_result"
    }
   ],
   "source": [
    "J_numeric = J.subs(theta1, 0).subs(theta2, 0).subs(d3, 5)\n",
    "J_numeric.subs([(l1, 1), (l2, 1)])"
   ]
  },
  {
   "cell_type": "markdown",
   "id": "58c2b8ba-8d25-4549-9e11-73f03ec66bca",
   "metadata": {},
   "source": [
    "Следи пресметувањето на диференцијалните движења на извршниот елемент на роботската рака. Диференцијалните движења на зглобовите се $[d\\theta_1 = 0.1, d\\theta_2 = -0.1, dd_3 = 0.05]$."
   ]
  },
  {
   "cell_type": "code",
   "execution_count": 13,
   "id": "488184c8-dda4-4259-8a04-91f6d7f647ef",
   "metadata": {
    "tags": []
   },
   "outputs": [
    {
     "data": {
      "text/latex": [
       "$\\displaystyle \\left[\\begin{matrix}-0.5\\\\0.2\\\\-0.15\\\\0\\\\0.1\\\\0.1\\end{matrix}\\right]$"
      ],
      "text/plain": [
       "Matrix([\n",
       "[ -0.5],\n",
       "[  0.2],\n",
       "[-0.15],\n",
       "[    0],\n",
       "[  0.1],\n",
       "[  0.1]])"
      ]
     },
     "execution_count": 13,
     "metadata": {},
     "output_type": "execute_result"
    }
   ],
   "source": [
    "delta_joints = sp.Matrix([0.1, -0.1, 0.05])\n",
    "delta_end_effector = J_numeric * delta_joints\n",
    "delta_end_effector.subs([(l1, 1), (l2, 1)])"
   ]
  },
  {
   "cell_type": "code",
   "execution_count": 14,
   "id": "ed0e1779-d857-47be-b791-53061a83a818",
   "metadata": {
    "tags": []
   },
   "outputs": [
    {
     "data": {
      "text/latex": [
       "$\\displaystyle \\left[\\begin{matrix}0 & -0.1 & 0.1 & -0.5\\\\0.1 & 0 & 0 & 0\\\\-0.1 & 0 & 0 & -0.05\\\\0 & 0 & 0 & 0\\end{matrix}\\right]$"
      ],
      "text/plain": [
       "Matrix([\n",
       "[   0, -0.1, 0.1,  -0.5],\n",
       "[ 0.1,    0,   0,     0],\n",
       "[-0.1,    0,   0, -0.05],\n",
       "[   0,    0,   0,     0]])"
      ]
     },
     "execution_count": 14,
     "metadata": {},
     "output_type": "execute_result"
    }
   ],
   "source": [
    "delta = rt.hdelta3(dRx=0, dRy=0.1, dRz=0.1, dx=-0.5, dy=0, dz=-0.05) # ne e li obratno tuka\n",
    "delta"
   ]
  },
  {
   "cell_type": "code",
   "execution_count": 16,
   "id": "5ae1964d-1fc1-4240-9e24-e2a4904314ee",
   "metadata": {
    "tags": []
   },
   "outputs": [
    {
     "data": {
      "text/latex": [
       "$\\displaystyle \\left[\\begin{matrix}1 & 0 & 0 & 2\\\\0 & -1 & 0 & 0\\\\0 & 0 & -1 & -5\\\\0 & 0 & 0 & 1\\end{matrix}\\right]$"
      ],
      "text/plain": [
       "Matrix([\n",
       "[1,  0,  0,  2],\n",
       "[0, -1,  0,  0],\n",
       "[0,  0, -1, -5],\n",
       "[0,  0,  0,  1]])"
      ]
     },
     "execution_count": 16,
     "metadata": {},
     "output_type": "execute_result"
    }
   ],
   "source": [
    "T = robot.get_dh_matrix().subs(theta1, 0).subs(theta2, 0).subs(d3, 5)\n",
    "T.subs([(l1, 1), (l2, 1)])"
   ]
  },
  {
   "cell_type": "code",
   "execution_count": 18,
   "id": "51ec08ba-2265-4293-b3d4-a71901738723",
   "metadata": {
    "tags": []
   },
   "outputs": [
    {
     "data": {
      "text/latex": [
       "$\\displaystyle \\left[\\begin{matrix}1 & 0.1 & -0.1 & 1\\\\0.1 & -1 & 0 & 0.2\\\\-0.1 & 0 & -1 & -5.25\\\\0 & 0 & 0 & 1\\end{matrix}\\right]$"
      ],
      "text/plain": [
       "Matrix([\n",
       "[   1, 0.1, -0.1,     1],\n",
       "[ 0.1,  -1,    0,   0.2],\n",
       "[-0.1,   0,   -1, -5.25],\n",
       "[   0,   0,    0,     1]])"
      ]
     },
     "execution_count": 18,
     "metadata": {},
     "output_type": "execute_result"
    }
   ],
   "source": [
    "T_new = T + delta * T\n",
    "T_new.subs([(l1, 1), (l2, 1)])"
   ]
  },
  {
   "cell_type": "code",
   "execution_count": 20,
   "id": "5a051502-76e4-4c41-a7ec-a3ad586204dc",
   "metadata": {
    "tags": []
   },
   "outputs": [
    {
     "data": {
      "text/latex": [
       "$\\displaystyle \\left[\\begin{matrix}0 & 0.1 & -0.1 & -1.0\\\\-0.1 & 0 & 0 & -0.2\\\\0.1 & 0 & 0 & 0.25\\\\0 & 0 & 0 & 0\\end{matrix}\\right]$"
      ],
      "text/plain": [
       "Matrix([\n",
       "[   0, 0.1, -0.1, -1.0],\n",
       "[-0.1,   0,    0, -0.2],\n",
       "[ 0.1,   0,    0, 0.25],\n",
       "[   0,   0,    0,    0]])"
      ]
     },
     "execution_count": 20,
     "metadata": {},
     "output_type": "execute_result"
    }
   ],
   "source": [
    "delta_wrt_3 = T.inv() * delta * T\n",
    "delta_wrt_3.subs([(l1, 1), (l2, 1)])"
   ]
  },
  {
   "cell_type": "code",
   "execution_count": null,
   "id": "76b9f458-1ff8-407d-a9e8-d83e4270954a",
   "metadata": {},
   "outputs": [],
   "source": [
    "## razlichno od stefann"
   ]
  }
 ],
 "metadata": {
  "kernelspec": {
   "display_name": "Python 3 (ipykernel)",
   "language": "python",
   "name": "python3"
  },
  "language_info": {
   "codemirror_mode": {
    "name": "ipython",
    "version": 3
   },
   "file_extension": ".py",
   "mimetype": "text/x-python",
   "name": "python",
   "nbconvert_exporter": "python",
   "pygments_lexer": "ipython3",
   "version": "3.11.3"
  }
 },
 "nbformat": 4,
 "nbformat_minor": 5
}
