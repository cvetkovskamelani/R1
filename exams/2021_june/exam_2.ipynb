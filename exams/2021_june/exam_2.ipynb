{
 "cells": [
  {
   "cell_type": "markdown",
   "metadata": {},
   "source": [
    "# Испит по Роботика 1\n",
    "\n",
    "Датум: 25.06.2021"
   ]
  },
  {
   "cell_type": "markdown",
   "metadata": {},
   "source": [
    "## Задача 2"
   ]
  },
  {
   "cell_type": "markdown",
   "metadata": {},
   "source": [
    "**(25 поени)** Да се нацрта роботската рака чии D-H параметри се дадени во долната таблица и да се придружат соодветните координатни системи. Потоа да се пресмета геометрискиот Јакобијан за набљудувата роботска рака. Колку изнесува неговиот ранг?"
   ]
  },
  {
   "cell_type": "code",
   "execution_count": 1,
   "metadata": {
    "tags": []
   },
   "outputs": [
    {
     "data": {
      "image/png": "[encoded data removed]",
      "text/plain": [
       "<IPython.core.display.Image object>"
      ]
     },
     "execution_count": 1,
     "metadata": {
      "image/png": {
       "width": 240
      }
     },
     "output_type": "execute_result"
    }
   ],
   "source": [
    "from IPython import display\n",
    "display.Image('images/1.png', width=240)"
   ]
  },
  {
   "cell_type": "markdown",
   "metadata": {},
   "source": [
    "## Решение"
   ]
  },
  {
   "cell_type": "code",
   "execution_count": 2,
   "metadata": {
    "tags": []
   },
   "outputs": [],
   "source": [
    "import sympy as sp\n",
    "import script as rt"
   ]
  },
  {
   "cell_type": "code",
   "execution_count": 3,
   "metadata": {
    "tags": []
   },
   "outputs": [
    {
     "data": {
      "application/vnd.jupyter.widget-view+json": {
       "model_id": "6b76207eb1ca41768378b05815933687",
       "version_major": 2,
       "version_minor": 0
      },
      "text/plain": [
       "VBox(children=(HBox(children=(ToggleButton(value=True, description='Исклучи цртање'), Button(description='Пром…"
      ]
     },
     "execution_count": 3,
     "metadata": {},
     "output_type": "execute_result"
    }
   ],
   "source": [
    "theta1,theta2,theta3,d1,d2,d4,a2,a4= sp.symbols('theta1,theta2,theta3,d1,d2,d4,a2,a4')\n",
    "robot = rt.SerialLinkRobot()\n",
    "robot.add_revolute_joint(theta1,d1,0,0)\n",
    "robot.add_prismatic_joint(0,d2,a2,0)\n",
    "robot.add_revolute_joint(theta1,0,0,0)\n",
    "robot.add_prismatic_joint(0,d4,a4,0)\n",
    "robot.add_subs([(d1,1),(a2,1),(a4,1)])\n",
    "robot.interact()"
   ]
  },
  {
   "cell_type": "code",
   "execution_count": 4,
   "metadata": {
    "tags": []
   },
   "outputs": [
    {
     "data": {
      "text/latex": [
       "$\\displaystyle \\left[\\begin{matrix}- \\left(a_{2} + 4 a_{4} \\cos{\\left(\\theta_{1} \\right)}\\right) \\sin{\\left(\\theta_{1} \\right)} & 0 & - \\left(a_{2} + 4 a_{4} \\cos{\\left(\\theta_{1} \\right)}\\right) \\sin{\\left(\\theta_{1} \\right)} & 0\\\\a_{2} \\cos{\\left(\\theta_{1} \\right)} - 4 a_{4} \\sin^{2}{\\left(\\theta_{1} \\right)} + 2 a_{4} & 0 & a_{2} \\cos{\\left(\\theta_{1} \\right)} - 4 a_{4} \\sin^{2}{\\left(\\theta_{1} \\right)} + 2 a_{4} & 0\\\\0 & 1 & 0 & 1\\\\0 & 0 & 0 & 0\\\\0 & 0 & 0 & 0\\\\1 & 0 & 1 & 0\\end{matrix}\\right]$"
      ],
      "text/plain": [
       "Matrix([\n",
       "[       -(a2 + 4*a4*cos(theta1))*sin(theta1), 0,        -(a2 + 4*a4*cos(theta1))*sin(theta1), 0],\n",
       "[a2*cos(theta1) - 4*a4*sin(theta1)**2 + 2*a4, 0, a2*cos(theta1) - 4*a4*sin(theta1)**2 + 2*a4, 0],\n",
       "[                                          0, 1,                                           0, 1],\n",
       "[                                          0, 0,                                           0, 0],\n",
       "[                                          0, 0,                                           0, 0],\n",
       "[                                          1, 0,                                           1, 0]])"
      ]
     },
     "execution_count": 4,
     "metadata": {},
     "output_type": "execute_result"
    }
   ],
   "source": [
    "robot.jacobian()"
   ]
  },
  {
   "cell_type": "markdown",
   "metadata": {},
   "source": [
    "* rangot mu e 3 => tolku ne nulti redici"
   ]
  },
  {
   "cell_type": "code",
   "execution_count": null,
   "metadata": {},
   "outputs": [],
   "source": []
  }
 ],
 "metadata": {
  "kernelspec": {
   "display_name": "Python 3 (ipykernel)",
   "language": "python",
   "name": "python3"
  },
  "language_info": {
   "codemirror_mode": {
    "name": "ipython",
    "version": 3
   },
   "file_extension": ".py",
   "mimetype": "text/x-python",
   "name": "python",
   "nbconvert_exporter": "python",
   "pygments_lexer": "ipython3",
   "version": "3.11.3"
  }
 },
 "nbformat": 4,
 "nbformat_minor": 4
}
