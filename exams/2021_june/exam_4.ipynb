{
 "cells": [
  {
   "cell_type": "markdown",
   "metadata": {},
   "source": [
    "# Испит по Роботика 1\n",
    "\n",
    "Датум: 25.06.2021"
   ]
  },
  {
   "cell_type": "markdown",
   "metadata": {},
   "source": [
    "## Задача 4"
   ]
  },
  {
   "cell_type": "markdown",
   "metadata": {},
   "source": [
    "**(25 поени)** Наместо со полином од повисок степен, траекторијата на движење на $i$−тиот зглоб од дадена роботска рака да се претстави со два полинома од минимален степен. Нека тоа се полиномите $q_1(t)$ на интервалот $0 = t_0 \\le t \\le t_1$ и полиномот $q_2(t)$ на\n",
    "интервалот $t_1 \\le t \\le t_2$. Притоа, траекторијата $q_1(t)$ има почетна вредност $q_0$ и нулева почетна брзина, додека траекторијата $q_2(t)$ има конечна вредност $q_2$ и нулева крајна\n",
    "брзина. Во мигот $t = t_1$ двете траектории имаат иста положба и брзина, додека забрзувањето на втората траекторија е нулево. Да се дефинираат аналитички граничните услови. Да се запишат во општ облик двата полиноми $q_1(t)$ и $q_2(t)$, кои ќе бидат од минимален степен, како и нивниот прв и втор извод. Да се пресметаат коефициентите на вториот полином. Притоа да се определи $q_2$, така што максималното забрзување на зглобот сигурно ќе биде помало од $\\ddot q _{max} = const > 0 $ по апсолутна вредност."
   ]
  },
  {
   "cell_type": "markdown",
   "metadata": {},
   "source": [
    "## Решение"
   ]
  },
  {
   "cell_type": "code",
   "execution_count": null,
   "metadata": {},
   "outputs": [],
   "source": []
  },
  {
   "cell_type": "code",
   "execution_count": null,
   "metadata": {},
   "outputs": [],
   "source": []
  },
  {
   "cell_type": "code",
   "execution_count": null,
   "metadata": {},
   "outputs": [],
   "source": []
  }
 ],
 "metadata": {
  "kernelspec": {
   "display_name": "Python 3",
   "language": "python",
   "name": "python3"
  },
  "language_info": {
   "codemirror_mode": {
    "name": "ipython",
    "version": 3
   },
   "file_extension": ".py",
   "mimetype": "text/x-python",
   "name": "python",
   "nbconvert_exporter": "python",
   "pygments_lexer": "ipython3",
   "version": "3.9.5"
  }
 },
 "nbformat": 4,
 "nbformat_minor": 4
}
