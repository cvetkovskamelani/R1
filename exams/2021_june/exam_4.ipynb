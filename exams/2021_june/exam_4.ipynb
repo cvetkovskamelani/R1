{
 "cells": [
  {
   "cell_type": "markdown",
   "metadata": {},
   "source": [
    "# Испит по Роботика 1\n",
    "\n",
    "Датум: 25.06.2021"
   ]
  },
  {
   "cell_type": "markdown",
   "metadata": {},
   "source": [
    "## Задача 4"
   ]
  },
  {
   "cell_type": "markdown",
   "metadata": {},
   "source": [
    "**(25 поени)** Наместо со полином од повисок степен, траекторијата на движење на $i$−тиот зглоб од дадена роботска рака да се претстави со два полинома од минимален степен. Нека тоа се полиномите $q_1(t)$ на интервалот $0 = t_0 \\le t \\le t_1$ и полиномот $q_2(t)$ на\n",
    "интервалот $t_1 \\le t \\le t_2$. Притоа, траекторијата $q_1(t)$ има почетна вредност $q_0$ и нулева почетна брзина, додека траекторијата $q_2(t)$ има конечна вредност $q_2$ и нулева крајна\n",
    "брзина. Во мигот $t = t_1$ двете траектории имаат иста положба и брзина, додека забрзувањето на втората траекторија е нулево. Да се дефинираат аналитички граничните услови. Да се запишат во општ облик двата полиноми $q_1(t)$ и $q_2(t)$, кои ќе бидат од минимален степен, како и нивниот прв и втор извод. Да се пресметаат коефициентите на вториот полином. Притоа да се определи $q_2$, така што максималното забрзување на зглобот сигурно ќе биде помало од $\\ddot q _{max} = const > 0 $ по апсолутна вредност."
   ]
  },
  {
   "cell_type": "markdown",
   "metadata": {},
   "source": [
    "## Решение"
   ]
  },
  {
   "cell_type": "code",
   "execution_count": 1,
   "metadata": {
    "tags": []
   },
   "outputs": [],
   "source": [
    "import sympy as sp\n",
    "from sympy.physics import mechanics\n",
    "import script as rt\n",
    "from IPython import display\n",
    "from IPython.lib.display import IFrame"
   ]
  },
  {
   "cell_type": "code",
   "execution_count": 2,
   "metadata": {
    "tags": []
   },
   "outputs": [],
   "source": [
    "t = sp.symbols('t')\n",
    "mechanics.init_vprinting()"
   ]
  },
  {
   "cell_type": "code",
   "execution_count": 9,
   "metadata": {
    "tags": []
   },
   "outputs": [
    {
     "data": {
      "text/latex": [
       "$\\displaystyle a_{2}$"
      ],
      "text/plain": [
       "a₂"
      ]
     },
     "execution_count": 9,
     "metadata": {},
     "output_type": "execute_result"
    }
   ],
   "source": [
    "a2, b3, b2, b1, b0,q0, qf, t1, t2 = sp.symbols('a_2, b_3, b_2, b_1, b_0,q_0, q_f, t_1, t_2')\n",
    "a2"
   ]
  },
  {
   "cell_type": "code",
   "execution_count": 10,
   "metadata": {
    "tags": []
   },
   "outputs": [
    {
     "data": {
      "text/latex": [
       "$\\displaystyle \\left[\\begin{matrix}t_{1}^{2} & - t_{1}^{3} & - t_{1}^{2} & - t_{1} & -1\\\\0 & 6 t_{1} & 2 & 0 & 0\\\\0 & t_{2}^{3} & t_{2}^{2} & t_{2} & 1\\\\2 t_{1} & - 3 t_{1}^{2} & - 2 t_{1} & -1 & 0\\\\0 & 3 t_{2}^{2} & 2 t_{2} & 1 & 0\\end{matrix}\\right]$"
      ],
      "text/plain": [
       "⎡  2       3      2          ⎤\n",
       "⎢t₁     -t₁    -t₁    -t₁  -1⎥\n",
       "⎢                            ⎥\n",
       "⎢ 0     6⋅t₁     2     0   0 ⎥\n",
       "⎢                            ⎥\n",
       "⎢         3       2          ⎥\n",
       "⎢ 0     t₂      t₂    t₂   1 ⎥\n",
       "⎢                            ⎥\n",
       "⎢           2                ⎥\n",
       "⎢2⋅t₁  -3⋅t₁   -2⋅t₁  -1   0 ⎥\n",
       "⎢                            ⎥\n",
       "⎢          2                 ⎥\n",
       "⎣ 0    3⋅t₂    2⋅t₂    1   0 ⎦"
      ]
     },
     "execution_count": 10,
     "metadata": {},
     "output_type": "execute_result"
    }
   ],
   "source": [
    "A= sp.Matrix([[t1**2, -t1**3, -t1**2, -t1, -1],\n",
    "              [0, 6*t1, 2, 0, 0],\n",
    "              [0, t2**3, t2**2, t2, 1],\n",
    "             [2*t1, -3*t1**2, -2*t1, -1, 0],\n",
    "              [0, 3*t2**2, 2*t2, 1, 0]])\n",
    "A"
   ]
  },
  {
   "cell_type": "code",
   "execution_count": 12,
   "metadata": {
    "tags": []
   },
   "outputs": [
    {
     "data": {
      "text/latex": [
       "$\\displaystyle \\left[\\begin{matrix}- q_{0}\\\\0\\\\q_{f}\\\\0\\\\0\\end{matrix}\\right]$"
      ],
      "text/plain": [
       "⎡-q₀⎤\n",
       "⎢   ⎥\n",
       "⎢ 0 ⎥\n",
       "⎢   ⎥\n",
       "⎢q_f⎥\n",
       "⎢   ⎥\n",
       "⎢ 0 ⎥\n",
       "⎢   ⎥\n",
       "⎣ 0 ⎦"
      ]
     },
     "execution_count": 12,
     "metadata": {},
     "output_type": "execute_result"
    }
   ],
   "source": [
    "B= sp.Matrix([-q0,0,qf,0,0])\n",
    "B"
   ]
  },
  {
   "cell_type": "code",
   "execution_count": 14,
   "metadata": {
    "tags": []
   },
   "outputs": [
    {
     "data": {
      "text/latex": [
       "$\\displaystyle \\left[\\begin{matrix}\\frac{3 q_{0}}{t_{1}^{2} - 4 t_{1} t_{2}} - \\frac{3 q_{f}}{t_{1}^{2} - 4 t_{1} t_{2}}\\\\- \\frac{2 q_{0}}{t_{1}^{3} - 6 t_{1}^{2} t_{2} + 9 t_{1} t_{2}^{2} - 4 t_{2}^{3}} + \\frac{2 q_{f}}{t_{1}^{3} - 6 t_{1}^{2} t_{2} + 9 t_{1} t_{2}^{2} - 4 t_{2}^{3}}\\\\\\frac{6 q_{0} t_{1}}{t_{1}^{3} - 6 t_{1}^{2} t_{2} + 9 t_{1} t_{2}^{2} - 4 t_{2}^{3}} - \\frac{6 q_{f} t_{1}}{t_{1}^{3} - 6 t_{1}^{2} t_{2} + 9 t_{1} t_{2}^{2} - 4 t_{2}^{3}}\\\\- \\frac{q_{0} \\cdot \\left(12 t_{1} t_{2} - 6 t_{2}^{2}\\right)}{t_{1}^{3} - 6 t_{1}^{2} t_{2} + 9 t_{1} t_{2}^{2} - 4 t_{2}^{3}} + \\frac{q_{f} \\left(12 t_{1} t_{2} - 6 t_{2}^{2}\\right)}{t_{1}^{3} - 6 t_{1}^{2} t_{2} + 9 t_{1} t_{2}^{2} - 4 t_{2}^{3}}\\\\- \\frac{q_{0} \\left(- 6 t_{1} t_{2}^{2} + 4 t_{2}^{3}\\right)}{t_{1}^{3} - 6 t_{1}^{2} t_{2} + 9 t_{1} t_{2}^{2} - 4 t_{2}^{3}} + \\frac{q_{f} \\left(t_{1}^{3} - 6 t_{1}^{2} t_{2} + 3 t_{1} t_{2}^{2}\\right)}{t_{1}^{3} - 6 t_{1}^{2} t_{2} + 9 t_{1} t_{2}^{2} - 4 t_{2}^{3}}\\end{matrix}\\right]$"
      ],
      "text/plain": [
       "⎡                          3⋅q₀           3⋅q_f                         ⎤\n",
       "⎢                     ───────────── - ─────────────                     ⎥\n",
       "⎢                       2               2                               ⎥\n",
       "⎢                     t₁  - 4⋅t₁⋅t₂   t₁  - 4⋅t₁⋅t₂                     ⎥\n",
       "⎢                                                                       ⎥\n",
       "⎢                 2⋅q₀                               2⋅q_f              ⎥\n",
       "⎢- ───────────────────────────────── + ─────────────────────────────────⎥\n",
       "⎢    3       2             2       3     3       2             2       3⎥\n",
       "⎢  t₁  - 6⋅t₁ ⋅t₂ + 9⋅t₁⋅t₂  - 4⋅t₂    t₁  - 6⋅t₁ ⋅t₂ + 9⋅t₁⋅t₂  - 4⋅t₂ ⎥\n",
       "⎢                                                                       ⎥\n",
       "⎢              6⋅q₀⋅t₁                             6⋅q_f⋅t₁             ⎥\n",
       "⎢ ───────────────────────────────── - ───────────────────────────────── ⎥\n",
       "⎢   3       2             2       3     3       2             2       3 ⎥\n",
       "⎢ t₁  - 6⋅t₁ ⋅t₂ + 9⋅t₁⋅t₂  - 4⋅t₂    t₁  - 6⋅t₁ ⋅t₂ + 9⋅t₁⋅t₂  - 4⋅t₂  ⎥\n",
       "⎢                                                                       ⎥\n",
       "⎢           ⎛               2⎞                   ⎛               2⎞     ⎥\n",
       "⎢        q₀⋅⎝12⋅t₁⋅t₂ - 6⋅t₂ ⎠               q_f⋅⎝12⋅t₁⋅t₂ - 6⋅t₂ ⎠     ⎥\n",
       "⎢- ───────────────────────────────── + ─────────────────────────────────⎥\n",
       "⎢    3       2             2       3     3       2             2       3⎥\n",
       "⎢  t₁  - 6⋅t₁ ⋅t₂ + 9⋅t₁⋅t₂  - 4⋅t₂    t₁  - 6⋅t₁ ⋅t₂ + 9⋅t₁⋅t₂  - 4⋅t₂ ⎥\n",
       "⎢                                                                       ⎥\n",
       "⎢          ⎛         2       3⎞             ⎛  3       2             2⎞ ⎥\n",
       "⎢       q₀⋅⎝- 6⋅t₁⋅t₂  + 4⋅t₂ ⎠         q_f⋅⎝t₁  - 6⋅t₁ ⋅t₂ + 3⋅t₁⋅t₂ ⎠ ⎥\n",
       "⎢- ───────────────────────────────── + ─────────────────────────────────⎥\n",
       "⎢    3       2             2       3     3       2             2       3⎥\n",
       "⎣  t₁  - 6⋅t₁ ⋅t₂ + 9⋅t₁⋅t₂  - 4⋅t₂    t₁  - 6⋅t₁ ⋅t₂ + 9⋅t₁⋅t₂  - 4⋅t₂ ⎦"
      ]
     },
     "execution_count": 14,
     "metadata": {},
     "output_type": "execute_result"
    }
   ],
   "source": [
    "X=A.inv()*B\n",
    "X"
   ]
  },
  {
   "cell_type": "markdown",
   "metadata": {},
   "source": [
    "* od rachnite presmetki dobiv deka a0=q0, a1=0, i potoa vo matricata X soodvetno se: a2, b3, b2, b1, b0"
   ]
  },
  {
   "cell_type": "code",
   "execution_count": null,
   "metadata": {},
   "outputs": [],
   "source": []
  }
 ],
 "metadata": {
  "kernelspec": {
   "display_name": "Python 3 (ipykernel)",
   "language": "python",
   "name": "python3"
  },
  "language_info": {
   "codemirror_mode": {
    "name": "ipython",
    "version": 3
   },
   "file_extension": ".py",
   "mimetype": "text/x-python",
   "name": "python",
   "nbconvert_exporter": "python",
   "pygments_lexer": "ipython3",
   "version": "3.11.3"
  }
 },
 "nbformat": 4,
 "nbformat_minor": 4
}
