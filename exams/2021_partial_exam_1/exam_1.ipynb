{
 "cells": [
  {
   "cell_type": "markdown",
   "metadata": {},
   "source": [
    "# Прв парцијален испит по Роботика 1\n",
    "\n",
    "Датум: 14.04.2021"
   ]
  },
  {
   "cell_type": "markdown",
   "metadata": {},
   "source": [
    "## Задача 1"
   ]
  },
  {
   "cell_type": "markdown",
   "metadata": {},
   "source": [
    "**(25 поени)** Дадена е саканата положба на извршниот елемент на една цилиндрична роботска рака:"
   ]
  },
  {
   "cell_type": "code",
   "execution_count": 1,
   "metadata": {},
   "outputs": [],
   "source": [
    "import sympy as sp\n",
    "import script as rt"
   ]
  },
  {
   "cell_type": "code",
   "execution_count": 2,
   "metadata": {},
   "outputs": [
    {
     "data": {
      "text/latex": [
       "$\\displaystyle \\left[\\begin{matrix}0.233 & 0.255 & 0.939 & 4.24\\\\0.113 & 0.951 & -0.287 & 2.65\\\\-0.966 & 0.173 & 0.192 & 6\\\\0 & 0 & 0 & 1\\end{matrix}\\right]$"
      ],
      "text/plain": [
       "Matrix([\n",
       "[ 0.233, 0.255,  0.939, 4.24],\n",
       "[ 0.113, 0.951, -0.287, 2.65],\n",
       "[-0.966, 0.173,  0.192,    6],\n",
       "[     0,     0,      0,    1]])"
      ]
     },
     "execution_count": 2,
     "metadata": {},
     "output_type": "execute_result"
    }
   ],
   "source": [
    "T = sp.Matrix([\n",
    "    [0.233, 0.255, 0.939, 4.24],\n",
    "    [0.113, 0.951, -0.287, 2.65],\n",
    "    [-0.966, 0.173, 0.192, 6],\n",
    "    [0, 0, 0, 1],\n",
    "])\n",
    "T"
   ]
  },
  {
   "cell_type": "markdown",
   "metadata": {},
   "source": [
    "Ориентацијата на извршниот елемент е претставена со ојлеровите ZXY агли: $\\theta_1$, $\\theta_2$ и $\\theta_3$. Притоа $\\theta_1$ претставува агол на ротација околу z-оската, $\\theta_2$ претставува агол на ротација околу x−оската и $\\theta_3$ претставува агол на ротација околу y−оската на подвижниот координатен систем. Да се пресметаат вредностите на променливите на зглобовите од роботската рака, со помош на кои ќе се оствари нејзината сакана положба во просторот. Што ќе се случи ако $\\cos \\theta_2 = 0$?"
   ]
  },
  {
   "cell_type": "markdown",
   "metadata": {},
   "source": [
    "## Решение"
   ]
  },
  {
   "cell_type": "code",
   "execution_count": 4,
   "metadata": {},
   "outputs": [
    {
     "data": {
      "text/latex": [
       "$\\displaystyle \\left[\\begin{matrix}-0.261976286859339\\\\0.173874786487402\\\\1.37459550950678\\end{matrix}\\right]$"
      ],
      "text/plain": [
       "Matrix([\n",
       "[-0.261976286859339],\n",
       "[ 0.173874786487402],\n",
       "[  1.37459550950678]])"
      ]
     },
     "execution_count": 4,
     "metadata": {},
     "output_type": "execute_result"
    }
   ],
   "source": [
    "euler_angles = rt.euler_angles(T, 'ZXY')\n",
    "euler_angles"
   ]
  },
  {
   "cell_type": "code",
   "execution_count": 5,
   "metadata": {},
   "outputs": [
    {
     "data": {
      "text/latex": [
       "$\\displaystyle \\left[\\begin{matrix}-15.0101355695487\\\\9.96229142946643\\\\78.7585212323735\\end{matrix}\\right]$"
      ],
      "text/plain": [
       "Matrix([\n",
       "[-15.0101355695487],\n",
       "[ 9.96229142946643],\n",
       "[ 78.7585212323735]])"
      ]
     },
     "execution_count": 5,
     "metadata": {},
     "output_type": "execute_result"
    }
   ],
   "source": [
    "(euler_angles / sp.pi * 180).evalf()"
   ]
  },
  {
   "cell_type": "code",
   "execution_count": 6,
   "metadata": {},
   "outputs": [
    {
     "data": {
      "text/latex": [
       "$\\displaystyle \\left[\\begin{matrix}0.232238588300546 & 0.255084817021134 & 0.938614390593637 & 0\\\\0.113402717227219 & 0.951316317596463 & -0.28659568663919 & 0\\\\-0.966025393987991 & 0.173 & 0.192005047252271 & 0\\\\0 & 0 & 0 & 1\\end{matrix}\\right]$"
      ],
      "text/plain": [
       "Matrix([\n",
       "[ 0.232238588300546, 0.255084817021134, 0.938614390593637, 0],\n",
       "[ 0.113402717227219, 0.951316317596463, -0.28659568663919, 0],\n",
       "[-0.966025393987991,             0.173, 0.192005047252271, 0],\n",
       "[                 0,                 0,                 0, 1]])"
      ]
     },
     "execution_count": 6,
     "metadata": {},
     "output_type": "execute_result"
    }
   ],
   "source": [
    "rt.rotation_matrix_from_euler_angles(euler_angles, 'ZXY')"
   ]
  },
  {
   "cell_type": "code",
   "execution_count": null,
   "metadata": {},
   "outputs": [],
   "source": []
  }
 ],
 "metadata": {
  "kernelspec": {
   "display_name": "Python 3 (ipykernel)",
   "language": "python",
   "name": "python3"
  },
  "language_info": {
   "codemirror_mode": {
    "name": "ipython",
    "version": 3
   },
   "file_extension": ".py",
   "mimetype": "text/x-python",
   "name": "python",
   "nbconvert_exporter": "python",
   "pygments_lexer": "ipython3",
   "version": "3.10.8"
  }
 },
 "nbformat": 4,
 "nbformat_minor": 4
}
