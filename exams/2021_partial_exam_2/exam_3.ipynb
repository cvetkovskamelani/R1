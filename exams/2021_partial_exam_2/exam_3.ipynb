{
 "cells": [
  {
   "cell_type": "markdown",
   "metadata": {},
   "source": [
    "# Втор парцијален испит по Роботика 1\n",
    "\n",
    "Датум: 04.06.2021"
   ]
  },
  {
   "cell_type": "markdown",
   "metadata": {},
   "source": [
    "## Задача 3"
   ]
  },
  {
   "cell_type": "markdown",
   "metadata": {},
   "source": [
    "**(30 поени)** Да се генерира соодветна полиномна траекторија на движење на еден ротациски зглоб од дадена роботска рака $q(t)$ кој треба од почетната положба $q(t_i) = q_i$ во мигот $t = t_i$ да се префрли во крајната положба $q(t_f) = q_f$ во мигот $t = t_f$, при што треба да бидат задоволени следните услови:\n",
    "$$t_i = 2, q_i = 10^\\circ, \\dot{q_i} = −20 ^\\circ / s$$\n",
    "$$t_f = 3, q_f = 30^\\circ, \\dot{q_f} = −50 ^\\circ / s$$\n",
    "Траекторијата да се генерира најнапред за општ случај и потоа и за конкретните зададени гранични услови. На крајот да се прикаже графички движењето, брзината и забрзувањето на зглобот за конкретниот случај."
   ]
  },
  {
   "cell_type": "markdown",
   "metadata": {},
   "source": [
    "## Решение"
   ]
  },
  {
   "cell_type": "code",
   "execution_count": null,
   "metadata": {},
   "outputs": [],
   "source": []
  },
  {
   "cell_type": "code",
   "execution_count": null,
   "metadata": {},
   "outputs": [],
   "source": []
  },
  {
   "cell_type": "code",
   "execution_count": null,
   "metadata": {},
   "outputs": [],
   "source": []
  }
 ],
 "metadata": {
  "kernelspec": {
   "display_name": "Python 3",
   "language": "python",
   "name": "python3"
  },
  "language_info": {
   "codemirror_mode": {
    "name": "ipython",
    "version": 3
   },
   "file_extension": ".py",
   "mimetype": "text/x-python",
   "name": "python",
   "nbconvert_exporter": "python",
   "pygments_lexer": "ipython3",
   "version": "3.9.5"
  }
 },
 "nbformat": 4,
 "nbformat_minor": 4
}
